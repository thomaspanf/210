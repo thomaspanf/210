{
 "cells": [
  {
   "cell_type": "markdown",
   "metadata": {},
   "source": [
    "### <font color='brown'>Problem Set 6: Regular Expressions - Solution</brown>"
   ]
  },
  {
   "cell_type": "code",
   "execution_count": 2,
   "metadata": {},
   "outputs": [],
   "source": [
    "import re"
   ]
  },
  {
   "cell_type": "markdown",
   "metadata": {},
   "source": [
    "---"
   ]
  },
  {
   "cell_type": "markdown",
   "metadata": {},
   "source": [
    "#### Problem 1\n",
    "\n",
    "Write a re.sub statement for each of the following:\n",
    "1. Replace all question marks in a string with '?!'\n",
    "2. Replace all but the first and last character of a string with '###'\n",
    "3. Given a string with a single '|' separator between its two parts, replace it with a string that flips the parts and subsitutes a ';' (semicolon) for the '|'"
   ]
  },
  {
   "cell_type": "markdown",
   "metadata": {},
   "source": [
    "#### Solution"
   ]
  },
  {
   "cell_type": "markdown",
   "metadata": {},
   "source": [
    "1. Replace all question marks in a string with '?!'"
   ]
  },
  {
   "cell_type": "code",
   "execution_count": 77,
   "metadata": {},
   "outputs": [
    {
     "name": "stdout",
     "output_type": "stream",
     "text": [
      "hey?! \n",
      "Some rand?!m stuff...\n"
     ]
    }
   ],
   "source": [
    "res = re.sub('\\?','?!','hey? ')\n",
    "print(res)\n",
    "res = re.sub('\\?','?!','Some rand?m stuff...')\n",
    "print(res)"
   ]
  },
  {
   "cell_type": "markdown",
   "metadata": {},
   "source": [
    "**Since '?' is a metacharacter, we need to escape it with '\\\\'. Try without the '\\\\', it won't work.**"
   ]
  },
  {
   "cell_type": "markdown",
   "metadata": {},
   "source": [
    "2. Replace all but the first and last character of a string with '###'"
   ]
  },
  {
   "cell_type": "code",
   "execution_count": 80,
   "metadata": {},
   "outputs": [
    {
     "name": "stdout",
     "output_type": "stream",
     "text": [
      "r###2\n"
     ]
    }
   ],
   "source": [
    "res = re.sub('^(.).*(.)$',r'\\1###\\2','r2d2')\n",
    "print(res)"
   ]
  },
  {
   "cell_type": "markdown",
   "metadata": {},
   "source": [
    "**Make sure to use a raw string for the replacement, since we are back referenceing captures using '\\\\1' and '\\\\2'**"
   ]
  },
  {
   "cell_type": "markdown",
   "metadata": {},
   "source": [
    "3. Given a string with a single '|' separator between its two parts, replace it with a string that flips the parts and subsitutes a ';' (semicolon) for the '|'"
   ]
  },
  {
   "cell_type": "code",
   "execution_count": 82,
   "metadata": {},
   "outputs": [
    {
     "name": "stdout",
     "output_type": "stream",
     "text": [
      "$45.55;food and beverages\n"
     ]
    }
   ],
   "source": [
    "res = re.sub('^(.*)\\|(.*)$',r'\\2;\\1','food and beverages|$45.55')\n",
    "print(res)"
   ]
  },
  {
   "cell_type": "markdown",
   "metadata": {},
   "source": [
    "**Since '|' is a metacharacter, we need to escape it with '\\\\'. Try without the '\\\\', it won't work.**"
   ]
  },
  {
   "cell_type": "markdown",
   "metadata": {},
   "source": [
    "---"
   ]
  },
  {
   "cell_type": "markdown",
   "metadata": {
    "id": "cgizBg43IzpC"
   },
   "source": [
    "#### Problem 2\n",
    "Given a text input that mimics a student table, e.g.<br/>\n",
    "Sample input: \"19100 COM Networks\n",
    "19101 MAT Calculus\n",
    "19102 MAT Algebra\n",
    "19103 BIO Microbiology\"\n",
    "<ol>\n",
    "<li>Extract all the Student IDS (5 digit), Department codes (3 letter codes) and Majors (more than 3 letters)<br/>\n",
    "Expected output: ['19100', '19101', '19102', '19103']\n",
    "['COM', 'MAT', 'MAT', 'BIO']\n",
    "['Networks', 'Calculus', 'Algebra', 'Microbiology']\n",
    "</li>\n",
    "<li>Extract tuples such that each tuple contains comma separated student information.<br/>\n",
    "Expected output: [('19100', 'COM', 'Networks'), ('19101', 'MAT', 'Calculus'), ('19102', 'MAT', 'Algebra'), ('19103', 'BIO', 'Microbiology')]</li>\n",
    "\n",
    "</ol>.\n",
    "\n"
   ]
  },
  {
   "cell_type": "markdown",
   "metadata": {},
   "source": [
    "#### Solution"
   ]
  },
  {
   "cell_type": "code",
   "execution_count": 4,
   "metadata": {
    "colab": {
     "base_uri": "https://localhost:8080/"
    },
    "id": "HpKBCzIFIltR",
    "outputId": "cfab87ee-b69b-4c35-bf00-28f45cc786d9"
   },
   "outputs": [
    {
     "name": "stdout",
     "output_type": "stream",
     "text": [
      "********** Part 1 **********\n",
      "['19100', '19101', '19102', '19103']\n",
      "['COM', 'MAT', 'MAT', 'BIO']\n",
      "['Networks', 'Calculus', 'Algebra', 'Microbiology']\n",
      "********** Part 2 **********\n",
      "[('19100', 'COM', 'Networks'), ('19101', 'MAT', 'Calculus'), ('19102', 'MAT', 'Algebra'), ('19103', 'BIO', 'Microbiology')]\n"
     ]
    }
   ],
   "source": [
    "table = \"19100 COM Networks 19101 MAT Calculus 19102 MAT Algebra 19103 BIO Microbiology\"\n",
    "print(\"********** Part 1 **********\")\n",
    "ids = re.findall('[0-9]+', table)\n",
    "codes = re.findall('[A-Z]{3}', table)\n",
    "majors = re.findall('[A-Za-z]{4,}', table)\n",
    "print(ids)\n",
    "print(codes)\n",
    "print(majors)\n",
    "print(\"********** Part 2 **********\")\n",
    "studentTuple = '([0-9]+)\\s*([A-Z]{3})\\s*([A-Za-z]{4,})'\n",
    "studentDetails = re.findall(studentTuple, table)\n",
    "print(studentDetails)"
   ]
  },
  {
   "cell_type": "markdown",
   "metadata": {},
   "source": [
    "---"
   ]
  },
  {
   "cell_type": "markdown",
   "metadata": {
    "id": "MBaXUNi1EsSt"
   },
   "source": [
    "#### Problem 3\n",
    "\n",
    "In this problem, you will perform some HTML code parsing. Given an anchor tag (`<a>..</a>`), with a link in its href attribute and some link text, write a function to extract and print the domain name of the link and the link text. Consider the following example anchor tag to write your code.<br/>\n",
    "\n",
    "E.g., for the input: `<a href=\"https://www.foxnews.com/politics/\">Fox News</a>`, the domain name will be \"foxnews.com\" and the link text will be \"Fox News\".\n",
    "\n",
    "Another example: `<a href=\"https://support.apple.com/mac\">Mac Support Page</a>`. Here, the domain name will be \"apple.com\" and the link name will be \"Mac Support Page\".\n",
    "\n",
    "Assume the same format for the anchor tag, but the url pattern can vary as seen in the two examples above. Note that the domain extensions can vary and won't always be `.com`\n",
    "\n",
    "<b>Note</b>: When you pass the input to the function, it will contain a string in the href parameter, which could give you an error. Replace the `\"` with `\\\"` to avoid this. "
   ]
  },
  {
   "cell_type": "markdown",
   "metadata": {},
   "source": [
    "#### Solution"
   ]
  },
  {
   "cell_type": "code",
   "execution_count": 91,
   "metadata": {
    "colab": {
     "base_uri": "https://localhost:8080/"
    },
    "id": "gnghcwlhEsSt",
    "outputId": "a54705b6-fa91-498d-f8d2-b332ef7dda58"
   },
   "outputs": [],
   "source": [
    "def htmlParser(tag):\n",
    "    domainName = re.sub('.*//', '', tag)\n",
    "    domainName = re.sub('[/\\\"].*', '', domainName)\n",
    "    entities = re.split(\"\\.\", domainName)\n",
    "    domainName = \".\".join(entities[-2:])\n",
    "    linkName = re.sub('</a>','', tag)\n",
    "    linkName = re.sub('.*>','', linkName)\n",
    "    \n",
    "    print(\"Domain Name: \" + domainName)\n",
    "    print(\"Link Name: \" + linkName)\n",
    "    "
   ]
  },
  {
   "cell_type": "code",
   "execution_count": 92,
   "metadata": {},
   "outputs": [
    {
     "name": "stdout",
     "output_type": "stream",
     "text": [
      "Domain Name: foxnews.com\n",
      "Link Name: Fox News\n",
      "Domain Name: apple.com\n",
      "Link Name: Mac Support Page\n",
      "Domain Name: apple.com\n",
      "Link Name: Support Page\n",
      "Domain Name: rutgers.edu\n",
      "Link Name: Rutgers NB Research\n"
     ]
    }
   ],
   "source": [
    "htmlParser(\"<a href=\\\"https://www.foxnews.com/politics/\\\">Fox News</a>\")\n",
    "htmlParser(\"<a href=\\\"https://support.apple.com/mac\\\">Mac Support Page</a>\")\n",
    "htmlParser(\"<a href=\\\"https://support.apple.com\\\">Support Page</a>\")\n",
    "htmlParser(\"<a href=\\\"https://newbrunswick.rutgers.edu/research\\\">Rutgers NB Research</a>\")"
   ]
  },
  {
   "cell_type": "markdown",
   "metadata": {},
   "source": [
    "---"
   ]
  },
  {
   "cell_type": "markdown",
   "metadata": {
    "id": "P9J4UPhKEsSu"
   },
   "source": [
    "#### Problem 4\n",
    "\n",
    "Given an HTML code snippet e.g. ```\"<html><body><h1><div><h2>Responsive Sidebar Example</h2><title><p>First paragraph.</p></ol><p>Second paragraph.</p></li><h3>Resize the browser window to see the effect.</h3></div></body></html>\"```. \n",
    "\n",
    "<ol>\n",
    "\n",
    "<li>Extract all the distinct opening and closing tags that are present.<br/> \n",
    "</li>\n",
    "<li>Extract all the distinct opening tags that do not have corresponding closing tags and all the distinct closing tags that do not have a corresponding opening tag.</ol>\n",
    "\n",
    "For the sample snippet above,<br/>\n",
    "The opening tags are: ```'<html>', '<body>', '<div>', '<h1>', '<h2>', , '<title>', '<p>', '<h3>' ```<br/>\n",
    "The closing tags are: ```'</h2>', '</p>', '</ol>', '</li>', '</h3>', '</div>', '</body>', '</html>' ```<br/>\n",
    "Tags opened but not closed: ```'<title>', '<h1>'``` <br/>\n",
    "Tags closed but not opened: ```'</li>', '</ol>'```\n"
   ]
  },
  {
   "cell_type": "markdown",
   "metadata": {},
   "source": [
    "#### Solution"
   ]
  },
  {
   "cell_type": "code",
   "execution_count": null,
   "metadata": {
    "colab": {
     "base_uri": "https://localhost:8080/"
    },
    "id": "USL61xoPEsSu",
    "outputId": "f749be01-fac9-495b-b744-6a6fadcacf7b"
   },
   "outputs": [
    {
     "name": "stdout",
     "output_type": "stream",
     "text": [
      "{'<h2>', '<html>', '<title>', '<p>', '<body>', '<div>', '<h3>', '<h1>'}\n",
      "{'</p>', '</html>', '</li>', '</body>', '</h2>', '</h3>', '</div>', '</ol>'}\n",
      "['<title>', '<h1>']\n",
      "['</li>', '</ol>']\n"
     ]
    }
   ],
   "source": [
    "import re\n",
    "code = \"<html><body><h1><div><h2>Responsive Sidebar Example</h2><title><p>First paragraph.</p></ol><p>Second paragraph.</p></li><h3>Resize the browser window to see the effect.</h3></div></body></html>\"\n",
    "tags = re.findall('<.*?>', code)\n",
    "distinctTags = set(tags)\n",
    "\n",
    "openingTags = set(re.findall('<[a-z0-9]*?>', code))\n",
    "closingTags = set(re.findall('</[a-z0-9]*?>', code))\n",
    "\n",
    "print(openingTags)\n",
    "print(closingTags)\n",
    "\n",
    "openNoClose = []\n",
    "closeNoOpen = []\n",
    "for x in openingTags:\n",
    "  closing = re.sub('<', '</', x)\n",
    "  if not closing in closingTags:\n",
    "    openNoClose.append(x)\n",
    "\n",
    "for x in closingTags:\n",
    "  opening = re.sub('/', '', x)\n",
    "  if not opening in openingTags:\n",
    "    closeNoOpen.append(x)\n",
    "\n",
    "print(openNoClose)\n",
    "print(closeNoOpen)"
   ]
  },
  {
   "cell_type": "markdown",
   "metadata": {},
   "source": [
    "---"
   ]
  }
 ],
 "metadata": {
  "kernelspec": {
   "display_name": "Python 3 (ipykernel)",
   "language": "python",
   "name": "python3"
  },
  "language_info": {
   "codemirror_mode": {
    "name": "ipython",
    "version": 3
   },
   "file_extension": ".py",
   "mimetype": "text/x-python",
   "name": "python",
   "nbconvert_exporter": "python",
   "pygments_lexer": "ipython3",
   "version": "3.9.7"
  }
 },
 "nbformat": 4,
 "nbformat_minor": 4
}
