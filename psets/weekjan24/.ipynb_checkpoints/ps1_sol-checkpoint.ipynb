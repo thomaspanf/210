{
 "cells": [
  {
   "cell_type": "markdown",
   "metadata": {
    "id": "EeExvGg38nsy"
   },
   "source": [
    "### <font color=\"brown\">Problem Set 1: Python basics - Solution</font>\n",
    "\n",
    "Prerequisites : Python installation, Jupyter installation"
   ]
  },
  {
   "cell_type": "markdown",
   "metadata": {
    "id": "JsDs7_mT8nsy"
   },
   "source": [
    "Rules for variables and function names in python:\n",
    "1. All names must start with a letter or underscore. For e.g: user_name is a valid identifier but 1digit is not. <br> \n",
    "2. Identifiers can contain letters, digits and underscores. <br> \n",
    "3. They can be of any length. <br> \n",
    "4. Identifiers can't be a keyword. Keywords are reserved words that Python uses for special purposes. For e.g: False, None, break etc <br> "
   ]
  },
  {
   "cell_type": "markdown",
   "metadata": {},
   "source": [
    "---"
   ]
  },
  {
   "cell_type": "markdown",
   "metadata": {
    "id": "z0alGOgt8nsy"
   },
   "source": [
    "#### Problem 1:\n",
    "\n",
    "Given the below value of x, print the values of following:\n",
    "1. Cube of x\n",
    "2. The remainder when divided by 4\n",
    "3. The integer quotient when divided by 5\n",
    "4. Expression to determine whether x is greater than 15 and less than 25. Print the resultant value.\n",
    "5. Check if x is equal to the value of x as string. Eg: if 3 and \"3\" are same.  \n",
    "\n",
    "All the above values should be printed in the following form: <br>\n",
    "\"Problem: Value\"\n",
    "For e.g.: \"Cube of 10: 1000\""
   ]
  },
  {
   "cell_type": "code",
   "execution_count": null,
   "metadata": {
    "id": "AwxVpl3z8nsy"
   },
   "outputs": [],
   "source": [
    "x = 18"
   ]
  },
  {
   "cell_type": "code",
   "execution_count": null,
   "metadata": {
    "id": "HbxPXTBL8nsy"
   },
   "outputs": [],
   "source": [
    "# 1. \n",
    "y_1 = x ** 3\n",
    "print('Cube of {x}: {y_1}')\n",
    "print(f'Cube of {x}: {y_1}')\n",
    "print(\"Cube of {0}: {1}\".format(x, y_1))\n",
    "print(\"Cube of \" + str(x) + \": \" + str(y_1))"
   ]
  },
  {
   "cell_type": "code",
   "execution_count": 3,
   "metadata": {
    "id": "tU9cnicJ8nsy"
   },
   "outputs": [],
   "source": [
    "# 2. \n",
    "y_2 = x % 4\n",
    "print(f'Remainder of {x} when divided by 4: {y_2}')"
   ]
  },
  {
   "cell_type": "code",
   "execution_count": 4,
   "metadata": {
    "id": "XPMB7Nsu8nsy"
   },
   "outputs": [
    {
     "name": "stdout",
     "output_type": "stream",
     "text": [
      "Integer Quotient of 18 when divided by 5: 3\n"
     ]
    }
   ],
   "source": [
    "# 3. \n",
    "y_3 = x // 5\n",
    "print(f'Integer Quotient of {x} when divided by 5: {y_3}')"
   ]
  },
  {
   "cell_type": "code",
   "execution_count": 5,
   "metadata": {
    "id": "yxo3SMkT8nsy"
   },
   "outputs": [
    {
     "name": "stdout",
     "output_type": "stream",
     "text": [
      "18 is greater than 15 and less than 25: True\n"
     ]
    }
   ],
   "source": [
    "# 4. \n",
    "y_4 = x > 15 and x < 25\n",
    "print(f'{x} is greater than 15 and less than 25: {y_4}')"
   ]
  },
  {
   "cell_type": "code",
   "execution_count": 6,
   "metadata": {
    "id": "vaA2gkTF8nsz"
   },
   "outputs": [
    {
     "name": "stdout",
     "output_type": "stream",
     "text": [
      "False\n"
     ]
    }
   ],
   "source": [
    "# 5.\n",
    "y_5 = x == str(x)\n",
    "print(y_5)\n",
    "# \"18\" != 18"
   ]
  },
  {
   "cell_type": "markdown",
   "metadata": {},
   "source": [
    "---"
   ]
  },
  {
   "cell_type": "markdown",
   "metadata": {
    "id": "r_Wu8xYH8nsz"
   },
   "source": [
    "#### Problem 2:\n",
    "\n",
    "The function \"calculate_average\" takes in three integers and returns their average. Complete the function definition to calculate the average. Print the value of average inside the function. Also, print the data type of computed average inside the function. "
   ]
  },
  {
   "cell_type": "code",
   "execution_count": 8,
   "metadata": {
    "id": "qvW5Pbkb8nsz"
   },
   "outputs": [],
   "source": [
    "def calculate_average(a, b, c):\n",
    "    # Complete function definition here\n",
    "    _sum = a + b + c\n",
    "    average = _sum / 3\n",
    "    print(\"Average:\", average)\n",
    "    print(type(average))\n",
    "    return average"
   ]
  },
  {
   "cell_type": "code",
   "execution_count": 9,
   "metadata": {},
   "outputs": [
    {
     "name": "stdout",
     "output_type": "stream",
     "text": [
      "Average: 2.0\n",
      "<class 'float'>\n"
     ]
    },
    {
     "data": {
      "text/plain": [
       "2.0"
      ]
     },
     "execution_count": 9,
     "metadata": {},
     "output_type": "execute_result"
    }
   ],
   "source": [
    "calculate_average(1,2,3)"
   ]
  },
  {
   "cell_type": "markdown",
   "metadata": {},
   "source": [
    "---"
   ]
  },
  {
   "cell_type": "markdown",
   "metadata": {
    "id": "BvWrfby68nsz"
   },
   "source": [
    "#### Problem 3: \n",
    "\n",
    "String concatenation and string repetition:\n",
    "\n",
    "Form a single string using the below given variables: \n",
    "\n",
    "\"My name is Jim Halpert. My annual salary is $60000 <br>\n",
    "I am good. I am good. I am good.\" \n",
    "\n",
    "Print the resultant string."
   ]
  },
  {
   "cell_type": "code",
   "execution_count": 10,
   "metadata": {
    "id": "OzqWzNcO8nsz"
   },
   "outputs": [],
   "source": [
    "name = \"Jim Halpert\" \n",
    "salary = 60000\n",
    "string = \"I am good. \"\n",
    "age = 35"
   ]
  },
  {
   "cell_type": "code",
   "execution_count": 11,
   "metadata": {
    "id": "W4Lz4Vs78nsz"
   },
   "outputs": [
    {
     "name": "stdout",
     "output_type": "stream",
     "text": [
      "My name is Jim Halpert. My annual salary is $60000\n",
      "I am good. I am good. I am good. \n",
      "My name is Jim Halpert. My annual salary is $60000\n",
      "I am good. I am good. I am good. \n"
     ]
    }
   ],
   "source": [
    "# Solution\n",
    "result = \"My name is \" + name + \". My annual salary is $\" + str(salary) + \"\\n\" + string*3\n",
    "print(result)\n",
    "result = f'My name is {name}. My annual salary is ${salary}\\n{string}{string}{string}'\n",
    "print(result)\n"
   ]
  },
  {
   "cell_type": "markdown",
   "metadata": {},
   "source": [
    "---"
   ]
  },
  {
   "cell_type": "markdown",
   "metadata": {
    "id": "LouUoFKi8nsz"
   },
   "source": [
    "#### Problem 4:\n",
    "\n",
    "String Functions:\n",
    "\n",
    "Note: All string methods returns new values. They do not change the original string.\n",
    "\n",
    "Reference: https://www.w3schools.com/python/python_ref_string.asp"
   ]
  },
  {
   "cell_type": "code",
   "execution_count": 12,
   "metadata": {
    "id": "QDRm6W2d8nsz"
   },
   "outputs": [],
   "source": [
    "string = \"Hello! How are you? It has been quite some time. Last time I saw you was in California.\""
   ]
  },
  {
   "cell_type": "markdown",
   "metadata": {
    "id": "2eVgjV0U8nsz"
   },
   "source": [
    "Given the following input string, perform the following:\n",
    "1. Print the length of string\n",
    "2. Occurrence of substring \"time\"\n",
    "3. Check if substring \"California\" and \"New York\" occurs in string\n",
    "4. Convert string to uppercase\n",
    "5. Find the index of '!' in the string\n",
    "6. Check is there are any digits in the string"
   ]
  },
  {
   "cell_type": "code",
   "execution_count": 13,
   "metadata": {
    "id": "mJ9X4BV28nsz"
   },
   "outputs": [
    {
     "name": "stdout",
     "output_type": "stream",
     "text": [
      "Length of string 87\n",
      "Occurence of time in string is:  2\n",
      "True\n",
      "False\n",
      "HELLO! HOW ARE YOU? IT HAS BEEN QUITE SOME TIME. LAST TIME I SAW YOU WAS IN CALIFORNIA.\n",
      "Index of ! in string is:  5\n",
      "False\n"
     ]
    }
   ],
   "source": [
    "# Solution\n",
    "\n",
    "# 1.\n",
    "result = len(string)\n",
    "print(\"Length of string\", result)\n",
    "\n",
    "# 2.\n",
    "result = string.count(\"time\")\n",
    "print(\"Occurence of time in string is: \", result)\n",
    "\n",
    "# 3. \n",
    "isCalifornia = \"California\" in string\n",
    "isNewYork = \"New York\" in string\n",
    "print(isCalifornia)\n",
    "print(isNewYork)\n",
    "\n",
    "# 4. \n",
    "upperString = string.upper()\n",
    "print(upperString)\n",
    "\n",
    "# 5. \n",
    "index = string.find('!')\n",
    "print(\"Index of ! in string is: \",index)\n",
    "\n",
    "# 6. \n",
    "isDigit = string.isalnum()\n",
    "print(isDigit)"
   ]
  },
  {
   "cell_type": "markdown",
   "metadata": {},
   "source": [
    "---"
   ]
  },
  {
   "cell_type": "markdown",
   "metadata": {
    "id": "srit6lO38nsz"
   },
   "source": [
    "#### Problem 5:\n",
    "\n",
    "Write a function to compute the area of the circle given radius r. "
   ]
  },
  {
   "cell_type": "code",
   "execution_count": 14,
   "metadata": {
    "id": "sOhhkTEv8nsz"
   },
   "outputs": [
    {
     "data": {
      "text/plain": [
       "3.14"
      ]
     },
     "execution_count": 14,
     "metadata": {},
     "output_type": "execute_result"
    }
   ],
   "source": [
    "# Solution \n",
    "\n",
    "def calculate_area(r=5):\n",
    "    pi = 3.14\n",
    "    area = pi*(r**2)\n",
    "    return area\n",
    "\n",
    "calculate_area(1)"
   ]
  },
  {
   "cell_type": "markdown",
   "metadata": {},
   "source": [
    "---"
   ]
  },
  {
   "cell_type": "markdown",
   "metadata": {
    "id": "Qwerb4-38nsz"
   },
   "source": [
    "#### Problem 6: \n",
    "\n",
    "Create a function that takes in the student id, age, name, and grade of the student. The function should print both the values. If the grade is missing, the function should display the grade as 'B'. If the age is missing, the function should display the age as 18. "
   ]
  },
  {
   "cell_type": "code",
   "execution_count": 15,
   "metadata": {
    "id": "oSVezndG8nsz"
   },
   "outputs": [],
   "source": [
    "# Solution \n",
    "def student_info(stud_id, stud_name, stud_age = 18, stud_grade = 'B'):\n",
    "    print(\"Student information:\")\n",
    "    print(\"Id: \", stud_id)\n",
    "    print(\"Name: \", stud_name)\n",
    "    print(\"Age: \", stud_age)\n",
    "    print(\"Grade: \", stud_grade)\n",
    "    return "
   ]
  },
  {
   "cell_type": "code",
   "execution_count": 16,
   "metadata": {},
   "outputs": [
    {
     "name": "stdout",
     "output_type": "stream",
     "text": [
      "Student information:\n",
      "Id:  1\n",
      "Name:  Micheal\n",
      "Age:  19\n",
      "Grade:  A\n",
      "---\n",
      "Student information:\n",
      "Id:  2\n",
      "Name:  Kate\n",
      "Age:  18\n",
      "Grade:  B\n"
     ]
    }
   ],
   "source": [
    "# Testing calls \n",
    "student_info(1, \"Micheal\", 19, stud_grade = 'A')\n",
    "print('---')\n",
    "student_info(2, \"Kate\")"
   ]
  },
  {
   "cell_type": "markdown",
   "metadata": {},
   "source": [
    "---"
   ]
  },
  {
   "cell_type": "markdown",
   "metadata": {
    "id": "Pq8gHj9e8nsz"
   },
   "source": [
    "#### Problem 7: \n",
    "\n",
    "1. Create a function \"calculate()\" that takes in two integers (a,b). The function should return addition, subtraction, multiplication, division of a and b. Note: If b is zero, it will result in \"Divide by zero error\".  <br>\n",
    "2. Write a function call with sample values of a and b. Print the results from the function call. "
   ]
  },
  {
   "cell_type": "code",
   "execution_count": 17,
   "metadata": {
    "id": "zSU7qcM38nsz"
   },
   "outputs": [
    {
     "name": "stdout",
     "output_type": "stream",
     "text": [
      "Addition: 15\n",
      "Subtraction: 5\n",
      "Multiplication: 50\n",
      "Division: 2.0\n"
     ]
    }
   ],
   "source": [
    "# Solution \n",
    "\n",
    "def calculate(a, b):\n",
    "    add = a + b\n",
    "    sub = a - b\n",
    "    mul = a * b \n",
    "    div = a / b\n",
    "    \n",
    "    return add, sub, mul, div\n",
    "\n",
    "a = 10\n",
    "b = 5\n",
    "c, d, e, f = calculate(a, b)\n",
    "\n",
    "print(\"Addition:\", c)\n",
    "print(\"Subtraction:\", d)\n",
    "print(\"Multiplication:\", e)\n",
    "print(\"Division:\", f)"
   ]
  },
  {
   "cell_type": "markdown",
   "metadata": {},
   "source": [
    "---"
   ]
  },
  {
   "cell_type": "markdown",
   "metadata": {
    "id": "nD8CZ5iW8nsz"
   },
   "source": [
    "#### Problem 8:\n",
    "\n",
    "Write a function to check if a number belongs to a particular range (a,b). If the range is not mentioned, the range should be (0,100). <br>\n",
    "\n",
    "Test your code by checking if 7 belongs to the range (5,15)."
   ]
  },
  {
   "cell_type": "code",
   "execution_count": 18,
   "metadata": {
    "id": "NJwMLsSS8nsz"
   },
   "outputs": [],
   "source": [
    "# Solution \n",
    "\n",
    "def belongs_to_range(x, a = 0, b = 100):\n",
    "    return a < x and x < b"
   ]
  },
  {
   "cell_type": "code",
   "execution_count": 19,
   "metadata": {},
   "outputs": [
    {
     "name": "stdout",
     "output_type": "stream",
     "text": [
      "True\n"
     ]
    }
   ],
   "source": [
    "var = belongs_to_range(7, a = 5, b = 15)\n",
    "print(var)"
   ]
  },
  {
   "cell_type": "code",
   "execution_count": null,
   "metadata": {},
   "outputs": [],
   "source": []
  }
 ],
 "metadata": {
  "colab": {
   "name": "Week1_Exercises.ipynb",
   "provenance": []
  },
  "kernelspec": {
   "display_name": "Python 3 (ipykernel)",
   "language": "python",
   "name": "python3"
  },
  "language_info": {
   "codemirror_mode": {
    "name": "ipython",
    "version": 3
   },
   "file_extension": ".py",
   "mimetype": "text/x-python",
   "name": "python",
   "nbconvert_exporter": "python",
   "pygments_lexer": "ipython3",
   "version": "3.9.7"
  }
 },
 "nbformat": 4,
 "nbformat_minor": 4
}
