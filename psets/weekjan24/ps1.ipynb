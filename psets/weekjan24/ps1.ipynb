{
 "cells": [
  {
   "cell_type": "markdown",
   "metadata": {
    "id": "EeExvGg38nsy"
   },
   "source": [
    "### <font color=\"brown\">Problem Set 1: Python basics</font>\n",
    "\n",
    "Prerequisites : Python installation, Jupyter installation"
   ]
  },
  {
   "cell_type": "markdown",
   "metadata": {
    "id": "JsDs7_mT8nsy"
   },
   "source": [
    "Rules for variables and function names in python:\n",
    "1. All names must start with a letter or underscore. For e.g: user_name is a valid identifier but 1digit is not. <br> \n",
    "2. Identifiers can contain letters, digits and underscores. <br> \n",
    "3. They can be of any length. <br> \n",
    "4. Identifiers can't be a keyword. Keywords are reserved words that Python uses for special purposes. For e.g: False, None, break etc <br> "
   ]
  },
  {
   "cell_type": "markdown",
   "metadata": {},
   "source": [
    "---"
   ]
  },
  {
   "cell_type": "markdown",
   "metadata": {
    "id": "z0alGOgt8nsy"
   },
   "source": [
    "#### Problem 1:\n",
    "\n",
    "Given the below value of x, print the values of following:\n",
    "1. Cube of x\n",
    "2. The remainder when divided by 4\n",
    "3. The integer quotient when divided by 5\n",
    "4. Expression to determine whether x is greater than 15 and less than 25. Print the resultant value.\n",
    "5. Check if x is equal to the value of x as string. Eg: if 3 and \"3\" are same.  \n",
    "\n",
    "All the above values should be printed in the following form: <br>\n",
    "\"Problem: Value\"\n",
    "For e.g.: \"Cube of 10: 1000\""
   ]
  },
  {
   "cell_type": "code",
   "execution_count": 5,
   "metadata": {
    "id": "AwxVpl3z8nsy"
   },
   "outputs": [],
   "source": [
    "x = 18"
   ]
  },
  {
   "cell_type": "code",
   "execution_count": 7,
   "metadata": {
    "id": "HbxPXTBL8nsy"
   },
   "outputs": [
    {
     "name": "stdout",
     "output_type": "stream",
     "text": [
      "5832\n"
     ]
    }
   ],
   "source": [
    "# 1.\n",
    "cube = x**3\n",
    "print(cube)\n"
   ]
  },
  {
   "cell_type": "code",
   "execution_count": null,
   "metadata": {
    "id": "tU9cnicJ8nsy"
   },
   "outputs": [],
   "source": [
    "# 2. \n"
   ]
  },
  {
   "cell_type": "code",
   "execution_count": null,
   "metadata": {
    "id": "XPMB7Nsu8nsy"
   },
   "outputs": [],
   "source": [
    "# 3. \n"
   ]
  },
  {
   "cell_type": "code",
   "execution_count": null,
   "metadata": {
    "id": "yxo3SMkT8nsy"
   },
   "outputs": [],
   "source": [
    "# 4. \n"
   ]
  },
  {
   "cell_type": "code",
   "execution_count": null,
   "metadata": {
    "id": "vaA2gkTF8nsz"
   },
   "outputs": [],
   "source": [
    "# 5.\n"
   ]
  },
  {
   "cell_type": "markdown",
   "metadata": {},
   "source": [
    "---"
   ]
  },
  {
   "cell_type": "markdown",
   "metadata": {
    "id": "r_Wu8xYH8nsz"
   },
   "source": [
    "#### Problem 2:\n",
    "\n",
    "The function \"calculate_average\" takes in three integers and returns their average. Complete the function definition to calculate the average. Print the value of average inside the function. Also, print the data type of computed average inside the function. "
   ]
  },
  {
   "cell_type": "code",
   "execution_count": null,
   "metadata": {
    "id": "qvW5Pbkb8nsz"
   },
   "outputs": [],
   "source": [
    "def calculate_average(a, b, c):\n",
    "    # Complete function definition here\n",
    "    return average"
   ]
  },
  {
   "cell_type": "markdown",
   "metadata": {},
   "source": [
    "---"
   ]
  },
  {
   "cell_type": "markdown",
   "metadata": {
    "id": "BvWrfby68nsz"
   },
   "source": [
    "#### Problem 3: \n",
    "\n",
    "String concatenation and string repetition:\n",
    "\n",
    "Form a single string using the below given variables: \n",
    "\n",
    "\"My name is Jim Halpert. My annual salary is $60000 <br>\n",
    "I am good. I am good. I am good.\" \n",
    "\n",
    "Print the resultant string."
   ]
  },
  {
   "cell_type": "code",
   "execution_count": null,
   "metadata": {
    "id": "OzqWzNcO8nsz"
   },
   "outputs": [],
   "source": [
    "name = \"Jim Halpert\" \n",
    "salary = 60000\n",
    "string = \"I am good. \"\n",
    "age = 35"
   ]
  },
  {
   "cell_type": "code",
   "execution_count": null,
   "metadata": {
    "id": "W4Lz4Vs78nsz"
   },
   "outputs": [],
   "source": [
    "# Solution\n",
    "\n"
   ]
  },
  {
   "cell_type": "markdown",
   "metadata": {},
   "source": [
    "---"
   ]
  },
  {
   "cell_type": "markdown",
   "metadata": {
    "id": "LouUoFKi8nsz"
   },
   "source": [
    "#### Problem 4:\n",
    "\n",
    "String Functions:\n",
    "\n",
    "Note: All string methods returns new values. They do not change the original string.\n",
    "\n",
    "Reference: https://www.w3schools.com/python/python_ref_string.asp"
   ]
  },
  {
   "cell_type": "code",
   "execution_count": null,
   "metadata": {
    "id": "QDRm6W2d8nsz"
   },
   "outputs": [],
   "source": [
    "string = \"Hello! How are you? It has been quite some time. Last time I saw you was in California.\""
   ]
  },
  {
   "cell_type": "markdown",
   "metadata": {
    "id": "2eVgjV0U8nsz"
   },
   "source": [
    "Given the following input string, perform the following:\n",
    "1. Print the length of string\n",
    "2. Occurrence of substring \"time\"\n",
    "3. Check if substring \"California\" and \"New York\" occurs in string\n",
    "4. Convert string to uppercase\n",
    "5. Find the index of '!' in the string\n",
    "6. Check is there are any digits in the string"
   ]
  },
  {
   "cell_type": "code",
   "execution_count": null,
   "metadata": {
    "id": "mJ9X4BV28nsz"
   },
   "outputs": [],
   "source": [
    "# Solution\n",
    "\n"
   ]
  },
  {
   "cell_type": "markdown",
   "metadata": {},
   "source": [
    "---"
   ]
  },
  {
   "cell_type": "markdown",
   "metadata": {
    "id": "srit6lO38nsz"
   },
   "source": [
    "#### Problem 5:\n",
    "\n",
    "Write a function to compute the area of the circle given radius r. "
   ]
  },
  {
   "cell_type": "code",
   "execution_count": null,
   "metadata": {
    "id": "sOhhkTEv8nsz"
   },
   "outputs": [],
   "source": [
    "# Solution \n",
    "\n"
   ]
  },
  {
   "cell_type": "markdown",
   "metadata": {},
   "source": [
    "---"
   ]
  },
  {
   "cell_type": "markdown",
   "metadata": {
    "id": "Qwerb4-38nsz"
   },
   "source": [
    "#### Problem 6: \n",
    "\n",
    "Create a function that takes in the student id, age, name, and grade of the student. The function should print both the values. If the grade is missing, the function should display the grade as 'B'. If the age is missing, the function should display the age as 18. "
   ]
  },
  {
   "cell_type": "code",
   "execution_count": null,
   "metadata": {
    "id": "oSVezndG8nsz"
   },
   "outputs": [],
   "source": [
    "# Solution \n"
   ]
  },
  {
   "cell_type": "markdown",
   "metadata": {},
   "source": [
    "---"
   ]
  },
  {
   "cell_type": "markdown",
   "metadata": {
    "id": "Pq8gHj9e8nsz"
   },
   "source": [
    "#### Problem 7: \n",
    "\n",
    "1. Create a function \"calculate()\" that takes in two integers (a,b). The function should return addition, subtraction, multiplication, division of a and b. Note: If b is zero, it will result in \"Divide by zero error\".  <br>\n",
    "2. Write a function call with sample values of a and b. Print the results from the function call. "
   ]
  },
  {
   "cell_type": "code",
   "execution_count": null,
   "metadata": {
    "id": "zSU7qcM38nsz"
   },
   "outputs": [],
   "source": [
    "# Solution \n"
   ]
  },
  {
   "cell_type": "markdown",
   "metadata": {},
   "source": [
    "---"
   ]
  },
  {
   "cell_type": "markdown",
   "metadata": {
    "id": "nD8CZ5iW8nsz"
   },
   "source": [
    "#### Problem 8:\n",
    "\n",
    "Write a function to check if a number belongs to a particular range (a,b). If the range is not mentioned, the range should be (0,100). <br>\n",
    "\n",
    "Test your code by checking if 7 belongs to the range (5,15)."
   ]
  },
  {
   "cell_type": "code",
   "execution_count": null,
   "metadata": {
    "id": "NJwMLsSS8nsz"
   },
   "outputs": [],
   "source": [
    "# Solution \n"
   ]
  }
 ],
 "metadata": {
  "colab": {
   "name": "Week1_Exercises.ipynb",
   "provenance": []
  },
  "kernelspec": {
   "display_name": "Python 3 (ipykernel)",
   "language": "python",
   "name": "python3"
  },
  "language_info": {
   "codemirror_mode": {
    "name": "ipython",
    "version": 3
   },
   "file_extension": ".py",
   "mimetype": "text/x-python",
   "name": "python",
   "nbconvert_exporter": "python",
   "pygments_lexer": "ipython3",
   "version": "3.9.7"
  }
 },
 "nbformat": 4,
 "nbformat_minor": 4
}
