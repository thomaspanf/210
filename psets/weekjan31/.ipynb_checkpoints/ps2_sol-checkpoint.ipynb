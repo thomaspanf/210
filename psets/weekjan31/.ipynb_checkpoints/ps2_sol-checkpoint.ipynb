{
 "cells": [
  {
   "cell_type": "markdown",
   "metadata": {},
   "source": [
    "### <font color=\"brown\">Problem Set 2: Conditions, Error Handling, Loops, Command-line Arguments</font>"
   ]
  },
  {
   "cell_type": "markdown",
   "metadata": {},
   "source": [
    "---"
   ]
  },
  {
   "cell_type": "markdown",
   "metadata": {},
   "source": [
    "#### Problem 1\n",
    "\n",
    "1. Write a function that takes an integer as an input and checks if it is divisible by 5.\n",
    "2. If it is divisible, return it as it is, else convert it to a string, append \"5\" to it and return as an integer. <br/>\n",
    "e.g., (i) Input = 10, Output = 10, \n",
    "      (ii) Input  = 19, Output = 195\n",
    "3. If the input is not an integer, generate an error. "
   ]
  },
  {
   "cell_type": "code",
   "execution_count": 8,
   "metadata": {},
   "outputs": [],
   "source": [
    "def checkNumber(n):\n",
    "    try:\n",
    "        if int(n)%5 == 0:\n",
    "            print(n) \n",
    "        else:\n",
    "            print(int(str(n)+\"5\"))\n",
    "    except ValueError:\n",
    "        print(\"Error! The input is not an integer!\")"
   ]
  },
  {
   "cell_type": "code",
   "execution_count": 9,
   "metadata": {},
   "outputs": [
    {
     "name": "stdout",
     "output_type": "stream",
     "text": [
      "20\n"
     ]
    }
   ],
   "source": [
    "checkNumber(20)"
   ]
  },
  {
   "cell_type": "code",
   "execution_count": 10,
   "metadata": {},
   "outputs": [
    {
     "name": "stdout",
     "output_type": "stream",
     "text": [
      "375\n"
     ]
    }
   ],
   "source": [
    "checkNumber(37)"
   ]
  },
  {
   "cell_type": "code",
   "execution_count": 11,
   "metadata": {},
   "outputs": [
    {
     "name": "stdout",
     "output_type": "stream",
     "text": [
      "Error! The input is not an integer!\n"
     ]
    }
   ],
   "source": [
    "checkNumber(\"hey\")"
   ]
  },
  {
   "cell_type": "markdown",
   "metadata": {},
   "source": [
    "---"
   ]
  },
  {
   "cell_type": "markdown",
   "metadata": {},
   "source": [
    "#### Problem 2\n",
    "\n",
    "Take the lengths of three sides of a triangle as an input and output whether the triangle is equilateral, isosceles or scalene. No need to write a function here. Inputs can be taken from standard input (console)."
   ]
  },
  {
   "cell_type": "code",
   "execution_count": 12,
   "metadata": {},
   "outputs": [
    {
     "name": "stdout",
     "output_type": "stream",
     "text": [
      "Enter the length of first side: 3\n",
      "Enter the length of second side: 5\n",
      "Enter the length of third side: 2\n",
      "Scalene\n"
     ]
    }
   ],
   "source": [
    "l1 = int(input(\"Enter the length of first side: \"))\n",
    "l2 = int(input(\"Enter the length of second side: \"))\n",
    "l3 = int(input(\"Enter the length of third side: \"))\n",
    "\n",
    "if l1 == l2:\n",
    "    if l2 == l3:\n",
    "        print(\"Equilateral\")\n",
    "    else:\n",
    "        print(\"Isosceles\")\n",
    "elif l2 == l3:\n",
    "    print(\"Isosceles\")\n",
    "elif l1 == l3:\n",
    "    print(\"Isosceles\")\n",
    "else:\n",
    "    print(\"Scalene\")\n",
    "        \n"
   ]
  },
  {
   "cell_type": "markdown",
   "metadata": {},
   "source": [
    "---"
   ]
  },
  {
   "cell_type": "markdown",
   "metadata": {},
   "source": [
    "#### Problem 3\n",
    "\n",
    "1. Write a function that takes in two numbers, check if their difference is less than or equal to 5.<br/>\n",
    "2. If not, increase the smaller number until the difference between the two numbers is equal to 5.<br/>\n",
    "3. Return the numbers after performing the operation"
   ]
  },
  {
   "cell_type": "code",
   "execution_count": 17,
   "metadata": {},
   "outputs": [],
   "source": [
    "def decreaseSumToFive(a, b):\n",
    "    ''' \n",
    "    You can also use -\n",
    "    small = min(a, b)\n",
    "    large = max(a, b)\n",
    "    '''\n",
    "    if a>b:\n",
    "        large = a\n",
    "        small = b\n",
    "    else:\n",
    "        small = a\n",
    "        large = b\n",
    "        \n",
    "    difference = large - small\n",
    "\n",
    "    if difference <= 5:\n",
    "        return small, large\n",
    "        \n",
    "    while large - small > 5:\n",
    "        small+=1\n",
    "        \n",
    "    return small, large"
   ]
  },
  {
   "cell_type": "code",
   "execution_count": 18,
   "metadata": {},
   "outputs": [
    {
     "name": "stdout",
     "output_type": "stream",
     "text": [
      "(4, 9)\n"
     ]
    }
   ],
   "source": [
    "print(decreaseSumToFive(2,9))"
   ]
  },
  {
   "cell_type": "code",
   "execution_count": 19,
   "metadata": {},
   "outputs": [
    {
     "name": "stdout",
     "output_type": "stream",
     "text": [
      "(3, 5)\n"
     ]
    }
   ],
   "source": [
    "print(decreaseSumToFive(5,3))"
   ]
  },
  {
   "cell_type": "markdown",
   "metadata": {},
   "source": [
    "---"
   ]
  },
  {
   "cell_type": "markdown",
   "metadata": {},
   "source": [
    "#### Problems 4 and 5 below should be Python programs that can be independently executed.\n",
    "For these problems, you will have to submit Python Code files having a .py extension.<br/>\n",
    "Arguments needed in the code are to be taken in from the command line. <br/>\n",
    "For more information on how to work with command line arguments, click [here](https://www.tutorialspoint.com/python/python_command_line_arguments.htm)."
   ]
  },
  {
   "cell_type": "markdown",
   "metadata": {},
   "source": [
    "---"
   ]
  },
  {
   "cell_type": "markdown",
   "metadata": {},
   "source": [
    "#### Problem 4\n",
    "\n",
    "In this problem, you will be performing string length encoding and decoding. You will have to write a function for each of those.\n",
    "\n",
    "1. <h5>Encoding</h5>\n",
    "For this part, your function will take in a string input and return another string that keeps a count of the consecutive characters in the string in the following manner.<br>\n",
    "For e.g., \"hhaaabbxwww\" will be encoded as \"h2a3b2x1w3\". As you can see, the character count is appended next to the character. Another example: \"jjjkrrjjwww\" will be encoded as \"j3k1r2j2w3\". Notice that j occurs consecutively twice in different parts of the string and is thus handled twice.\n",
    "\n",
    "2. <h5>Decoding</h5>\n",
    "For this part, the input and output will be strings just like the previous function. This function will do the opposite. For e.g., \"h2a3b2x1w3\" will be decoded to \"hhaaabbxwww\".<br>\n",
    "<b>Note:</b> For decoding, you can assume that the number next to a character will be a single digit. You can also attempt the more general scenario where a character could occur more than 9 times in sequence, so the number following it is multi-digit."
   ]
  },
  {
   "cell_type": "markdown",
   "metadata": {},
   "source": [
    "#### Solution file: ps2-4_sol.py"
   ]
  },
  {
   "cell_type": "markdown",
   "metadata": {},
   "source": [
    "---"
   ]
  },
  {
   "cell_type": "markdown",
   "metadata": {},
   "source": [
    "#### Problem 5\n",
    "\n",
    "In this problem, you are going to implement a Quadratic Equation solver. <br>\n",
    "A quadratic equation is of the form $ax^2 + bx + c = 0.$ \n",
    "\n",
    "Roots of this equation are $ -b \\pm \\sqrt(b^2 - 4ac)\\over2a$.\n",
    "\n",
    "What you need to do:\n",
    "1. Take a, b, c as inputs to the quadratic solver function.\n",
    "2. Calculate -b, $\\sqrt(b^2 - 4ac)$ and 2a.<br>\n",
    "Now, we can have two cases: <br>\n",
    "a) $b^2 - 4ac$ >= 0<br>\n",
    "b) $b^2 - 4ac$ < 0<br>\n",
    "\n",
    "The first case is pretty simple where the roots are as decribed above. But in the second case where the term inside the square root is < 0, the roots become $ -b \\pm i \\sqrt(4ac - b^2)\\over2a$, where \"i\" is an imaginary number.\n",
    "\n",
    "<b>Note:</b> the $\\pm$ sign means one root is $ -b + \\sqrt(b^2 - 4ac)\\over2a$ and other is $ -b - \\sqrt(b^2 - 4ac)\\over2a$\n",
    "<br>\n",
    "Print the roots in a string format, with proper placement of \"i\" in the imaginary roots."
   ]
  },
  {
   "cell_type": "markdown",
   "metadata": {},
   "source": [
    "#### Solution file: ps2-5_sol.py"
   ]
  },
  {
   "cell_type": "code",
   "execution_count": null,
   "metadata": {},
   "outputs": [],
   "source": []
  }
 ],
 "metadata": {
  "kernelspec": {
   "display_name": "Python 3",
   "language": "python",
   "name": "python3"
  },
  "language_info": {
   "codemirror_mode": {
    "name": "ipython",
    "version": 3
   },
   "file_extension": ".py",
   "mimetype": "text/x-python",
   "name": "python",
   "nbconvert_exporter": "python",
   "pygments_lexer": "ipython3",
   "version": "3.7.6"
  }
 },
 "nbformat": 4,
 "nbformat_minor": 4
}
