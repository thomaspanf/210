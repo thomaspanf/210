{
 "cells": [
  {
   "cell_type": "markdown",
   "metadata": {},
   "source": [
    "### <font color='brown'>Problem Set 3: List</brown>"
   ]
  },
  {
   "cell_type": "markdown",
   "metadata": {},
   "source": [
    "---"
   ]
  },
  {
   "cell_type": "markdown",
   "metadata": {},
   "source": [
    "#### Problem 1\n",
    "\n",
    "Given the list 'nums_1' and 'nums_2', do the following:\n",
    "\n",
    "1. Sort the list 'nums_1' in descending order. Note: sort function changes the list in place. \n",
    "2. Get the list 'nums_2' in reversed order. Note: reverse functions can change the list in place. <br>\n",
    "3. Print the two lists simulateneously i.e. print first element of both lists, then second and so on. Hint: See Zip function for parallel iteration\n",
    "4. Check if there is at least one common element in 'nums_1' and 'num_2'. \n",
    "5. Count the occurrence of 5 in 'nums_1'.\n",
    "6. Make a new list from 'nums_2' which has alternate elements."
   ]
  },
  {
   "cell_type": "markdown",
   "metadata": {},
   "source": [
    "---"
   ]
  },
  {
   "cell_type": "markdown",
   "metadata": {},
   "source": [
    "#### Problem 2\n",
    "Given a list of words, write code to count the number of words where the word length is 3 or more and the first and last character are same. Return the count. Also return a string formed by the first letter of each word. "
   ]
  },
  {
   "cell_type": "markdown",
   "metadata": {},
   "source": [
    "---"
   ]
  },
  {
   "cell_type": "markdown",
   "metadata": {},
   "source": [
    "#### Problem 3\n",
    "\n",
    "Given a (NxN) matrix in the form of 2-d list, calculate its column wise, row wise and diagonal sum. <br>\n",
    "\n",
    "Example: M = [[1,2,3],[4,5,6],[1,2,3]]\n",
    "1. Column wise sum: [6,9,12]\n",
    "2. Row wise sum: [6, 15, 6]\n",
    "3. Diagonal sum: 9"
   ]
  },
  {
   "cell_type": "markdown",
   "metadata": {},
   "source": [
    "---"
   ]
  },
  {
   "cell_type": "markdown",
   "metadata": {},
   "source": [
    "#### Problem 4\n",
    "\n",
    "Write list comprehension statements for the following:\n",
    "1. Get all scores in a list that are greater than the half the maximum\n",
    "2. Get all words in a list that start with an uppercase letter\n",
    "3. Given two lists of integers, get their intersection \n",
    "4. Given a list of words, generate a list of sublists such that each sublist is the set of all characters in one of the original words\n",
    "5. Given a list of positive integers, create a list of sublists such that each sublist is the set of divisors (except 1 and itself) of one of the integers\n",
    "6. Given a list of words, create a list containing the tuples (word, length of word) for each word"
   ]
  },
  {
   "cell_type": "markdown",
   "metadata": {},
   "source": [
    "---"
   ]
  },
  {
   "cell_type": "markdown",
   "metadata": {},
   "source": [
    "#### Problem 5\n",
    "\n",
    "You are given the following list of (word, count) tuples:\n",
    "\n",
    "<pre>\n",
    "count = [('hello', 56), ('the', 389), ('name', 23), ('my', 45), ('wonderful', 12)]\n",
    "</pre>\n",
    "\n",
    "1. Sort the list on the basis of descending order of counts.\n",
    "2. Sort the list on the basis of length of the words."
   ]
  }
 ],
 "metadata": {
  "kernelspec": {
   "display_name": "Python 3 (ipykernel)",
   "language": "python",
   "name": "python3"
  },
  "language_info": {
   "codemirror_mode": {
    "name": "ipython",
    "version": 3
   },
   "file_extension": ".py",
   "mimetype": "text/x-python",
   "name": "python",
   "nbconvert_exporter": "python",
   "pygments_lexer": "ipython3",
   "version": "3.9.7"
  }
 },
 "nbformat": 4,
 "nbformat_minor": 4
}
