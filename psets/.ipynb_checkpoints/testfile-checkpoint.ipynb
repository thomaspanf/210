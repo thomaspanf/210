{
 "cells": [
  {
   "cell_type": "code",
   "execution_count": 352,
   "id": "efbd8e3a-370b-4c67-8938-4dc461dfd283",
   "metadata": {},
   "outputs": [],
   "source": [
    "def filterTemps(f):\n",
    "    result = []\n",
    "    for line in open(f):\n",
    "        #list of data in format ['Toy Story (1995)', '4.0']\n",
    "        data = line.replace(' ', '')\n",
    "        #data.split(':')\n",
    "        date = data[0:3]\n",
    "        if date == \"Jan\":\n",
    "            d = \"01\"\n",
    "        if date == \"Feb\":\n",
    "            d = \"02\"\n",
    "        if date == \"Mar\":\n",
    "            d = \"03\"\n",
    "        if date == \"Apr\":\n",
    "            d = \"04\"\n",
    "        if date == \"May\":\n",
    "            d = \"05\"\n",
    "        if date == \"Jun\":\n",
    "            d = \"06\"\n",
    "        if date == \"Jul\":\n",
    "            d = \"07\"\n",
    "        if date == \"Aug\":\n",
    "            d = \"08\"\n",
    "        if date == \"Sep\":\n",
    "            d = \"09\"\n",
    "        if date == \"Oct\":\n",
    "            d = \"10\"\n",
    "        if date == \"Nov\":\n",
    "            d = \"11\"\n",
    "        if date == \"Dec\":\n",
    "            d = \"12\"\n",
    "        day = str(data[3:5])\n",
    "        if \":\" in day:\n",
    "            day = day.replace(\":\", \"\")\n",
    "            day = day.zfill(2)\n",
    "        temp = data.split(\":\")[-1]\n",
    "        temp = temp.rstrip()\n",
    "        s = (f\"{d}/{day}\", temp)\n",
    "\n",
    "        result.append(s)\n",
    "    \n",
    "    result = result[:-1]\n",
    "    return(result)\n"
   ]
  },
  {
   "cell_type": "code",
   "execution_count": 353,
   "id": "c2fad479-c9bf-4de5-8d30-061df7a37dd5",
   "metadata": {},
   "outputs": [
    {
     "name": "stdout",
     "output_type": "stream",
     "text": [
      "[('03/15', '46'), ('01/02', '32'), ('09/09', '79'), ('08/16', '101'), ('04/05', '57')]\n"
     ]
    }
   ],
   "source": [
    "print(filterTemps('temps.txt'))"
   ]
  },
  {
   "cell_type": "code",
   "execution_count": 284,
   "id": "972dabde-52cb-4832-9b6a-801330035af6",
   "metadata": {},
   "outputs": [],
   "source": [
    "data = \"Mar 15: 46\""
   ]
  },
  {
   "cell_type": "code",
   "execution_count": 285,
   "id": "5af1705e-58e9-46f6-b9ea-6bdbb49c8de3",
   "metadata": {},
   "outputs": [
    {
     "data": {
      "text/plain": [
       "['Mar 15', ' 46']"
      ]
     },
     "execution_count": 285,
     "metadata": {},
     "output_type": "execute_result"
    }
   ],
   "source": [
    "data.replace(' ', '')\n",
    "data.split(':')"
   ]
  },
  {
   "cell_type": "code",
   "execution_count": 52,
   "id": "01608efa-03fb-404e-965b-58402577ea5a",
   "metadata": {},
   "outputs": [
    {
     "name": "stdout",
     "output_type": "stream",
     "text": [
      "['Mar 15', ' 46']\n"
     ]
    }
   ],
   "source": [
    "print(temp)"
   ]
  },
  {
   "cell_type": "code",
   "execution_count": 53,
   "id": "748c7057-f6e8-415f-a0e5-f89513ff7d97",
   "metadata": {},
   "outputs": [
    {
     "name": "stdout",
     "output_type": "stream",
     "text": [
      " 46\n"
     ]
    }
   ],
   "source": [
    "print(temp[1])"
   ]
  },
  {
   "cell_type": "code",
   "execution_count": 123,
   "id": "c67f8e0a-42ee-4380-b56a-7219e709ab7c",
   "metadata": {},
   "outputs": [
    {
     "ename": "IndentationError",
     "evalue": "expected an indented block (Temp/ipykernel_8692/65863528.py, line 4)",
     "output_type": "error",
     "traceback": [
      "\u001b[1;36m  File \u001b[1;32m\"C:\\Users\\thomas\\AppData\\Local\\Temp/ipykernel_8692/65863528.py\"\u001b[1;36m, line \u001b[1;32m4\u001b[0m\n\u001b[1;33m    print(i)\u001b[0m\n\u001b[1;37m    ^\u001b[0m\n\u001b[1;31mIndentationError\u001b[0m\u001b[1;31m:\u001b[0m expected an indented block\n"
     ]
    }
   ],
   "source": [
    "def test():\n",
    "    for i in range(1, 101):\n",
    "        if(i % 4==0):\n",
    "        print(i)\n",
    "\n",
    "\n"
   ]
  },
  {
   "cell_type": "code",
   "execution_count": 124,
   "id": "67a7ae2a-041d-4b42-b9cb-50b8d6206ac0",
   "metadata": {},
   "outputs": [],
   "source": [
    "numbers = [x for x in range(100) if x % 4 == 0]"
   ]
  },
  {
   "cell_type": "code",
   "execution_count": 126,
   "id": "9fd9021c-91f2-4f9d-8fd1-32f548922d46",
   "metadata": {},
   "outputs": [
    {
     "name": "stdout",
     "output_type": "stream",
     "text": [
      "[0, 4, 8, 12, 16, 20, 24, 28, 32, 36, 40, 44, 48, 52, 56, 60, 64, 68, 72, 76, 80, 84, 88, 92, 96]\n"
     ]
    }
   ],
   "source": [
    "print(numbers)"
   ]
  },
  {
   "cell_type": "code",
   "execution_count": 132,
   "id": "995ece4d-e3f7-4e67-8387-385fd9666cd4",
   "metadata": {},
   "outputs": [],
   "source": [
    "list = [(\"city1\", 70), (\"city2\", 50), (\"city3\", 75)]"
   ]
  },
  {
   "cell_type": "code",
   "execution_count": 137,
   "id": "15535335-2d3b-44e5-9ed6-87f31b5ed6e2",
   "metadata": {},
   "outputs": [
    {
     "name": "stdout",
     "output_type": "stream",
     "text": [
      "70\n"
     ]
    }
   ],
   "source": [
    "print(list[0][1])"
   ]
  },
  {
   "cell_type": "code",
   "execution_count": 143,
   "id": "11e9eeb7-a336-4229-8eee-161713611c88",
   "metadata": {},
   "outputs": [
    {
     "ename": "SyntaxError",
     "evalue": "invalid syntax (Temp/ipykernel_8692/2095166162.py, line 1)",
     "output_type": "error",
     "traceback": [
      "\u001b[1;36m  File \u001b[1;32m\"C:\\Users\\thomas\\AppData\\Local\\Temp/ipykernel_8692/2095166162.py\"\u001b[1;36m, line \u001b[1;32m1\u001b[0m\n\u001b[1;33m    city_temp = [x in range(list) if list[x][y] >= 70]\u001b[0m\n\u001b[1;37m                                                     ^\u001b[0m\n\u001b[1;31mSyntaxError\u001b[0m\u001b[1;31m:\u001b[0m invalid syntax\n"
     ]
    }
   ],
   "source": [
    "city_temp = [x in range(list) if list[x] >= 70]"
   ]
  },
  {
   "cell_type": "code",
   "execution_count": null,
   "id": "a8eb1b7d-1e2a-47d4-ac96-f7ead66e561f",
   "metadata": {},
   "outputs": [],
   "source": [
    "def wordcount (f):\n",
    "    result = []\n",
    "    for line in open(f):\n",
    "        data = line.replace(' ', '')\n",
    "        #data.split(':')\n",
    "        date = data[0:3]"
   ]
  },
  {
   "cell_type": "code",
   "execution_count": 293,
   "id": "1c8c292b-38e3-4eab-954a-4dc41b09b924",
   "metadata": {},
   "outputs": [],
   "source": [
    "list = [('this',2),('absolutely',1),('amazing',1),('crazy',1),('movie',2),\n",
    "  ('what',1),('funniest',1),('year',1)]"
   ]
  },
  {
   "cell_type": "code",
   "execution_count": 294,
   "id": "64499c46-c468-465c-9d78-7ea2abb4f17c",
   "metadata": {},
   "outputs": [
    {
     "name": "stdout",
     "output_type": "stream",
     "text": [
      "[('this', 2), ('absolutely', 1), ('amazing', 1), ('crazy', 1), ('movie', 2), ('what', 1), ('funniest', 1), ('year', 1)]\n"
     ]
    }
   ],
   "source": [
    "print(list)"
   ]
  },
  {
   "cell_type": "code",
   "execution_count": 296,
   "id": "b9045f5b-0a0e-41a1-aa35-2fae5ec9b95f",
   "metadata": {},
   "outputs": [
    {
     "ename": "SyntaxError",
     "evalue": "invalid syntax (Temp/ipykernel_8692/1986769110.py, line 1)",
     "output_type": "error",
     "traceback": [
      "\u001b[1;36m  File \u001b[1;32m\"C:\\Users\\thomas\\AppData\\Local\\Temp/ipykernel_8692/1986769110.py\"\u001b[1;36m, line \u001b[1;32m1\u001b[0m\n\u001b[1;33m    mul_of3 = [x in range(1,11) if (x)+(x-1) == 3]\u001b[0m\n\u001b[1;37m                                                 ^\u001b[0m\n\u001b[1;31mSyntaxError\u001b[0m\u001b[1;31m:\u001b[0m invalid syntax\n"
     ]
    }
   ],
   "source": [
    "mul_of3 = [x in range(1,11) if (x)+(x-1) == 3]"
   ]
  },
  {
   "cell_type": "code",
   "execution_count": 298,
   "id": "5523fd83-90d9-4fed-98e1-3d387c2dad49",
   "metadata": {},
   "outputs": [
    {
     "ename": "NameError",
     "evalue": "name 'city_temp' is not defined",
     "output_type": "error",
     "traceback": [
      "\u001b[1;31m---------------------------------------------------------------------------\u001b[0m",
      "\u001b[1;31mNameError\u001b[0m                                 Traceback (most recent call last)",
      "\u001b[1;32m~\\AppData\\Local\\Temp/ipykernel_8692/2113883838.py\u001b[0m in \u001b[0;36m<module>\u001b[1;34m\u001b[0m\n\u001b[1;32m----> 1\u001b[1;33m \u001b[0mcity\u001b[0m \u001b[1;33m=\u001b[0m \u001b[1;33m[\u001b[0m\u001b[0mcity\u001b[0m \u001b[1;32mfor\u001b[0m \u001b[0mcity\u001b[0m\u001b[1;33m,\u001b[0m \u001b[0mtemperature\u001b[0m \u001b[1;32min\u001b[0m \u001b[0mcity_temp\u001b[0m \u001b[1;32mif\u001b[0m \u001b[0mtemperature\u001b[0m \u001b[1;33m>\u001b[0m \u001b[1;36m70\u001b[0m\u001b[1;33m]\u001b[0m\u001b[1;33m\u001b[0m\u001b[1;33m\u001b[0m\u001b[0m\n\u001b[0m",
      "\u001b[1;31mNameError\u001b[0m: name 'city_temp' is not defined"
     ]
    }
   ],
   "source": [
    "city = [city for city, temperature in city_temp if temperature > 70]"
   ]
  },
  {
   "cell_type": "code",
   "execution_count": 299,
   "id": "f49eafe3-60d9-4f1b-bed3-8db5b4b6e8a1",
   "metadata": {},
   "outputs": [],
   "source": [
    "list = [(\"city1\", 70), (\"city2\", 50), (\"city3\", 75)]"
   ]
  },
  {
   "cell_type": "code",
   "execution_count": 300,
   "id": "54c8c8a7-c793-4596-bcd2-6dbfb2dd6f37",
   "metadata": {},
   "outputs": [],
   "source": [
    "city = [city for city, temperature in list if temperature > 70]"
   ]
  },
  {
   "cell_type": "code",
   "execution_count": 301,
   "id": "8cae049b-7ae8-415c-aaa4-f05755721fbd",
   "metadata": {},
   "outputs": [
    {
     "name": "stdout",
     "output_type": "stream",
     "text": [
      "['city3']\n"
     ]
    }
   ],
   "source": [
    "print(city)"
   ]
  },
  {
   "cell_type": "code",
   "execution_count": 302,
   "id": "8e841069-d720-46e0-b3c8-598c9fcc42a1",
   "metadata": {},
   "outputs": [],
   "source": [
    "list = [1,2,3,4,5,6,7,8,9,10]"
   ]
  },
  {
   "cell_type": "code",
   "execution_count": 341,
   "id": "432dfd86-2bce-4666-b753-ec2fbbc6ba6b",
   "metadata": {},
   "outputs": [],
   "source": [
    "def mul_of_3(list,n=10):\n",
    "    res = []\n",
    "    for i in range(0,n,1):\n",
    "        for j in range(i,n,1):\n",
    "            if ((list[i]+list[j])%3 == 0):\n",
    "                pair = (list[i], list[j])\n",
    "                res.append(pair)\n",
    "    return res"
   ]
  },
  {
   "cell_type": "code",
   "execution_count": 342,
   "id": "aeee6bdf-d6af-472c-8841-058072bd3275",
   "metadata": {},
   "outputs": [
    {
     "name": "stdout",
     "output_type": "stream",
     "text": [
      "[(1, 2), (1, 5), (1, 8), (2, 4), (2, 7), (2, 10), (3, 3), (3, 6), (3, 9), (4, 5), (4, 8), (5, 7), (5, 10), (6, 6), (6, 9), (7, 8), (8, 10), (9, 9)]\n"
     ]
    }
   ],
   "source": [
    "print(mul_of_3(list))"
   ]
  },
  {
   "cell_type": "code",
   "execution_count": null,
   "id": "75e034c0-8155-469b-9e23-7a6182c3545d",
   "metadata": {},
   "outputs": [],
   "source": []
  }
 ],
 "metadata": {
  "kernelspec": {
   "display_name": "Python 3 (ipykernel)",
   "language": "python",
   "name": "python3"
  },
  "language_info": {
   "codemirror_mode": {
    "name": "ipython",
    "version": 3
   },
   "file_extension": ".py",
   "mimetype": "text/x-python",
   "name": "python",
   "nbconvert_exporter": "python",
   "pygments_lexer": "ipython3",
   "version": "3.9.7"
  }
 },
 "nbformat": 4,
 "nbformat_minor": 5
}
