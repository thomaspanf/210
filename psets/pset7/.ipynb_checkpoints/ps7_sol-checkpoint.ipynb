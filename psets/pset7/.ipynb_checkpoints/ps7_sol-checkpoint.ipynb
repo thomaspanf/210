{
 "cells": [
  {
   "cell_type": "markdown",
   "metadata": {
    "id": "JlD0JqiREsSp"
   },
   "source": [
    "### <font color=\"brown\">Problem Set 7: CSV and JSON Processing - Solution</font>"
   ]
  },
  {
   "cell_type": "markdown",
   "metadata": {},
   "source": [
    "---"
   ]
  },
  {
   "cell_type": "code",
   "execution_count": 3,
   "metadata": {},
   "outputs": [],
   "source": [
    "import csv\n",
    "import json"
   ]
  },
  {
   "cell_type": "markdown",
   "metadata": {},
   "source": [
    "---"
   ]
  },
  {
   "cell_type": "markdown",
   "metadata": {},
   "source": [
    "#### Problem 1\n",
    "\n",
    "You are given a file named *countries.txt*, in which the columns (in order) refer to country id, country name, region id, and average population (in thousands). Use DictReader to read this file and calculate the average population of countries belonging to region 1. Ignore the countries where average population is not available ('NA'/'na'). "
   ]
  },
  {
   "cell_type": "markdown",
   "metadata": {},
   "source": [
    "#### Solution"
   ]
  },
  {
   "cell_type": "code",
   "execution_count": 4,
   "metadata": {},
   "outputs": [
    {
     "name": "stdout",
     "output_type": "stream",
     "text": [
      "AR,Argentina,2,134\n",
      "AU,Australia,3,345\n",
      "BE,Belgium,1,167\n",
      "BR,Brazil,2,123\n",
      "CH,Switzerland,1,234\n",
      "CN,China,3,1120\n",
      "DE,Germany,1,230\n",
      "DK,Denmark,1,768\n",
      "FR,France,1,789\n",
      "HK,HongKong,3,367\n",
      "IL,Israel,4,672\n",
      "IN,India,3,1000\n",
      "IT,Italy,1,345\n",
      "JP,Japan,3,345\n",
      "MX,Mexico,2,657\n",
      "NG,Nigeria,4,134\n",
      "N,Netherlands,1,768\n",
      "UK,UnitedKingdom,1,368\n",
      "US,UnitedStatesofAmerica,2,440\n",
      "ZM,Zambia,4,782\n",
      "Average population of countries in region 1: 458.625\n"
     ]
    }
   ],
   "source": [
    "popSum = 0\n",
    "popCnt = 0\n",
    "with open('countries.txt') as csvfile:\n",
    "    data = csv.DictReader(csvfile, delimiter = ' ', fieldnames=['countryID','countryName','regionID','countryPopulation'])\n",
    "    for row in data:\n",
    "        values = list(row.values())\n",
    "        if 'NA' in values or 'na' in values:\n",
    "                continue\n",
    "        print(','.join(values))\n",
    "        if int(row['regionID']) == 1:\n",
    "            popSum += int(row['countryPopulation'])\n",
    "            popCnt += 1\n",
    "print(\"Average population of countries in region 1:\", popSum/popCnt)"
   ]
  },
  {
   "cell_type": "markdown",
   "metadata": {},
   "source": [
    "---"
   ]
  },
  {
   "cell_type": "markdown",
   "metadata": {},
   "source": [
    "#### Problem 2\n",
    "\n",
    "Read the given CSV file *departments.csv*, fill in all empty managerID fields with 000, and write the updated file to *departments_upd.csv*. Use standard CSV reader and writer. Display the department with highest average salary."
   ]
  },
  {
   "cell_type": "markdown",
   "metadata": {},
   "source": [
    "#### Solution"
   ]
  },
  {
   "cell_type": "code",
   "execution_count": 7,
   "metadata": {},
   "outputs": [
    {
     "name": "stdout",
     "output_type": "stream",
     "text": [
      "Department with highest salary is: Public Relations\n"
     ]
    }
   ],
   "source": [
    "maxAvgSalary = 0\n",
    "departmentName = \"\"\n",
    "with open('departments.csv') as csvfile:\n",
    "    reader = csv.reader(csvfile)\n",
    "   \n",
    "    with open('departments_upd.csv','w',newline='') as csvout:\n",
    "        writer = csv.writer(csvout)\n",
    "        \n",
    "        columns = next(reader)  \n",
    "        writer.writerow(columns)\n",
    "        \n",
    "        for row in reader:\n",
    "            if len(row[2].strip()) == 0:\n",
    "                row[2] = '000'\n",
    "            avg_salary = int(row[3])\n",
    "            if avg_salary > maxAvgSalary :\n",
    "                maxAvgSalary = avg_salary\n",
    "                departmentName = row[1]\n",
    "            writer.writerow(row)\n",
    "\n",
    "print(\"Department with highest salary is:\", departmentName)"
   ]
  },
  {
   "cell_type": "markdown",
   "metadata": {},
   "source": [
    "---"
   ]
  },
  {
   "cell_type": "markdown",
   "metadata": {},
   "source": [
    "#### Problem 3\n",
    "\n",
    "Repeat the above problem using DictReader and DictWriter. Also list department ids with the most common average salary value."
   ]
  },
  {
   "cell_type": "markdown",
   "metadata": {},
   "source": [
    "#### Solution"
   ]
  },
  {
   "cell_type": "code",
   "execution_count": 10,
   "metadata": {},
   "outputs": [
    {
     "name": "stdout",
     "output_type": "stream",
     "text": [
      "Department with highest salary is: Public Relations\n",
      "Departments with most common average salary 1700: ['Administration', 'Purchasing', 'Executive', 'Finance', 'Accounting', 'Treasury', 'Corporate Tax', 'Control And Credit', 'Shareholder Services', 'Benefits', 'Manufacturing', 'Construction', 'Contracting', 'Operations', 'IT Support', 'NOC', 'IT Helpdesk', 'Government Sales', 'Retail Sales', 'Recruiting', 'Payroll']\n"
     ]
    }
   ],
   "source": [
    "from collections import Counter\n",
    "\n",
    "maxAvgSalary = 0\n",
    "departmentName = \"\"\n",
    "salaries = Counter()\n",
    "departmentsWithSal = []\n",
    "with open('departments.csv') as csvfile:\n",
    "    reader = csv.DictReader(csvfile)\n",
    "    \n",
    "    with open('departments_upd.csv','w',newline='') as csvout:\n",
    "        writer = csv.DictWriter(csvout,fieldnames=reader.fieldnames)  \n",
    "       \n",
    "        writer.writeheader()  \n",
    "        \n",
    "        for row in reader:\n",
    "            if len(row['manager_id'].strip()) == 0:\n",
    "                row['manager_id'] = '000'\n",
    "            avg_salary = int(row['avg_salary'])    \n",
    "            if avg_salary > maxAvgSalary:\n",
    "                maxAvgSalary = avg_salary\n",
    "                departmentName = row['department_name']\n",
    "            writer.writerow(row)\n",
    "\n",
    "            # following is for most common salary determination\n",
    "            salaries.update([avg_salary])\n",
    "            departmentsWithSal.append((row['department_name'],avg_salary))\n",
    "\n",
    "most_common_salary = salaries.most_common(1)[0][0]\n",
    "most_common_salary_depts = [dep for dep,sal in departmentsWithSal if sal == most_common_salary]\n",
    "\n",
    "print(\"Department with highest salary is:\", departmentName)\n",
    "print(f\"Departments with most common average salary {most_common_salary}: {most_common_salary_depts}\")"
   ]
  },
  {
   "cell_type": "markdown",
   "metadata": {},
   "source": [
    "---"
   ]
  },
  {
   "cell_type": "markdown",
   "metadata": {},
   "source": [
    "#### Problem 4\n",
    "\n",
    "Given the following dictionary, convert it into a JSON string, sorted by key, with indent level 4."
   ]
  },
  {
   "cell_type": "code",
   "execution_count": 5,
   "metadata": {},
   "outputs": [],
   "source": [
    "person_dict = {\n",
    "  \"name\": \"John\",\n",
    "  \"age\": 30,\n",
    "  \"married\": True,\n",
    "  \"divorced\": False,\n",
    "  \"children\": (\"Ann\",\"Billy\"),\n",
    "  \"pets\": None,\n",
    "  \"cars\": [\n",
    "    {\"model\": \"BMW 230\", \"mpg\": 27.5},\n",
    "    {\"model\": \"Ford Edge\", \"mpg\": 24.1}\n",
    "  ]\n",
    "}"
   ]
  },
  {
   "cell_type": "markdown",
   "metadata": {},
   "source": [
    "#### Solution"
   ]
  },
  {
   "cell_type": "code",
   "execution_count": 7,
   "metadata": {},
   "outputs": [
    {
     "name": "stdout",
     "output_type": "stream",
     "text": [
      "{\n",
      "    \"age\": 30,\n",
      "    \"cars\": [\n",
      "        {\n",
      "            \"model\": \"BMW 230\",\n",
      "            \"mpg\": 27.5\n",
      "        },\n",
      "        {\n",
      "            \"model\": \"Ford Edge\",\n",
      "            \"mpg\": 24.1\n",
      "        }\n",
      "    ],\n",
      "    \"children\": [\n",
      "        \"Ann\",\n",
      "        \"Billy\"\n",
      "    ],\n",
      "    \"divorced\": false,\n",
      "    \"married\": true,\n",
      "    \"name\": \"John\",\n",
      "    \"pets\": null\n",
      "}\n"
     ]
    }
   ],
   "source": [
    "json_str = json.dumps(person_dict, sort_keys=True, indent=4)\n",
    "print(json_str)"
   ]
  },
  {
   "cell_type": "markdown",
   "metadata": {},
   "source": [
    "---"
   ]
  },
  {
   "cell_type": "markdown",
   "metadata": {},
   "source": [
    "#### Problem 5\n",
    "\n",
    "Parse the following JSON string to get all the values of the key ‘name’. The result should be a list. "
   ]
  },
  {
   "cell_type": "code",
   "execution_count": 14,
   "metadata": {},
   "outputs": [],
   "source": [
    "sampleJson = \"\"\"[ \n",
    "   { \n",
    "      \"id\":1,\n",
    "      \"name\":\"name1\",\n",
    "      \"color\":[ \n",
    "         \"red\",\n",
    "         \"green\"\n",
    "      ]\n",
    "   },\n",
    "   { \n",
    "      \"id\":2,\n",
    "      \"name\":\"name2\",\n",
    "      \"color\":[ \n",
    "         \"pink\",\n",
    "         \"yellow\"\n",
    "      ]\n",
    "   }\n",
    "]\"\"\""
   ]
  },
  {
   "cell_type": "markdown",
   "metadata": {},
   "source": [
    "#### Solution"
   ]
  },
  {
   "cell_type": "code",
   "execution_count": 15,
   "metadata": {},
   "outputs": [
    {
     "name": "stdout",
     "output_type": "stream",
     "text": [
      "['name1', 'name2']\n"
     ]
    }
   ],
   "source": [
    "data = []\n",
    "try:\n",
    "    data = json.loads(sampleJson)\n",
    "except Exception as e:\n",
    "    print(e)\n",
    "\n",
    "dataList = [item.get('name') for item in data]\n",
    "print(dataList)"
   ]
  },
  {
   "cell_type": "markdown",
   "metadata": {},
   "source": [
    "---"
   ]
  },
  {
   "cell_type": "markdown",
   "metadata": {},
   "source": [
    "#### Problem 6\n",
    "\n",
    "For the given JSON string, do the following:\n",
    "\n",
    "1. Print the total payable amount for employee \"Emma\". (Total Payable = Salary + Bonus)\n",
    "2. Get the average salary for all the employees"
   ]
  },
  {
   "cell_type": "code",
   "execution_count": 17,
   "metadata": {},
   "outputs": [],
   "source": [
    "sampleJson = \"\"\"{ \n",
    "   \"company\":{ \n",
    "      \"employee\":[\n",
    "          {\n",
    "         \"name\":\"emma\",\n",
    "         \"payable\":{ \n",
    "            \"salary\":7000,\n",
    "            \"bonus\":800\n",
    "         }},\n",
    "         {\n",
    "         \"name\":\"josh\",\n",
    "         \"payable\":{ \n",
    "            \"salary\":9000,\n",
    "            \"bonus\":100\n",
    "         }},\n",
    "         {\n",
    "         \"name\":\"jake\",\n",
    "         \"payable\":{ \n",
    "            \"salary\":5000,\n",
    "            \"bonus\":200\n",
    "         }\n",
    "      }\n",
    "   ]\n",
    "}}\"\"\""
   ]
  },
  {
   "cell_type": "markdown",
   "metadata": {},
   "source": [
    "#### Solution"
   ]
  },
  {
   "cell_type": "code",
   "execution_count": 18,
   "metadata": {},
   "outputs": [
    {
     "name": "stdout",
     "output_type": "stream",
     "text": [
      "Total payable of employee Emma: 7800\n",
      "Average salary: 7000.0\n"
     ]
    }
   ],
   "source": [
    "data = json.loads(sampleJson)\n",
    "emp_emma = data['company']['employee'][0]\n",
    "emma_payble = emp_emma['payable']['salary'] + emp_emma['payable']['bonus']\n",
    "print(\"Total payable of employee Emma:\", emma_payble)\n",
    "\n",
    "employees = data['company']['employee']\n",
    "sal = 0\n",
    "for emp in employees:\n",
    "    sal += emp['payable']['salary']\n",
    "print(\"Average salary:\", sal/len(employees))"
   ]
  },
  {
   "cell_type": "markdown",
   "metadata": {},
   "source": [
    "---"
   ]
  },
  {
   "cell_type": "markdown",
   "metadata": {},
   "source": [
    "#### Problem 7\n",
    "\n",
    "Check whether following json is valid or invalid. If Invalid correct it. <br>\n",
    "Hint: Check json.tool (https://docs.python.org/3/library/json.html#module-json.tool)"
   ]
  },
  {
   "cell_type": "markdown",
   "metadata": {},
   "source": [
    "<pre>\n",
    "sampleJson = { \n",
    "   \"company\":{ \n",
    "      \"employee\":{ \n",
    "         \"name\":\"emma\",\n",
    "         \"payble\":{ \n",
    "            \"salary\":7000\n",
    "            \"bonus\":800\n",
    "         }\n",
    "      }\n",
    "   }\n",
    "}\n",
    "</pre>"
   ]
  },
  {
   "cell_type": "markdown",
   "metadata": {},
   "source": [
    "#### Solution"
   ]
  },
  {
   "cell_type": "markdown",
   "metadata": {},
   "source": [
    "**Option 1, using command line:** <br>\n",
    "\n",
    "echo { \"company\":{ \"employee\":{ \"name\":\"emma\", \"payble\":{ \"salary\":7000 \"bonus\":800} } } } | python -m json.tool\n",
    "\n",
    "Output: parse error near `}'<br>\n",
    "\n",
    "Solution: Add ',' after salary"
   ]
  },
  {
   "cell_type": "markdown",
   "metadata": {},
   "source": [
    "**Option 2:**"
   ]
  },
  {
   "cell_type": "code",
   "execution_count": 21,
   "metadata": {},
   "outputs": [
    {
     "name": "stdout",
     "output_type": "stream",
     "text": [
      "False\n"
     ]
    }
   ],
   "source": [
    "def isValidJSON(jsonData):\n",
    "    try:\n",
    "        json.loads(jsonData)\n",
    "    except ValueError as err:\n",
    "        return False\n",
    "    return True\n",
    "\n",
    "InvalidJsonData = \"\"\"{ \"company\":{ \"employee\":{ \"name\":\"emma\", \"payble\":{ \"salary\":7000 \"bonus\":800} } } }\"\"\"\n",
    "isValid = isValidJSON(InvalidJsonData)\n",
    "print(isValid)"
   ]
  }
 ],
 "metadata": {
  "kernelspec": {
   "display_name": "Python 3",
   "language": "python",
   "name": "python3"
  },
  "language_info": {
   "codemirror_mode": {
    "name": "ipython",
    "version": 3
   },
   "file_extension": ".py",
   "mimetype": "text/x-python",
   "name": "python",
   "nbconvert_exporter": "python",
   "pygments_lexer": "ipython3",
   "version": "3.7.6"
  }
 },
 "nbformat": 4,
 "nbformat_minor": 4
}
