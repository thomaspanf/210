{
 "cells": [
  {
   "cell_type": "markdown",
   "metadata": {},
   "source": [
    "### <font color='brown'>Problem Set 3: List - Solution</brown>"
   ]
  },
  {
   "cell_type": "markdown",
   "metadata": {},
   "source": [
    "---"
   ]
  },
  {
   "cell_type": "markdown",
   "metadata": {},
   "source": [
    "#### Problem 1\n",
    "\n",
    "Given the list 'nums_1' and 'nums_2', do the following:\n",
    "\n",
    "1. Sort the list 'nums_1' in descending order. Note: sort function changes the list in place. \n",
    "2. Get the list 'nums_2' in reversed order. Note: reverse functions can change the list in place. <br>\n",
    "3. Print the two lists simulateneously i.e. print first element of both lists, then second and so on. Hint: See Zip function for parallel iteration\n",
    "4. Check if there is at least one common element in 'nums_1' and 'num_2'. \n",
    "5. Count the occurrence of 5 in 'nums_1'.\n",
    "6. Make a new list from 'nums_2' which has alternate elements."
   ]
  },
  {
   "cell_type": "markdown",
   "metadata": {},
   "source": [
    "#### Solution"
   ]
  },
  {
   "cell_type": "code",
   "execution_count": 1,
   "metadata": {},
   "outputs": [],
   "source": [
    "nums_1 = [5, 0, 1, 0, 5, 3, 7, 5]\n",
    "nums_2 = [42, 23, 120, 300, 34, 7, 612, 78]"
   ]
  },
  {
   "cell_type": "code",
   "execution_count": 2,
   "metadata": {},
   "outputs": [
    {
     "name": "stdout",
     "output_type": "stream",
     "text": [
      "Descending: [7, 5, 5, 5, 3, 1, 0, 0]\n"
     ]
    }
   ],
   "source": [
    "# 1. Descending sort\n",
    "\n",
    "nums_1.sort(reverse = True)\n",
    "print(\"Descending:\", nums_1)"
   ]
  },
  {
   "cell_type": "code",
   "execution_count": 5,
   "metadata": {},
   "outputs": [
    {
     "name": "stdout",
     "output_type": "stream",
     "text": [
      "42\n",
      "23\n",
      "120\n",
      "300\n",
      "34\n",
      "7\n",
      "612\n",
      "78\n",
      "[42, 23, 120, 300, 34, 7, 612, 78]\n"
     ]
    }
   ],
   "source": [
    "# 2. Reverse\n",
    "\n",
    "# Printing elements in reverse order\n",
    "for i in reversed(nums_2):\n",
    "    print(i)\n",
    "\n",
    "# reverse() changes in the list in place\n",
    "nums_2.reverse()\n",
    "# or Using slicing operator\n",
    "# nums_2 = nums_2[::-1]\n",
    "print(nums_2)"
   ]
  },
  {
   "cell_type": "code",
   "execution_count": 6,
   "metadata": {},
   "outputs": [
    {
     "name": "stdout",
     "output_type": "stream",
     "text": [
      "7 42\n",
      "5 23\n",
      "5 120\n",
      "5 300\n",
      "3 34\n",
      "1 7\n",
      "0 612\n",
      "0 78\n"
     ]
    }
   ],
   "source": [
    "# 3. Print lists simultaneously\n",
    "\n",
    "for i,j in zip(nums_1, nums_2):\n",
    "    print(i, j)"
   ]
  },
  {
   "cell_type": "code",
   "execution_count": 7,
   "metadata": {},
   "outputs": [
    {
     "name": "stdout",
     "output_type": "stream",
     "text": [
      "True\n"
     ]
    }
   ],
   "source": [
    "# 4. At least one common element\n",
    "\n",
    "res = False\n",
    "for _num in nums_1:\n",
    "    if _num in nums_2:\n",
    "        res = True\n",
    "        break\n",
    "print(res)"
   ]
  },
  {
   "cell_type": "code",
   "execution_count": 13,
   "metadata": {},
   "outputs": [
    {
     "name": "stdout",
     "output_type": "stream",
     "text": [
      "3\n"
     ]
    }
   ],
   "source": [
    "# 5. Count occurrences of 5 in nums_1\n",
    "\n",
    "print(nums_1.count(5))"
   ]
  },
  {
   "cell_type": "code",
   "execution_count": 10,
   "metadata": {},
   "outputs": [
    {
     "name": "stdout",
     "output_type": "stream",
     "text": [
      "[78, 7, 300, 23]\n"
     ]
    }
   ],
   "source": [
    "# 6. Alternate elements\n",
    "\n",
    "res = nums_2[::2]\n",
    "print(res)"
   ]
  },
  {
   "cell_type": "markdown",
   "metadata": {},
   "source": [
    "---"
   ]
  },
  {
   "cell_type": "markdown",
   "metadata": {},
   "source": [
    "#### Problem 2\n",
    "Given a list of words, write code to count the number of words where the word length is 3 or more and the first and last character are same. Return the count. Also return a string formed by the first letter of each word. "
   ]
  },
  {
   "cell_type": "markdown",
   "metadata": {},
   "source": [
    "#### Solution"
   ]
  },
  {
   "cell_type": "code",
   "execution_count": 12,
   "metadata": {},
   "outputs": [],
   "source": [
    "words = [\"aba\", \"hello\", \"xyx\", \"122321\", \"name\", \"noon\"]"
   ]
  },
  {
   "cell_type": "code",
   "execution_count": 13,
   "metadata": {},
   "outputs": [],
   "source": [
    "def count_words(words):\n",
    "    count = 0\n",
    "    first_letter = []\n",
    "    for word in words:\n",
    "        first_letter.append(word[0])\n",
    "        if len(word) >= 3 and word[0] == word[-1]:\n",
    "            count += 1\n",
    "    s = ''.join(first_letter)\n",
    "    return count, s"
   ]
  },
  {
   "cell_type": "code",
   "execution_count": 14,
   "metadata": {},
   "outputs": [
    {
     "name": "stdout",
     "output_type": "stream",
     "text": [
      "4\n",
      "ahx1nn\n"
     ]
    }
   ],
   "source": [
    "count, s = count_words(words)\n",
    "print(count)\n",
    "print(s)"
   ]
  },
  {
   "cell_type": "markdown",
   "metadata": {},
   "source": [
    "---"
   ]
  },
  {
   "cell_type": "markdown",
   "metadata": {},
   "source": [
    "#### Problem 3\n",
    "\n",
    "Given a (NxN) matrix in the form of 2-d list, calculate its column wise, row wise and diagonal sum. <br>\n",
    "\n",
    "Example: M = [[1,2,3],[4,5,6],[1,2,3]]\n",
    "1. Column wise sum: [6,9,12]\n",
    "2. Row wise sum: [6, 15, 6]\n",
    "3. Diagonal sum: 9"
   ]
  },
  {
   "cell_type": "markdown",
   "metadata": {},
   "source": [
    "#### Solution"
   ]
  },
  {
   "cell_type": "code",
   "execution_count": 14,
   "metadata": {},
   "outputs": [],
   "source": [
    "def matrix_sum(m):\n",
    "    n = len(m)\n",
    "    \n",
    "    diagonal_sum = 0\n",
    "    row_sum = []\n",
    "    col_sum = []\n",
    "    for i in range(n):\n",
    "        diagonal_sum += m[i][i]\n",
    "        \n",
    "        r_i = m[i]\n",
    "        row_sum.append(sum(r_i))\n",
    "        \n",
    "        c_i = [m[j][i] for j in range(n)]\n",
    "        col_sum.append(sum(c_i))\n",
    "    \n",
    "    return col_sum, row_sum, diagonal_sum"
   ]
  },
  {
   "cell_type": "code",
   "execution_count": 15,
   "metadata": {},
   "outputs": [],
   "source": [
    "m = [[1,2,3],[4,5,6],[1,2,3]]"
   ]
  },
  {
   "cell_type": "code",
   "execution_count": 16,
   "metadata": {},
   "outputs": [
    {
     "name": "stdout",
     "output_type": "stream",
     "text": [
      "Column sum:  [6, 9, 12]\n",
      "Row sum: [6, 15, 6]\n",
      "Diagonal sum: 9\n"
     ]
    }
   ],
   "source": [
    "col_sum, row_sum, diagonal_sum = matrix_sum(m)\n",
    "print(\"Column sum: \", col_sum)\n",
    "print(\"Row sum:\",row_sum)\n",
    "print(\"Diagonal sum:\", diagonal_sum)"
   ]
  },
  {
   "cell_type": "markdown",
   "metadata": {},
   "source": [
    "---"
   ]
  },
  {
   "cell_type": "markdown",
   "metadata": {},
   "source": [
    "#### Problem 4\n",
    "\n",
    "Write list comprehension statements for the following:\n",
    "1. Get all scores in a list that are greater than the half the maximum\n",
    "2. Get all words in a list that start with an uppercase letter\n",
    "3. Given two lists of integers, get their intersection \n",
    "4. Given a list of words, generate a list of sublists such that each sublist is the set of all characters in one of the original words\n",
    "5. Given a list of positive integers, create a list of sublists such that each sublist is the set of divisors (except 1 and itself) of one of the integers\n",
    "6. Given a list of words, create a list containing the tuples (word, length of word) for each word"
   ]
  },
  {
   "cell_type": "markdown",
   "metadata": {},
   "source": [
    "#### Solution"
   ]
  },
  {
   "cell_type": "code",
   "execution_count": 5,
   "metadata": {},
   "outputs": [
    {
     "data": {
      "text/plain": [
       "[10, 8, 15, 9, 10, 11]"
      ]
     },
     "execution_count": 5,
     "metadata": {},
     "output_type": "execute_result"
    }
   ],
   "source": [
    "#1 Get all scores in a list that are greater than half the maximum\n",
    "lst = [4,10,8,15,2,9,10,7,6,11]\n",
    "gt_halfmax = [s for s in lst if s > max(lst)/2]\n",
    "gt_halfmax"
   ]
  },
  {
   "cell_type": "code",
   "execution_count": 8,
   "metadata": {},
   "outputs": [
    {
     "data": {
      "text/plain": [
       "['Anagram', 'America', 'Sunflower']"
      ]
     },
     "execution_count": 8,
     "metadata": {},
     "output_type": "execute_result"
    }
   ],
   "source": [
    "#2 Get all words in a list that start with an uppercase letter and are over 5 characters long\n",
    "lst = [\"Anagram\",\"after\",\"America\",\"begin\",\"xylophone\",\"Sunflower\",\"Maine\",\"best\"]\n",
    "upper_start = [w for w in lst if len(w) > 5 and w[0].isupper()]\n",
    "upper_start"
   ]
  },
  {
   "cell_type": "code",
   "execution_count": 10,
   "metadata": {},
   "outputs": [
    {
     "data": {
      "text/plain": [
       "[2, -1, 4]"
      ]
     },
     "execution_count": 10,
     "metadata": {},
     "output_type": "execute_result"
    }
   ],
   "source": [
    "#3 Given two lists of integers, get their intersection \n",
    "lst1 = [2,-1,6,8,-2,4,10]\n",
    "lst2 = [4,5,18,-1,9,2]\n",
    "lst_intersection = [x for x in lst1 for y in lst2 if x == y]\n",
    "lst_intersection"
   ]
  },
  {
   "cell_type": "code",
   "execution_count": 12,
   "metadata": {},
   "outputs": [
    {
     "data": {
      "text/plain": [
       "[['A', 'n', 'a', 'g', 'r', 'a', 'm'],\n",
       " ['a', 'f', 't', 'e', 'r'],\n",
       " ['A', 'm', 'e', 'r', 'i', 'c', 'a'],\n",
       " ['b', 'e', 'g', 'i', 'n'],\n",
       " ['x', 'y', 'l', 'o', 'p', 'h', 'o', 'n', 'e'],\n",
       " ['S', 'u', 'n', 'f', 'l', 'o', 'w', 'e', 'r'],\n",
       " ['M', 'a', 'i', 'n', 'e'],\n",
       " ['b', 'e', 's', 't']]"
      ]
     },
     "execution_count": 12,
     "metadata": {},
     "output_type": "execute_result"
    }
   ],
   "source": [
    "# 4. Given a list of words, generate a list of sublists such that \n",
    "#    each sublist is the set of all characters in one of the original words\n",
    "words = [\"Anagram\",\"after\",\"America\",\"begin\",\"xylophone\",\"Sunflower\",\"Maine\",\"best\"]\n",
    "lsts = [[ch for ch in word] for word in words]\n",
    "lsts"
   ]
  },
  {
   "cell_type": "code",
   "execution_count": 19,
   "metadata": {},
   "outputs": [
    {
     "data": {
      "text/plain": [
       "[[3, 5], [], [2, 5], [3, 7], [3, 7, 9, 21], [2, 3, 4, 6, 8, 12, 16, 24]]"
      ]
     },
     "execution_count": 19,
     "metadata": {},
     "output_type": "execute_result"
    }
   ],
   "source": [
    "#5. Given a list of positive integers > 1, create a list of sublists such that \n",
    "#   each sublist is the set of divisors (except 1 and itself) of one of the integers\n",
    "import math\n",
    "lst = [15,11,10,21,63,48]\n",
    "divisors = [[d for d in range(2,n//2+1) if n % d == 0] for n in lst]\n",
    "divisors"
   ]
  },
  {
   "cell_type": "code",
   "execution_count": 18,
   "metadata": {},
   "outputs": [
    {
     "data": {
      "text/plain": [
       "[('Anagram', 7),\n",
       " ('after', 5),\n",
       " ('America', 7),\n",
       " ('begin', 5),\n",
       " ('xylophone', 9),\n",
       " ('Sunflower', 9),\n",
       " ('Maine', 5),\n",
       " ('best', 4)]"
      ]
     },
     "execution_count": 18,
     "metadata": {},
     "output_type": "execute_result"
    }
   ],
   "source": [
    "#6. Create a list of (word,length of word)\n",
    "lst = [\"Anagram\",\"after\",\"America\",\"begin\",\"xylophone\",\"Sunflower\",\"Maine\",\"best\"]\n",
    "res = [(w, len(w)) for w in lst]\n",
    "res"
   ]
  },
  {
   "cell_type": "markdown",
   "metadata": {},
   "source": [
    "---"
   ]
  },
  {
   "cell_type": "markdown",
   "metadata": {},
   "source": [
    "#### Problem 5\n",
    "\n",
    "You are given the following list of (word, count) tuples:\n",
    "\n",
    "<pre>\n",
    "count = [('hello', 56), ('the', 389), ('name', 23), ('my', 45), ('wonderful', 12)]\n",
    "</pre>\n",
    "\n",
    "1. Sort the list on the basis of descending order of counts.\n",
    "2. Sort the list on the basis of length of the words."
   ]
  },
  {
   "cell_type": "markdown",
   "metadata": {},
   "source": [
    "#### Solution"
   ]
  },
  {
   "cell_type": "code",
   "execution_count": 31,
   "metadata": {},
   "outputs": [],
   "source": [
    "count = [('hello', 56), ('the', 389), ('name', 23), ('my', 45), ('wonderful', 12)]"
   ]
  },
  {
   "cell_type": "code",
   "execution_count": 32,
   "metadata": {},
   "outputs": [
    {
     "name": "stdout",
     "output_type": "stream",
     "text": [
      "[('the', 389), ('hello', 56), ('my', 45), ('name', 23), ('wonderful', 12)]\n",
      "[('my', 45), ('the', 389), ('name', 23), ('hello', 56), ('wonderful', 12)]\n"
     ]
    }
   ],
   "source": [
    "# Solution\n",
    "\n",
    "# 1. \n",
    "sort_by_count = sorted(count, key = lambda x: x[1], reverse=True)\n",
    "print(sort_by_count)\n",
    "\n",
    "# 2.\n",
    "sort_by_length = sorted(count, key = lambda x: len(x[0]))\n",
    "print(sort_by_length)"
   ]
  }
 ],
 "metadata": {
  "kernelspec": {
   "display_name": "Python 3 (ipykernel)",
   "language": "python",
   "name": "python3"
  },
  "language_info": {
   "codemirror_mode": {
    "name": "ipython",
    "version": 3
   },
   "file_extension": ".py",
   "mimetype": "text/x-python",
   "name": "python",
   "nbconvert_exporter": "python",
   "pygments_lexer": "ipython3",
   "version": "3.9.7"
  }
 },
 "nbformat": 4,
 "nbformat_minor": 4
}
