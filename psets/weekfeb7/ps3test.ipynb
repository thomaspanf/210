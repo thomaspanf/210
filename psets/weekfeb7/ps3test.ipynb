{
 "cells": [
  {
   "cell_type": "code",
   "execution_count": 10,
   "id": "d47aaf2c-d110-48fd-bff6-6dae1f71b046",
   "metadata": {},
   "outputs": [],
   "source": [
    "nums_1 = [5, 0, 1, 0, 5, 3, 7, 5]\n",
    "nums_2 = [42, 23, 120, 300, 34, 7, 612, 78]"
   ]
  },
  {
   "cell_type": "code",
   "execution_count": 11,
   "id": "564170fd-9937-4950-80e1-63fc50d11d8d",
   "metadata": {},
   "outputs": [],
   "source": [
    "nums_1.sort(reverse = True)"
   ]
  },
  {
   "cell_type": "code",
   "execution_count": 12,
   "id": "584c42b2-5bfd-444f-bb94-088c105c8323",
   "metadata": {},
   "outputs": [
    {
     "name": "stdout",
     "output_type": "stream",
     "text": [
      "[7, 5, 5, 5, 3, 1, 0, 0]\n"
     ]
    }
   ],
   "source": [
    "print(nums_1)"
   ]
  },
  {
   "cell_type": "code",
   "execution_count": 16,
   "id": "a99a63dd-1f8b-46f0-9f7d-ee0f975e8fe8",
   "metadata": {},
   "outputs": [
    {
     "name": "stdout",
     "output_type": "stream",
     "text": [
      "[78, 612, 7, 34, 300, 120, 23, 42]\n"
     ]
    }
   ],
   "source": [
    "nums_2.reverse()\n",
    "print(nums_2)"
   ]
  },
  {
   "cell_type": "code",
   "execution_count": 27,
   "id": "326fbb5b-d696-4156-8d29-45db99506a42",
   "metadata": {},
   "outputs": [],
   "source": [
    "words = [\"aba\", \"hello\", \"xyx\", \"122321\", \"name\", \"noon\"]"
   ]
  },
  {
   "cell_type": "code",
   "execution_count": 34,
   "id": "42358c3a-5407-41ef-b16e-8ee1b87e45b0",
   "metadata": {},
   "outputs": [],
   "source": [
    "def count_words(words):\n",
    "    count = 0\n",
    "    first_letter = []\n",
    "    for word in words:\n",
    "        first_letter.append(word[0])\n",
    "        if len(word) >= 3 and word[0] == word[-1]:\n",
    "           count += 1\n",
    "    s = ''.join(first_letter)\n",
    "    return count, s"
   ]
  },
  {
   "cell_type": "code",
   "execution_count": 35,
   "id": "bac0f2a9-0ff6-46f7-a70a-b7a3d148c580",
   "metadata": {},
   "outputs": [],
   "source": [
    "count, s = count_words(words)"
   ]
  },
  {
   "cell_type": "code",
   "execution_count": 36,
   "id": "c4984c1e-88b5-4839-a82a-add8162651b3",
   "metadata": {},
   "outputs": [
    {
     "name": "stdout",
     "output_type": "stream",
     "text": [
      "4\n"
     ]
    }
   ],
   "source": [
    "print(count)"
   ]
  },
  {
   "cell_type": "code",
   "execution_count": 37,
   "id": "64f9edef-e878-4855-bb53-385593b2cf3e",
   "metadata": {},
   "outputs": [
    {
     "name": "stdout",
     "output_type": "stream",
     "text": [
      "ahx1nn\n"
     ]
    }
   ],
   "source": [
    "print(s)"
   ]
  },
  {
   "cell_type": "code",
   "execution_count": 50,
   "id": "f1221c10-6e73-4565-9632-a61f8355b9d8",
   "metadata": {},
   "outputs": [],
   "source": [
    "m = [[1,2,3],[4,5,6],[1,2,3]]"
   ]
  },
  {
   "cell_type": "code",
   "execution_count": 54,
   "id": "8beac8c4-a4b7-4fc8-be7a-a7a03113fd88",
   "metadata": {},
   "outputs": [],
   "source": [
    "def matrix_sum(m):\n",
    "    n = len(m)\n",
    "    \n",
    "    diagonal_sum = 0\n",
    "    row_sum = []\n",
    "    col_sum = []\n",
    "    for i in range(n):\n",
    "        diagonal_sum += m[i][i]\n",
    "        \n",
    "        r_i = m[i]\n",
    "        row_sum.append(sum(r_i))\n",
    "        \n",
    "        c_i = [m[j][i] for j in range(n)]\n",
    "        col_sum.append(sum(c_i))\n",
    "    \n",
    "    return col_sum, row_sum, diagonal_sum"
   ]
  },
  {
   "cell_type": "code",
   "execution_count": 56,
   "id": "c1a41a75-1ee5-42be-8416-d0c2b7c86367",
   "metadata": {},
   "outputs": [],
   "source": [
    "m = [[1,2,3],[4,5,6],[1,2,3]]"
   ]
  },
  {
   "cell_type": "code",
   "execution_count": 57,
   "id": "c52d75c9-6b99-4ec7-bb4c-9b2f968bba85",
   "metadata": {},
   "outputs": [
    {
     "ename": "TypeError",
     "evalue": "'int' object is not subscriptable",
     "output_type": "error",
     "traceback": [
      "\u001b[1;31m---------------------------------------------------------------------------\u001b[0m",
      "\u001b[1;31mTypeError\u001b[0m                                 Traceback (most recent call last)",
      "\u001b[1;32m~\\AppData\\Local\\Temp/ipykernel_5964/952214739.py\u001b[0m in \u001b[0;36m<module>\u001b[1;34m\u001b[0m\n\u001b[1;32m----> 1\u001b[1;33m \u001b[0mcol_sum\u001b[0m\u001b[1;33m,\u001b[0m \u001b[0mrow_sum\u001b[0m\u001b[1;33m,\u001b[0m \u001b[0mdiagonal_sum\u001b[0m \u001b[1;33m=\u001b[0m \u001b[0mmatrix_sum\u001b[0m\u001b[1;33m(\u001b[0m\u001b[0mm\u001b[0m\u001b[1;33m)\u001b[0m\u001b[1;33m\u001b[0m\u001b[1;33m\u001b[0m\u001b[0m\n\u001b[0m\u001b[0;32m      2\u001b[0m \u001b[0mprint\u001b[0m\u001b[1;33m(\u001b[0m\u001b[1;34m\"Column sum: \"\u001b[0m\u001b[1;33m,\u001b[0m \u001b[0mcol_sum\u001b[0m\u001b[1;33m)\u001b[0m\u001b[1;33m\u001b[0m\u001b[1;33m\u001b[0m\u001b[0m\n\u001b[0;32m      3\u001b[0m \u001b[0mprint\u001b[0m\u001b[1;33m(\u001b[0m\u001b[1;34m\"Row sum:\"\u001b[0m\u001b[1;33m,\u001b[0m\u001b[0mrow_sum\u001b[0m\u001b[1;33m)\u001b[0m\u001b[1;33m\u001b[0m\u001b[1;33m\u001b[0m\u001b[0m\n\u001b[0;32m      4\u001b[0m \u001b[0mprint\u001b[0m\u001b[1;33m(\u001b[0m\u001b[1;34m\"Diagonal sum:\"\u001b[0m\u001b[1;33m,\u001b[0m \u001b[0mdiagonal_sum\u001b[0m\u001b[1;33m)\u001b[0m\u001b[1;33m\u001b[0m\u001b[1;33m\u001b[0m\u001b[0m\n",
      "\u001b[1;32m~\\AppData\\Local\\Temp/ipykernel_5964/4080916198.py\u001b[0m in \u001b[0;36mmatrix_sum\u001b[1;34m(m)\u001b[0m\n\u001b[0;32m      9\u001b[0m \u001b[1;33m\u001b[0m\u001b[0m\n\u001b[0;32m     10\u001b[0m         \u001b[0mr_i\u001b[0m \u001b[1;33m=\u001b[0m \u001b[0mm\u001b[0m\u001b[1;33m[\u001b[0m\u001b[0mi\u001b[0m\u001b[1;33m]\u001b[0m\u001b[1;33m\u001b[0m\u001b[1;33m\u001b[0m\u001b[0m\n\u001b[1;32m---> 11\u001b[1;33m         \u001b[0mrow_sum\u001b[0m\u001b[1;33m.\u001b[0m\u001b[0mappend\u001b[0m\u001b[1;33m(\u001b[0m\u001b[0msum\u001b[0m\u001b[1;33m(\u001b[0m\u001b[0mr_i\u001b[0m\u001b[1;33m)\u001b[0m\u001b[1;33m)\u001b[0m\u001b[1;33m\u001b[0m\u001b[1;33m\u001b[0m\u001b[0m\n\u001b[0m\u001b[0;32m     12\u001b[0m \u001b[1;33m\u001b[0m\u001b[0m\n\u001b[0;32m     13\u001b[0m         \u001b[0mc_i\u001b[0m \u001b[1;33m=\u001b[0m \u001b[1;33m[\u001b[0m\u001b[0mm\u001b[0m\u001b[1;33m[\u001b[0m\u001b[0mj\u001b[0m\u001b[1;33m]\u001b[0m\u001b[1;33m[\u001b[0m\u001b[0mi\u001b[0m\u001b[1;33m]\u001b[0m \u001b[1;32mfor\u001b[0m \u001b[0mj\u001b[0m \u001b[1;32min\u001b[0m \u001b[0mrange\u001b[0m\u001b[1;33m(\u001b[0m\u001b[0mn\u001b[0m\u001b[1;33m)\u001b[0m\u001b[1;33m]\u001b[0m\u001b[1;33m\u001b[0m\u001b[1;33m\u001b[0m\u001b[0m\n",
      "\u001b[1;32m~\\AppData\\Local\\Temp/ipykernel_5964/2334793669.py\u001b[0m in \u001b[0;36msum\u001b[1;34m(m)\u001b[0m\n\u001b[0;32m      6\u001b[0m \u001b[1;33m\u001b[0m\u001b[0m\n\u001b[0;32m      7\u001b[0m     \u001b[1;32mfor\u001b[0m \u001b[0mi\u001b[0m \u001b[1;32min\u001b[0m \u001b[0mrange\u001b[0m\u001b[1;33m(\u001b[0m\u001b[0mn\u001b[0m\u001b[1;33m)\u001b[0m\u001b[1;33m:\u001b[0m\u001b[1;33m\u001b[0m\u001b[1;33m\u001b[0m\u001b[0m\n\u001b[1;32m----> 8\u001b[1;33m         \u001b[0mdiag_sum\u001b[0m \u001b[1;33m+=\u001b[0m \u001b[0mm\u001b[0m\u001b[1;33m[\u001b[0m\u001b[0mi\u001b[0m\u001b[1;33m]\u001b[0m\u001b[1;33m[\u001b[0m\u001b[0mi\u001b[0m\u001b[1;33m]\u001b[0m\u001b[1;33m\u001b[0m\u001b[1;33m\u001b[0m\u001b[0m\n\u001b[0m\u001b[0;32m      9\u001b[0m \u001b[1;33m\u001b[0m\u001b[0m\n\u001b[0;32m     10\u001b[0m         \u001b[0mr_i\u001b[0m \u001b[1;33m=\u001b[0m \u001b[0mm\u001b[0m\u001b[1;33m[\u001b[0m\u001b[0mi\u001b[0m\u001b[1;33m]\u001b[0m\u001b[1;33m\u001b[0m\u001b[1;33m\u001b[0m\u001b[0m\n",
      "\u001b[1;31mTypeError\u001b[0m: 'int' object is not subscriptable"
     ]
    }
   ],
   "source": [
    "col_sum, row_sum, diagonal_sum = matrix_sum(m)\n",
    "print(\"Column sum: \", col_sum)\n",
    "print(\"Row sum:\",row_sum)\n",
    "print(\"Diagonal sum:\", diagonal_sum)"
   ]
  },
  {
   "cell_type": "markdown",
   "id": "c188ae68-7c11-4c64-b353-a976532455c3",
   "metadata": {},
   "source": [
    "#### Problem 4\n",
    "\n",
    "Write list comprehension statements for the following:\n",
    "1. Get all scores in a list that are greater than the half the maximum\n",
    "2. Get all words in a list that start with an uppercase letter\n",
    "3. Given two lists of integers, get their intersection \n",
    "4. Given a list of words, generate a list of sublists such that each sublist is the set of all characters in one of the original words\n",
    "5. Given a list of positive integers, create a list of sublists such that each sublist is the set of divisors (except 1 and itself) of one of the integers\n",
    "6. Given a list of words, create a list containing the tuples (word, length of word) for each word"
   ]
  },
  {
   "cell_type": "code",
   "execution_count": 59,
   "id": "4cac7cdc-0320-494e-acbf-a635c3e6f3cf",
   "metadata": {},
   "outputs": [
    {
     "data": {
      "text/plain": [
       "[10, 8, 15, 9, 10, 11]"
      ]
     },
     "execution_count": 59,
     "metadata": {},
     "output_type": "execute_result"
    }
   ],
   "source": [
    "#1 Get all scores in a list that are greater than half the maximum\n",
    "lst = [4,10,8,15,2,9,10,7,6,11]\n",
    "gt_halfmax = [s for s in lst if s> max(lst)//2]\n",
    "gt_halfmax\n"
   ]
  },
  {
   "cell_type": "code",
   "execution_count": 60,
   "id": "c5b06c12-8fb8-45b8-b634-7de93420234c",
   "metadata": {},
   "outputs": [],
   "source": [
    "#2 Get all words in a list that start with an uppercase letter and are over 5 characters long\n",
    "lst = [\"Anagram\",\"after\",\"America\",\"begin\",\"xylophone\",\"Sunflower\",\"Maine\",\"best\"]\n",
    "upper_over5 = [w for w in lst if len(w) > 5 and w[0].isupper()]\n"
   ]
  },
  {
   "cell_type": "code",
   "execution_count": 61,
   "id": "a4fae188-3f38-427e-9569-12c2b32aad13",
   "metadata": {},
   "outputs": [
    {
     "data": {
      "text/plain": [
       "['Anagram', 'America', 'Sunflower']"
      ]
     },
     "execution_count": 61,
     "metadata": {},
     "output_type": "execute_result"
    }
   ],
   "source": [
    "upper_over5"
   ]
  },
  {
   "cell_type": "code",
   "execution_count": 62,
   "id": "5c6b9fb9-7c9b-48f5-9d65-a4bf21b35668",
   "metadata": {},
   "outputs": [],
   "source": [
    "#3 Given two lists of integers, get their intersection \n",
    "lst1 = [2,-1,6,8,-2,4,10]\n",
    "lst2 = [4,5,18,-1,9,2]\n"
   ]
  },
  {
   "cell_type": "code",
   "execution_count": 63,
   "id": "a2bb6e5f-8a1b-4fe3-b403-7fc0c72987fa",
   "metadata": {},
   "outputs": [
    {
     "data": {
      "text/plain": [
       "[2, -1, 4]"
      ]
     },
     "execution_count": 63,
     "metadata": {},
     "output_type": "execute_result"
    }
   ],
   "source": [
    "intersection = [x for x in lst1 for y in lst2 if x==y]\n",
    "intersection"
   ]
  },
  {
   "cell_type": "code",
   "execution_count": 64,
   "id": "aaa1a220-3ac5-4f89-aa3e-e5c8257f2b52",
   "metadata": {},
   "outputs": [],
   "source": [
    "# 4. Given a list of words, generate a list of sublists such that \n",
    "#    each sublist is the set of all characters in one of the original words\n",
    "words = [\"Anagram\",\"after\",\"America\",\"begin\",\"xylophone\",\"Sunflower\",\"Maine\",\"best\"]"
   ]
  },
  {
   "cell_type": "code",
   "execution_count": 65,
   "id": "9bc167a1-ba1a-4627-b1e8-a8cf8959dc7d",
   "metadata": {},
   "outputs": [
    {
     "data": {
      "text/plain": [
       "[['A', 'n', 'a', 'g', 'r', 'a', 'm'],\n",
       " ['a', 'f', 't', 'e', 'r'],\n",
       " ['A', 'm', 'e', 'r', 'i', 'c', 'a'],\n",
       " ['b', 'e', 'g', 'i', 'n'],\n",
       " ['x', 'y', 'l', 'o', 'p', 'h', 'o', 'n', 'e'],\n",
       " ['S', 'u', 'n', 'f', 'l', 'o', 'w', 'e', 'r'],\n",
       " ['M', 'a', 'i', 'n', 'e'],\n",
       " ['b', 'e', 's', 't']]"
      ]
     },
     "execution_count": 65,
     "metadata": {},
     "output_type": "execute_result"
    }
   ],
   "source": [
    "lst = [[char for char in word] for word in words]\n",
    "lst"
   ]
  },
  {
   "cell_type": "code",
   "execution_count": 66,
   "id": "6f35e8fb-7fcf-4519-9962-05e0c1f35b22",
   "metadata": {},
   "outputs": [],
   "source": [
    "#5. Given a list of positive integers > 1, create a list of sublists such that \n",
    "#   each sublist is the set of divisors (except 1 and itself) of one of the integers\n",
    "import math\n",
    "lst = [15,11,10,21,63,48]"
   ]
  },
  {
   "cell_type": "code",
   "execution_count": 71,
   "id": "c709b469-05b5-4e73-b98e-f282cfe78443",
   "metadata": {},
   "outputs": [],
   "source": [
    "divisors = [[d for d in range(2,n//2+1) if n % d == 0] for n in lst]"
   ]
  },
  {
   "cell_type": "code",
   "execution_count": 72,
   "id": "72bb8068-00e0-4300-8958-351851348e2a",
   "metadata": {},
   "outputs": [
    {
     "data": {
      "text/plain": [
       "[[3, 5], [], [2, 5], [3, 7], [3, 7, 9, 21], [2, 3, 4, 6, 8, 12, 16, 24]]"
      ]
     },
     "execution_count": 72,
     "metadata": {},
     "output_type": "execute_result"
    }
   ],
   "source": [
    "divisors"
   ]
  },
  {
   "cell_type": "code",
   "execution_count": 76,
   "id": "7e0dd77f-da02-471a-add4-6a670a4059bc",
   "metadata": {},
   "outputs": [],
   "source": [
    "divisors = [[d for d in range(2,n//1) if n % d == 0] for n in lst]"
   ]
  },
  {
   "cell_type": "code",
   "execution_count": 77,
   "id": "cff7506e-44e7-4978-a9d7-a972a240f82c",
   "metadata": {},
   "outputs": [
    {
     "data": {
      "text/plain": [
       "[[3, 5], [], [2, 5], [3, 7], [3, 7, 9, 21], [2, 3, 4, 6, 8, 12, 16, 24]]"
      ]
     },
     "execution_count": 77,
     "metadata": {},
     "output_type": "execute_result"
    }
   ],
   "source": [
    "divisors"
   ]
  },
  {
   "cell_type": "code",
   "execution_count": 78,
   "id": "1fa4c00e-a876-496a-8b7e-1997a804fdf9",
   "metadata": {},
   "outputs": [],
   "source": [
    "#6. Create a list of (word,length of word)\n",
    "lst = [\"Anagram\",\"after\",\"America\",\"begin\",\"xylophone\",\"Sunflower\",\"Maine\",\"best\"]\n"
   ]
  },
  {
   "cell_type": "code",
   "execution_count": 81,
   "id": "1756ab2c-07aa-4db2-9c7d-1775941a5be9",
   "metadata": {},
   "outputs": [],
   "source": [
    "result = [(w, len(w)) for w in lst]"
   ]
  },
  {
   "cell_type": "code",
   "execution_count": 82,
   "id": "49feca77-aba7-4e29-83d3-847220b98241",
   "metadata": {},
   "outputs": [
    {
     "data": {
      "text/plain": [
       "[('Anagram', 7),\n",
       " ('after', 5),\n",
       " ('America', 7),\n",
       " ('begin', 5),\n",
       " ('xylophone', 9),\n",
       " ('Sunflower', 9),\n",
       " ('Maine', 5),\n",
       " ('best', 4)]"
      ]
     },
     "execution_count": 82,
     "metadata": {},
     "output_type": "execute_result"
    }
   ],
   "source": [
    "result"
   ]
  },
  {
   "cell_type": "markdown",
   "id": "e77d9358-b2b1-4d89-b05d-c5e081b78c43",
   "metadata": {},
   "source": [
    "#### Problem 5\n",
    "\n",
    "You are given the following list of (word, count) tuples:\n",
    "\n",
    "<pre>\n",
    "count = [('hello', 56), ('the', 389), ('name', 23), ('my', 45), ('wonderful', 12)]\n",
    "</pre>\n",
    "\n",
    "1. Sort the list on the basis of descending order of counts.\n",
    "2. Sort the list on the basis of length of the words."
   ]
  },
  {
   "cell_type": "code",
   "execution_count": 85,
   "id": "00cef689-f5f4-4bdb-9e04-f43395978963",
   "metadata": {},
   "outputs": [],
   "source": [
    "count = [('hello', 56), ('the', 389), ('name', 23), ('my', 45), ('wonderful', 12)]"
   ]
  },
  {
   "cell_type": "code",
   "execution_count": 86,
   "id": "d78c965c-1525-477a-a883-abad43ff368c",
   "metadata": {},
   "outputs": [
    {
     "name": "stdout",
     "output_type": "stream",
     "text": [
      "[('the', 389), ('hello', 56), ('my', 45), ('name', 23), ('wonderful', 12)]\n"
     ]
    }
   ],
   "source": [
    "sort_by_count = sorted(count, key = lambda x: x[1], reverse = True) \n",
    "print(sort_by_count)"
   ]
  },
  {
   "cell_type": "code",
   "execution_count": 89,
   "id": "65a706c4-10f6-4e9c-a2ae-a6fa64f78cf3",
   "metadata": {},
   "outputs": [],
   "source": [
    "sort_by_length = sorted(count, key = lambda x: len(x[0]))"
   ]
  },
  {
   "cell_type": "code",
   "execution_count": 90,
   "id": "7fe8d5c6-5494-4d25-8cc0-d223698cca80",
   "metadata": {},
   "outputs": [
    {
     "name": "stdout",
     "output_type": "stream",
     "text": [
      "[('my', 45), ('the', 389), ('name', 23), ('hello', 56), ('wonderful', 12)]\n"
     ]
    }
   ],
   "source": [
    "print(sort_by_length)"
   ]
  },
  {
   "cell_type": "code",
   "execution_count": null,
   "id": "4564827d-d1be-422e-8b12-e712d7a730c5",
   "metadata": {},
   "outputs": [],
   "source": []
  }
 ],
 "metadata": {
  "kernelspec": {
   "display_name": "Python 3 (ipykernel)",
   "language": "python",
   "name": "python3"
  },
  "language_info": {
   "codemirror_mode": {
    "name": "ipython",
    "version": 3
   },
   "file_extension": ".py",
   "mimetype": "text/x-python",
   "name": "python",
   "nbconvert_exporter": "python",
   "pygments_lexer": "ipython3",
   "version": "3.9.7"
  }
 },
 "nbformat": 4,
 "nbformat_minor": 5
}
