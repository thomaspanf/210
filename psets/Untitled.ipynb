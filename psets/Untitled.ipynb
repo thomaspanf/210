{
 "cells": [
  {
   "cell_type": "code",
   "execution_count": 16,
   "id": "014b7c94-1da7-4d98-8cb3-7ba5db106bea",
   "metadata": {},
   "outputs": [],
   "source": [
    "import csv\n",
    "import json\n",
    "import numpy as np\n",
    "import re"
   ]
  },
  {
   "cell_type": "markdown",
   "id": "5da425f3-ba4c-4509-9de5-d063576b15c9",
   "metadata": {},
   "source": [
    "\n",
    "A NumPy array named scores has rows for quizzes, and columns for students, and each column lists a student's scores on all quizzes. (Column 1 has quiz scores for Student 1, Column 2 has quiz scores for Student 2, etc.) Extract, into a result NumPy array, all columns for which the total score on all quizzes is greater than or equal to the mean of all student quiz score totals. For instance if there are 4 students whose quiz scores total to 54, 36, 63, and 87, then the mean of the totals is 60, and the extracted columns are the ones with totals of 63 and 87.\n",
    "\n"
   ]
  },
  {
   "cell_type": "code",
   "execution_count": 28,
   "id": "2dcd2a9d-52db-40fc-ad0b-20eb6712d156",
   "metadata": {},
   "outputs": [
    {
     "name": "stdout",
     "output_type": "stream",
     "text": [
      "[[12 11 20 21]\n",
      " [10 20 12 23]\n",
      " [12 10 16 20]\n",
      " [54 36 63 87]]\n"
     ]
    }
   ],
   "source": [
    "scores = np.array([[12, 11, 20, 21],\n",
    "                   [10, 20, 12, 23],\n",
    "                   [12, 10, 16, 20],\n",
    "                   [54, 36, 63, 87]])\n",
    "print(scores)"
   ]
  },
  {
   "cell_type": "code",
   "execution_count": 159,
   "id": "ce4e9652-c029-4073-935c-988bb3bc037c",
   "metadata": {},
   "outputs": [
    {
     "name": "stdout",
     "output_type": "stream",
     "text": [
      "[[20 21]\n",
      " [12 23]\n",
      " [16 20]\n",
      " [63 87]]\n"
     ]
    }
   ],
   "source": [
    "result = scores[:,np.sum(scores,axis=0)>np.mean(np.sum(scores,axis=0))]\n",
    "\n",
    "print(result)"
   ]
  },
  {
   "cell_type": "code",
   "execution_count": 157,
   "id": "b71a934d-d913-480b-90a7-58df39a4f6c1",
   "metadata": {},
   "outputs": [],
   "source": [
    "var = 'asdfSDF34_'"
   ]
  },
  {
   "cell_type": "code",
   "execution_count": 26,
   "id": "2f282024-68f2-4ab3-8064-c16228a4f5a1",
   "metadata": {},
   "outputs": [],
   "source": [
    "regex = '[a-zA-Z][a-zA-Z0-9_]*'"
   ]
  },
  {
   "cell_type": "code",
   "execution_count": 128,
   "id": "e071d4e7-aeb5-4c12-90c0-84caa9073482",
   "metadata": {},
   "outputs": [
    {
     "data": {
      "text/plain": [
       "<re.Match object; span=(0, 10), match='asdfSDF34_'>"
      ]
     },
     "execution_count": 137,
     "metadata": {},
     "output_type": "execute_result"
    }
   ],
   "source": [
    "re.match(regex, var)"
   ]
  },
  {
   "cell_type": "code",
   "execution_count": 153,
   "id": "fdada429-0367-4842-99aa-bcd4e57a4323",
   "metadata": {
    "tags": []
   },
   "outputs": [
    {
     "name": "stdout",
     "output_type": "stream",
     "text": [
      "[[ 0  1  3  4]\n",
      " [ 6  8  1  8]\n",
      " [ 1  1  8 10]]\n"
     ]
    }
   ],
   "source": [
    "arr = np.array([[0,1,3,4],\n",
    "                [6,8,1,8],\n",
    "                [1,1,8,10]\n",
    "               ])\n",
    "print(arr)\n",
    "\n",
    "def swap(arr):\n",
    "    \n",
    "    smallest2 = np.sort(arr[0])\n",
    "    smallest2 = smallest2[:2]\n",
    "    biggest2 = np.sort(arr[-1])\n",
    "    biggest2 = biggest2[2:]\n",
    "    \n",
    "    res = np.where(arr==smallest2[0],biggest2[1], arr)\n",
    "    res = np.where(arr==smallest2[1],biggest2[0], res)\n",
    "    res = np.where(arr==biggest2[1],smallest2[0], res)\n",
    "    res = np.where(arr==biggest2[0],smallest2[1], res)\n",
    "\n",
    "    return res"
   ]
  },
  {
   "cell_type": "code",
   "execution_count": 154,
   "id": "83ad6af0-a24d-46c9-a4a9-91b3532d27e4",
   "metadata": {},
   "outputs": [
    {
     "data": {
      "text/plain": [
       "array([[10,  8,  3,  4],\n",
       "       [ 6,  1,  8,  1],\n",
       "       [ 8,  8,  1,  0]])"
      ]
     },
     "execution_count": 154,
     "metadata": {},
     "output_type": "execute_result"
    }
   ],
   "source": [
    "swap(arr)"
   ]
  },
  {
   "cell_type": "code",
   "execution_count": null,
   "id": "35079487-59ae-46df-9a8c-7600f777778e",
   "metadata": {},
   "outputs": [],
   "source": []
  },
  {
   "cell_type": "code",
   "execution_count": null,
   "id": "321fc971-1f1e-4610-86f7-6aab910c5a5e",
   "metadata": {},
   "outputs": [],
   "source": []
  },
  {
   "cell_type": "code",
   "execution_count": null,
   "id": "a36bfd11-ea50-4d31-87cb-6e1bbbf44a45",
   "metadata": {},
   "outputs": [],
   "source": []
  }
 ],
 "metadata": {
  "kernelspec": {
   "display_name": "Python 3 (ipykernel)",
   "language": "python",
   "name": "python3"
  },
  "language_info": {
   "codemirror_mode": {
    "name": "ipython",
    "version": 3
   },
   "file_extension": ".py",
   "mimetype": "text/x-python",
   "name": "python",
   "nbconvert_exporter": "python",
   "pygments_lexer": "ipython3",
   "version": "3.9.7"
  }
 },
 "nbformat": 4,
 "nbformat_minor": 5
}
