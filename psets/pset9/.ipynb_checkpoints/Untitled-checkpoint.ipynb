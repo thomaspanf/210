{
 "cells": [
  {
   "cell_type": "code",
   "execution_count": 1,
   "id": "79146e19-f518-4730-aef1-1d213265a21d",
   "metadata": {},
   "outputs": [],
   "source": [
    "import numpy as np\n",
    "import pandas as pd\n",
    "from pandas import Series\n",
    "from pandas import DataFrame"
   ]
  },
  {
   "cell_type": "code",
   "execution_count": 2,
   "id": "1e328d97-960d-4a1e-824e-a16e6944a9b2",
   "metadata": {},
   "outputs": [],
   "source": [
    "ser = Series({'A':25, 'B':31, 'C':26},name='scores')"
   ]
  },
  {
   "cell_type": "code",
   "execution_count": 3,
   "id": "d5b3b924-03e9-4d4e-8a63-804105f33beb",
   "metadata": {},
   "outputs": [
    {
     "name": "stdout",
     "output_type": "stream",
     "text": [
      "A    25\n",
      "B    31\n",
      "C    26\n",
      "Name: scores, dtype: int64\n"
     ]
    }
   ],
   "source": [
    "print(ser)"
   ]
  },
  {
   "cell_type": "code",
   "execution_count": 5,
   "id": "b50a7cd3-f0c4-4acb-a753-a2e21fb839ef",
   "metadata": {},
   "outputs": [
    {
     "name": "stdout",
     "output_type": "stream",
     "text": [
      "  index  scores\n",
      "0     A      25\n",
      "1     B      31\n",
      "2     C      26\n"
     ]
    }
   ],
   "source": [
    "print(ser.reset_index())"
   ]
  },
  {
   "cell_type": "code",
   "execution_count": 17,
   "id": "0ffc9c91-8bdb-44f2-899b-76012ece08bb",
   "metadata": {},
   "outputs": [],
   "source": [
    "df = DataFrame(np.arange(0,10).reshape(5,2), index=['A','B','C','D','E'])"
   ]
  },
  {
   "cell_type": "code",
   "execution_count": 18,
   "id": "5c644eb3-242a-4026-908e-ffdd884f1da5",
   "metadata": {},
   "outputs": [
    {
     "name": "stdout",
     "output_type": "stream",
     "text": [
      "   0  1\n",
      "A  0  1\n",
      "B  2  3\n",
      "C  4  5\n",
      "D  6  7\n",
      "E  8  9\n"
     ]
    }
   ],
   "source": [
    "print(df)"
   ]
  },
  {
   "cell_type": "code",
   "execution_count": 21,
   "id": "049fd205-f6ae-4877-9e66-77cbd6a15c7c",
   "metadata": {},
   "outputs": [
    {
     "name": "stdout",
     "output_type": "stream",
     "text": [
      "   0  1\n",
      "A  1  2\n",
      "B  3  4\n",
      "C  5  6\n",
      "D  7  8\n"
     ]
    },
    {
     "data": {
      "text/plain": [
       "7"
      ]
     },
     "execution_count": 21,
     "metadata": {},
     "output_type": "execute_result"
    }
   ],
   "source": [
    "df = DataFrame(np.arange(1,9).reshape(4,2), index=['A','B','C','D'])\n",
    "print(df)\n",
    "df.loc['B':'D'][0].max()\n"
   ]
  },
  {
   "cell_type": "code",
   "execution_count": 23,
   "id": "dcc120b6-a09d-41be-850d-178e26f7d567",
   "metadata": {},
   "outputs": [
    {
     "name": "stdout",
     "output_type": "stream",
     "text": [
      "    0   1   2   3   4   5\n",
      "0   1   2   3   4   5   6\n",
      "1   7   8   9  10  11  12\n",
      "2  13  14  15  16  17  18\n",
      "3  19  20  21  22  23  24\n"
     ]
    }
   ],
   "source": [
    "df = DataFrame(np.arange(1,25).reshape(4,6))\n",
    "print(df)"
   ]
  },
  {
   "cell_type": "code",
   "execution_count": 24,
   "id": "33b789b3-644a-4752-91d7-d25959e46d68",
   "metadata": {},
   "outputs": [
    {
     "data": {
      "text/html": [
       "<div>\n",
       "<style scoped>\n",
       "    .dataframe tbody tr th:only-of-type {\n",
       "        vertical-align: middle;\n",
       "    }\n",
       "\n",
       "    .dataframe tbody tr th {\n",
       "        vertical-align: top;\n",
       "    }\n",
       "\n",
       "    .dataframe thead th {\n",
       "        text-align: right;\n",
       "    }\n",
       "</style>\n",
       "<table border=\"1\" class=\"dataframe\">\n",
       "  <thead>\n",
       "    <tr style=\"text-align: right;\">\n",
       "      <th></th>\n",
       "      <th>0</th>\n",
       "      <th>1</th>\n",
       "      <th>2</th>\n",
       "      <th>3</th>\n",
       "      <th>4</th>\n",
       "      <th>5</th>\n",
       "    </tr>\n",
       "  </thead>\n",
       "  <tbody>\n",
       "    <tr>\n",
       "      <th>1</th>\n",
       "      <td>7</td>\n",
       "      <td>8</td>\n",
       "      <td>9</td>\n",
       "      <td>10</td>\n",
       "      <td>11</td>\n",
       "      <td>12</td>\n",
       "    </tr>\n",
       "    <tr>\n",
       "      <th>2</th>\n",
       "      <td>13</td>\n",
       "      <td>14</td>\n",
       "      <td>15</td>\n",
       "      <td>16</td>\n",
       "      <td>17</td>\n",
       "      <td>18</td>\n",
       "    </tr>\n",
       "    <tr>\n",
       "      <th>3</th>\n",
       "      <td>19</td>\n",
       "      <td>20</td>\n",
       "      <td>21</td>\n",
       "      <td>22</td>\n",
       "      <td>23</td>\n",
       "      <td>24</td>\n",
       "    </tr>\n",
       "  </tbody>\n",
       "</table>\n",
       "</div>"
      ],
      "text/plain": [
       "    0   1   2   3   4   5\n",
       "1   7   8   9  10  11  12\n",
       "2  13  14  15  16  17  18\n",
       "3  19  20  21  22  23  24"
      ]
     },
     "execution_count": 24,
     "metadata": {},
     "output_type": "execute_result"
    }
   ],
   "source": [
    "df.iloc[1:]"
   ]
  },
  {
   "cell_type": "code",
   "execution_count": 25,
   "id": "caa80b62-9ddf-4d2c-84b9-632c1df90103",
   "metadata": {},
   "outputs": [
    {
     "data": {
      "text/html": [
       "<div>\n",
       "<style scoped>\n",
       "    .dataframe tbody tr th:only-of-type {\n",
       "        vertical-align: middle;\n",
       "    }\n",
       "\n",
       "    .dataframe tbody tr th {\n",
       "        vertical-align: top;\n",
       "    }\n",
       "\n",
       "    .dataframe thead th {\n",
       "        text-align: right;\n",
       "    }\n",
       "</style>\n",
       "<table border=\"1\" class=\"dataframe\">\n",
       "  <thead>\n",
       "    <tr style=\"text-align: right;\">\n",
       "      <th></th>\n",
       "      <th>0</th>\n",
       "      <th>1</th>\n",
       "      <th>2</th>\n",
       "      <th>3</th>\n",
       "      <th>4</th>\n",
       "      <th>5</th>\n",
       "    </tr>\n",
       "  </thead>\n",
       "  <tbody>\n",
       "    <tr>\n",
       "      <th>1</th>\n",
       "      <td>7</td>\n",
       "      <td>8</td>\n",
       "      <td>9</td>\n",
       "      <td>10</td>\n",
       "      <td>11</td>\n",
       "      <td>12</td>\n",
       "    </tr>\n",
       "    <tr>\n",
       "      <th>2</th>\n",
       "      <td>13</td>\n",
       "      <td>14</td>\n",
       "      <td>15</td>\n",
       "      <td>16</td>\n",
       "      <td>17</td>\n",
       "      <td>18</td>\n",
       "    </tr>\n",
       "    <tr>\n",
       "      <th>3</th>\n",
       "      <td>19</td>\n",
       "      <td>20</td>\n",
       "      <td>21</td>\n",
       "      <td>22</td>\n",
       "      <td>23</td>\n",
       "      <td>24</td>\n",
       "    </tr>\n",
       "  </tbody>\n",
       "</table>\n",
       "</div>"
      ],
      "text/plain": [
       "    0   1   2   3   4   5\n",
       "1   7   8   9  10  11  12\n",
       "2  13  14  15  16  17  18\n",
       "3  19  20  21  22  23  24"
      ]
     },
     "execution_count": 25,
     "metadata": {},
     "output_type": "execute_result"
    }
   ],
   "source": [
    "df.loc[[1,2,3]]"
   ]
  },
  {
   "cell_type": "code",
   "execution_count": 26,
   "id": "cc3ebe97-eb0f-49fd-bed3-ac2bc48570c7",
   "metadata": {},
   "outputs": [
    {
     "data": {
      "text/html": [
       "<div>\n",
       "<style scoped>\n",
       "    .dataframe tbody tr th:only-of-type {\n",
       "        vertical-align: middle;\n",
       "    }\n",
       "\n",
       "    .dataframe tbody tr th {\n",
       "        vertical-align: top;\n",
       "    }\n",
       "\n",
       "    .dataframe thead th {\n",
       "        text-align: right;\n",
       "    }\n",
       "</style>\n",
       "<table border=\"1\" class=\"dataframe\">\n",
       "  <thead>\n",
       "    <tr style=\"text-align: right;\">\n",
       "      <th></th>\n",
       "      <th>0</th>\n",
       "      <th>1</th>\n",
       "      <th>2</th>\n",
       "      <th>3</th>\n",
       "      <th>4</th>\n",
       "      <th>5</th>\n",
       "    </tr>\n",
       "  </thead>\n",
       "  <tbody>\n",
       "    <tr>\n",
       "      <th>1</th>\n",
       "      <td>7</td>\n",
       "      <td>8</td>\n",
       "      <td>9</td>\n",
       "      <td>10</td>\n",
       "      <td>11</td>\n",
       "      <td>12</td>\n",
       "    </tr>\n",
       "    <tr>\n",
       "      <th>2</th>\n",
       "      <td>13</td>\n",
       "      <td>14</td>\n",
       "      <td>15</td>\n",
       "      <td>16</td>\n",
       "      <td>17</td>\n",
       "      <td>18</td>\n",
       "    </tr>\n",
       "    <tr>\n",
       "      <th>3</th>\n",
       "      <td>19</td>\n",
       "      <td>20</td>\n",
       "      <td>21</td>\n",
       "      <td>22</td>\n",
       "      <td>23</td>\n",
       "      <td>24</td>\n",
       "    </tr>\n",
       "  </tbody>\n",
       "</table>\n",
       "</div>"
      ],
      "text/plain": [
       "    0   1   2   3   4   5\n",
       "1   7   8   9  10  11  12\n",
       "2  13  14  15  16  17  18\n",
       "3  19  20  21  22  23  24"
      ]
     },
     "execution_count": 26,
     "metadata": {},
     "output_type": "execute_result"
    }
   ],
   "source": [
    "df.loc[1:3]"
   ]
  },
  {
   "cell_type": "code",
   "execution_count": 27,
   "id": "3732abaf-f8f4-4cee-a9f9-75a2a70b7fd2",
   "metadata": {},
   "outputs": [],
   "source": [
    "data = DataFrame({\n",
    "   'id':[1,2,3,4,5],\n",
    "   'Name': ['Alex', 'Amy', 'Allen', 'Alice', 'Abby'],\n",
    "   'subject_id':['sub1','sub2','sub3','sub4','sub5']\n",
    "})"
   ]
  },
  {
   "cell_type": "code",
   "execution_count": 28,
   "id": "fddd359d-91a0-4f7d-a9ea-9a136fb02a50",
   "metadata": {},
   "outputs": [
    {
     "name": "stdout",
     "output_type": "stream",
     "text": [
      "   id   Name subject_id\n",
      "0   1   Alex       sub1\n",
      "1   2    Amy       sub2\n",
      "2   3  Allen       sub3\n",
      "3   4  Alice       sub4\n",
      "4   5   Abby       sub5\n"
     ]
    }
   ],
   "source": [
    "print(data)"
   ]
  },
  {
   "cell_type": "code",
   "execution_count": 37,
   "id": "b2279ecd-f504-4bc4-bb8e-93cfc4bc8b32",
   "metadata": {},
   "outputs": [
    {
     "data": {
      "text/plain": [
       "'Allen'"
      ]
     },
     "execution_count": 37,
     "metadata": {},
     "output_type": "execute_result"
    }
   ],
   "source": [
    "data.T[1:3][2][0]"
   ]
  },
  {
   "cell_type": "code",
   "execution_count": 56,
   "id": "59d4ca1d-2035-4ed8-8b16-cf5b4bb9156d",
   "metadata": {},
   "outputs": [
    {
     "data": {
      "text/html": [
       "<div>\n",
       "<style scoped>\n",
       "    .dataframe tbody tr th:only-of-type {\n",
       "        vertical-align: middle;\n",
       "    }\n",
       "\n",
       "    .dataframe tbody tr th {\n",
       "        vertical-align: top;\n",
       "    }\n",
       "\n",
       "    .dataframe thead th {\n",
       "        text-align: right;\n",
       "    }\n",
       "</style>\n",
       "<table border=\"1\" class=\"dataframe\">\n",
       "  <thead>\n",
       "    <tr style=\"text-align: right;\">\n",
       "      <th></th>\n",
       "      <th>Univ</th>\n",
       "      <th>IVY</th>\n",
       "    </tr>\n",
       "  </thead>\n",
       "  <tbody>\n",
       "    <tr>\n",
       "      <th>0</th>\n",
       "      <td>USC</td>\n",
       "      <td>No</td>\n",
       "    </tr>\n",
       "    <tr>\n",
       "      <th>1</th>\n",
       "      <td>Yale</td>\n",
       "      <td>NaN</td>\n",
       "    </tr>\n",
       "    <tr>\n",
       "      <th>2</th>\n",
       "      <td>Harvard</td>\n",
       "      <td>Yes</td>\n",
       "    </tr>\n",
       "    <tr>\n",
       "      <th>3</th>\n",
       "      <td>UCLA</td>\n",
       "      <td>NaN</td>\n",
       "    </tr>\n",
       "    <tr>\n",
       "      <th>4</th>\n",
       "      <td>NCSU</td>\n",
       "      <td>No</td>\n",
       "    </tr>\n",
       "    <tr>\n",
       "      <th>5</th>\n",
       "      <td>NYU</td>\n",
       "      <td>NaN</td>\n",
       "    </tr>\n",
       "  </tbody>\n",
       "</table>\n",
       "</div>"
      ],
      "text/plain": [
       "      Univ  IVY\n",
       "0      USC   No\n",
       "1     Yale  NaN\n",
       "2  Harvard  Yes\n",
       "3     UCLA  NaN\n",
       "4     NCSU   No\n",
       "5      NYU  NaN"
      ]
     },
     "execution_count": 56,
     "metadata": {},
     "output_type": "execute_result"
    }
   ],
   "source": [
    "data = pd.DataFrame({'Univ':['USC', 'Yale', 'Harvard', 'UCLA', 'NCSU', 'NYU'],\n",
    "                     'IVY':['No', np.nan, 'Yes', np.nan, 'No', np.nan]})\n",
    "data"
   ]
  },
  {
   "cell_type": "code",
   "execution_count": 57,
   "id": "2974340d-b30a-4dca-8544-93f2c470019b",
   "metadata": {},
   "outputs": [
    {
     "data": {
      "text/html": [
       "<div>\n",
       "<style scoped>\n",
       "    .dataframe tbody tr th:only-of-type {\n",
       "        vertical-align: middle;\n",
       "    }\n",
       "\n",
       "    .dataframe tbody tr th {\n",
       "        vertical-align: top;\n",
       "    }\n",
       "\n",
       "    .dataframe thead th {\n",
       "        text-align: right;\n",
       "    }\n",
       "</style>\n",
       "<table border=\"1\" class=\"dataframe\">\n",
       "  <thead>\n",
       "    <tr style=\"text-align: right;\">\n",
       "      <th></th>\n",
       "      <th>Univ</th>\n",
       "      <th>IVY</th>\n",
       "    </tr>\n",
       "  </thead>\n",
       "  <tbody>\n",
       "    <tr>\n",
       "      <th>0</th>\n",
       "      <td>USC</td>\n",
       "      <td>No</td>\n",
       "    </tr>\n",
       "    <tr>\n",
       "      <th>1</th>\n",
       "      <td>Yale</td>\n",
       "      <td>Yes</td>\n",
       "    </tr>\n",
       "    <tr>\n",
       "      <th>2</th>\n",
       "      <td>Harvard</td>\n",
       "      <td>Yes</td>\n",
       "    </tr>\n",
       "    <tr>\n",
       "      <th>3</th>\n",
       "      <td>UCLA</td>\n",
       "      <td>NaN</td>\n",
       "    </tr>\n",
       "    <tr>\n",
       "      <th>4</th>\n",
       "      <td>NCSU</td>\n",
       "      <td>No</td>\n",
       "    </tr>\n",
       "    <tr>\n",
       "      <th>5</th>\n",
       "      <td>NYU</td>\n",
       "      <td>No</td>\n",
       "    </tr>\n",
       "  </tbody>\n",
       "</table>\n",
       "</div>"
      ],
      "text/plain": [
       "      Univ  IVY\n",
       "0      USC   No\n",
       "1     Yale  Yes\n",
       "2  Harvard  Yes\n",
       "3     UCLA  NaN\n",
       "4     NCSU   No\n",
       "5      NYU   No"
      ]
     },
     "execution_count": 57,
     "metadata": {},
     "output_type": "execute_result"
    }
   ],
   "source": [
    "data.loc[data['Univ'] == 'Yale','IVY'] = 'Yes'\n",
    "data.loc[data['Univ'] == 'NYU','IVY'] = 'No'\n",
    "data"
   ]
  },
  {
   "cell_type": "code",
   "execution_count": 71,
   "id": "489c2992-c91e-4312-bab0-a635ff0f212a",
   "metadata": {},
   "outputs": [
    {
     "data": {
      "text/plain": [
       "0     NaN\n",
       "1     1.0\n",
       "2     7.0\n",
       "3     NaN\n",
       "4     8.0\n",
       "5     4.0\n",
       "6     2.0\n",
       "7     1.0\n",
       "8     3.0\n",
       "9     3.0\n",
       "10    1.0\n",
       "11    NaN\n",
       "12    4.0\n",
       "13    8.0\n",
       "14    6.0\n",
       "15    8.0\n",
       "16    6.0\n",
       "17    6.0\n",
       "18    2.0\n",
       "19    NaN\n",
       "dtype: float64"
      ]
     },
     "execution_count": 71,
     "metadata": {},
     "output_type": "execute_result"
    }
   ],
   "source": [
    "from numpy import nan as NA\n",
    "nums = pd.Series(np.random.randint(1, 10, 20))\n",
    "for i in range(5):\n",
    "    nums[np.random.randint(0, 20, 1)] = NA\n",
    "nums"
   ]
  },
  {
   "cell_type": "code",
   "execution_count": 76,
   "id": "a57f818c-4da1-4671-b5da-3a3878ee4402",
   "metadata": {},
   "outputs": [
    {
     "name": "stdout",
     "output_type": "stream",
     "text": [
      "0     4.0\n",
      "1     1.0\n",
      "2     7.0\n",
      "3     4.0\n",
      "4     8.0\n",
      "5     4.0\n",
      "6     2.0\n",
      "7     1.0\n",
      "8     3.0\n",
      "9     3.0\n",
      "10    1.0\n",
      "11    4.0\n",
      "12    4.0\n",
      "13    8.0\n",
      "14    6.0\n",
      "15    8.0\n",
      "16    6.0\n",
      "17    6.0\n",
      "18    2.0\n",
      "19    4.0\n",
      "dtype: float64\n",
      "8     3.0\n",
      "9     3.0\n",
      "14    6.0\n",
      "16    6.0\n",
      "17    6.0\n",
      "dtype: float64\n"
     ]
    }
   ],
   "source": [
    "nums[nums.isnull()] = round(nums.mean())\n",
    "print(nums)\n",
    "res_nums = nums[nums%3 == 0]\n",
    "print(res_nums)"
   ]
  },
  {
   "cell_type": "code",
   "execution_count": 78,
   "id": "f68bdb9a-948b-4959-82ea-d0cea6440581",
   "metadata": {},
   "outputs": [
    {
     "data": {
      "text/plain": [
       "0     1\n",
       "1     5\n",
       "2     4\n",
       "3     5\n",
       "4     5\n",
       "5     3\n",
       "6     1\n",
       "7     2\n",
       "8     4\n",
       "9     5\n",
       "10    3\n",
       "11    3\n",
       "dtype: int32"
      ]
     },
     "execution_count": 78,
     "metadata": {},
     "output_type": "execute_result"
    }
   ],
   "source": [
    "ser = pd.Series(np.random.randint(1, 6, [12]))\n",
    "ser"
   ]
  },
  {
   "cell_type": "code",
   "execution_count": 79,
   "id": "96f4fede-4ff5-49d0-9fcb-ab0be0e228ea",
   "metadata": {},
   "outputs": [
    {
     "name": "stdout",
     "output_type": "stream",
     "text": [
      "0     3\n",
      "1     2\n",
      "2     4\n",
      "3     5\n",
      "4     1\n",
      "5     1\n",
      "6     2\n",
      "7     3\n",
      "8     5\n",
      "9     2\n",
      "10    1\n",
      "11    1\n",
      "dtype: int32 \n",
      "\n",
      "Top 2 Freq:\n",
      " 1    4\n",
      "2    3\n",
      "dtype: int64 \n",
      "\n",
      "0     Other\n",
      "1         2\n",
      "2     Other\n",
      "3     Other\n",
      "4         1\n",
      "5         1\n",
      "6         2\n",
      "7     Other\n",
      "8     Other\n",
      "9         2\n",
      "10        1\n",
      "11        1\n",
      "dtype: object\n"
     ]
    }
   ],
   "source": [
    "ser = pd.Series(np.random.randint(1, 6, [12]))\n",
    "print(ser,'\\n')\n",
    "\n",
    "# compute the value counts and get top 2 (most frequent)\n",
    "top2freq = ser.value_counts()[:2]\n",
    "print('Top 2 Freq:\\n', top2freq,'\\n')\n",
    "\n",
    "# check for membership of value in index of top 2 frequent values\n",
    "# negate it for assigning to other\n",
    "ser[~ser.isin(ser.value_counts().index[:2])] = 'Other'\n",
    "print(ser)"
   ]
  },
  {
   "cell_type": "code",
   "execution_count": 82,
   "id": "eff2cbe2-55f2-412f-83d7-e0f778453242",
   "metadata": {},
   "outputs": [
    {
     "data": {
      "text/plain": [
       "0               how\n",
       "1         to easily\n",
       "2             learn\n",
       "3    spoken spanish\n",
       "dtype: object"
      ]
     },
     "execution_count": 82,
     "metadata": {},
     "output_type": "execute_result"
    }
   ],
   "source": [
    "ser = pd.Series(['how', 'to easily', 'learn', 'spoken spanish'])\n",
    "ser"
   ]
  },
  {
   "cell_type": "code",
   "execution_count": 81,
   "id": "69924115-2058-4b0e-a622-8a3803b4cb0f",
   "metadata": {},
   "outputs": [],
   "source": [
    "ser = pd.Series(['how', 'to easily', 'learn', 'spoken spanish'])\n",
    "\n",
    "# Option 1 (using title)\n",
    "ser.map(lambda x: x.title())\n",
    "\n",
    "# Option 2 -> without using title \n",
    "def titleit(x):\n",
    "    str=''\n",
    "    for w in x.split():\n",
    "        str += ' ' + w[0].upper() + w[1:].lower()\n",
    "    return str\n",
    "\n",
    "ser.map(titleit)\n",
    "\n",
    "# Option 3 -> without using map\n",
    "pd.Series([i.title() for i in ser])"
   ]
  },
  {
   "cell_type": "code",
   "execution_count": null,
   "id": "1a213c1b-9d27-4d65-909b-cbb8ece57780",
   "metadata": {},
   "outputs": [],
   "source": []
  }
 ],
 "metadata": {
  "kernelspec": {
   "display_name": "Python 3 (ipykernel)",
   "language": "python",
   "name": "python3"
  },
  "language_info": {
   "codemirror_mode": {
    "name": "ipython",
    "version": 3
   },
   "file_extension": ".py",
   "mimetype": "text/x-python",
   "name": "python",
   "nbconvert_exporter": "python",
   "pygments_lexer": "ipython3",
   "version": "3.9.7"
  }
 },
 "nbformat": 4,
 "nbformat_minor": 5
}
