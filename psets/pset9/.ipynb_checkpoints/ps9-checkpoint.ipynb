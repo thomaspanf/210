{
 "cells": [
  {
   "cell_type": "markdown",
   "metadata": {},
   "source": [
    "### <font color=\"brown\">Problem Set 9: Pandas</font>"
   ]
  },
  {
   "cell_type": "code",
   "execution_count": 19,
   "metadata": {},
   "outputs": [],
   "source": [
    "import numpy as np\n",
    "import pandas as pd\n",
    "from pandas import Series\n",
    "from pandas import DataFrame"
   ]
  },
  {
   "cell_type": "markdown",
   "metadata": {},
   "source": [
    "---"
   ]
  },
  {
   "cell_type": "markdown",
   "metadata": {
    "id": "E7KyJP-pw2nb"
   },
   "source": [
    "#### Problem 1: \n",
    "\n",
    "**Series and DataFrame - Short Answer Questions**"
   ]
  },
  {
   "cell_type": "markdown",
   "metadata": {},
   "source": [
    "**1. What does the following code print?**\n",
    "\n",
    "<pre>\n",
    "ser = Series({'A':25, 'B':31, 'C':26},name='scores')\n",
    "print(ser.reset_index().scores[1])\n",
    "</pre>"
   ]
  },
  {
   "cell_type": "markdown",
   "metadata": {},
   "source": [
    "**---------------------------------------------------------------**"
   ]
  },
  {
   "cell_type": "markdown",
   "metadata": {},
   "source": [
    "**2. What does the following code print?**\n",
    "\n",
    "<pre>\n",
    "df = DataFrame(np.arange(1,9).reshape(4,2), index=['A','B','C','D'])\n",
    "df.loc['B':'D'][0].max()\n",
    "</pre>"
   ]
  },
  {
   "cell_type": "markdown",
   "metadata": {},
   "source": [
    "**---------------------------------------------------------------**"
   ]
  },
  {
   "cell_type": "markdown",
   "metadata": {},
   "source": [
    "**3. Write 3 different ways to extract the last 3 rows of the following DataFrame**\n",
    "\n",
    "<pre>\n",
    "df = DataFrame(np.arange(1,25).reshape(4,6))\n",
    "</pre>\n"
   ]
  },
  {
   "cell_type": "markdown",
   "metadata": {},
   "source": [
    "**---------------------------------------------------------------**"
   ]
  },
  {
   "cell_type": "markdown",
   "metadata": {},
   "source": [
    "**4. What is the result of the following?**\n",
    "\n",
    "<pre>\n",
    "data = DataFrame({\n",
    "   'id':[1,2,3,4,5],\n",
    "   'Name': ['Alex', 'Amy', 'Allen', 'Alice', 'Abby'],\n",
    "   'subject_id':['sub1','sub2','sub3','sub4','sub5']})\n",
    "\n",
    "data.T[1:3][2][0]\n",
    "</pre>\n"
   ]
  },
  {
   "cell_type": "markdown",
   "metadata": {},
   "source": [
    "**---------------------------------------------------------------**"
   ]
  },
  {
   "cell_type": "markdown",
   "metadata": {},
   "source": [
    "**5. For the dataframe given below which of the which of the following will make Yale an IVY, and NYU not an IVY, by setting the respective NaNs to 'Yes' and 'No'?:**\n",
    "\n",
    "1. data['IVY'] = data['IVY'].fillna(method='bfill')\n",
    "2. data['IVY'] = data['IVY'].fillna(method='ffill')\n",
    "3. data['IVY'] = data['IVY'].fillna('Yes')\n",
    "4. None of the above\n",
    "\n",
    "<pre>\n",
    "data = pd.DataFrame({'Univ':['USC', 'Yale', 'Harvard', 'UCLA', 'NCSU', 'NYU'],\n",
    "                     'IVY':['No', np.nan, 'Yes', np.nan, 'No', np.nan]})\n",
    "</pre>"
   ]
  },
  {
   "cell_type": "markdown",
   "metadata": {},
   "source": [
    "---"
   ]
  },
  {
   "cell_type": "markdown",
   "metadata": {},
   "source": [
    "#### Problem 2"
   ]
  },
  {
   "cell_type": "markdown",
   "metadata": {},
   "source": [
    "For the sub problem #5 above, write code that will give the desired result"
   ]
  },
  {
   "cell_type": "markdown",
   "metadata": {},
   "source": [
    "---"
   ]
  },
  {
   "cell_type": "markdown",
   "metadata": {
    "id": "HxpZ5nIjeCgG"
   },
   "source": [
    "#### Problem 3\n",
    "Execute the code below to get a series called nums. <br>\n",
    "Fill in the missing values (NaN) by the rounded off mean value of the series and get a subset of the series where the numbers are divisible by 3."
   ]
  },
  {
   "cell_type": "code",
   "execution_count": 22,
   "metadata": {
    "executionInfo": {
     "elapsed": 2436,
     "status": "ok",
     "timestamp": 1611853652488,
     "user": {
      "displayName": "PRAKRUTI JOSHI",
      "photoUrl": "",
      "userId": "13509940654676308883"
     },
     "user_tz": -330
    },
    "id": "U2r0GZ3fTCJy"
   },
   "outputs": [],
   "source": [
    "from numpy import nan as NA\n",
    "nums = pd.Series(np.random.randint(1, 10, 20))\n",
    "for i in range(5):\n",
    "    nums[np.random.randint(0, 20, 1)] = NA"
   ]
  },
  {
   "cell_type": "markdown",
   "metadata": {},
   "source": [
    "---"
   ]
  },
  {
   "cell_type": "markdown",
   "metadata": {
    "id": "ikfVXtSGa0wI"
   },
   "source": [
    "#### Problem 4\n",
    "\n",
    "Given the following series, keep only top 2 most frequent values as is, and replace everything else with 'Other'\n",
    "\n",
    "<pre>\n",
    "  ser = pd.Series(np.random.randint(1, 6, [12]))\n",
    "</pre>\n",
    "\n",
    "Hint: Use Series method <tt>isin</tt>"
   ]
  },
  {
   "cell_type": "markdown",
   "metadata": {},
   "source": [
    "---"
   ]
  },
  {
   "cell_type": "markdown",
   "metadata": {
    "id": "ikfVXtSGa0wI"
   },
   "source": [
    "#### Problem 5\n",
    "\n",
    "In the following Series, convert the first character of each word to uppercase. (Hint: the title() method of String converts the first letter of each word to uppercase, and all others to lowercase. Also try without using the title() method)\n",
    "\n",
    "<pre>\n",
    "   ser = pd.Series(['how', 'to easily', 'learn', 'spoken spanish'])\n",
    "</pre>\n"
   ]
  },
  {
   "cell_type": "markdown",
   "metadata": {},
   "source": [
    "---"
   ]
  },
  {
   "cell_type": "markdown",
   "metadata": {
    "id": "ikfVXtSGa0wI"
   },
   "source": [
    "#### Problem 6\n",
    "\n",
    "Write code to pick words in a Series that contain at least 2 vowels."
   ]
  },
  {
   "cell_type": "markdown",
   "metadata": {},
   "source": [
    "---"
   ]
  },
  {
   "cell_type": "markdown",
   "metadata": {},
   "source": [
    "#### Problem 7\n",
    "\n",
    "Write a generic function to switch the columns of a dataframe. (Take column names as input to function)"
   ]
  }
 ],
 "metadata": {
  "kernelspec": {
   "display_name": "Python 3",
   "language": "python",
   "name": "python3"
  },
  "language_info": {
   "codemirror_mode": {
    "name": "ipython",
    "version": 3
   },
   "file_extension": ".py",
   "mimetype": "text/x-python",
   "name": "python",
   "nbconvert_exporter": "python",
   "pygments_lexer": "ipython3",
   "version": "3.7.6"
  }
 },
 "nbformat": 4,
 "nbformat_minor": 4
}
