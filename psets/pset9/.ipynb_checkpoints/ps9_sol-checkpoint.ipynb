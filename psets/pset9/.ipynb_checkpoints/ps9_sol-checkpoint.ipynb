{
 "cells": [
  {
   "cell_type": "markdown",
   "metadata": {},
   "source": [
    "### <font color=\"brown\">Problem Set 9: Pandas - Solution</font>"
   ]
  },
  {
   "cell_type": "code",
   "execution_count": 19,
   "metadata": {},
   "outputs": [],
   "source": [
    "import numpy as np\n",
    "import pandas as pd\n",
    "from pandas import Series\n",
    "from pandas import DataFrame"
   ]
  },
  {
   "cell_type": "markdown",
   "metadata": {},
   "source": [
    "---"
   ]
  },
  {
   "cell_type": "markdown",
   "metadata": {
    "id": "E7KyJP-pw2nb"
   },
   "source": [
    "#### Problem 1: \n",
    "\n",
    "**Series and DataFrame - Short Answer Questions**"
   ]
  },
  {
   "cell_type": "markdown",
   "metadata": {},
   "source": [
    "**1. What does the following code print?**\n",
    "\n",
    "<pre>\n",
    "ser = Series({'A':25, 'B':31, 'C':26},name='scores')\n",
    "print(ser.reset_index().scores[1])\n",
    "</pre>"
   ]
  },
  {
   "cell_type": "markdown",
   "metadata": {},
   "source": [
    "**Solution**\n",
    "\n",
    "Resetting the index converts the series into a dataframe with the columns\n",
    "'index' and 'scores'. <br>The scores column is the original values in the series,\n",
    "so .scores[1] accesses the 2nd value in the column, which is 31."
   ]
  },
  {
   "cell_type": "markdown",
   "metadata": {},
   "source": [
    "**---------------------------------------------------------------**"
   ]
  },
  {
   "cell_type": "markdown",
   "metadata": {},
   "source": [
    "**2. What does the following code print?**\n",
    "\n",
    "<pre>\n",
    "df = DataFrame(np.arange(1,9).reshape(4,2), index=['A','B','C','D'])\n",
    "df.loc['B':'D'][0].max()\n",
    "</pre>\n",
    "\n",
    "**Solution**\n",
    "\n",
    "It prints 7.<br>\n",
    "Rows indexed B,C,D are retrived with loc, of which the first column\n",
    "is accessed with [0], for values [5,6,7] whose max is 7."
   ]
  },
  {
   "cell_type": "markdown",
   "metadata": {},
   "source": [
    "**---------------------------------------------------------------**"
   ]
  },
  {
   "cell_type": "markdown",
   "metadata": {},
   "source": [
    "**3. Write 3 different ways to extract the last 3 rows of the following DataFrame**\n",
    "\n",
    "<pre>\n",
    "df = DataFrame(np.arange(1,25).reshape(4,6))\n",
    "</pre>\n",
    "\n",
    "**Solution**\n",
    "1. Use iloc: <pre>df.iloc[1:]</pre>\n",
    "2. Use loc, with explicit list of row indexes: <pre>df.loc[[1,2,3]]</pre>\n",
    "3. Use loc, with slice of row indices: <pre>df.loc[1:3]</pre>"
   ]
  },
  {
   "cell_type": "markdown",
   "metadata": {},
   "source": [
    "**---------------------------------------------------------------**"
   ]
  },
  {
   "cell_type": "markdown",
   "metadata": {},
   "source": [
    "**4. What is the result of the following?**\n",
    "\n",
    "<pre>\n",
    "data = DataFrame({\n",
    "   'id':[1,2,3,4,5],\n",
    "   'Name': ['Alex', 'Amy', 'Allen', 'Alice', 'Abby'],\n",
    "   'subject_id':['sub1','sub2','sub3','sub4','sub5']})\n",
    "\n",
    "data.T[1:3][2][0]\n",
    "</pre>\n",
    "\n",
    "**Solution**\n",
    "\n",
    "The result is 'Allen'<br>\n",
    "data.T transposes the dataframe, so that id, Name, subject_id become the\n",
    "index, and their original dictionary values become the row values.<br>\n",
    "[1:3] on this gives the last two rows, for Name and subject_id.<br>\n",
    "[2] on this gives the third column (which has the values 'Allen' and'sub3') and\n",
    "[0] on this gives 'Allen'.\n",
    "\n",
    "<p>The indexing can become a little confusing. We are not using loc or iloc here, but directly doing [] into the dataframe. The obvious use of this is to access column. Try the following, and observe what works (and how),\n",
    "and what doesn't work:\n",
    "<pre>\n",
    "data.T[2]\n",
    "data.T[2,3]\n",
    "data.T[[2,3]]\n",
    "data.T[1:2]\n",
    "data.T.iloc[1:2]\n",
    "data.T[1:3,2]\n",
    "data.T.iloc[1:3,2]\n",
    "</pre>"
   ]
  },
  {
   "cell_type": "markdown",
   "metadata": {},
   "source": [
    "**---------------------------------------------------------------**"
   ]
  },
  {
   "cell_type": "markdown",
   "metadata": {},
   "source": [
    "**5. For the dataframe given below which of the which of the following will make Yale an IVY, and NYU not an IVY, by setting the respective NaNs to 'Yes' and 'No'?:**\n",
    "\n",
    "1. data['IVY'] = data['IVY'].fillna(method='bfill')\n",
    "2. data['IVY'] = data['IVY'].fillna(method='ffill')\n",
    "3. data['IVY'] = data['IVY'].fillna('Yes')\n",
    "4. None of the above\n",
    "\n",
    "<pre>\n",
    "data = pd.DataFrame({'Univ':['USC', 'Yale', 'Harvard', 'UCLA', 'NCSU', 'NYU'],\n",
    "                     'IVY':['No', np.nan, 'Yes', np.nan, 'No', np.nan]})\n",
    "</pre>"
   ]
  },
  {
   "cell_type": "markdown",
   "metadata": {},
   "source": [
    "**Solution**\n",
    "\n",
    "None of the above.\n",
    "1. 'bfill' won't change the last NaN (for NYU)\n",
    "2. 'ffill' will set Yale's NaN to 'No'\n",
    "3. 'Yes' will set both Yale and NYU to 'Yes'"
   ]
  },
  {
   "cell_type": "markdown",
   "metadata": {},
   "source": [
    "---"
   ]
  },
  {
   "cell_type": "markdown",
   "metadata": {},
   "source": [
    "#### Problem 2"
   ]
  },
  {
   "cell_type": "markdown",
   "metadata": {},
   "source": [
    "For the sub problem #5 above, write code that will give the desired result"
   ]
  },
  {
   "cell_type": "markdown",
   "metadata": {},
   "source": [
    "#### Solution"
   ]
  },
  {
   "cell_type": "code",
   "execution_count": 20,
   "metadata": {},
   "outputs": [
    {
     "data": {
      "text/html": [
       "<div>\n",
       "<style scoped>\n",
       "    .dataframe tbody tr th:only-of-type {\n",
       "        vertical-align: middle;\n",
       "    }\n",
       "\n",
       "    .dataframe tbody tr th {\n",
       "        vertical-align: top;\n",
       "    }\n",
       "\n",
       "    .dataframe thead th {\n",
       "        text-align: right;\n",
       "    }\n",
       "</style>\n",
       "<table border=\"1\" class=\"dataframe\">\n",
       "  <thead>\n",
       "    <tr style=\"text-align: right;\">\n",
       "      <th></th>\n",
       "      <th>Univ</th>\n",
       "      <th>IVY</th>\n",
       "    </tr>\n",
       "  </thead>\n",
       "  <tbody>\n",
       "    <tr>\n",
       "      <th>0</th>\n",
       "      <td>USC</td>\n",
       "      <td>No</td>\n",
       "    </tr>\n",
       "    <tr>\n",
       "      <th>1</th>\n",
       "      <td>Yale</td>\n",
       "      <td>NaN</td>\n",
       "    </tr>\n",
       "    <tr>\n",
       "      <th>2</th>\n",
       "      <td>Harvard</td>\n",
       "      <td>Yes</td>\n",
       "    </tr>\n",
       "    <tr>\n",
       "      <th>3</th>\n",
       "      <td>UCLA</td>\n",
       "      <td>NaN</td>\n",
       "    </tr>\n",
       "    <tr>\n",
       "      <th>4</th>\n",
       "      <td>NCSU</td>\n",
       "      <td>No</td>\n",
       "    </tr>\n",
       "    <tr>\n",
       "      <th>5</th>\n",
       "      <td>NYU</td>\n",
       "      <td>NaN</td>\n",
       "    </tr>\n",
       "  </tbody>\n",
       "</table>\n",
       "</div>"
      ],
      "text/plain": [
       "      Univ  IVY\n",
       "0      USC   No\n",
       "1     Yale  NaN\n",
       "2  Harvard  Yes\n",
       "3     UCLA  NaN\n",
       "4     NCSU   No\n",
       "5      NYU  NaN"
      ]
     },
     "execution_count": 20,
     "metadata": {},
     "output_type": "execute_result"
    }
   ],
   "source": [
    "data = pd.DataFrame({'Univ':['USC', 'Yale', 'Harvard', 'UCLA', 'NCSU', 'NYU'],\n",
    "                     'IVY':['No', np.nan, 'Yes', np.nan, 'No', np.nan]})\n",
    "data"
   ]
  },
  {
   "cell_type": "code",
   "execution_count": 21,
   "metadata": {},
   "outputs": [
    {
     "data": {
      "text/html": [
       "<div>\n",
       "<style scoped>\n",
       "    .dataframe tbody tr th:only-of-type {\n",
       "        vertical-align: middle;\n",
       "    }\n",
       "\n",
       "    .dataframe tbody tr th {\n",
       "        vertical-align: top;\n",
       "    }\n",
       "\n",
       "    .dataframe thead th {\n",
       "        text-align: right;\n",
       "    }\n",
       "</style>\n",
       "<table border=\"1\" class=\"dataframe\">\n",
       "  <thead>\n",
       "    <tr style=\"text-align: right;\">\n",
       "      <th></th>\n",
       "      <th>Univ</th>\n",
       "      <th>IVY</th>\n",
       "    </tr>\n",
       "  </thead>\n",
       "  <tbody>\n",
       "    <tr>\n",
       "      <th>0</th>\n",
       "      <td>USC</td>\n",
       "      <td>No</td>\n",
       "    </tr>\n",
       "    <tr>\n",
       "      <th>1</th>\n",
       "      <td>Yale</td>\n",
       "      <td>Yes</td>\n",
       "    </tr>\n",
       "    <tr>\n",
       "      <th>2</th>\n",
       "      <td>Harvard</td>\n",
       "      <td>Yes</td>\n",
       "    </tr>\n",
       "    <tr>\n",
       "      <th>3</th>\n",
       "      <td>UCLA</td>\n",
       "      <td>NaN</td>\n",
       "    </tr>\n",
       "    <tr>\n",
       "      <th>4</th>\n",
       "      <td>NCSU</td>\n",
       "      <td>No</td>\n",
       "    </tr>\n",
       "    <tr>\n",
       "      <th>5</th>\n",
       "      <td>NYU</td>\n",
       "      <td>No</td>\n",
       "    </tr>\n",
       "  </tbody>\n",
       "</table>\n",
       "</div>"
      ],
      "text/plain": [
       "      Univ  IVY\n",
       "0      USC   No\n",
       "1     Yale  Yes\n",
       "2  Harvard  Yes\n",
       "3     UCLA  NaN\n",
       "4     NCSU   No\n",
       "5      NYU   No"
      ]
     },
     "execution_count": 21,
     "metadata": {},
     "output_type": "execute_result"
    }
   ],
   "source": [
    "data.loc[data['Univ'] == 'Yale','IVY'] = 'Yes'\n",
    "data.loc[data['Univ'] == 'NYU','IVY'] = 'No'\n",
    "data"
   ]
  },
  {
   "cell_type": "markdown",
   "metadata": {},
   "source": [
    "---"
   ]
  },
  {
   "cell_type": "markdown",
   "metadata": {
    "id": "HxpZ5nIjeCgG"
   },
   "source": [
    "#### Problem 3\n",
    "Execute the code below to get a series called nums. <br>\n",
    "Fill in the missing values (NaN) by the rounded off mean value of the series and get a subset of the series where the numbers are divisible by 3."
   ]
  },
  {
   "cell_type": "code",
   "execution_count": 22,
   "metadata": {
    "executionInfo": {
     "elapsed": 2436,
     "status": "ok",
     "timestamp": 1611853652488,
     "user": {
      "displayName": "PRAKRUTI JOSHI",
      "photoUrl": "",
      "userId": "13509940654676308883"
     },
     "user_tz": -330
    },
    "id": "U2r0GZ3fTCJy"
   },
   "outputs": [],
   "source": [
    "from numpy import nan as NA\n",
    "nums = pd.Series(np.random.randint(1, 10, 20))\n",
    "for i in range(5):\n",
    "    nums[np.random.randint(0, 20, 1)] = NA"
   ]
  },
  {
   "cell_type": "markdown",
   "metadata": {},
   "source": [
    "#### Solution"
   ]
  },
  {
   "cell_type": "code",
   "execution_count": 23,
   "metadata": {},
   "outputs": [
    {
     "name": "stdout",
     "output_type": "stream",
     "text": [
      "0     3.0\n",
      "1     6.0\n",
      "2     9.0\n",
      "3     9.0\n",
      "6     6.0\n",
      "8     3.0\n",
      "9     3.0\n",
      "10    6.0\n",
      "11    9.0\n",
      "12    9.0\n",
      "14    6.0\n",
      "15    6.0\n",
      "17    6.0\n",
      "19    6.0\n",
      "dtype: float64\n"
     ]
    }
   ],
   "source": [
    "nums[nums.isnull()] = round(nums.mean())\n",
    "res_nums = nums[nums%3 == 0]\n",
    "print(res_nums)"
   ]
  },
  {
   "cell_type": "markdown",
   "metadata": {},
   "source": [
    "---"
   ]
  },
  {
   "cell_type": "markdown",
   "metadata": {
    "id": "ikfVXtSGa0wI"
   },
   "source": [
    "#### Problem 4\n",
    "\n",
    "Given the following series, keep only top 2 most frequent values as is, and replace everything else with 'Other'\n",
    "\n",
    "<pre>\n",
    "  ser = pd.Series(np.random.randint(1, 6, [12]))\n",
    "</pre>\n",
    "\n",
    "Hint: Use Series method <tt>isin</tt>"
   ]
  },
  {
   "cell_type": "markdown",
   "metadata": {},
   "source": [
    "#### Solution"
   ]
  },
  {
   "cell_type": "code",
   "execution_count": 24,
   "metadata": {},
   "outputs": [
    {
     "name": "stdout",
     "output_type": "stream",
     "text": [
      "0     3\n",
      "1     5\n",
      "2     1\n",
      "3     1\n",
      "4     5\n",
      "5     3\n",
      "6     3\n",
      "7     3\n",
      "8     1\n",
      "9     5\n",
      "10    2\n",
      "11    3\n",
      "dtype: int64 \n",
      "\n",
      "Top 2 Freq:\n",
      " 3    5\n",
      "5    3\n",
      "dtype: int64 \n",
      "\n",
      "0         3\n",
      "1         5\n",
      "2     Other\n",
      "3     Other\n",
      "4         5\n",
      "5         3\n",
      "6         3\n",
      "7         3\n",
      "8     Other\n",
      "9         5\n",
      "10    Other\n",
      "11        3\n",
      "dtype: object\n"
     ]
    }
   ],
   "source": [
    "ser = pd.Series(np.random.randint(1, 6, [12]))\n",
    "print(ser,'\\n')\n",
    "\n",
    "# compute the value counts and get top 2 (most frequent)\n",
    "top2freq = ser.value_counts()[:2]\n",
    "print('Top 2 Freq:\\n', top2freq,'\\n')\n",
    "\n",
    "# check for membership of value in index of top 2 frequent values\n",
    "# negate it for assigning to other\n",
    "ser[~ser.isin(ser.value_counts().index[:2])] = 'Other'\n",
    "print(ser)"
   ]
  },
  {
   "cell_type": "markdown",
   "metadata": {},
   "source": [
    "---"
   ]
  },
  {
   "cell_type": "markdown",
   "metadata": {
    "id": "ikfVXtSGa0wI"
   },
   "source": [
    "#### Problem 5\n",
    "\n",
    "In the following Series, convert the first character of each word to uppercase. (Hint: the title() method of String converts the first letter of each word to uppercase, and all others to lowercase. Also try without using the title() method)\n",
    "\n",
    "<pre>\n",
    "   ser = pd.Series(['how', 'to easily', 'learn', 'spoken spanish'])\n",
    "</pre>\n"
   ]
  },
  {
   "cell_type": "markdown",
   "metadata": {},
   "source": [
    "#### Solution"
   ]
  },
  {
   "cell_type": "code",
   "execution_count": 25,
   "metadata": {},
   "outputs": [
    {
     "data": {
      "text/plain": [
       "0               How\n",
       "1         To Easily\n",
       "2             Learn\n",
       "3    Spoken Spanish\n",
       "dtype: object"
      ]
     },
     "execution_count": 25,
     "metadata": {},
     "output_type": "execute_result"
    }
   ],
   "source": [
    "ser = pd.Series(['how', 'to easily', 'learn', 'spoken spanish'])\n",
    "\n",
    "# Option 1 (using title)\n",
    "ser.map(lambda x: x.title())\n",
    "\n",
    "# Option 2 -> without using title \n",
    "def titleit(x):\n",
    "    str=''\n",
    "    for w in x.split():\n",
    "        str += ' ' + w[0].upper() + w[1:].lower()\n",
    "    return str\n",
    "\n",
    "ser.map(titleit)\n",
    "\n",
    "# Option 3 -> without using map\n",
    "pd.Series([i.title() for i in ser])"
   ]
  },
  {
   "cell_type": "markdown",
   "metadata": {},
   "source": [
    "---"
   ]
  },
  {
   "cell_type": "markdown",
   "metadata": {
    "id": "ikfVXtSGa0wI"
   },
   "source": [
    "#### Problem 6\n",
    "\n",
    "Write code to pick words in a Series that contain at least 2 vowels."
   ]
  },
  {
   "cell_type": "markdown",
   "metadata": {},
   "source": [
    "#### Solution"
   ]
  },
  {
   "cell_type": "code",
   "execution_count": 27,
   "metadata": {},
   "outputs": [
    {
     "data": {
      "text/plain": [
       "0     Apple\n",
       "1    Orange\n",
       "4     Money\n",
       "dtype: object"
      ]
     },
     "execution_count": 27,
     "metadata": {},
     "output_type": "execute_result"
    }
   ],
   "source": [
    "from collections import Counter\n",
    "\n",
    "ser = pd.Series(['Apple', 'Orange', 'Plan', 'Python', 'Money'])\n",
    "\n",
    "def filter_word(x):\n",
    "    cnt = 0\n",
    "    c = Counter(x.lower())\n",
    "    for v in 'aeiou':\n",
    "        cnt += c.get(v, 0)\n",
    "    return cnt >= 2\n",
    "\n",
    "mask = ser.map(filter_word)\n",
    "ser[mask]"
   ]
  },
  {
   "cell_type": "markdown",
   "metadata": {},
   "source": [
    "---"
   ]
  },
  {
   "cell_type": "markdown",
   "metadata": {},
   "source": [
    "#### Problem 7\n",
    "\n",
    "Write a generic function to switch the columns of a dataframe. (Take column names as input to function)"
   ]
  },
  {
   "cell_type": "markdown",
   "metadata": {},
   "source": [
    "#### Solution"
   ]
  },
  {
   "cell_type": "code",
   "execution_count": 33,
   "metadata": {},
   "outputs": [],
   "source": [
    "def switch_columns(df, col1=None, col2=None):\n",
    "    colnames = df.columns.tolist()\n",
    "    i1, i2 = colnames.index(col1), colnames.index(col2)\n",
    "    colnames[i2], colnames[i1] = colnames[i1], colnames[i2]\n",
    "    return df[colnames]"
   ]
  }
 ],
 "metadata": {
  "kernelspec": {
   "display_name": "Python 3",
   "language": "python",
   "name": "python3"
  },
  "language_info": {
   "codemirror_mode": {
    "name": "ipython",
    "version": 3
   },
   "file_extension": ".py",
   "mimetype": "text/x-python",
   "name": "python",
   "nbconvert_exporter": "python",
   "pygments_lexer": "ipython3",
   "version": "3.7.6"
  }
 },
 "nbformat": 4,
 "nbformat_minor": 4
}
