{
 "cells": [
  {
   "cell_type": "markdown",
   "metadata": {},
   "source": [
    "### <font color='brown'>Problem Set 5: Regular Expressions - Solution</brown>"
   ]
  },
  {
   "cell_type": "code",
   "execution_count": 2,
   "metadata": {},
   "outputs": [],
   "source": [
    "import re"
   ]
  },
  {
   "cell_type": "markdown",
   "metadata": {},
   "source": [
    "---"
   ]
  },
  {
   "cell_type": "markdown",
   "metadata": {},
   "source": [
    "#### Problem 1\n",
    "\n",
    "Write regular expressions for the following patterns, each of which will be used with the re.search() function on some target string:\n",
    "1. A sequence for currency in dollars (> 0 and \\< 1 million, no leading zeros) with at least one space before and after\n",
    "2. A sequence for currency in dollars (> 0 and \\< 1 million, no leading zeros) and cents, with at least one space before and after\n",
    "3. Modify the pattern for the sequence above to extract and print the dollars and cents values\n",
    "4. A word (lowercase letters only) that starts and ends with the same letter\n",
    "5. A sequence that allows for (1) or (2), i.e. dollars with or without cents\n",
    "6. A string that starts with letter, followed by at least one character that is not one of '.' (period), ',' (comma) or ';' (semicolon) and ending with any character that is not a digit."
   ]
  },
  {
   "cell_type": "markdown",
   "metadata": {},
   "source": [
    "#### Solution"
   ]
  },
  {
   "cell_type": "markdown",
   "metadata": {},
   "source": [
    "1. A sequence for currency in dollars (> 0 and \\< 1 million, no leading zeros) with at least one space before and after"
   ]
  },
  {
   "cell_type": "code",
   "execution_count": 66,
   "metadata": {},
   "outputs": [
    {
     "name": "stdout",
     "output_type": "stream",
     "text": [
      "<re.Match object; span=(0, 4), match=' $3 '>\n",
      "<re.Match object; span=(0, 5), match=' $15 '>\n",
      "None\n",
      "None\n",
      "None\n",
      "<re.Match object; span=(0, 9), match=' $300000 '>\n",
      "None\n"
     ]
    }
   ],
   "source": [
    "dol = re.compile('\\s+\\$[1-9]\\d{,5}\\s+')\n",
    "res = dol.search(' $3 ')\n",
    "print(res)\n",
    "res = dol.search(' $15 ')\n",
    "print(res)\n",
    "res = dol.search(' $0 ')\n",
    "print(res)\n",
    "res = dol.search(' 355 ')\n",
    "print(res)\n",
    "res = dol.search(' $0123 ')\n",
    "print(res)\n",
    "res = dol.search(' $300000 ')\n",
    "print(res)\n",
    "res = dol.search('$1000000')\n",
    "print(res)"
   ]
  },
  {
   "cell_type": "markdown",
   "metadata": {},
   "source": [
    "**Note: You must use the escape '\\\\' before the `$`, see below**"
   ]
  },
  {
   "cell_type": "code",
   "execution_count": 15,
   "metadata": {},
   "outputs": [
    {
     "name": "stdout",
     "output_type": "stream",
     "text": [
      "None\n"
     ]
    }
   ],
   "source": [
    "dol = re.compile('$[1-9]\\d{,5}')\n",
    "res = dol.search(' $3 ')\n",
    "print(res)"
   ]
  },
  {
   "cell_type": "markdown",
   "metadata": {},
   "source": [
    "2. A sequence for currency in dollars (> 0 and \\< 1 million, no leading zeros) and cents, with at least one space before and after"
   ]
  },
  {
   "cell_type": "code",
   "execution_count": 51,
   "metadata": {},
   "outputs": [
    {
     "name": "stdout",
     "output_type": "stream",
     "text": [
      "None\n",
      "None\n",
      "<re.Match object; span=(0, 8), match=' $15.65 '>\n",
      "<re.Match object; span=(0, 9), match=' $355.06 '>\n",
      "<re.Match object; span=(0, 11), match=' $86723.00 '>\n",
      "None\n"
     ]
    }
   ],
   "source": [
    "dolcnt = re.compile('\\s+\\$[1-9]\\d{,5}\\.\\d{2}\\s+')\n",
    "res = dolcnt.search(' $3 ')\n",
    "print(res)\n",
    "res = dolcnt.search(' $15 ')\n",
    "print(res)\n",
    "res = dolcnt.search(' $15.65 ')\n",
    "print(res)\n",
    "res = dolcnt.search(' $355.06 ')\n",
    "print(res)\n",
    "res = dolcnt.search(' $86723.00 ')\n",
    "print(res)\n",
    "res = dolcnt.search(' $86723.0 ')\n",
    "print(res)"
   ]
  },
  {
   "cell_type": "markdown",
   "metadata": {},
   "source": [
    "**Note: You must use the escape '\\\\' before the `.`, see below**"
   ]
  },
  {
   "cell_type": "code",
   "execution_count": 18,
   "metadata": {},
   "outputs": [
    {
     "name": "stdout",
     "output_type": "stream",
     "text": [
      "<re.Match object; span=(0, 8), match=' $15#25 '>\n"
     ]
    }
   ],
   "source": [
    "dolcnt = re.compile('\\s+\\$[1-9]\\d{,5}.\\d{2}\\s+')\n",
    "res = dolcnt.search(' $15#25 ')\n",
    "print(res)"
   ]
  },
  {
   "cell_type": "markdown",
   "metadata": {},
   "source": [
    "3. Modify the sequence above to extract and print the dollars and cents values"
   ]
  },
  {
   "cell_type": "code",
   "execution_count": 27,
   "metadata": {},
   "outputs": [
    {
     "name": "stdout",
     "output_type": "stream",
     "text": [
      "dollars: 355, cents: 06\n"
     ]
    }
   ],
   "source": [
    "dolcnt = re.compile(r'\\s+\\$([1-9]\\d{,5})\\.(\\d{2})\\s+')\n",
    "res = dolcnt.search(' $355.06 ')\n",
    "print(f'dollars: {res.groups()[0]}, cents: {res.groups()[1]}')"
   ]
  },
  {
   "cell_type": "code",
   "execution_count": 29,
   "metadata": {},
   "outputs": [
    {
     "name": "stdout",
     "output_type": "stream",
     "text": [
      "dollars: 355, cents: 06\n"
     ]
    }
   ],
   "source": [
    "# will also work without the raw string usage since we are not neutering the '\\\\' anywhere\n",
    "dolcnt = re.compile('\\s+\\$([1-9]\\d{,5})\\.(\\d{2})\\s+')\n",
    "res = dolcnt.search(' $355.06 ')\n",
    "print(f'dollars: {res.groups()[0]}, cents: {res.groups()[1]}')"
   ]
  },
  {
   "cell_type": "markdown",
   "metadata": {},
   "source": [
    "4. A word (lowercase letters only) of length 4 or more that starts and ends with the same letter"
   ]
  },
  {
   "cell_type": "code",
   "execution_count": 41,
   "metadata": {},
   "outputs": [
    {
     "name": "stdout",
     "output_type": "stream",
     "text": [
      "<re.Match object; span=(0, 5), match='alpha'>\n",
      "<re.Match object; span=(0, 4), match='asia'>\n",
      "None\n",
      "None\n",
      "None\n"
     ]
    }
   ],
   "source": [
    "aword = re.compile(r'^([a-z])[a-z]{2,}\\1$')\n",
    "res = aword.search('alpha')\n",
    "print(res)\n",
    "res = aword.search('asia')\n",
    "print(res)\n",
    "res = aword.search('aja')\n",
    "print(res)\n",
    "res = aword.search('2ab2')\n",
    "print(res)\n",
    "res = aword.search('xalphay')\n",
    "print(res)"
   ]
  },
  {
   "cell_type": "markdown",
   "metadata": {},
   "source": [
    "5. A sequence that allows for (1) or (2), i.e. dollars with or without cents"
   ]
  },
  {
   "cell_type": "code",
   "execution_count": 61,
   "metadata": {},
   "outputs": [
    {
     "name": "stdout",
     "output_type": "stream",
     "text": [
      "<re.Match object; span=(0, 5), match=' $15 '>\n",
      "<re.Match object; span=(0, 8), match=' $15.65 '>\n",
      "<re.Match object; span=(0, 10), match=' $8165.00 '>\n"
     ]
    }
   ],
   "source": [
    "dolplus = re.compile('\\s+(\\$[1-9]\\d{,5}|\\$[1-9]\\d{,5}\\.\\d{2})\\s+')\n",
    "res = dolplus.search(' $15 ')\n",
    "print(res)\n",
    "res = dolplus.search(' $15.65 ')\n",
    "print(res)\n",
    "res = dolplus.search(' $8165.00 ')\n",
    "print(res)"
   ]
  },
  {
   "cell_type": "markdown",
   "metadata": {},
   "source": [
    "6. A string that starts with letter, followed by at least one character that is not one of '.', ',', or ';' and\n",
    "ending with any character that is not a digit."
   ]
  },
  {
   "cell_type": "code",
   "execution_count": 65,
   "metadata": {},
   "outputs": [
    {
     "name": "stdout",
     "output_type": "stream",
     "text": [
      "<re.Match object; span=(0, 3), match='a#b'>\n",
      "<re.Match object; span=(0, 8), match='Aa#!!xyZ'>\n",
      "None\n",
      "None\n"
     ]
    }
   ],
   "source": [
    "seq = re.compile('^[a-zA-Z][^.,;]+[^0-9]$')\n",
    "res = seq.search('a#b')\n",
    "print(res)\n",
    "res = seq.search('Aa#!!xyZ')\n",
    "print(res)\n",
    "res = seq.search(\"1!Z\")\n",
    "print(res)\n",
    "res = seq.search(\"a;Z\")\n",
    "print(res)"
   ]
  },
  {
   "cell_type": "markdown",
   "metadata": {},
   "source": [
    "---"
   ]
  },
  {
   "cell_type": "markdown",
   "metadata": {
    "id": "0NVqJNywEsSr"
   },
   "source": [
    "#### Problem 2\n",
    "\n",
    "Write a function that takes a sentence as an input string parameter. The function should print True if the sentence starts with \"The\", contains \"mountains\" and ends with \"river.\", otherwise it should print False. <br/>Also, if the pattern matches, the function should split the sentence into two parts (using the regular expression split function), one each on either side of the word \"mountains\", and print the parts. "
   ]
  },
  {
   "cell_type": "markdown",
   "metadata": {},
   "source": [
    "#### Solution"
   ]
  },
  {
   "cell_type": "code",
   "execution_count": 83,
   "metadata": {
    "colab": {
     "base_uri": "https://localhost:8080/"
    },
    "id": "v6pXFmm6EsSr",
    "outputId": "9470d08d-8094-4ccc-c8e7-5541898c65ac"
   },
   "outputs": [],
   "source": [
    "def checkSentence(sentence):\n",
    "    res = True\n",
    "    if re.match(\"^The.*mountains.*river.$\", sentence):\n",
    "        print('Match')\n",
    "    else:\n",
    "        res = False\n",
    "        print('No match')\n",
    "        \n",
    "    if res:\n",
    "        new = re.split(\"mountains\", sentence)\n",
    "        print(new)\n",
    "    "
   ]
  },
  {
   "cell_type": "code",
   "execution_count": 84,
   "metadata": {},
   "outputs": [
    {
     "name": "stdout",
     "output_type": "stream",
     "text": [
      "Match\n",
      "['The wild foxes live on the ', ' and drink water from the river.']\n"
     ]
    }
   ],
   "source": [
    "checkSentence(\"The wild foxes live on the mountains and drink water from the river.\")"
   ]
  },
  {
   "cell_type": "code",
   "execution_count": 85,
   "metadata": {},
   "outputs": [
    {
     "name": "stdout",
     "output_type": "stream",
     "text": [
      "No match\n"
     ]
    }
   ],
   "source": [
    "checkSentence(\"The wild foxes live on the plains and drink water from the river.\")"
   ]
  },
  {
   "cell_type": "markdown",
   "metadata": {},
   "source": [
    "---"
   ]
  },
  {
   "cell_type": "markdown",
   "metadata": {},
   "source": [
    "#### Problem 3\n",
    "\n",
    "You are given a file named [ps4-5_in.txt](ps4-5_in.txt) with multiple records, each on a separate line. Each record has person name, profession, and school name, separated by a comma. You are required to extract only those records for which person name starts with 'a' and profession is student, and write the extracted records to a new output file called *ps5-3_out.txt*. You must use regular expressions to do the extraction for each record.\n",
    "\n",
    "Note: 'student scholar' is a different profession than 'student'\n"
   ]
  },
  {
   "cell_type": "markdown",
   "metadata": {},
   "source": [
    "#### Solution"
   ]
  },
  {
   "cell_type": "markdown",
   "metadata": {},
   "source": [
    "[ps5-3_sol.py](ps5-3_sol.py)"
   ]
  },
  {
   "cell_type": "markdown",
   "metadata": {},
   "source": [
    "---"
   ]
  },
  {
   "cell_type": "markdown",
   "metadata": {
    "id": "TsYs_po9EsSs"
   },
   "source": [
    "#### Problem 4\n",
    "\n",
    "In this problem, you will implement a user signup functionality with the following requirements: <br/>\n",
    "<ol>\n",
    "    <li>A username starting with either a lowercase letter or an underscore.</li>\n",
    "    <li>A password at least 6 characters long, containing at least one uppercase character.</li> \n",
    "    <li>An Email ID containing `@`, but not beginning or ending with it. Feel free to try more realistic requirements as well.</li>\n",
    "You must ask the user to input the details one by one until each one of them abides by the constraints (while loop!)."
   ]
  },
  {
   "cell_type": "markdown",
   "metadata": {},
   "source": [
    "#### Solution"
   ]
  },
  {
   "cell_type": "code",
   "execution_count": 86,
   "metadata": {
    "colab": {
     "base_uri": "https://localhost:8080/"
    },
    "id": "BAwmtSX3EsSs",
    "outputId": "a370d2f9-fdc4-4f09-c51f-c4dba2060b35"
   },
   "outputs": [
    {
     "name": "stdin",
     "output_type": "stream",
     "text": [
      "Enter a username:  abcd123\n",
      "Set a password:  passworD\n",
      "Enter a valid email ID:  dmds@rutgers.edu\n"
     ]
    }
   ],
   "source": [
    "while True:\n",
    "    name = input(\"Enter a username: \")\n",
    "    if re.match('[_a-z]', name):\n",
    "        break\n",
    "        \n",
    "while True:\n",
    "    pwd = input(\"Set a password: \")\n",
    "    if len(pwd)>=6 and re.search('[A-Z]', pwd):\n",
    "        break\n",
    "        \n",
    "while True:\n",
    "    email = input(\"Enter a valid email ID: \")\n",
    "    if re.search('\\w+@\\w+', email):\n",
    "        break"
   ]
  },
  {
   "cell_type": "markdown",
   "metadata": {},
   "source": [
    "---"
   ]
  },
  {
   "cell_type": "markdown",
   "metadata": {
    "id": "SAmDYtVKsgF8"
   },
   "source": [
    "#### Problem 5\n",
    "\n",
    "In this problem, you will write a function to validate IP addresses. You will check and print if the IP address passed to your function is a valid IPv4 or IPv6 address. If it is not a valid IP address, print \"Invalid IP address\". <br/>\n",
    "Read more about IPv4 and IPv6 addresses <a href = \"https://www.ibm.com/support/knowledgecenter/en/STCMML8/com.ibm.storage.ts3500.doc/opg_3584_IPv4_IPv6_addresses.html\">here</a>.\n"
   ]
  },
  {
   "cell_type": "markdown",
   "metadata": {},
   "source": [
    "#### Solution"
   ]
  },
  {
   "cell_type": "code",
   "execution_count": 87,
   "metadata": {
    "colab": {
     "base_uri": "https://localhost:8080/"
    },
    "id": "Z2ZwqhaaEsSu",
    "outputId": "cf4a2621-0ff9-41c0-959f-7f75383c399a"
   },
   "outputs": [],
   "source": [
    "def checkIP(ipAddress):\n",
    "\n",
    "  v4pattern = \"(([0-9]|[1-9][0-9]|1[0-9][0-9]|2[0-4][0-9]|25[0-5])\\\\.){3}([0-9]|[1-9][0-9]|1[0-9][0-9]|2[0-4][0-9]|25[0-5])\"\n",
    "\n",
    "  v6pattern = \"((([0-9a-fA-F]){1,4})\\\\:){7}([0-9a-fA-F]){1,4}\"\n",
    "\n",
    "  if re.search(v4pattern, ipAddress):\n",
    "    print(\"IPv4\")\n",
    "\n",
    "  elif re.search(v6pattern, ipAddress):\n",
    "    print(\"IPv6\")\n",
    "\n",
    "  else:\n",
    "    print(\"Invalid IP address\")\n"
   ]
  },
  {
   "cell_type": "code",
   "execution_count": 88,
   "metadata": {},
   "outputs": [
    {
     "name": "stdout",
     "output_type": "stream",
     "text": [
      "Invalid IP address\n"
     ]
    }
   ],
   "source": [
    "checkIP(\"2F33:12a0:3Ea0:0302\")"
   ]
  },
  {
   "cell_type": "code",
   "execution_count": 89,
   "metadata": {},
   "outputs": [
    {
     "name": "stdout",
     "output_type": "stream",
     "text": [
      "IPv6\n"
     ]
    }
   ],
   "source": [
    "checkIP(\"2001:0db8:85a3:0000:0000:8a2e:0370:7334\")"
   ]
  },
  {
   "cell_type": "code",
   "execution_count": 90,
   "metadata": {},
   "outputs": [
    {
     "name": "stdout",
     "output_type": "stream",
     "text": [
      "IPv4\n"
     ]
    }
   ],
   "source": [
    "checkIP(\"192.0.0.1\")"
   ]
  }
 ],
 "metadata": {
  "kernelspec": {
   "display_name": "Python 3",
   "language": "python",
   "name": "python3"
  },
  "language_info": {
   "codemirror_mode": {
    "name": "ipython",
    "version": 3
   },
   "file_extension": ".py",
   "mimetype": "text/x-python",
   "name": "python",
   "nbconvert_exporter": "python",
   "pygments_lexer": "ipython3",
   "version": "3.7.6"
  }
 },
 "nbformat": 4,
 "nbformat_minor": 4
}
