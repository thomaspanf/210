{
 "cells": [
  {
   "cell_type": "markdown",
   "metadata": {},
   "source": [
    "### <font color='brown'>Problem Set 5: Regular Expressions - Solution</brown>"
   ]
  },
  {
   "cell_type": "code",
   "execution_count": 2,
   "metadata": {},
   "outputs": [],
   "source": [
    "import re"
   ]
  },
  {
   "cell_type": "markdown",
   "metadata": {},
   "source": [
    "---"
   ]
  },
  {
   "cell_type": "markdown",
   "metadata": {},
   "source": [
    "#### Problem 1\n",
    "\n",
    "Write regular expressions for the following patterns, each of which will be used with the re.search() function on some target string:\n",
    "1. A sequence for currency in dollars (> 0 and \\< 1 million, no leading zeros) with at least one space before and after\n",
    "2. A sequence for currency in dollars (> 0 and \\< 1 million, no leading zeros) and cents, with at least one space before and after\n",
    "3. Modify the pattern for the sequence above to extract and print the dollars and cents values\n",
    "4. A word (lowercase letters only) that starts and ends with the same letter\n",
    "5. A sequence that allows for (1) or (2), i.e. dollars with or without cents\n",
    "6. A string that starts with letter, followed by at least one character that is not one of '.' (period), ',' (comma) or ';' (semicolon) and ending with any character that is not a digit."
   ]
  },
  {
   "cell_type": "markdown",
   "metadata": {},
   "source": [
    "---"
   ]
  },
  {
   "cell_type": "markdown",
   "metadata": {
    "id": "0NVqJNywEsSr"
   },
   "source": [
    "#### Problem 2\n",
    "\n",
    "Write a function that takes a sentence as an input string parameter. The function should print True if the sentence starts with \"The\", contains \"mountains\" and ends with \"river.\", otherwise it should print False. <br/>Also, if the pattern matches, the function should split the sentence into two parts (using the regular expression split function), one each on either side of the word \"mountains\", and print the parts. "
   ]
  },
  {
   "cell_type": "markdown",
   "metadata": {},
   "source": [
    "---"
   ]
  },
  {
   "cell_type": "markdown",
   "metadata": {},
   "source": [
    "#### Problem 3\n",
    "\n",
    "You are given a file named [ps4-5_in.txt](ps4-5_in.txt) with multiple records, each on a separate line. Each record has person name, profession, and school name, separated by a comma. You are required to extract only those records for which person name starts with 'a' and profession is student, and write the extracted records to a new output file called *ps5-3_out.txt*. You must use regular expressions to do the extraction for each record.\n",
    "\n",
    "Note: 'student scholar' is a different profession than 'student'\n"
   ]
  },
  {
   "cell_type": "markdown",
   "metadata": {},
   "source": [
    "---"
   ]
  },
  {
   "cell_type": "markdown",
   "metadata": {
    "id": "TsYs_po9EsSs"
   },
   "source": [
    "#### Problem 4\n",
    "\n",
    "In this problem, you will implement a user signup functionality with the following requirements: <br/>\n",
    "<ol>\n",
    "    <li>A username starting with either a lowercase letter or an underscore.</li>\n",
    "    <li>A password at least 6 characters long, containing at least one uppercase character.</li> \n",
    "    <li>An Email ID containing `@`, but not beginning or ending with it. Feel free to try more realistic requirements as well.</li>\n",
    "You must ask the user to input the details one by one until each one of them abides by the constraints (while loop!)."
   ]
  },
  {
   "cell_type": "markdown",
   "metadata": {},
   "source": [
    "---"
   ]
  },
  {
   "cell_type": "markdown",
   "metadata": {
    "id": "SAmDYtVKsgF8"
   },
   "source": [
    "#### Problem 5\n",
    "\n",
    "In this problem, you will write a function to validate IP addresses. You will check and print if the IP address passed to your function is a valid IPv4 or IPv6 address. If it is not a valid IP address, print \"Invalid IP address\". <br/>\n",
    "Read more about IPv4 and IPv6 addresses <a href = \"https://www.ibm.com/support/knowledgecenter/en/STCMML8/com.ibm.storage.ts3500.doc/opg_3584_IPv4_IPv6_addresses.html\">here</a>.\n"
   ]
  }
 ],
 "metadata": {
  "kernelspec": {
   "display_name": "Python 3",
   "language": "python",
   "name": "python3"
  },
  "language_info": {
   "codemirror_mode": {
    "name": "ipython",
    "version": 3
   },
   "file_extension": ".py",
   "mimetype": "text/x-python",
   "name": "python",
   "nbconvert_exporter": "python",
   "pygments_lexer": "ipython3",
   "version": "3.7.6"
  }
 },
 "nbformat": 4,
 "nbformat_minor": 4
}
