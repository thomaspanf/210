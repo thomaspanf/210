{
 "cells": [
  {
   "cell_type": "markdown",
   "metadata": {},
   "source": [
    "### <font color='brown'>Problem Set 4: Dictionary and File Handling - Solution</brown>"
   ]
  },
  {
   "cell_type": "markdown",
   "metadata": {},
   "source": [
    "---"
   ]
  },
  {
   "cell_type": "markdown",
   "metadata": {},
   "source": [
    "#### Problem 1\n",
    "\n",
    "1. Given two parallel lists of keys and values, convert them into a dictionary. \n",
    "2. Can you do it without iterating the lists? Hint: use the zip function: https://realpython.com/python-zip-function/"
   ]
  },
  {
   "cell_type": "code",
   "execution_count": 2,
   "metadata": {},
   "outputs": [],
   "source": [
    "keys = ['Id', 'Name', 'Salary', 'Age', 'Teams']\n",
    "values = [87, 'Bob', 100000, 28, ['CRM', 'QA']]"
   ]
  },
  {
   "cell_type": "markdown",
   "metadata": {},
   "source": [
    "#### Solution"
   ]
  },
  {
   "cell_type": "code",
   "execution_count": 4,
   "metadata": {},
   "outputs": [
    {
     "name": "stdout",
     "output_type": "stream",
     "text": [
      "{'Id': 87, 'Name': 'Bob', 'Salary': 100000, 'Age': 28, 'Teams': ['CRM', 'QA']}\n",
      "{'Id': 87, 'Name': 'Bob', 'Salary': 100000, 'Age': 28, 'Teams': ['CRM', 'QA']}\n",
      "{'Id': 87, 'Name': 'Bob', 'Salary': 100000, 'Age': 28, 'Teams': ['CRM', 'QA']}\n"
     ]
    }
   ],
   "source": [
    "#1. Using iteration\n",
    "\n",
    "d = {}\n",
    "for i in range(len(keys)):\n",
    "    d[keys[i]] = values[i]\n",
    "print(d)\n",
    "\n",
    "# OR\n",
    "\n",
    "# You can use comprehension syntax for dictionaries!\n",
    "d = {keys[i]:values[i] for i in range(len(keys))}\n",
    "print(d)\n",
    "\n",
    "\n",
    "# 2. Using zip function \n",
    "sampleDict = dict(zip(keys, values))\n",
    "print(sampleDict)"
   ]
  },
  {
   "cell_type": "markdown",
   "metadata": {},
   "source": [
    "---"
   ]
  },
  {
   "cell_type": "markdown",
   "metadata": {},
   "source": [
    "#### Problem 2\n",
    "\n",
    "Given a dictionary, do the following: \n",
    "\n",
    "1. Check if the dictionary is empty.\n",
    "2. Print all unique values in the dictionary.\n",
    "3. Get the keys in the dictionary.\n",
    "4. Make a new dictionary out of the values that are > 50."
   ]
  },
  {
   "cell_type": "code",
   "execution_count": 5,
   "metadata": {},
   "outputs": [],
   "source": [
    "d = {'a':'12', 'b':'34', 'c':'76', 'd':'87', 'e':'12', 'f':'90', 'g':'34', 'h':'0', 'i':'0'}"
   ]
  },
  {
   "cell_type": "markdown",
   "metadata": {},
   "source": [
    "#### Solution"
   ]
  },
  {
   "cell_type": "code",
   "execution_count": 6,
   "metadata": {},
   "outputs": [
    {
     "name": "stdout",
     "output_type": "stream",
     "text": [
      "False\n",
      "{'34', '76', '87', '90', '0', '12'}\n",
      "dict_keys(['a', 'b', 'c', 'd', 'e', 'f', 'g', 'h', 'i'])\n",
      "{'c': '76', 'd': '87', 'f': '90'}\n"
     ]
    }
   ],
   "source": [
    "# 1. \n",
    "l = len(d)\n",
    "print(l == 0)\n",
    "\n",
    "# 2. \n",
    "unique_val = set(d.values())\n",
    "print(unique_val)\n",
    "\n",
    "# 3. \n",
    "keys = d.keys()\n",
    "print(keys)\n",
    "\n",
    "# 4. \n",
    "new_dict = {}\n",
    "for key, value in d.items():\n",
    "    if int(value) > 50:\n",
    "        new_dict[key] = value\n",
    "print(new_dict)"
   ]
  },
  {
   "cell_type": "markdown",
   "metadata": {},
   "source": [
    "---"
   ]
  },
  {
   "cell_type": "markdown",
   "metadata": {},
   "source": [
    "#### Problem 3\n",
    "\n",
    "Write a function that takes two strings as input and returns a boolean value if the strings are anagrams. A word is an anagram of another word, if the first word can be rearranged to form the second word.<br>\n",
    "Example of anagrams: \"race and care\", \"keen and knee\""
   ]
  },
  {
   "cell_type": "markdown",
   "metadata": {},
   "source": [
    "#### Solution"
   ]
  },
  {
   "cell_type": "code",
   "execution_count": 22,
   "metadata": {},
   "outputs": [],
   "source": [
    "# Solution 1 using default dictionary\n",
    "\n",
    "from collections import defaultdict\n",
    "\n",
    "def is_anagram_v1(s1, s2):\n",
    "    \n",
    "    # reject if strings are not of same length \n",
    "    if len(s1) != len(s2):\n",
    "        return False\n",
    "    \n",
    "    # determine frequency of characters in s1\n",
    "    d1 = defaultdict(int) \n",
    "    for _c in s1:\n",
    "        d1[_c] += 1\n",
    "        \n",
    "    # determine frequency of characters in s2\n",
    "    d2 = defaultdict(int) \n",
    "    for _c in s2:\n",
    "        d2[_c] += 1\n",
    "\n",
    "    # Compare dictionaries\n",
    "    return d1 == d2"
   ]
  },
  {
   "cell_type": "code",
   "execution_count": 23,
   "metadata": {},
   "outputs": [
    {
     "name": "stdout",
     "output_type": "stream",
     "text": [
      "True\n",
      "True\n",
      "False\n",
      "False\n"
     ]
    }
   ],
   "source": [
    "res = is_anagram_v1('race', 'care')\n",
    "print(res)\n",
    "\n",
    "res = is_anagram_v1('keen', 'knee')\n",
    "print(res)\n",
    "\n",
    "res = is_anagram_v1('nape', 'napa')\n",
    "print(res)\n",
    "\n",
    "res = is_anagram_v1('rate', 'cat')\n",
    "print(res)"
   ]
  },
  {
   "cell_type": "code",
   "execution_count": 24,
   "metadata": {},
   "outputs": [],
   "source": [
    "# Solution 2 using Counter\n",
    "\n",
    "from collections import Counter\n",
    "\n",
    "def is_anagram_v2(s1, s2):\n",
    "    \n",
    "    # reject if strings are not of same length \n",
    "    if len(s1) != len(s2):\n",
    "        return False\n",
    "    \n",
    "    d1 = Counter(s1)\n",
    "    d2 = Counter(s2)\n",
    "    \n",
    "    # Compare counters \n",
    "    return d1 == d2"
   ]
  },
  {
   "cell_type": "code",
   "execution_count": 25,
   "metadata": {},
   "outputs": [
    {
     "name": "stdout",
     "output_type": "stream",
     "text": [
      "True\n",
      "True\n",
      "False\n",
      "False\n"
     ]
    }
   ],
   "source": [
    "res = is_anagram_v2('race', 'care')\n",
    "print(res)\n",
    "\n",
    "res = is_anagram_v2('keen', 'knee')\n",
    "print(res)\n",
    "\n",
    "res = is_anagram_v2('nape', 'napa')\n",
    "print(res)\n",
    "\n",
    "res = is_anagram_v2('rate', 'cat')\n",
    "print(res)"
   ]
  },
  {
   "cell_type": "markdown",
   "metadata": {},
   "source": [
    "---"
   ]
  },
  {
   "cell_type": "markdown",
   "metadata": {},
   "source": [
    "#### Problem 4\n",
    "\n",
    "The following dictionary (in cell below) has student id for key, mapped to a list scores on assignments. Calculate the final letter grade of each student using the following percentage weights for the assignments: [10%, 10%, 10%, 20%, 50%]. The maximum score for each assignment is as follows: [100,100,200,200,300]. The letter grade should be computed using the following grade scheme: \n",
    "\n",
    "1. [90-100] : 'A'  (90 and 100 are both included)\n",
    "2. [80-90) : 'B+'  (80 is included, 90 is not)\n",
    "3. [70-80) : 'B'\n",
    "4. [60-70) : 'C+'\n",
    "5. < 60 : 'C'\n",
    "\n",
    "The final output should be a dictionary with student id mapped to letter grade. "
   ]
  },
  {
   "cell_type": "code",
   "execution_count": 29,
   "metadata": {},
   "outputs": [],
   "source": [
    "student_scores = {\n",
    "    'phj17' : [90, 90, 187, 175, 290],\n",
    "    'kd710' : [50, 60, 110, 180, 210],\n",
    "    'tn278' : [100, 95, 170, 105, 280],\n",
    "    'rhb13' : [85, 88, 192, 178, 263]\n",
    "}"
   ]
  },
  {
   "cell_type": "markdown",
   "metadata": {},
   "source": [
    "#### Solution"
   ]
  },
  {
   "cell_type": "code",
   "execution_count": 30,
   "metadata": {},
   "outputs": [],
   "source": [
    "def convert_score_to_grade(score):\n",
    "    if score >= 90:\n",
    "        return 'A'\n",
    "    if score >= 80:\n",
    "        return 'B+'\n",
    "    if score >= 70:\n",
    "        return 'B'\n",
    "    if score >= 60:\n",
    "        return 'C+'\n",
    "    return 'C'"
   ]
  },
  {
   "cell_type": "code",
   "execution_count": 31,
   "metadata": {},
   "outputs": [],
   "source": [
    "weightage = [10, 10, 10, 20, 50]\n",
    "max_scores = [100, 100, 200, 200, 300]"
   ]
  },
  {
   "cell_type": "code",
   "execution_count": 32,
   "metadata": {},
   "outputs": [
    {
     "name": "stdout",
     "output_type": "stream",
     "text": [
      "{'phj17': 'A', 'kd710': 'C+', 'tn278': 'B+', 'rhb13': 'B+'}\n"
     ]
    }
   ],
   "source": [
    "student_final_grade_dict = {}\n",
    "\n",
    "for key, value in student_scores.items():\n",
    "    score = 0\n",
    "    for i in range(len(weightage)):\n",
    "        score += (value[i]*weightage[i])/max_scores[i]\n",
    "    grade = convert_score_to_grade(score)\n",
    "    student_final_grade_dict[key] = grade\n",
    "    \n",
    "print(student_final_grade_dict)"
   ]
  },
  {
   "cell_type": "markdown",
   "metadata": {},
   "source": [
    "---"
   ]
  },
  {
   "cell_type": "markdown",
   "metadata": {},
   "source": [
    "#### Problem 5\n",
    "\n",
    "You are given a file named [ps4-5_in.txt](ps4-5_in.txt) with multiple records, each on a separate line. Each record has person name, profession, and school name, separated by a comma. You are required to extract only those records for which person name starts with 'a' and profession is student, and write the extracted records to a new output file called *ps4-5_out.txt*. \n",
    "\n",
    "Note: 'student scholar' is a different profession than 'student'\n"
   ]
  },
  {
   "cell_type": "markdown",
   "metadata": {},
   "source": [
    "#### Solution"
   ]
  },
  {
   "cell_type": "markdown",
   "metadata": {},
   "source": [
    "[ps4-5_sol.py](ps4-5_sol.py)"
   ]
  },
  {
   "cell_type": "markdown",
   "metadata": {},
   "source": [
    "---"
   ]
  },
  {
   "cell_type": "markdown",
   "metadata": {},
   "source": [
    "#### Problem 6\n",
    "\n",
    "Given a text file [sampleSentences.txt](sampleSentences.txt) containing sentences on separate lines, create a dictionary to map a letter with the number of words starting with it. To keep it simple, a word is any sequence of non-space characters, so a word can include punctuation. To avoid discrepancies of upper and lower case characters, start by converting all uppercase characters to lowercase. Write the contents of the dictionary to the file *ps4-6_out.txt* in ranked order of counts. For example, write t : 18 if words starting with t or T occur 18 times. "
   ]
  },
  {
   "cell_type": "markdown",
   "metadata": {},
   "source": [
    "#### Solution"
   ]
  },
  {
   "cell_type": "markdown",
   "metadata": {},
   "source": [
    "[ps4-6_sol.py](ps4-6_sol.py)"
   ]
  }
 ],
 "metadata": {
  "kernelspec": {
   "display_name": "Python 3 (ipykernel)",
   "language": "python",
   "name": "python3"
  },
  "language_info": {
   "codemirror_mode": {
    "name": "ipython",
    "version": 3
   },
   "file_extension": ".py",
   "mimetype": "text/x-python",
   "name": "python",
   "nbconvert_exporter": "python",
   "pygments_lexer": "ipython3",
   "version": "3.9.7"
  }
 },
 "nbformat": 4,
 "nbformat_minor": 4
}
