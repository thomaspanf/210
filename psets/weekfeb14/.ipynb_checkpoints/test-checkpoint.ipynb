{
 "cells": [
  {
   "cell_type": "code",
   "execution_count": 1,
   "id": "0abb5d76-7eeb-44ed-a5f2-52587006b0f7",
   "metadata": {},
   "outputs": [],
   "source": [
    "keys = ['Id', 'Name', 'Salary', 'Age', 'Teams']\n",
    "values = [87, 'Bob', 100000, 28, ['CRM', 'QA']]"
   ]
  },
  {
   "cell_type": "markdown",
   "id": "d76c3d08-b528-472a-9e4b-ca2aea5c1b57",
   "metadata": {},
   "source": [
    "#### Problem 1\n",
    "\n",
    "1. Given two parallel lists of keys and values, convert them into a dictionary. \n",
    "2. Can you do it without iterating the lists? Hint: use the zip function: https://realpython.com/python-zip-function/"
   ]
  },
  {
   "cell_type": "code",
   "execution_count": 4,
   "id": "49fdc85e-648f-4c9b-8df3-757961487bdf",
   "metadata": {},
   "outputs": [],
   "source": [
    "def convert_dic(keys,values):\n",
    "    rest = {}\n",
    "    for i in range (0, len(keys)):\n",
    "        rest[keys[i]] = values[i]\n",
    "    print(rest)"
   ]
  },
  {
   "cell_type": "code",
   "execution_count": 5,
   "id": "e68d4ab6-ed46-49d2-b885-0089f0c18fcf",
   "metadata": {},
   "outputs": [
    {
     "name": "stdout",
     "output_type": "stream",
     "text": [
      "{'Id': 87, 'Name': 'Bob', 'Salary': 100000, 'Age': 28, 'Teams': ['CRM', 'QA']}\n"
     ]
    }
   ],
   "source": [
    "convert_dic(keys,values)"
   ]
  },
  {
   "cell_type": "code",
   "execution_count": 14,
   "id": "215cf628-2308-4f92-9694-2780407f8388",
   "metadata": {},
   "outputs": [],
   "source": [
    "def convert_dict2(keys, values):\n",
    "    res = {keys[i]: values[i] for i in range(len(keys))}\n",
    "    print(res)"
   ]
  },
  {
   "cell_type": "code",
   "execution_count": 16,
   "id": "69e6cc49-5ce7-4385-b365-8a44a16c68bd",
   "metadata": {},
   "outputs": [
    {
     "name": "stdout",
     "output_type": "stream",
     "text": [
      "{'Id': 87, 'Name': 'Bob', 'Salary': 100000, 'Age': 28, 'Teams': ['CRM', 'QA']}\n"
     ]
    }
   ],
   "source": [
    "convert_dict2(keys,values)"
   ]
  },
  {
   "cell_type": "code",
   "execution_count": 17,
   "id": "b63bb9fa-be0e-45be-9334-549c2aa988e2",
   "metadata": {},
   "outputs": [],
   "source": [
    "#using zip function"
   ]
  },
  {
   "cell_type": "code",
   "execution_count": 20,
   "id": "458eeed6-ec7e-4905-b0f1-44fe7feb52e6",
   "metadata": {},
   "outputs": [],
   "source": [
    "def convert_dict_zip(keys,values):\n",
    "    res = dict(zip(keys,values))\n",
    "    print(res)"
   ]
  },
  {
   "cell_type": "code",
   "execution_count": 21,
   "id": "c2917f53-5018-4ca2-b615-99fa98535a7c",
   "metadata": {},
   "outputs": [
    {
     "name": "stdout",
     "output_type": "stream",
     "text": [
      "{'Id': 87, 'Name': 'Bob', 'Salary': 100000, 'Age': 28, 'Teams': ['CRM', 'QA']}\n"
     ]
    }
   ],
   "source": [
    "convert_dict_zip(keys,values)"
   ]
  },
  {
   "cell_type": "markdown",
   "id": "e4cf73c7-f2e1-4a3c-b8af-fffbd3ce6f69",
   "metadata": {},
   "source": [
    "Problem 2\n",
    "Given a dictionary, do the following:\n",
    "\n",
    "Check if the dictionary is empty.\n",
    "\n",
    "Print all unique values in the dictionary.\n",
    "\n",
    "Get the keys in the dictionary.\n",
    "\n",
    "Make a new dictionary out of the values that are > 50."
   ]
  },
  {
   "cell_type": "code",
   "execution_count": 22,
   "id": "73de9650-3f88-4116-84ce-e01750f0a0e6",
   "metadata": {},
   "outputs": [],
   "source": [
    "d = {'a':'12', 'b':'34', 'c':'76', 'd':'87', 'e':'12', 'f':'90', 'g':'34', 'h':'0', 'i':'0'}"
   ]
  },
  {
   "cell_type": "code",
   "execution_count": 24,
   "id": "219a29ca-ec44-4620-a5d6-6a7727643d1e",
   "metadata": {},
   "outputs": [],
   "source": [
    "def one(d):\n",
    "    if len(d) == 0:\n",
    "        print(\"empty\")\n",
    "    else:\n",
    "        print(\"not empty\")"
   ]
  },
  {
   "cell_type": "code",
   "execution_count": 25,
   "id": "5367b928-74f5-4152-9e45-9d1cec4accb4",
   "metadata": {},
   "outputs": [
    {
     "name": "stdout",
     "output_type": "stream",
     "text": [
      "not empty\n"
     ]
    }
   ],
   "source": [
    "one(d)"
   ]
  },
  {
   "cell_type": "code",
   "execution_count": 29,
   "id": "ca268e19-ad88-4752-a813-828eab58e554",
   "metadata": {},
   "outputs": [],
   "source": [
    "def unique(d):\n",
    "    unique = set(d.values())\n",
    "    print(unique)"
   ]
  },
  {
   "cell_type": "code",
   "execution_count": 30,
   "id": "a556e803-d335-40f0-9c21-a13ef1bbf26c",
   "metadata": {},
   "outputs": [
    {
     "name": "stdout",
     "output_type": "stream",
     "text": [
      "{'34', '12', '90', '87', '0', '76'}\n"
     ]
    }
   ],
   "source": [
    "unique(d)"
   ]
  },
  {
   "cell_type": "code",
   "execution_count": 31,
   "id": "c7425531-091d-494c-b7e3-4e9e323e6730",
   "metadata": {},
   "outputs": [],
   "source": [
    "def get_keys(d):\n",
    "    keys = d.keys()\n",
    "    print(keys)"
   ]
  },
  {
   "cell_type": "code",
   "execution_count": 32,
   "id": "f27f5d4b-5234-495a-b33e-85fe4e460af4",
   "metadata": {},
   "outputs": [
    {
     "name": "stdout",
     "output_type": "stream",
     "text": [
      "dict_keys(['a', 'b', 'c', 'd', 'e', 'f', 'g', 'h', 'i'])\n"
     ]
    }
   ],
   "source": [
    "get_keys(d)"
   ]
  },
  {
   "cell_type": "code",
   "execution_count": 36,
   "id": "4cbcb190-0a93-455e-939f-0d87a1512699",
   "metadata": {},
   "outputs": [],
   "source": [
    "def over_50(d):\n",
    "    res = {}\n",
    "    for key, value in d.items():\n",
    "        if int(value) > 50:\n",
    "            res[key] = value\n",
    "    print(res)"
   ]
  },
  {
   "cell_type": "code",
   "execution_count": 37,
   "id": "5f9a35bf-7cfd-45ee-8625-9152e1bc315b",
   "metadata": {},
   "outputs": [
    {
     "name": "stdout",
     "output_type": "stream",
     "text": [
      "{'c': '76', 'd': '87', 'f': '90'}\n"
     ]
    }
   ],
   "source": [
    "over_50(d)"
   ]
  },
  {
   "cell_type": "markdown",
   "id": "69d21359-6a24-418c-8518-304c7535ecd0",
   "metadata": {},
   "source": [
    "Problem 3\n",
    "Write a function that takes two strings as input and returns a boolean value if the strings are anagrams. A word is an anagram of another word, if the first word can be rearranged to form the second word.\n",
    "Example of anagrams: \"race and care\", \"keen and knee\""
   ]
  },
  {
   "cell_type": "code",
   "execution_count": 38,
   "id": "3518f306-98fb-4095-8291-b187da8f7382",
   "metadata": {},
   "outputs": [],
   "source": [
    "s1 = \"race\"\n",
    "s2 = \"care\""
   ]
  },
  {
   "cell_type": "code",
   "execution_count": 41,
   "id": "e4a63179-7c0b-412e-9bd7-8fe0ec738a90",
   "metadata": {},
   "outputs": [],
   "source": [
    "from collections import defaultdict\n",
    "def is_anagram(s1, s2):\n",
    "    if len(s1) != len(s2):\n",
    "        return False\n",
    "    d1 = defaultdict(int)\n",
    "    for c in s1:\n",
    "        d1[c] += 1\n",
    "    d2 = defaultdict(int)\n",
    "    for c in s2:\n",
    "        d2[c] += 1\n",
    "    print(d1)\n",
    "    print(d2)\n",
    "    return d1 == d2"
   ]
  },
  {
   "cell_type": "code",
   "execution_count": 42,
   "id": "6f2ca773-380d-48bd-8c05-e9d3d904aefc",
   "metadata": {},
   "outputs": [
    {
     "name": "stdout",
     "output_type": "stream",
     "text": [
      "defaultdict(<class 'int'>, {'r': 1, 'a': 1, 'c': 1, 'e': 1})\n",
      "defaultdict(<class 'int'>, {'c': 1, 'a': 1, 'r': 1, 'e': 1})\n"
     ]
    },
    {
     "data": {
      "text/plain": [
       "True"
      ]
     },
     "execution_count": 42,
     "metadata": {},
     "output_type": "execute_result"
    }
   ],
   "source": [
    "is_anagram(s1, s2)"
   ]
  },
  {
   "cell_type": "code",
   "execution_count": 43,
   "id": "5f0976f4-eb69-406b-b1c8-17ee924b94b2",
   "metadata": {},
   "outputs": [],
   "source": [
    "#sol 2\n",
    "from collections import Counter\n",
    "def is_anagram2(s1, s2):\n",
    "    if len(s1) != len(s2):\n",
    "        return False\n",
    "    d1 = Counter(s1)\n",
    "    d2 = Counter(s2)\n",
    "    print(d1)\n",
    "    print(d2)\n",
    "    return d1 == d2"
   ]
  },
  {
   "cell_type": "code",
   "execution_count": 44,
   "id": "63dfbb88-afb6-4d40-a305-50744ba5ba82",
   "metadata": {},
   "outputs": [
    {
     "name": "stdout",
     "output_type": "stream",
     "text": [
      "Counter({'r': 1, 'a': 1, 'c': 1, 'e': 1})\n",
      "Counter({'c': 1, 'a': 1, 'r': 1, 'e': 1})\n"
     ]
    },
    {
     "data": {
      "text/plain": [
       "True"
      ]
     },
     "execution_count": 44,
     "metadata": {},
     "output_type": "execute_result"
    }
   ],
   "source": [
    "is_anagram2(s1, s2)"
   ]
  },
  {
   "cell_type": "markdown",
   "id": "ac49464c-c1f5-4f8a-990a-618fc812b9b3",
   "metadata": {},
   "source": [
    "Problem 4\n",
    "The following dictionary (in cell below) has student id for key, mapped to a list scores on assignments. Calculate the final letter grade of each student using the following percentage weights for the assignments: [10%, 10%, 10%, 20%, 50%]. The maximum score for each assignment is as follows: [100,100,200,200,300]. The letter grade should be computed using the following grade scheme:\n",
    "\n",
    "[90-100] : 'A' (90 and 100 are both included)\n",
    "[80-90) : 'B+' (80 is included, 90 is not)\n",
    "[70-80) : 'B'\n",
    "[60-70) : 'C+'\n",
    "< 60 : 'C'\n",
    "The final output should be a dictionary with student id mapped to letter grade."
   ]
  },
  {
   "cell_type": "code",
   "execution_count": 51,
   "id": "85770c67-e07f-4625-b95f-b95a259e0bcc",
   "metadata": {},
   "outputs": [],
   "source": [
    "student_scores = {\n",
    "    'phj17' : [90, 90, 187, 175, 290],\n",
    "    'kd710' : [50, 60, 110, 180, 210],\n",
    "    'tn278' : [100, 95, 170, 105, 280],\n",
    "    'rhb13' : [85, 88, 192, 178, 263]\n",
    "}\n",
    "weightage = [10, 10, 10, 20, 50]\n",
    "max_scores = [100, 100, 200, 200, 300]"
   ]
  },
  {
   "cell_type": "code",
   "execution_count": 52,
   "id": "244ef6fe-0e20-4a0a-ae51-af7e05294b22",
   "metadata": {},
   "outputs": [],
   "source": [
    "def convert(score):\n",
    "    if score >= 90:\n",
    "        return 'A'\n",
    "    if score >= 80:\n",
    "        return 'B+'\n",
    "    if score >= 70:\n",
    "        return 'B'\n",
    "    if score >= 60:\n",
    "        return 'C+'\n",
    "    return 'C'"
   ]
  },
  {
   "cell_type": "code",
   "execution_count": 53,
   "id": "c6a8108a-2453-4af7-9281-1b98885c1a66",
   "metadata": {},
   "outputs": [],
   "source": [
    "def final_scores(student_scores):\n",
    "    final_dict = {}\n",
    "    for key, value in student_scores.items():\n",
    "        score = 0\n",
    "        for i in range(len(weightage)):\n",
    "            score += (value[i]*weightage[i])/max_scores[i]\n",
    "        grade = convert(score)\n",
    "        final_dict[key] = grade\n",
    "    print(final_dict)\n",
    "            "
   ]
  },
  {
   "cell_type": "code",
   "execution_count": 54,
   "id": "4f92c82a-3bee-4e80-b034-7068cf2033b9",
   "metadata": {},
   "outputs": [
    {
     "name": "stdout",
     "output_type": "stream",
     "text": [
      "{'phj17': 'A', 'kd710': 'C+', 'tn278': 'B+', 'rhb13': 'B+'}\n"
     ]
    }
   ],
   "source": [
    "final_scores(student_scores)"
   ]
  },
  {
   "cell_type": "code",
   "execution_count": 5,
   "id": "85a59417-7479-4bea-9e29-789cddeef87b",
   "metadata": {},
   "outputs": [],
   "source": [
    "def read_file(f):\n",
    "    output = open(\"ps4-5_out.txt\",\"w\")\n",
    "    for line in open(f):\n",
    "        fields = line.split(',')\n",
    "        if fields[0].strip()[0] != 'a':\n",
    "            continue\n",
    "        if fields[1].strip() != 'student':\n",
    "            continue\n",
    "        output.write(line)\n",
    "    output.close\n",
    "    return"
   ]
  },
  {
   "cell_type": "code",
   "execution_count": 6,
   "id": "d2c5dc6c-013e-49ca-8400-196b8b7ad6d3",
   "metadata": {},
   "outputs": [],
   "source": [
    "read_file(\"ps4-5_in.txt\")"
   ]
  },
  {
   "cell_type": "code",
   "execution_count": 8,
   "id": "77301aa3-ef7d-443c-8dda-f1daee91815d",
   "metadata": {},
   "outputs": [],
   "source": [
    "# open output file, write mode\n",
    "outf = open(\"ps4-5_out.txt\",\"w\")\n",
    "\n",
    "# iterate throuugh input file\n",
    "for line in open(\"ps4-5_in.txt\"):\n",
    "    # split on comma\n",
    "    fields = line.split(',')\n",
    "   \n",
    "    # check if person name (first field) starts with 'a'\n",
    "    if fields[0].strip()[0] != 'a':\n",
    "        continue\n",
    "        \n",
    "    # check if profession (second field) is 'student'\n",
    "    if fields[1].strip() != 'student':\n",
    "        continue\n",
    "    \n",
    "    outf.write(line)\n",
    "\n",
    "outf.close()\n",
    "\n"
   ]
  },
  {
   "cell_type": "code",
   "execution_count": 4,
   "id": "d467de08-1806-4310-9a27-de0effd85278",
   "metadata": {},
   "outputs": [
    {
     "name": "stdout",
     "output_type": "stream",
     "text": [
      "<_io.TextIOWrapper name='ps4-5_out.txt' mode='w' encoding='cp1252'>\n"
     ]
    }
   ],
   "source": [
    "print(outf)"
   ]
  },
  {
   "cell_type": "code",
   "execution_count": null,
   "id": "e895148c-2af0-47c7-8f31-b7dbd8d1f6f3",
   "metadata": {},
   "outputs": [],
   "source": []
  }
 ],
 "metadata": {
  "kernelspec": {
   "display_name": "Python 3 (ipykernel)",
   "language": "python",
   "name": "python3"
  },
  "language_info": {
   "codemirror_mode": {
    "name": "ipython",
    "version": 3
   },
   "file_extension": ".py",
   "mimetype": "text/x-python",
   "name": "python",
   "nbconvert_exporter": "python",
   "pygments_lexer": "ipython3",
   "version": "3.9.7"
  }
 },
 "nbformat": 4,
 "nbformat_minor": 5
}
