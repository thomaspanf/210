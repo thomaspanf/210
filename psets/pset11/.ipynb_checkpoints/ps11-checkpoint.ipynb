{
 "cells": [
  {
   "cell_type": "markdown",
   "metadata": {
    "id": "o2PDkcDWDj6p"
   },
   "source": [
    "### <font color=\"brown\">Problem Set 11: Data Exploration</font>"
   ]
  },
  {
   "cell_type": "code",
   "execution_count": 1,
   "metadata": {},
   "outputs": [],
   "source": [
    "import pandas as pd\n",
    "import matplotlib.pyplot as plt"
   ]
  },
  {
   "cell_type": "markdown",
   "metadata": {},
   "source": [
    "---"
   ]
  },
  {
   "cell_type": "markdown",
   "metadata": {},
   "source": [
    "### Problem 1\n",
    "\n",
    "##### In this problem, you will explore a breast cancer dataset, breastCancer.csv"
   ]
  },
  {
   "cell_type": "code",
   "execution_count": 2,
   "metadata": {},
   "outputs": [],
   "source": [
    "data = pd.read_csv(\"breastCancer.csv\")"
   ]
  },
  {
   "cell_type": "markdown",
   "metadata": {},
   "source": [
    "#### <font color=\"brown\">1.1</font>\n",
    "\n",
    "Perform plotting for this task using the inbuilt functions in Pandas.\n",
    "\n",
    "1. Plot a histogram of 'Class' where 'breast-quad' and 'node-caps' are not NaN. \n",
    "2. In the column \"inv-nodes\", replace the class interval values by class mean, e.g., 3-5 becomes 4. Plot another histogram of 'Class' based on 'age' divided into 5 bins."
   ]
  },
  {
   "cell_type": "markdown",
   "metadata": {},
   "source": [
    "#### <font color=\"brown\">1.2</font>\n",
    "\n",
    "Drop all null values before starting with these tasks.\n",
    "\n",
    "1. Just like the \"inv-nodes\" column, replace the class interval values by class mean in the \"tumor-size\" column and plot a bar graph of the average tumor size for each \"age\" group.\n",
    "2. For each menopause stage, plot a pie chart for degree of malignancy (deg-malig) values. Use subplots, where each subplot handles a menopause stage.\n",
    "3. Label the recurrence and no-recurrence events as 0 and 1 respectively and plot a histogram to show the frequency of recurrence and no-recurrence events for different \"breast-quad\" values. Use subplots for the different breast-quad values."
   ]
  },
  {
   "cell_type": "markdown",
   "metadata": {},
   "source": [
    "---"
   ]
  },
  {
   "cell_type": "markdown",
   "metadata": {
    "id": "abaCEA5QsJz5"
   },
   "source": [
    "### Problem 2\n",
    "\n",
    "The following list shows the sales of items per month in a particular year. The months are labelled from 1 to 12. The total units per month are sum of all the units of items per months. "
   ]
  },
  {
   "cell_type": "code",
   "execution_count": 21,
   "metadata": {
    "id": "DFcOUvVXundn"
   },
   "outputs": [],
   "source": [
    "facecream_sales = [2500, 2630, 2140, 3400, 3600, 2760, 2980, 3700, 3540, 1990, 2340, 2900]\n",
    "shampoo_sales = [1200, 2100, 3550, 1870, 1560, 1890, 1780, 2860, 2100, 2300, 2400, 1800]\n",
    "toothpaste_sales = [5200, 5100, 4550, 5870, 4560, 4890, 4780, 5860, 6100, 8300, 7300, 7400]\n",
    "facewash_sales = [1500, 1200, 1340, 1130, 1740, 1555, 1120, 1400, 1780, 1890, 2100, 1760]"
   ]
  },
  {
   "cell_type": "markdown",
   "metadata": {
    "id": "abaCEA5QsJz5"
   },
   "source": [
    "The profit distribution (multipler of sales numbers) is as follows: \n",
    "\n",
    "* facecream = 5 \n",
    "* shampoo = 3\n",
    "* toothpaste = 10\n",
    "\n",
    "The total profit (per month) is calculated as the individual profit amount times the number of units per month.\n",
    "\n",
    "\n",
    "1. Display the toothpaste sales data of each month and show it using a scatter plot. Also, add a grid in the plot. gridline style should be “–“.\n",
    "\n",
    "2. Plot comparative monthly facecream and shampoo product sales data in a bar chart. \n",
    "\n",
    "3. Plot toothpaste and facewash sales data for each month in separate line plots in a vertically stacked grid.\n",
    "\n",
    "4. Plot the total annual sales for all the products in a pie chart. In each slice of the pie, display the percentage sale of that product relative to the total sales of all products.\n",
    "\n",
    "5. Plot a histogram for the total monthly profites of all products. Use 5 bins, and set the histogram ranges accordingly.\n"
   ]
  },
  {
   "cell_type": "markdown",
   "metadata": {},
   "source": [
    "---"
   ]
  },
  {
   "cell_type": "markdown",
   "metadata": {
    "id": "T6fjs6y65Xai"
   },
   "source": [
    "#### Problem 3\n",
    "\n",
    "Here is the relative popularity figures for some programming languages:\n",
    "\n",
    "<pre>\n",
    "Programming languages: Java, Python, PHP, JavaScript, C#, C++ \n",
    "Popularity: 22.2, 17.6, 8.8, 8, 7.7, 6.7\n",
    "</pre>\n",
    "\n",
    "Plot a bar chart of these popularities. Attach a text label above each bar displaying its popularity."
   ]
  }
 ],
 "metadata": {
  "kernelspec": {
   "display_name": "Python 3",
   "language": "python",
   "name": "python3"
  },
  "language_info": {
   "codemirror_mode": {
    "name": "ipython",
    "version": 3
   },
   "file_extension": ".py",
   "mimetype": "text/x-python",
   "name": "python",
   "nbconvert_exporter": "python",
   "pygments_lexer": "ipython3",
   "version": "3.7.6"
  }
 },
 "nbformat": 4,
 "nbformat_minor": 4
}
