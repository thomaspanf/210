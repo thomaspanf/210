{
 "cells": [
  {
   "cell_type": "markdown",
   "metadata": {},
   "source": [
    "### <font color=\"brown\">Problem Set 8: NumPy - Solution</font>"
   ]
  },
  {
   "cell_type": "code",
   "execution_count": 13,
   "metadata": {
    "id": "-anorqYAw2nQ"
   },
   "outputs": [],
   "source": [
    "import numpy as np"
   ]
  },
  {
   "cell_type": "markdown",
   "metadata": {},
   "source": [
    "---"
   ]
  },
  {
   "cell_type": "markdown",
   "metadata": {
    "id": "9vj4PrvXw2nZ"
   },
   "source": [
    "#### Problem 1 \n",
    "\n",
    "Mean normalization: <br>\n",
    "\n",
    "Mean normalizing is a common data pre-processing step used in Data Science and Machine learning. <br>Write a function that replaces all nan values to zero in a given array. Then, perform mean normalization i.e. subtract, from all items of each row, the mean value of that row."
   ]
  },
  {
   "cell_type": "code",
   "execution_count": 14,
   "metadata": {
    "id": "ts-R0bgZw2nZ"
   },
   "outputs": [],
   "source": [
    "# e.g. input array\n",
    "X = np.array([[5,6,np.nan,7],[1,np.nan,0,5],[-1,5,np.nan,2]])"
   ]
  },
  {
   "cell_type": "markdown",
   "metadata": {},
   "source": [
    "#### Solution"
   ]
  },
  {
   "cell_type": "markdown",
   "metadata": {},
   "source": [
    "Before getting into the full solution, a key thing to note is when you find the mean of each row, the result is a 1D array, and NOT a 2D array with 3 rows and 1 column:"
   ]
  },
  {
   "cell_type": "code",
   "execution_count": 15,
   "metadata": {},
   "outputs": [
    {
     "name": "stdout",
     "output_type": "stream",
     "text": [
      "[[ 1  2  3  4]\n",
      " [ 5  6  7  8]\n",
      " [ 9 10 11 12]] \n",
      "\n",
      "[ 2.5  6.5 10.5] \n",
      "\n",
      "(3,)\n"
     ]
    }
   ],
   "source": [
    "arr = np.arange(1,13).reshape(3,4)\n",
    "print(arr,'\\n')\n",
    "res = arr.mean(axis=1)\n",
    "print(res,'\\n')\n",
    "print(res.shape)"
   ]
  },
  {
   "cell_type": "markdown",
   "metadata": {},
   "source": [
    "Note that the shape is (3,) meaning a 1D array with 3 items. If you try to subtract this from each item in arr, it won't work:"
   ]
  },
  {
   "cell_type": "code",
   "execution_count": 16,
   "metadata": {},
   "outputs": [
    {
     "ename": "ValueError",
     "evalue": "operands could not be broadcast together with shapes (3,4) (3,) ",
     "output_type": "error",
     "traceback": [
      "\u001b[1;31m---------------------------------------------------------------------------\u001b[0m",
      "\u001b[1;31mValueError\u001b[0m                                Traceback (most recent call last)",
      "\u001b[1;32m~\\AppData\\Local\\Temp/ipykernel_12248/1488524334.py\u001b[0m in \u001b[0;36m<module>\u001b[1;34m\u001b[0m\n\u001b[1;32m----> 1\u001b[1;33m \u001b[0marr\u001b[0m \u001b[1;33m-\u001b[0m \u001b[0marr\u001b[0m\u001b[1;33m.\u001b[0m\u001b[0mmean\u001b[0m\u001b[1;33m(\u001b[0m\u001b[0maxis\u001b[0m\u001b[1;33m=\u001b[0m\u001b[1;36m1\u001b[0m\u001b[1;33m)\u001b[0m\u001b[1;33m\u001b[0m\u001b[1;33m\u001b[0m\u001b[0m\n\u001b[0m",
      "\u001b[1;31mValueError\u001b[0m: operands could not be broadcast together with shapes (3,4) (3,) "
     ]
    }
   ],
   "source": [
    "arr - arr.mean(axis=1)"
   ]
  },
  {
   "cell_type": "markdown",
   "metadata": {},
   "source": [
    "The error message above basically says the (3,4) shape is incompatible with the (3,) shape for the row by row subtraction"
   ]
  },
  {
   "cell_type": "markdown",
   "metadata": {},
   "source": [
    "One way to fix this is to reshape the result of the mean function to (3,1):"
   ]
  },
  {
   "cell_type": "code",
   "execution_count": 17,
   "metadata": {},
   "outputs": [
    {
     "data": {
      "text/plain": [
       "array([[-1.5, -0.5,  0.5,  1.5],\n",
       "       [-1.5, -0.5,  0.5,  1.5],\n",
       "       [-1.5, -0.5,  0.5,  1.5]])"
      ]
     },
     "execution_count": 17,
     "metadata": {},
     "output_type": "execute_result"
    }
   ],
   "source": [
    "arr - arr.mean(axis=1).reshape(3,1)"
   ]
  },
  {
   "cell_type": "markdown",
   "metadata": {},
   "source": [
    "Another option is to use the keepdims parameter in the mean function, which maintains the 2D-ness of the result:"
   ]
  },
  {
   "cell_type": "code",
   "execution_count": null,
   "metadata": {},
   "outputs": [],
   "source": [
    "arr - arr.mean(axis=1,keepdims=True)"
   ]
  },
  {
   "cell_type": "markdown",
   "metadata": {},
   "source": [
    "**Following is the complete solution:**"
   ]
  },
  {
   "cell_type": "code",
   "execution_count": 18,
   "metadata": {
    "id": "m3x6JUlWw2nZ"
   },
   "outputs": [],
   "source": [
    "def mean_normalize(X):\n",
    "    X = np.nan_to_num(X)   # this function replaces NaNs with 0\n",
    "    Y = X - X.mean(axis=1, keepdims=True)\n",
    "    return Y"
   ]
  },
  {
   "cell_type": "code",
   "execution_count": 19,
   "metadata": {},
   "outputs": [
    {
     "name": "stdout",
     "output_type": "stream",
     "text": [
      "[[ 5.  6. nan  7.]\n",
      " [ 1. nan  0.  5.]\n",
      " [-1.  5. nan  2.]] \n",
      "\n",
      "[[ 0.5  1.5 -4.5  2.5]\n",
      " [-0.5 -1.5 -1.5  3.5]\n",
      " [-2.5  3.5 -1.5  0.5]]\n"
     ]
    }
   ],
   "source": [
    "print(X,'\\n')\n",
    "Y = mean_normalize(X)\n",
    "print(Y)"
   ]
  },
  {
   "cell_type": "markdown",
   "metadata": {},
   "source": [
    "---"
   ]
  },
  {
   "cell_type": "markdown",
   "metadata": {},
   "source": [
    "#### Problem 2\n",
    "\n",
    "Given a 2D NumPy array with n rows and k columns, where the rows are students, and the columns are scores on quizzes (integer, between 0 and 20, inclusive), compute a result NumPy array of size k x 3 with the max, min, and average score on each quiz, and, separately, the average class score on all quizzes combined."
   ]
  },
  {
   "cell_type": "markdown",
   "metadata": {},
   "source": [
    "#### Solution"
   ]
  },
  {
   "cell_type": "code",
   "execution_count": 20,
   "metadata": {},
   "outputs": [],
   "source": [
    "def getStats(scores):\n",
    "    res = np.empty((scores.shape[1],3))\n",
    "    res[:,0] = np.max(scores,axis=0)\n",
    "    res[:,1] = np.min(scores,axis=0)\n",
    "    res[:,2] = np.average(scores,axis=0)\n",
    "    return res,np.average(scores) \n",
    "    "
   ]
  },
  {
   "cell_type": "code",
   "execution_count": 21,
   "metadata": {},
   "outputs": [
    {
     "data": {
      "text/plain": [
       "array([[18, 12, 10, 18,  3],\n",
       "       [ 5, 11,  8, 20,  6],\n",
       "       [12,  1, 17,  2, 17],\n",
       "       [ 2,  5, 19, 13,  2],\n",
       "       [14, 12, 20, 14, 14],\n",
       "       [ 2,  4, 17,  8,  3],\n",
       "       [ 7, 19, 13, 15,  2],\n",
       "       [18, 18, 12, 19,  8],\n",
       "       [ 7,  1, 15, 16, 16],\n",
       "       [ 8,  7,  7, 19,  4]])"
      ]
     },
     "execution_count": 21,
     "metadata": {},
     "output_type": "execute_result"
    }
   ],
   "source": [
    "scores = np.random.randint(1,21,(10,5))\n",
    "scores"
   ]
  },
  {
   "cell_type": "code",
   "execution_count": 22,
   "metadata": {},
   "outputs": [
    {
     "name": "stdout",
     "output_type": "stream",
     "text": [
      "[[18.   2.   9.3]\n",
      " [19.   1.   9. ]\n",
      " [20.   7.  13.8]\n",
      " [20.   2.  14.4]\n",
      " [17.   2.   7.5]] \n",
      "\n",
      "10.8\n"
     ]
    }
   ],
   "source": [
    "res,avg = getStats(scores)\n",
    "print(res,'\\n')\n",
    "print(avg)"
   ]
  },
  {
   "cell_type": "markdown",
   "metadata": {},
   "source": [
    "---"
   ]
  },
  {
   "cell_type": "markdown",
   "metadata": {},
   "source": [
    "#### Problem 3\n",
    "\n",
    "Write a function that takes a 2D ndarray and cycles the rows up by 1 so that the first row becomes the last, the last becomes second-to-last, etc. "
   ]
  },
  {
   "cell_type": "markdown",
   "metadata": {},
   "source": [
    "#### Solution"
   ]
  },
  {
   "cell_type": "code",
   "execution_count": 23,
   "metadata": {},
   "outputs": [
    {
     "name": "stdout",
     "output_type": "stream",
     "text": [
      "[[12  4 12]\n",
      " [ 8 12  8]\n",
      " [ 8  7 11]\n",
      " [ 1  3  7]] \n",
      "\n",
      "[[ 8 12  8]\n",
      " [ 8  7 11]\n",
      " [ 1  3  7]\n",
      " [12  4 12]]\n"
     ]
    }
   ],
   "source": [
    "def rowcycle(ndarr):\n",
    "    cycle = list(range(1,ndarr.shape[0])) + [0]\n",
    "    return ndarr[cycle]\n",
    "\n",
    "arr2d = np.random.randint(1,13,(4,3))\n",
    "print(arr2d,'\\n')\n",
    "print(rowcycle(arr2d))"
   ]
  },
  {
   "cell_type": "markdown",
   "metadata": {},
   "source": [
    "---"
   ]
  },
  {
   "cell_type": "markdown",
   "metadata": {},
   "source": [
    "#### Problem 4\n",
    "\n",
    "Write a function that takes an ndarray and computes the standard deviation of the values in each row, without using the standard deviation function. It should return an array with these standard deviations. \n",
    "See https://www.mathsisfun.com/data/standard-deviation-formulas.html"
   ]
  },
  {
   "cell_type": "markdown",
   "metadata": {},
   "source": [
    "#### Solution"
   ]
  },
  {
   "cell_type": "code",
   "execution_count": 5,
   "metadata": {},
   "outputs": [
    {
     "name": "stdout",
     "output_type": "stream",
     "text": [
      "Input array:\n",
      " [[ 3  1 -2]\n",
      " [ 1  8  2]\n",
      " [ 6  1  5]]\n",
      "\n",
      "Row means: [0.66666667 3.66666667 4.        ]\n",
      "\n",
      "Row means, column vector:\n",
      " [[0.66666667]\n",
      " [3.66666667]\n",
      " [4.        ]]\n",
      "\n",
      "Row value minus mean:\n",
      " [[ 2.33333333  0.33333333 -2.66666667]\n",
      " [-2.66666667  4.33333333 -1.66666667]\n",
      " [ 2.         -3.          1.        ]]\n",
      "\n",
      "Differences squared:\n",
      " [[ 5.44444444  0.11111111  7.11111111]\n",
      " [ 7.11111111 18.77777778  2.77777778]\n",
      " [ 4.          9.          1.        ]]\n",
      "\n",
      "Sum of squared differences:\n",
      " [12.66666667 28.66666667 14.        ]\n",
      "\n",
      "Divide by N=3 (number of values in each row):\n",
      " [4.22222222 9.55555556 4.66666667]\n",
      "\n",
      "Standard deviations:\n",
      " [2.05480467 3.09120617 2.1602469 ]\n",
      "\n"
     ]
    }
   ],
   "source": [
    "# Building the solution, one step at a time\n",
    "\n",
    "# 1. Sample 2D ndarray\n",
    "arr = np.array([[3,1,-2],[1,8,2],[6,1,5]])\n",
    "print(f'Input array:\\n {arr}\\n')\n",
    "\n",
    "# 2. Mean for each row\n",
    "mn = np.mean(arr,axis=1)\n",
    "print(f'Row means: {mn}\\n')\n",
    "\n",
    "# 3. Reshape the means array (which is 1D) into 2D\n",
    "mn = mn.reshape(3,1)\n",
    "print(f'Row means, column vector:\\n {mn}\\n')\n",
    "\n",
    "# 4. Subtract row's mean from each row value\n",
    "arr1 = arr - mn\n",
    "print(f'Row value minus mean:\\n {arr1}\\n')\n",
    "\n",
    "# 5. Square the differences\n",
    "arr1 = arr1 ** 2\n",
    "print(f'Differences squared:\\n {arr1}\\n')\n",
    "\n",
    "# 6. Sum the squared differences\n",
    "arr1 = arr1.sum(axis=1)\n",
    "print(f'Sum of squared differences:\\n {arr1}\\n')\n",
    "\n",
    "# 7. Divide each by number of columns (values in each row)\n",
    "arr1 = arr1 / arr.shape[1]\n",
    "print(f'Divide by N={arr.shape[1]} (number of values in each row):\\n {arr1}\\n')\n",
    "\n",
    "# 8. Square root of each\n",
    "arr1 = np.sqrt(arr1)\n",
    "print(f'Standard deviations:\\n {arr1}\\n')"
   ]
  },
  {
   "cell_type": "code",
   "execution_count": 6,
   "metadata": {},
   "outputs": [
    {
     "data": {
      "text/plain": [
       "array([2.05480467, 3.09120617, 2.1602469 ])"
      ]
     },
     "execution_count": 6,
     "metadata": {},
     "output_type": "execute_result"
    }
   ],
   "source": [
    "# Verify against np standard deviation function, std\n",
    "arr.std(axis=1)"
   ]
  },
  {
   "cell_type": "code",
   "execution_count": 7,
   "metadata": {},
   "outputs": [],
   "source": [
    "# Solution function\n",
    "def stddev(arr):\n",
    "    arr1 = arr - np.mean(arr,axis=1).reshape(3,1)\n",
    "    arr1 = (arr1 ** 2).sum(axis=1)/arr.shape[1]\n",
    "    return np.sqrt(arr1)\n"
   ]
  },
  {
   "cell_type": "code",
   "execution_count": 8,
   "metadata": {},
   "outputs": [
    {
     "data": {
      "text/plain": [
       "array([2.05480467, 3.09120617, 2.1602469 ])"
      ]
     },
     "execution_count": 8,
     "metadata": {},
     "output_type": "execute_result"
    }
   ],
   "source": [
    "# Test\n",
    "stddev(arr)"
   ]
  },
  {
   "cell_type": "markdown",
   "metadata": {},
   "source": [
    "---"
   ]
  },
  {
   "cell_type": "markdown",
   "metadata": {
    "id": "MBaivsluw2nW"
   },
   "source": [
    "#### Problem 5:\n",
    "\n",
    "Create a 2D array of shape 5x3 to contain random decimal numbers between 5 and 10. Get the position (index) of the two largest numbers in each row. From the generated 2D array, replace all values greater than 8 to 10 and less than 6 to 5."
   ]
  },
  {
   "cell_type": "markdown",
   "metadata": {},
   "source": [
    "#### Solution\n",
    "In addition to functions covered in class, uses the NumPy flip function:<br>\n",
    "https://numpy.org/doc/stable/reference/generated/numpy.flip.html"
   ]
  },
  {
   "cell_type": "code",
   "execution_count": 9,
   "metadata": {
    "id": "toIHEDR1w2nX",
    "outputId": "a3b8d8b6-a58e-4743-8683-74536598b44f"
   },
   "outputs": [
    {
     "name": "stdout",
     "output_type": "stream",
     "text": [
      "[[5.39394416 8.96069788 7.03975021]\n",
      " [5.23721314 9.65997438 6.89740753]\n",
      " [6.85003383 7.03114588 6.99158763]\n",
      " [9.62112243 6.49870812 7.64115048]\n",
      " [9.93747752 7.69682527 7.64198954]]\n",
      "[[1 2]\n",
      " [1 2]\n",
      " [1 2]\n",
      " [0 2]\n",
      " [0 1]]\n",
      "[[ 5.         10.          7.03975021]\n",
      " [ 5.         10.          6.89740753]\n",
      " [ 6.85003383  7.03114588  6.99158763]\n",
      " [10.          6.49870812  7.64115048]\n",
      " [10.          7.69682527  7.64198954]]\n"
     ]
    }
   ],
   "source": [
    "# Two options to create 2D array\n",
    "\n",
    "# Option1 :\n",
    "a = np.random.randint(low=5, high=10, size=(5,3)) + np.random.random((5,3))\n",
    "\n",
    "# Option 2: \n",
    "a = np.random.uniform(5,10, size=(5,3))\n",
    "print(a)\n",
    "\n",
    "max_pos = np.flip(np.argsort(a, axis=1), axis=1)\n",
    "max_pos = max_pos[:,:2]\n",
    "print(max_pos)\n",
    "\n",
    "new_arr = np.where(a < 6, 5, np.where(a > 8, 10, a))\n",
    "print(new_arr)"
   ]
  },
  {
   "cell_type": "markdown",
   "metadata": {},
   "source": [
    "---"
   ]
  },
  {
   "cell_type": "markdown",
   "metadata": {
    "id": "hUfAGQNkw2nY"
   },
   "source": [
    "#### Problem 6:\n",
    "\n",
    "Generate *one-hot encodings* for a list of values (classes). One-hot encoding and its applications are explained in the following resources: \n",
    "1. https://en.wikipedia.org/wiki/One-hot\n",
    "2. https://medium.com/@michaeldelsole/what-is-one-hot-encoding-and-how-to-do-it-f0ae272f1179\n",
    "\n",
    "Write a function that takes a 1-d List as input and return a 2-d Numpy array where the rows are the one-hot encoding of the classes in the list. Eg: Input: ['cat','camel','dog','cat'] <br>\n",
    "Output: [[1, 0, 0], [0, 1, 0], [0, 0, 1], [1, 0, 0]]"
   ]
  },
  {
   "cell_type": "markdown",
   "metadata": {},
   "source": [
    "#### Solution"
   ]
  },
  {
   "cell_type": "code",
   "execution_count": 10,
   "metadata": {
    "id": "yOH2EDOPw2nY"
   },
   "outputs": [],
   "source": [
    "def one_hot_encoding(l):\n",
    "    arr = np.array(l)\n",
    "    num_classes = np.unique(arr)\n",
    "    encoding = np.zeros((arr.shape[0], num_classes.shape[0]))\n",
    "    for i, k in enumerate(arr):\n",
    "        encoding[i, k-1] = 1\n",
    "    return encoding"
   ]
  },
  {
   "cell_type": "code",
   "execution_count": 11,
   "metadata": {
    "id": "yC7KQgI8w2nZ",
    "outputId": "1af613f4-65a0-447c-8d0e-9ee4e1b167dc"
   },
   "outputs": [
    {
     "name": "stdout",
     "output_type": "stream",
     "text": [
      "[[1. 0. 0.]\n",
      " [0. 1. 0.]\n",
      " [0. 0. 1.]\n",
      " [1. 0. 0.]\n",
      " [0. 1. 0.]]\n"
     ]
    }
   ],
   "source": [
    "# Test\n",
    "\n",
    "l = [1,2,0,1,2]\n",
    "encoding = one_hot_encoding(l)\n",
    "print(encoding)"
   ]
  },
  {
   "cell_type": "markdown",
   "metadata": {},
   "source": [
    "---"
   ]
  },
  {
   "cell_type": "code",
   "execution_count": null,
   "metadata": {},
   "outputs": [],
   "source": []
  },
  {
   "cell_type": "code",
   "execution_count": null,
   "metadata": {},
   "outputs": [],
   "source": []
  },
  {
   "cell_type": "code",
   "execution_count": null,
   "metadata": {},
   "outputs": [],
   "source": []
  },
  {
   "cell_type": "code",
   "execution_count": null,
   "metadata": {},
   "outputs": [],
   "source": []
  },
  {
   "cell_type": "code",
   "execution_count": null,
   "metadata": {},
   "outputs": [],
   "source": []
  },
  {
   "cell_type": "code",
   "execution_count": null,
   "metadata": {},
   "outputs": [],
   "source": []
  },
  {
   "cell_type": "code",
   "execution_count": null,
   "metadata": {},
   "outputs": [],
   "source": []
  },
  {
   "cell_type": "code",
   "execution_count": null,
   "metadata": {},
   "outputs": [],
   "source": []
  },
  {
   "cell_type": "code",
   "execution_count": null,
   "metadata": {},
   "outputs": [],
   "source": []
  },
  {
   "cell_type": "code",
   "execution_count": null,
   "metadata": {},
   "outputs": [],
   "source": []
  }
 ],
 "metadata": {
  "colab": {
   "name": "Week 7 Exercises Solution.ipynb",
   "provenance": []
  },
  "kernelspec": {
   "display_name": "Python 3 (ipykernel)",
   "language": "python",
   "name": "python3"
  },
  "language_info": {
   "codemirror_mode": {
    "name": "ipython",
    "version": 3
   },
   "file_extension": ".py",
   "mimetype": "text/x-python",
   "name": "python",
   "nbconvert_exporter": "python",
   "pygments_lexer": "ipython3",
   "version": "3.9.7"
  }
 },
 "nbformat": 4,
 "nbformat_minor": 4
}
