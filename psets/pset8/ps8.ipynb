{
 "cells": [
  {
   "cell_type": "markdown",
   "metadata": {},
   "source": [
    "### <font color=\"brown\">Problem Set 8: NumPy</font>"
   ]
  },
  {
   "cell_type": "code",
   "execution_count": 3,
   "metadata": {
    "id": "-anorqYAw2nQ"
   },
   "outputs": [],
   "source": [
    "import numpy as np"
   ]
  },
  {
   "cell_type": "markdown",
   "metadata": {},
   "source": [
    "---"
   ]
  },
  {
   "cell_type": "markdown",
   "metadata": {
    "id": "9vj4PrvXw2nZ"
   },
   "source": [
    "#### Problem 1 \n",
    "\n",
    "Mean normalization: <br>\n",
    "\n",
    "Mean normalizing is a common data pre-processing step used in Data Science and Machine learning. <br>Write a function that replaces all nan values to zero in a given array. Then, perform mean normalization i.e. subtract, from all items of each row, the mean value of that row."
   ]
  },
  {
   "cell_type": "code",
   "execution_count": 17,
   "metadata": {
    "id": "ts-R0bgZw2nZ"
   },
   "outputs": [],
   "source": [
    "# e.g. input array\n",
    "X = np.array([[5,6,np.nan,7],[1,np.nan,0,5],[-1,5,np.nan,2]])"
   ]
  },
  {
   "cell_type": "markdown",
   "metadata": {},
   "source": [
    "---"
   ]
  },
  {
   "cell_type": "markdown",
   "metadata": {},
   "source": [
    "#### Problem 2\n",
    "\n",
    "Given a 2D NumPy array with n rows and k columns, where the rows are students, and the columns are scores on quizzes (integer, between 0 and 20, inclusive), compute a result NumPy array of size k x 3 with the max, min, and average score on each quiz, and, separately, the average class score on all quizzes combined."
   ]
  },
  {
   "cell_type": "markdown",
   "metadata": {},
   "source": [
    "---"
   ]
  },
  {
   "cell_type": "markdown",
   "metadata": {},
   "source": [
    "#### Problem 3\n",
    "\n",
    "Write a function that takes a 2D ndarray and cycles the rows up by 1 so that the first row becomes the last, the last becomes second-to-last, etc. "
   ]
  },
  {
   "cell_type": "markdown",
   "metadata": {},
   "source": [
    "---"
   ]
  },
  {
   "cell_type": "markdown",
   "metadata": {},
   "source": [
    "#### Problem 4\n",
    "\n",
    "Write a function that takes an ndarray and computes the standard deviation of the values in each row, without using the standard deviation function. It should return an array with these standard deviations. \n",
    "See https://www.mathsisfun.com/data/standard-deviation-formulas.html"
   ]
  },
  {
   "cell_type": "markdown",
   "metadata": {},
   "source": [
    "---"
   ]
  },
  {
   "cell_type": "markdown",
   "metadata": {
    "id": "MBaivsluw2nW"
   },
   "source": [
    "#### Problem 5:\n",
    "\n",
    "Create a 2D array of shape 5x3 to contain random decimal numbers between 5 and 10. Get the position (index) of the two largest numbers in each row. From the generated 2D array, replace all values greater than 8 to 10 and less than 6 to 5."
   ]
  },
  {
   "cell_type": "markdown",
   "metadata": {},
   "source": [
    "---"
   ]
  },
  {
   "cell_type": "markdown",
   "metadata": {
    "id": "hUfAGQNkw2nY"
   },
   "source": [
    "#### Problem 6:\n",
    "\n",
    "Generate *one-hot encodings* for a list of values (classes). One-hot encoding and its applications are explained in the following resources: \n",
    "1. https://en.wikipedia.org/wiki/One-hot\n",
    "2. https://medium.com/@michaeldelsole/what-is-one-hot-encoding-and-how-to-do-it-f0ae272f1179\n",
    "\n",
    "Write a function that takes a 1-d List as input and return a 2-d Numpy array where the rows are the one-hot encoding of the classes in the list. Eg: Input: ['cat','camel','dog','cat'] <br>\n",
    "Output: [[1, 0, 0], [0, 1, 0], [0, 0, 1], [1, 0, 0]]"
   ]
  }
 ],
 "metadata": {
  "colab": {
   "name": "Week 7 Exercises Solution.ipynb",
   "provenance": []
  },
  "kernelspec": {
   "display_name": "Python 3",
   "language": "python",
   "name": "python3"
  },
  "language_info": {
   "codemirror_mode": {
    "name": "ipython",
    "version": 3
   },
   "file_extension": ".py",
   "mimetype": "text/x-python",
   "name": "python",
   "nbconvert_exporter": "python",
   "pygments_lexer": "ipython3",
   "version": "3.7.6"
  }
 },
 "nbformat": 4,
 "nbformat_minor": 4
}
