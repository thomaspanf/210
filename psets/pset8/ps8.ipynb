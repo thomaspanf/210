{
 "cells": [
  {
   "cell_type": "markdown",
   "metadata": {},
   "source": [
    "### <font color=\"brown\">Problem Set 8: NumPy</font>"
   ]
  },
  {
   "cell_type": "code",
   "execution_count": 76,
   "metadata": {
    "id": "-anorqYAw2nQ"
   },
   "outputs": [],
   "source": [
    "import numpy as np\n",
    "import re"
   ]
  },
  {
   "cell_type": "markdown",
   "metadata": {},
   "source": [
    "---"
   ]
  },
  {
   "cell_type": "markdown",
   "metadata": {
    "id": "9vj4PrvXw2nZ"
   },
   "source": [
    "#### Problem 1 \n",
    "\n",
    "Mean normalization: <br>\n",
    "\n",
    "Mean normalizing is a common data pre-processing step used in Data Science and Machine learning. <br>Write a function that replaces all nan values to zero in a given array. Then, perform mean normalization i.e. subtract, from all items of each row, the mean value of that row."
   ]
  },
  {
   "cell_type": "code",
   "execution_count": 2,
   "metadata": {
    "id": "ts-R0bgZw2nZ"
   },
   "outputs": [
    {
     "name": "stdout",
     "output_type": "stream",
     "text": [
      "[[ 5.  6. nan  7.]\n",
      " [ 1. nan  0.  5.]\n",
      " [-1.  5. nan  2.]]\n"
     ]
    }
   ],
   "source": [
    "# e.g. input array\n",
    "X = np.array([[5,6,np.nan,7],[1,np.nan,0,5],[-1,5,np.nan,2]])\n",
    "print(X)"
   ]
  },
  {
   "cell_type": "code",
   "execution_count": 9,
   "metadata": {},
   "outputs": [
    {
     "name": "stdout",
     "output_type": "stream",
     "text": [
      "[[ 1  2  3  4]\n",
      " [ 5  6  7  8]\n",
      " [ 9 10 11 12]] \n",
      "\n",
      "[ 2.5  6.5 10.5] \n",
      "\n",
      "(3,)\n"
     ]
    }
   ],
   "source": [
    "arr = np.arange(1,13).reshape(3,4)\n",
    "print(arr, '\\n')\n",
    "res = arr.mean(axis=1)\n",
    "print(res, '\\n')\n",
    "print(res.shape)"
   ]
  },
  {
   "cell_type": "code",
   "execution_count": 11,
   "metadata": {},
   "outputs": [
    {
     "ename": "ValueError",
     "evalue": "operands could not be broadcast together with shapes (3,4) (3,) ",
     "output_type": "error",
     "traceback": [
      "\u001b[1;31m---------------------------------------------------------------------------\u001b[0m",
      "\u001b[1;31mValueError\u001b[0m                                Traceback (most recent call last)",
      "\u001b[1;32m~\\AppData\\Local\\Temp/ipykernel_14424/3466907000.py\u001b[0m in \u001b[0;36m<module>\u001b[1;34m\u001b[0m\n\u001b[1;32m----> 1\u001b[1;33m \u001b[0marr\u001b[0m \u001b[1;33m-\u001b[0m \u001b[0marr\u001b[0m\u001b[1;33m.\u001b[0m\u001b[0mmean\u001b[0m\u001b[1;33m(\u001b[0m\u001b[0maxis\u001b[0m\u001b[1;33m=\u001b[0m\u001b[1;36m1\u001b[0m\u001b[1;33m)\u001b[0m\u001b[1;33m\u001b[0m\u001b[1;33m\u001b[0m\u001b[0m\n\u001b[0m",
      "\u001b[1;31mValueError\u001b[0m: operands could not be broadcast together with shapes (3,4) (3,) "
     ]
    }
   ],
   "source": [
    "arr - arr.mean(axis=1)\n"
   ]
  },
  {
   "cell_type": "code",
   "execution_count": 17,
   "metadata": {},
   "outputs": [
    {
     "data": {
      "text/plain": [
       "array([[-1.5, -0.5,  0.5,  1.5],\n",
       "       [-1.5, -0.5,  0.5,  1.5],\n",
       "       [-1.5, -0.5,  0.5,  1.5]])"
      ]
     },
     "execution_count": 17,
     "metadata": {},
     "output_type": "execute_result"
    }
   ],
   "source": [
    "arr - arr.mean(axis=1).reshape(3,1)"
   ]
  },
  {
   "cell_type": "code",
   "execution_count": 18,
   "metadata": {},
   "outputs": [
    {
     "data": {
      "text/plain": [
       "array([[-1.5, -0.5,  0.5,  1.5],\n",
       "       [-1.5, -0.5,  0.5,  1.5],\n",
       "       [-1.5, -0.5,  0.5,  1.5]])"
      ]
     },
     "execution_count": 18,
     "metadata": {},
     "output_type": "execute_result"
    }
   ],
   "source": [
    "arr - arr.mean(axis=1,keepdims=True)"
   ]
  },
  {
   "cell_type": "code",
   "execution_count": 24,
   "metadata": {},
   "outputs": [
    {
     "name": "stdout",
     "output_type": "stream",
     "text": [
      "[[ 5.  6. nan  7.]\n",
      " [ 1. nan  0.  5.]\n",
      " [-1.  5. nan  2.]] \n",
      "\n",
      "[[ 0.5  1.5 -4.5  2.5]\n",
      " [-0.5 -1.5 -1.5  3.5]\n",
      " [-2.5  3.5 -1.5  0.5]]\n"
     ]
    }
   ],
   "source": [
    "def mean_normalize(X):\n",
    "    X = np.nan_to_num(X)\n",
    "    Y = X - X.mean(axis=1, keepdims=True)\n",
    "    return Y\n",
    "print(X, '\\n')\n",
    "Y = mean_normalize(X)\n",
    "print(Y)"
   ]
  },
  {
   "cell_type": "markdown",
   "metadata": {},
   "source": [
    "#### Problem 2\n",
    "\n",
    "Given a 2D NumPy array with n rows and k columns, where the rows are students, and the columns are scores on quizzes (integer, between 0 and 20, inclusive), compute a result NumPy array of size k x 3 with the max, min, and average score on each quiz, and, separately, the average class score on all quizzes combined."
   ]
  },
  {
   "cell_type": "code",
   "execution_count": 25,
   "metadata": {},
   "outputs": [
    {
     "data": {
      "text/plain": [
       "array([[ 9,  3,  5, 12,  4],\n",
       "       [19, 16,  4, 10,  5],\n",
       "       [14,  2, 10,  3, 11],\n",
       "       [12, 20, 10, 10, 15],\n",
       "       [12,  7, 18, 17,  1],\n",
       "       [10,  3,  2, 12, 15],\n",
       "       [ 2,  1, 11, 17, 17],\n",
       "       [19,  5, 16, 17,  1],\n",
       "       [ 2, 13,  4,  3, 11],\n",
       "       [18,  5, 19, 20, 12]])"
      ]
     },
     "execution_count": 25,
     "metadata": {},
     "output_type": "execute_result"
    }
   ],
   "source": [
    "scores = np.random.randint(1,21,(10,5))\n",
    "scores"
   ]
  },
  {
   "cell_type": "code",
   "execution_count": 63,
   "metadata": {},
   "outputs": [
    {
     "data": {
      "text/plain": [
       "(array([[19. ,  2. , 11.7],\n",
       "        [20. ,  1. ,  7.5],\n",
       "        [19. ,  2. ,  9.9],\n",
       "        [20. ,  3. , 12.1],\n",
       "        [17. ,  1. ,  9.2]]),\n",
       " 10.08)"
      ]
     },
     "execution_count": 63,
     "metadata": {},
     "output_type": "execute_result"
    }
   ],
   "source": [
    "def getStats(scores):\n",
    "    res = np.empty((scores.shape[1],3))\n",
    "    res[:,0] = np.max(scores,axis=0)\n",
    "    res[:,1] = np.min(scores,axis=0)\n",
    "    res[:,2] = np.average(scores,axis=0)\n",
    "\n",
    "    return res, np.average(scores)\n",
    "\n",
    "getStats(scores)"
   ]
  },
  {
   "cell_type": "markdown",
   "metadata": {},
   "source": [
    "#### Problem 3\n",
    "\n",
    "Write a function that takes a 2D ndarray and cycles the rows up by 1 so that the first row becomes the last, the last becomes second-to-last, etc. "
   ]
  },
  {
   "cell_type": "code",
   "execution_count": 89,
   "metadata": {},
   "outputs": [
    {
     "name": "stdout",
     "output_type": "stream",
     "text": [
      "[[11  8 12]\n",
      " [ 3 11  6]\n",
      " [ 3  1 11]\n",
      " [ 1 11  6]\n",
      " [12  8  5]] \n",
      "\n"
     ]
    }
   ],
   "source": [
    "arr2d = np.random.randint(1,13,(5,3))\n",
    "print(arr2d, '\\n')"
   ]
  },
  {
   "cell_type": "code",
   "execution_count": 104,
   "metadata": {},
   "outputs": [
    {
     "name": "stdout",
     "output_type": "stream",
     "text": [
      "test:  5\n",
      "[1, 2, 3, 4, 0] \n",
      "\n",
      "[[ 3 11  6]\n",
      " [ 3  1 11]\n",
      " [ 1 11  6]\n",
      " [12  8  5]\n",
      " [11  8 12]]\n"
     ]
    }
   ],
   "source": [
    "\n",
    "\n",
    "def rowcycle(ndarr):\n",
    "    print('test: ', ndarr.shape[0])\n",
    "    cycle = list(range(1, ndarr.shape[0])) + [0]\n",
    "    print(cycle, '\\n')\n",
    "    return ndarr[cycle]\n",
    "\n",
    "print(rowcycle(arr2d))"
   ]
  },
  {
   "cell_type": "markdown",
   "metadata": {},
   "source": [
    "#### Problem 4\n",
    "\n",
    "Write a function that takes an ndarray and computes the standard deviation of the values in each row, without using the standard deviation function. It should return an array with these standard deviations. \n",
    "See https://www.mathsisfun.com/data/standard-deviation-formulas.html"
   ]
  },
  {
   "cell_type": "code",
   "execution_count": 18,
   "metadata": {},
   "outputs": [
    {
     "name": "stdout",
     "output_type": "stream",
     "text": [
      "[[ 3  1 -2]\n",
      " [ 1  8  2]\n",
      " [ 6  1  5]]\n",
      "================\n",
      "[0.66666667 3.66666667 4.        ]\n",
      "================\n",
      "[[0.66666667]\n",
      " [3.66666667]\n",
      " [4.        ]]\n",
      "================\n",
      "[[ 2.33333333  0.33333333 -2.66666667]\n",
      " [-2.66666667  4.33333333 -1.66666667]\n",
      " [ 2.         -3.          1.        ]]\n",
      "================\n",
      "[[ 5.44444444  0.11111111  7.11111111]\n",
      " [ 7.11111111 18.77777778  2.77777778]\n",
      " [ 4.          9.          1.        ]]\n",
      "================\n",
      "[12.66666667 28.66666667 14.        ]\n",
      "================\n",
      "[4.22222222 9.55555556 4.66666667]\n",
      "================\n",
      "[2.05480467 3.09120617 2.1602469 ]\n"
     ]
    }
   ],
   "source": [
    "import numpy as np\n",
    "arr = np.array([[3,1,-2],[1,8,2],[6,1,5]])\n",
    "print(arr)\n",
    "print(\"================\")\n",
    "mn = np.mean(arr, axis=1)\n",
    "print(mn)\n",
    "print(\"================\")\n",
    "mn = mn.reshape(3,1)\n",
    "print(mn)\n",
    "print(\"================\")\n",
    "arr1 = arr-mn\n",
    "print(arr1)\n",
    "print(\"================\")\n",
    "arr1 = arr1 ** 2\n",
    "print(arr1)\n",
    "print(\"================\")\n",
    "arr1 = arr1.sum(axis=1)\n",
    "print(arr1)\n",
    "print(\"================\")\n",
    "arr1 = arr1/arr.shape[1]\n",
    "print(arr1)\n",
    "print(\"================\")\n",
    "arr1 = np.sqrt(arr1)\n",
    "print(arr1)"
   ]
  },
  {
   "cell_type": "markdown",
   "metadata": {
    "id": "MBaivsluw2nW"
   },
   "source": [
    "#### Problem 5:\n",
    "\n",
    "Create a 2D array of shape 5x3 to contain random decimal numbers between 5 and 10. Get the position (index) of the two largest numbers in each row. From the generated 2D array, replace all values greater than 8 to 10 and less than 6 to 5."
   ]
  },
  {
   "cell_type": "code",
   "execution_count": 58,
   "metadata": {},
   "outputs": [
    {
     "name": "stdout",
     "output_type": "stream",
     "text": [
      "[[9.87717233 8.23802704 8.90261927]\n",
      " [6.99795667 6.81187703 6.40405178]\n",
      " [5.66622546 9.24241081 9.86837441]\n",
      " [6.26487161 7.36002224 5.39886119]\n",
      " [8.50408219 7.89456746 6.69895841]]\n",
      "[[0 2 1]\n",
      " [0 1 2]\n",
      " [2 1 0]\n",
      " [1 0 2]\n",
      " [0 1 2]] \n",
      "\n",
      "[[0 2]\n",
      " [0 1]\n",
      " [2 1]\n",
      " [1 0]\n",
      " [0 1]] \n",
      "\n",
      "[[10.         10.         10.        ]\n",
      " [ 6.99795667  6.81187703  6.40405178]\n",
      " [ 5.         10.         10.        ]\n",
      " [ 6.26487161  7.36002224  5.        ]\n",
      " [10.          7.89456746  6.69895841]]\n"
     ]
    }
   ],
   "source": [
    "a = np.random.uniform(5,10, size=(5,3))\n",
    "print(a)\n",
    "\n",
    "max_pos = np.flip(np.argsort(a, axis=1), axis=1)\n",
    "print(max_pos, \"\\n\")\n",
    "max_pos = max_pos[:,:2]\n",
    "print(max_pos, \"\\n\")\n",
    "\n",
    "new_arr = np.where(a < 6, 5, np.where(a > 8, 10, a))\n",
    "print(new_arr)\n",
    "\n",
    "\n"
   ]
  },
  {
   "cell_type": "markdown",
   "metadata": {
    "id": "hUfAGQNkw2nY"
   },
   "source": [
    "#### Problem 6:\n",
    "\n",
    "Generate *one-hot encodings* for a list of values (classes). One-hot encoding and its applications are explained in the following resources: \n",
    "1. https://en.wikipedia.org/wiki/One-hot\n",
    "2. https://medium.com/@michaeldelsole/what-is-one-hot-encoding-and-how-to-do-it-f0ae272f1179\n",
    "\n",
    "Write a function that takes a 1-d List as input and return a 2-d Numpy array where the rows are the one-hot encoding of the classes in the list. Eg: Input: ['cat','camel','dog','cat'] <br>\n",
    "Output: [[1, 0, 0], [0, 1, 0], [0, 0, 1], [1, 0, 0]]"
   ]
  },
  {
   "cell_type": "code",
   "execution_count": 61,
   "metadata": {},
   "outputs": [
    {
     "name": "stdout",
     "output_type": "stream",
     "text": [
      "[[1. 0. 0.]\n",
      " [0. 1. 0.]\n",
      " [0. 0. 1.]\n",
      " [1. 0. 0.]\n",
      " [0. 1. 0.]]\n"
     ]
    }
   ],
   "source": [
    "def one_hot_encoding(l):\n",
    "    arr = np.array(l)\n",
    "    num_classes = np.unique(arr)\n",
    "    encoding = np.zeros((arr.shape[0], num_classes.shape[0]))\n",
    "    for i, k in enumerate(arr):\n",
    "        encoding[i, k-1] = 1\n",
    "    return encoding\n",
    "\n",
    "l = [1,2,0,1,2]\n",
    "print(one_hot_encoding"
   ]
  },
  {
   "cell_type": "code",
   "execution_count": 66,
   "metadata": {},
   "outputs": [
    {
     "name": "stdout",
     "output_type": "stream",
     "text": [
      "Counted nan values: 15\n"
     ]
    },
    {
     "data": {
      "text/plain": [
       "array([5, 5, 5])"
      ]
     },
     "execution_count": 66,
     "metadata": {},
     "output_type": "execute_result"
    }
   ],
   "source": [
    "new_values= np.array([[np.nan,np.nan,np.nan,0,np.nan,0,np.nan], [np.nan,np.nan,np.nan,0,np.nan,0,np.nan], [np.nan,np.nan,np.nan,0,np.nan,0,np.nan]])\n",
    "new_result= np.count_nonzero(new_values)\n",
    "print(\"Counted nan values:\",new_result)\n",
    "\n",
    "np.sum(np.isnan(new_values),axis=1)\n",
    "\n"
   ]
  },
  {
   "cell_type": "code",
   "execution_count": 73,
   "metadata": {},
   "outputs": [
    {
     "name": "stdout",
     "output_type": "stream",
     "text": [
      "[1 0 4 5 6 7 8 9]\n",
      "[ 1  0  4 25  6 49  8 81]\n"
     ]
    }
   ],
   "source": [
    "nparr = np.array([1,0,4,5,6,7,8,9])\n",
    "print(nparr)\n",
    "res = np.where(nparr%2==1,nparr**2,nparr)\n",
    "print(np.where(nparr%2==1,nparr**2,nparr))\n"
   ]
  },
  {
   "cell_type": "code",
   "execution_count": 78,
   "metadata": {},
   "outputs": [
    {
     "data": {
      "text/plain": [
       "<re.Match object; span=(0, 8), match='ab c ba '>"
      ]
     },
     "execution_count": 78,
     "metadata": {},
     "output_type": "execute_result"
    }
   ],
   "source": [
    "regex = r\"[\\s]*([\\s]*[\\S][\\s]*)([\\s]*[\\S][\\s]*)[\\s]*[\\S][\\s]*\\2[\\s]*\\1[\\s]*\"\n",
    "re.match(regex, 'ab c ba ')"
   ]
  },
  {
   "cell_type": "code",
   "execution_count": null,
   "metadata": {},
   "outputs": [],
   "source": []
  }
 ],
 "metadata": {
  "colab": {
   "name": "Week 7 Exercises Solution.ipynb",
   "provenance": []
  },
  "kernelspec": {
   "display_name": "Python 3 (ipykernel)",
   "language": "python",
   "name": "python3"
  },
  "language_info": {
   "codemirror_mode": {
    "name": "ipython",
    "version": 3
   },
   "file_extension": ".py",
   "mimetype": "text/x-python",
   "name": "python",
   "nbconvert_exporter": "python",
   "pygments_lexer": "ipython3",
   "version": "3.9.7"
  }
 },
 "nbformat": 4,
 "nbformat_minor": 4
}
