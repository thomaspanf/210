{
 "cells": [
  {
   "cell_type": "code",
   "execution_count": 534,
   "id": "dd32af72-d196-4457-afb6-420d02e1ac91",
   "metadata": {},
   "outputs": [],
   "source": [
    "import csv\n",
    "from csv import reader, writer\n",
    "from collections import Counter\n",
    "\n"
   ]
  },
  {
   "cell_type": "code",
   "execution_count": 535,
   "id": "61d367f8-5771-40ea-ad84-63a0f2c358d4",
   "metadata": {},
   "outputs": [],
   "source": [
    "\n",
    "def over40():\n",
    "    with open('pokemonTrain.csv', 'r') as file:\n",
    "        next(file)\n",
    "        reader = csv.reader(file)\n",
    "        total = 0\n",
    "        over40 = 0\n",
    "        for row in reader:\n",
    "            total+=1\n",
    "            if float(row[2])>=40:\n",
    "                over40+=1\n",
    "        percent = round(over40/total*100)\n",
    "        print(f\"Percentage of fire type Pokemons at or above level 40 = {percent}\")\n",
    "    with open('pokemon1.txt', 'w') as file:\n",
    "        file.write(f\"Percentage of fire type Pokemons at or above level 40 = {percent}\")\n"
   ]
  },
  {
   "cell_type": "code",
   "execution_count": 536,
   "id": "1d9153d5-6b5d-43db-af51-e56401cbca4d",
   "metadata": {},
   "outputs": [
    {
     "name": "stdout",
     "output_type": "stream",
     "text": [
      "Percentage of fire type Pokemons at or above level 40 = 62\n"
     ]
    }
   ],
   "source": [
    "over40()"
   ]
  },
  {
   "cell_type": "code",
   "execution_count": 537,
   "id": "0f74791a-6403-494c-b863-6c599b6435a9",
   "metadata": {},
   "outputs": [],
   "source": [
    "def fillTypes():\n",
    "    \n",
    "    copy_csv('pokemonTrain.csv')\n",
    "    \n",
    "    with open('pokemonResult.csv', 'r') as file:\n",
    "        next(file)\n",
    "        reader = csv.reader(file)\n",
    "        \n",
    "        #calculate weakness weighting\n",
    "        waterweakness = []\n",
    "        fightingweakness = []\n",
    "        flyingweakness = []\n",
    "        fireweakness = []\n",
    "        for row in reader:\n",
    "            if row[5]=='water' and row[4]!='NaN':\n",
    "                waterweakness.append(row[4])  \n",
    "            if row[5]=='fighting' and row[4]!='NaN':\n",
    "                fightingweakness.append(row[4])\n",
    "            if row[5]=='flying' and row[4]!='NaN':\n",
    "                flyingweakness.append(row[4])\n",
    "            if row[5]=='fire' and row[4]!='NaN':\n",
    "                fireweakness.append(row[4])\n",
    "                \n",
    "        water = most_common(waterweakness)\n",
    "        fighting = most_common(fightingweakness)\n",
    "        flying = most_common(flyingweakness)\n",
    "        fire = most_common(fireweakness)\n",
    "        \n",
    "        print(fire)\n",
    "\n",
    "    with open('pokemonTrain.csv') as inf:\n",
    "        #reader = csv.reader(inf.readlines())\n",
    "        reader = csv.reader(inf.readlines(), skipinitialspace=True)\n",
    "\n",
    "    with open('pokemonResult.csv', 'w') as outf:\n",
    "        writer = csv.writer(outf)\n",
    "        for row in reader:\n",
    "            if row[4] == 'NaN':\n",
    "                if row[5]=='water':\n",
    "                    replaced = row[4].replace('NaN',water)  \n",
    "                    row[4] = replaced\n",
    "            if row[4] == 'NaN':\n",
    "                if row[5]=='fighting':\n",
    "                    replaced = row[4].replace('NaN',fighting)  \n",
    "                    row[4] = replaced\n",
    "            if row[4] == 'NaN':\n",
    "                if row[5]=='flying':\n",
    "                    replaced = row[4].replace('NaN',flying)  \n",
    "                    row[4] = replaced\n",
    "            if row[4] == 'NaN':\n",
    "                if row[5]=='fire':\n",
    "                    replaced = row[4].replace('NaN',fire)  \n",
    "                    row[4] = replaced\n",
    "                    writer.writerow(row)\n",
    "            else:\n",
    "                writer.writerow(row)\n",
    "        writer.writerows(reader)\n",
    "   # copy_csv('pokemonResult.csv')"
   ]
  },
  {
   "cell_type": "code",
   "execution_count": 538,
   "id": "3182d8c0-6fcb-4e6e-a84b-5bde7edd89fe",
   "metadata": {},
   "outputs": [
    {
     "name": "stdout",
     "output_type": "stream",
     "text": [
      "grass\n"
     ]
    }
   ],
   "source": [
    "fillTypes()"
   ]
  },
  {
   "cell_type": "raw",
   "id": "8f76fcaa-9f50-479e-9ef1-99a32c5670a5",
   "metadata": {},
   "source": [
    "water, fighting, flying, fire"
   ]
  },
  {
   "cell_type": "code",
   "execution_count": null,
   "id": "efbb9057-5d33-4247-8511-3cf61a09774f",
   "metadata": {},
   "outputs": [],
   "source": []
  },
  {
   "cell_type": "code",
   "execution_count": 539,
   "id": "d25a7166-b0f0-425e-8646-e65235a626eb",
   "metadata": {},
   "outputs": [],
   "source": [
    "def copy0(csv_string):\n",
    "    with open(csv_string, 'r') as f1:\n",
    "        reader = csv.reader(f1)\n",
    "        with open('pokemonResult.csv', 'w') as f2:\n",
    "            writer = csv.writer(f2)\n",
    "            for row in reader:\n",
    "                if(len(row) < 1):\n",
    "                    continue\n",
    "                writer.writerow(row)"
   ]
  },
  {
   "cell_type": "code",
   "execution_count": 540,
   "id": "731a49eb-46a2-40b5-8af7-fd2375e20037",
   "metadata": {},
   "outputs": [],
   "source": [
    "def copy1(csv_string):\n",
    "    # read\n",
    "    data = []\n",
    "    with open(csv_string, 'r') as f:\n",
    "        f_csv = csv.reader(f)\n",
    "        # header = next(f_csv)\n",
    "        for row in f_csv:\n",
    "            data.append(row)\n",
    "    # write\n",
    "    with open('pokemonResult.csv', 'w') as f:\n",
    "        writer = csv.writer(f)\n",
    "        for i in range(len(data)):\n",
    "            if any(field.strip() for field in row):\n",
    "                writer.writerow(data[i])\n"
   ]
  },
  {
   "cell_type": "code",
   "execution_count": 541,
   "id": "f015e788-a2e6-4ce8-acbd-c3221e56794e",
   "metadata": {},
   "outputs": [],
   "source": [
    "## use this one oof\n",
    "# copies csv and writes to new csv file\n",
    "def copy_csv(csv_string):\n",
    "    with open(csv_string) as input, open('pokemonResult.csv', 'w') as output:\n",
    "        non_blank = (line for line in input if line.strip())\n",
    "        output.writelines(non_blank)\n"
   ]
  },
  {
   "cell_type": "code",
   "execution_count": 542,
   "id": "569e7ad1-469b-429f-bb26-d53931a83465",
   "metadata": {},
   "outputs": [
    {
     "name": "stdout",
     "output_type": "stream",
     "text": [
      "113.5\n",
      "111.4\n"
     ]
    }
   ],
   "source": [
    "def generate_new_csv():\n",
    "    water, fighting, flying, fire = calculate_weakness()\n",
    "    atkover_40, atkleq_40 = calculate_atk()\n",
    "    defover_40, defleq_40 = calculate_def()\n",
    "    hpover_40, hpleq_40 = calculate_hp()\n",
    "    \n",
    "    print(hpover_40)\n",
    "    print(hpleq_40)\n",
    "    \n",
    "    with open('pokemonResult.csv', 'r') as file:\n",
    "        next(file)\n",
    "        reader = csv.reader(file)\n",
    "\n",
    "generate_new_csv()\n",
    "\n",
    "\n",
    "\n"
   ]
  },
  {
   "cell_type": "code",
   "execution_count": 543,
   "id": "79963e88-9144-43c5-930a-19612b5c9dab",
   "metadata": {},
   "outputs": [],
   "source": [
    "def calculate_weakness():\n",
    "    with open('pokemonTrain.csv', 'r') as file:\n",
    "        next(file)\n",
    "        reader = csv.reader(file)\n",
    "        \n",
    "        #calculate weakness weighting\n",
    "        waterweakness = []\n",
    "        fightingweakness = []\n",
    "        flyingweakness = []\n",
    "        fireweakness = []\n",
    "        for row in reader:\n",
    "            if row[5]=='water' and row[4]!='NaN':\n",
    "                 waterweakness.append(row[4])  \n",
    "            if row[5]=='fighting' and row[4]!='NaN':\n",
    "                fightingweakness.append(row[4])\n",
    "            if row[5]=='flying' and row[4]!='NaN':\n",
    "                flyingweakness.append(row[4])\n",
    "            if row[5]=='fire' and row[4]!='NaN':\n",
    "                fireweakness.append(row[4])\n",
    "                \n",
    "        water = most_common(waterweakness)\n",
    "        fighting = most_common(fightingweakness)\n",
    "        flying = most_common(flyingweakness)\n",
    "        fire = most_common(fireweakness)\n",
    "        \n",
    "    return water, fighting, flying, fire"
   ]
  },
  {
   "cell_type": "code",
   "execution_count": 544,
   "id": "e38b4e3c-7a8d-455f-9f4f-561132117960",
   "metadata": {},
   "outputs": [],
   "source": [
    "def calculate_atk():\n",
    "     with open('pokemonTrain.csv', 'r') as file:\n",
    "        next(file)\n",
    "        reader = csv.reader(file)\n",
    "        tot_over_40 = 0\n",
    "        count_over_40 = 0\n",
    "        tot_leq_40 = 0\n",
    "        count_leq_40 = 0\n",
    "        for row in reader:\n",
    "            if row[6] != 'NaN':\n",
    "                if int((float(row[2]))) > 40:\n",
    "                    tot_over_40 += int(float((row[6])))\n",
    "                    count_over_40+=1\n",
    "                if int((float(row[2]))) <= (40):\n",
    "                    tot_leq_40 += int(float((row[6])))\n",
    "                    count_leq_40+=1\n",
    "        avg_over_40 = round((tot_over_40/count_over_40), 1)\n",
    "        avg_leq_40 = round((tot_leq_40/count_leq_40), 1)\n",
    "        return avg_over_40, avg_leq_40\n"
   ]
  },
  {
   "cell_type": "code",
   "execution_count": 545,
   "id": "4988baae-8a26-4d22-aacb-e74635b27fd8",
   "metadata": {},
   "outputs": [],
   "source": [
    "def calculate_def():\n",
    "     with open('pokemonTrain.csv', 'r') as file:\n",
    "        next(file)\n",
    "        reader = csv.reader(file)\n",
    "        tot_over_40 = 0\n",
    "        count_over_40 = 0\n",
    "        tot_leq_40 = 0\n",
    "        count_leq_40 = 0\n",
    "        for row in reader:\n",
    "            if row[7] != 'NaN':\n",
    "                if int((float(row[2]))) > 40:\n",
    "                    tot_over_40 += int(float((row[7])))\n",
    "                    count_over_40+=1\n",
    "                if int((float(row[2]))) <= (40):\n",
    "                    tot_leq_40 += int(float((row[7])))\n",
    "                    count_leq_40+=1\n",
    "        avg_over_40 = round((tot_over_40/count_over_40), 1)\n",
    "        avg_leq_40 = round((tot_leq_40/count_leq_40), 1)\n",
    "        return avg_over_40, avg_leq_40"
   ]
  },
  {
   "cell_type": "code",
   "execution_count": 546,
   "id": "d91aa4e1-0140-4933-b120-2e28623b9c41",
   "metadata": {},
   "outputs": [],
   "source": [
    "def calculate_hp():\n",
    "     with open('pokemonTrain.csv', 'r') as file:\n",
    "        next(file)\n",
    "        reader = csv.reader(file)\n",
    "        tot_over_40 = 0\n",
    "        count_over_40 = 0\n",
    "        tot_leq_40 = 0\n",
    "        count_leq_40 = 0\n",
    "        for row in reader:\n",
    "            if row[8] != 'NaN':\n",
    "                if int((float(row[2]))) > 40:\n",
    "                    tot_over_40 += int(float((row[8])))\n",
    "                    count_over_40+=1\n",
    "                if int((float(row[2]))) <= (40):\n",
    "                    tot_leq_40 += int(float((row[8])))\n",
    "                    count_leq_40+=1\n",
    "        avg_over_40 = round((tot_over_40/count_over_40), 1)\n",
    "        avg_leq_40 = round((tot_leq_40/count_leq_40), 1)\n",
    "        return avg_over_40, avg_leq_40"
   ]
  },
  {
   "cell_type": "code",
   "execution_count": 547,
   "id": "e64da908-e4cf-498a-9acb-32d152b5a31d",
   "metadata": {},
   "outputs": [],
   "source": [
    "def most_common(lst):\n",
    "    lst.sort()\n",
    "    data = Counter(lst)\n",
    "    return max(lst, key=data.get)"
   ]
  },
  {
   "cell_type": "code",
   "execution_count": null,
   "id": "f55378e2-fd08-4bb3-b3fb-2e687d0307eb",
   "metadata": {},
   "outputs": [],
   "source": []
  },
  {
   "cell_type": "code",
   "execution_count": null,
   "id": "02ff5922-6742-43fb-9412-6e47c95ad140",
   "metadata": {},
   "outputs": [],
   "source": []
  },
  {
   "cell_type": "code",
   "execution_count": null,
   "id": "bdadbce7-97d5-4c38-8231-b7de4683f4f0",
   "metadata": {},
   "outputs": [],
   "source": []
  },
  {
   "cell_type": "code",
   "execution_count": null,
   "id": "96f30653-90de-46dc-b7bf-e98954443d8f",
   "metadata": {},
   "outputs": [],
   "source": []
  },
  {
   "cell_type": "code",
   "execution_count": null,
   "id": "d8deb5b8-7614-4cf2-b2a1-6e52b127894e",
   "metadata": {},
   "outputs": [],
   "source": []
  },
  {
   "cell_type": "code",
   "execution_count": null,
   "id": "ac090f0b-76f7-4ac2-930b-169fe29f43e9",
   "metadata": {},
   "outputs": [],
   "source": []
  },
  {
   "cell_type": "code",
   "execution_count": null,
   "id": "b983c69c-7773-484a-9c17-94e61a71546c",
   "metadata": {},
   "outputs": [],
   "source": []
  },
  {
   "cell_type": "code",
   "execution_count": null,
   "id": "196b46e2-646e-47c4-9e87-322ee6dc1fce",
   "metadata": {},
   "outputs": [],
   "source": []
  },
  {
   "cell_type": "code",
   "execution_count": null,
   "id": "5a6b45a5-2c81-44e2-bae8-bfcf081f5238",
   "metadata": {},
   "outputs": [],
   "source": []
  },
  {
   "cell_type": "code",
   "execution_count": null,
   "id": "20d5da03-e1d0-4d86-8563-641e4573ce9d",
   "metadata": {},
   "outputs": [],
   "source": []
  },
  {
   "cell_type": "code",
   "execution_count": null,
   "id": "77e7bb9a-f644-46be-9fdf-8a162b1356e3",
   "metadata": {},
   "outputs": [],
   "source": []
  },
  {
   "cell_type": "code",
   "execution_count": null,
   "id": "7875778c-6798-429e-88ad-be0778a30b28",
   "metadata": {},
   "outputs": [],
   "source": []
  },
  {
   "cell_type": "code",
   "execution_count": null,
   "id": "a34c183a-9642-4a1c-8fb4-ba9e4a4196d2",
   "metadata": {},
   "outputs": [],
   "source": []
  },
  {
   "cell_type": "code",
   "execution_count": null,
   "id": "126cd2f6-6da7-4422-89ae-baf2599f5325",
   "metadata": {},
   "outputs": [],
   "source": []
  },
  {
   "cell_type": "code",
   "execution_count": null,
   "id": "a9367bbd-9dd7-427f-9ee1-41b983453d16",
   "metadata": {},
   "outputs": [],
   "source": []
  }
 ],
 "metadata": {
  "kernelspec": {
   "display_name": "Python 3 (ipykernel)",
   "language": "python",
   "name": "python3"
  },
  "language_info": {
   "codemirror_mode": {
    "name": "ipython",
    "version": 3
   },
   "file_extension": ".py",
   "mimetype": "text/x-python",
   "name": "python",
   "nbconvert_exporter": "python",
   "pygments_lexer": "ipython3",
   "version": "3.9.7"
  }
 },
 "nbformat": 4,
 "nbformat_minor": 5
}
