{
 "cells": [
  {
   "cell_type": "code",
   "execution_count": 24,
   "id": "420d3467-7999-4a02-8efc-566e1c3a2f3d",
   "metadata": {},
   "outputs": [],
   "source": [
    "import csv\n",
    "from csv import reader, writer\n",
    "from collections import Counter\n",
    "from collections import defaultdict\n",
    "import re\n"
   ]
  },
  {
   "cell_type": "code",
   "execution_count": 25,
   "id": "54980fb4-a36e-4471-9a8e-34a57da0f12d",
   "metadata": {},
   "outputs": [],
   "source": [
    "def generate_covid_result():\n",
    "    \n",
    " \n",
    "    \n",
    "    with open('test.csv', 'r') as f1, open('covidResult.csv', 'w', newline='') as f2:\n",
    "        next(f1)\n",
    "        reader = csv.reader(f1)\n",
    "        writer = csv.writer(f2)\n",
    "        writer.writerow(['ID', 'age', 'sex', 'city', 'province', 'country', 'latitude', 'longitude', 'date_onset_symptoms', 'date_admission_hospital', 'date_confirmation', 'symptoms'])\n",
    "        for row in reader:\n",
    "            row[8] = row[8].replace(row[8], change_date_format(row[8]))\n",
    "            row[9] = row[9].replace(row[9], change_date_format(row[9]))\n",
    "            row[10] = row[10].replace(row[10], change_date_format(row[10]))\n",
    "\n",
    "            if re.search('[-]', row[1]):\n",
    "                row[1] = row[1].replace(row[1], find_avg_age(row[1]))\n",
    "            if row[6]=='NaN':\n",
    "                row[6] = row[6].replace(row[6], most_common_longlat(row[4], 0))\n",
    "            if row[7]=='NaN':\n",
    "                row[7] = row[7].replace(row[7], most_common_longlat(row[4], 1))\n",
    "            if row[3]=='NaN':\n",
    "                row[3] = row[3].replace(row[3], most_common_city(row[4]))\n",
    "            if row[11]=='NaN':\n",
    "                row[11] = row[11].replace(row[11], most_common_symptom(row[4]))\n",
    "                writer.writerow(row)\n",
    "            else:\n",
    "                writer.writerow(row)\n",
    "                \n",
    "        writer.writerows(reader)\n",
    "            \n",
    "        \n",
    "        \n",
    "generate_covid_result()"
   ]
  },
  {
   "cell_type": "code",
   "execution_count": 26,
   "id": "a64d8742-4b88-4a86-b420-45e7befc9692",
   "metadata": {},
   "outputs": [],
   "source": [
    "def find_avg_age(string):\n",
    "    res = re.findall('\\d+', string)\n",
    "    average = round((int(res[0])+int(res[1]))/2)\n",
    "\n",
    "    return str(average)"
   ]
  },
  {
   "cell_type": "code",
   "execution_count": 27,
   "id": "986a4f0d-74b2-4633-9535-66e72fd118a5",
   "metadata": {},
   "outputs": [
    {
     "data": {
      "text/plain": [
       "'12'"
      ]
     },
     "execution_count": 27,
     "metadata": {},
     "output_type": "execute_result"
    }
   ],
   "source": [
    "find_avg_age('10-14')"
   ]
  },
  {
   "cell_type": "code",
   "execution_count": 28,
   "id": "1fab8bb6-7831-47a5-91ed-1f64be3150ae",
   "metadata": {},
   "outputs": [
    {
     "name": "stdout",
     "output_type": "stream",
     "text": [
      "dash found\n"
     ]
    }
   ],
   "source": [
    "string = '10-14'\n",
    " \n",
    "if re.search('[-]', string):\n",
    "    print('dash found')"
   ]
  },
  {
   "cell_type": "code",
   "execution_count": 29,
   "id": "c8bd6b9e-7f9f-4152-9b14-b74655c15ccc",
   "metadata": {},
   "outputs": [],
   "source": [
    "#dd.mm.yyyy to mm.dd.yyyy\n",
    "def change_date_format(string):\n",
    "    return re.sub(r'(\\d{1,2}).(\\d{1,2}).(\\d{4})', '\\\\2.\\\\1.\\\\3', string)"
   ]
  },
  {
   "cell_type": "code",
   "execution_count": 30,
   "id": "a2b55c76-eca2-4f79-9637-9444fe52c7f7",
   "metadata": {},
   "outputs": [
    {
     "data": {
      "text/plain": [
       "'10.01.3000'"
      ]
     },
     "execution_count": 30,
     "metadata": {},
     "output_type": "execute_result"
    }
   ],
   "source": [
    "change_date_format('01.10.3000')"
   ]
  },
  {
   "cell_type": "code",
   "execution_count": 38,
   "id": "499cbb5a-41c1-4e0a-8817-263390ab7a02",
   "metadata": {},
   "outputs": [
    {
     "data": {
      "text/plain": [
       "'117.1'"
      ]
     },
     "execution_count": 38,
     "metadata": {},
     "output_type": "execute_result"
    }
   ],
   "source": [
    "#used to find either avg lat OR long for a province\n",
    "#str province #int option\n",
    "def most_common_longlat(province, option):\n",
    "     with open('covidTrain.csv', 'r') as f1:\n",
    "        next(f1)\n",
    "        reader = csv.reader(f1)\n",
    "        tot = 0\n",
    "        count = 0\n",
    "    \n",
    "        for row in reader:\n",
    "            if row[4]==province and option==0 and row[6]!='NaN':\n",
    "                tot+=(float((row[6])))\n",
    "                count+= 1\n",
    "            if row[4]==province and option==1 and row[7]!='NaN':\n",
    "                tot+=(float((row[7])))\n",
    "                count+= 1\n",
    "        if(count == 0):\n",
    "            return 0\n",
    "        else: \n",
    "            avg = str(round(tot/count, 2))     \n",
    "            return avg\n",
    "         \n",
    "most_common_longlat(\"Anhui\", 1)"
   ]
  },
  {
   "cell_type": "code",
   "execution_count": 39,
   "id": "63293ced-e6d4-461a-9638-bd85e5701e87",
   "metadata": {},
   "outputs": [
    {
     "data": {
      "text/plain": [
       "\"Ma'anshan City\""
      ]
     },
     "execution_count": 39,
     "metadata": {},
     "output_type": "execute_result"
    }
   ],
   "source": [
    "def most_common_city(province):\n",
    "    with open('test.csv', 'r') as f1: \n",
    "        next(f1)\n",
    "        reader = csv.reader(f1)\n",
    "        cities_in_province = []\n",
    "        for row in reader:\n",
    "            if row[4]==province and row[3]!='NaN':\n",
    "                cities_in_province.append(row[3])\n",
    "        return most_common(cities_in_province)\n",
    "most_common_city(\"Anhui\")"
   ]
  },
  {
   "cell_type": "code",
   "execution_count": 11,
   "id": "2aaafb23-f511-409f-87b6-604d2a3614eb",
   "metadata": {},
   "outputs": [],
   "source": [
    "def most_common(lst):\n",
    "    lst.sort()\n",
    "    data = Counter(lst)\n",
    "    return max(lst, key=data.get)"
   ]
  },
  {
   "cell_type": "code",
   "execution_count": 12,
   "id": "85db4d96-f30a-4eda-a5ad-f4ef84a367bd",
   "metadata": {},
   "outputs": [
    {
     "data": {
      "text/plain": [
       "'fever'"
      ]
     },
     "execution_count": 12,
     "metadata": {},
     "output_type": "execute_result"
    }
   ],
   "source": [
    "def most_common_symptom(province):\n",
    "    with open('test.csv', 'r') as f1:\n",
    "        next(f1)\n",
    "        reader = csv.reader(f1)\n",
    "        symptoms_in_province = []\n",
    "        for row in reader:\n",
    "            if row[4]==province and row[11]!='NaN':\n",
    "                lst = re.split('; |, ', row[11])\n",
    "                symptoms_in_province.extend(lst)\n",
    "        return most_common(symptoms_in_province)\n",
    "most_common_symptom(\"Anhui\")"
   ]
  },
  {
   "cell_type": "code",
   "execution_count": 13,
   "id": "e947b5c7-9cbe-4abd-afc6-b377de6a88ea",
   "metadata": {},
   "outputs": [
    {
     "data": {
      "text/plain": [
       "['fever', 'sore throat', 'cough', 'weak', 'expectoration', 'muscular soreness']"
      ]
     },
     "execution_count": 13,
     "metadata": {},
     "output_type": "execute_result"
    }
   ],
   "source": [
    "string =   \"fever; sore throat;cough;weak; expectoration;muscular soreness\"\n",
    "re.split('; |;', string)"
   ]
  },
  {
   "cell_type": "code",
   "execution_count": null,
   "id": "c348f9d8-f161-4070-b545-656a5e0cf414",
   "metadata": {},
   "outputs": [],
   "source": []
  },
  {
   "cell_type": "code",
   "execution_count": null,
   "id": "7436b0aa-2723-4706-8e49-fe83fb837672",
   "metadata": {},
   "outputs": [],
   "source": []
  }
 ],
 "metadata": {
  "kernelspec": {
   "display_name": "Python 3 (ipykernel)",
   "language": "python",
   "name": "python3"
  },
  "language_info": {
   "codemirror_mode": {
    "name": "ipython",
    "version": 3
   },
   "file_extension": ".py",
   "mimetype": "text/x-python",
   "name": "python",
   "nbconvert_exporter": "python",
   "pygments_lexer": "ipython3",
   "version": "3.9.7"
  }
 },
 "nbformat": 4,
 "nbformat_minor": 5
}
