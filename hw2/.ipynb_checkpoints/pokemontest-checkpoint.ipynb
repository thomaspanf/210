{
 "cells": [
  {
   "cell_type": "code",
   "execution_count": 377,
   "id": "dd32af72-d196-4457-afb6-420d02e1ac91",
   "metadata": {},
   "outputs": [],
   "source": [
    "import csv\n",
    "from csv import reader, writer\n",
    "from collections import Counter\n",
    "\n"
   ]
  },
  {
   "cell_type": "code",
   "execution_count": 378,
   "id": "61d367f8-5771-40ea-ad84-63a0f2c358d4",
   "metadata": {},
   "outputs": [],
   "source": [
    "\n",
    "def over40():\n",
    "    with open('pokemonResult.csv', 'r') as file:\n",
    "        next(file)\n",
    "        reader = csv.reader(file)\n",
    "        total = 0\n",
    "        over40 = 0\n",
    "        for row in reader:\n",
    "            total+=1\n",
    "            if float(row[2])>=40:\n",
    "                over40+=1\n",
    "        percent = round(over40/total*100)\n",
    "        print(f\"Percentage of fire type Pokemons at or above level 40 = {percent}\")\n",
    "    with open('pokemon1.txt', 'w') as file:\n",
    "        file.write(f\"Percentage of fire type Pokemons at or above level 40 = {percent}\")\n"
   ]
  },
  {
   "cell_type": "code",
   "execution_count": 379,
   "id": "1d9153d5-6b5d-43db-af51-e56401cbca4d",
   "metadata": {},
   "outputs": [
    {
     "ename": "IndexError",
     "evalue": "list index out of range",
     "output_type": "error",
     "traceback": [
      "\u001b[1;31m---------------------------------------------------------------------------\u001b[0m",
      "\u001b[1;31mIndexError\u001b[0m                                Traceback (most recent call last)",
      "\u001b[1;32m~\\AppData\\Local\\Temp/ipykernel_2844/2822851749.py\u001b[0m in \u001b[0;36m<module>\u001b[1;34m\u001b[0m\n\u001b[1;32m----> 1\u001b[1;33m \u001b[0mover40\u001b[0m\u001b[1;33m(\u001b[0m\u001b[1;33m)\u001b[0m\u001b[1;33m\u001b[0m\u001b[1;33m\u001b[0m\u001b[0m\n\u001b[0m",
      "\u001b[1;32m~\\AppData\\Local\\Temp/ipykernel_2844/2756266793.py\u001b[0m in \u001b[0;36mover40\u001b[1;34m()\u001b[0m\n\u001b[0;32m      7\u001b[0m         \u001b[1;32mfor\u001b[0m \u001b[0mrow\u001b[0m \u001b[1;32min\u001b[0m \u001b[0mreader\u001b[0m\u001b[1;33m:\u001b[0m\u001b[1;33m\u001b[0m\u001b[1;33m\u001b[0m\u001b[0m\n\u001b[0;32m      8\u001b[0m             \u001b[0mtotal\u001b[0m\u001b[1;33m+=\u001b[0m\u001b[1;36m1\u001b[0m\u001b[1;33m\u001b[0m\u001b[1;33m\u001b[0m\u001b[0m\n\u001b[1;32m----> 9\u001b[1;33m             \u001b[1;32mif\u001b[0m \u001b[0mfloat\u001b[0m\u001b[1;33m(\u001b[0m\u001b[0mrow\u001b[0m\u001b[1;33m[\u001b[0m\u001b[1;36m2\u001b[0m\u001b[1;33m]\u001b[0m\u001b[1;33m)\u001b[0m\u001b[1;33m>=\u001b[0m\u001b[1;36m40\u001b[0m\u001b[1;33m:\u001b[0m\u001b[1;33m\u001b[0m\u001b[1;33m\u001b[0m\u001b[0m\n\u001b[0m\u001b[0;32m     10\u001b[0m                 \u001b[0mover40\u001b[0m\u001b[1;33m+=\u001b[0m\u001b[1;36m1\u001b[0m\u001b[1;33m\u001b[0m\u001b[1;33m\u001b[0m\u001b[0m\n\u001b[0;32m     11\u001b[0m         \u001b[0mpercent\u001b[0m \u001b[1;33m=\u001b[0m \u001b[0mround\u001b[0m\u001b[1;33m(\u001b[0m\u001b[0mover40\u001b[0m\u001b[1;33m/\u001b[0m\u001b[0mtotal\u001b[0m\u001b[1;33m*\u001b[0m\u001b[1;36m100\u001b[0m\u001b[1;33m)\u001b[0m\u001b[1;33m\u001b[0m\u001b[1;33m\u001b[0m\u001b[0m\n",
      "\u001b[1;31mIndexError\u001b[0m: list index out of range"
     ]
    }
   ],
   "source": [
    "over40()"
   ]
  },
  {
   "cell_type": "code",
   "execution_count": 380,
   "id": "0f74791a-6403-494c-b863-6c599b6435a9",
   "metadata": {},
   "outputs": [],
   "source": [
    "def fillTypes():\n",
    "    \n",
    "    copy_csv('pokemonTrain.csv')\n",
    "    \n",
    "    with open('pokemonResult.csv', 'r') as file:\n",
    "        next(file)\n",
    "        reader = csv.reader(file)\n",
    "        \n",
    "        #calculate weakness weighting\n",
    "        waterweakness = []\n",
    "        fightingweakness = []\n",
    "        flyingweakness = []\n",
    "        fireweakness = []\n",
    "        for row in reader:\n",
    "            if row[5]=='water' and row[4]!='NaN':\n",
    "                waterweakness.append(row[4])  \n",
    "            if row[5]=='fighting' and row[4]!='NaN':\n",
    "                fightingweakness.append(row[4])\n",
    "            if row[5]=='flying' and row[4]!='NaN':\n",
    "                flyingweakness.append(row[4])\n",
    "            if row[5]=='fire' and row[4]!='NaN':\n",
    "                fireweakness.append(row[4])\n",
    "                \n",
    "        water = most_common(waterweakness)\n",
    "        fighting = most_common(fightingweakness)\n",
    "        flying = most_common(flyingweakness)\n",
    "        fire = most_common(fireweakness)\n",
    "        \n",
    "        print(fire)\n",
    "\n",
    "    with open('pokemonTrain.csv') as inf:\n",
    "        #reader = csv.reader(inf.readlines())\n",
    "        reader = csv.reader(inf.readlines(), skipinitialspace=True)\n",
    "\n",
    "    with open('pokemonResult.csv', 'w') as outf:\n",
    "        writer = csv.writer(outf)\n",
    "        for row in reader:\n",
    "            if row[4] == 'NaN':\n",
    "                if row[5]=='water':\n",
    "                    replaced = row[4].replace('NaN',water)  \n",
    "                    row[4] = replaced\n",
    "            if row[4] == 'NaN':\n",
    "                if row[5]=='fighting':\n",
    "                    replaced = row[4].replace('NaN',fighting)  \n",
    "                    row[4] = replaced\n",
    "            if row[4] == 'NaN':\n",
    "                if row[5]=='flying':\n",
    "                    replaced = row[4].replace('NaN',flying)  \n",
    "                    row[4] = replaced\n",
    "            if row[4] == 'NaN':\n",
    "                if row[5]=='fire':\n",
    "                    replaced = row[4].replace('NaN',fire)  \n",
    "                    row[4] = replaced\n",
    "                    writer.writerow(row)\n",
    "            else:\n",
    "                writer.writerow(row)\n",
    "        writer.writerows(reader)\n",
    "   # copy_csv('pokemonResult.csv')\n",
    "\n",
    "    \n",
    "    \n",
    "\n",
    "\n",
    "\n",
    "            \n",
    "            \n"
   ]
  },
  {
   "cell_type": "code",
   "execution_count": 381,
   "id": "3182d8c0-6fcb-4e6e-a84b-5bde7edd89fe",
   "metadata": {},
   "outputs": [
    {
     "name": "stdout",
     "output_type": "stream",
     "text": [
      "grass\n"
     ]
    }
   ],
   "source": [
    "fillTypes()"
   ]
  },
  {
   "cell_type": "raw",
   "id": "8f76fcaa-9f50-479e-9ef1-99a32c5670a5",
   "metadata": {},
   "source": [
    "water, fighting, flying, fire"
   ]
  },
  {
   "cell_type": "code",
   "execution_count": 398,
   "id": "efbb9057-5d33-4247-8511-3cf61a09774f",
   "metadata": {},
   "outputs": [],
   "source": [
    "def most_common(lst):\n",
    "    lst.sort()\n",
    "    data = Counter(lst)\n",
    "    return max(lst, key=data.get)"
   ]
  },
  {
   "cell_type": "code",
   "execution_count": 399,
   "id": "d25a7166-b0f0-425e-8646-e65235a626eb",
   "metadata": {},
   "outputs": [],
   "source": [
    "def copy0(csv_string):\n",
    "    with open(csv_string, 'r') as f1:\n",
    "        reader = csv.reader(f1)\n",
    "        with open('pokemonResult.csv', 'w') as f2:\n",
    "            writer = csv.writer(f2)\n",
    "            for row in reader:\n",
    "                if(len(row) < 1):\n",
    "                    continue\n",
    "                writer.writerow(row)"
   ]
  },
  {
   "cell_type": "code",
   "execution_count": 400,
   "id": "731a49eb-46a2-40b5-8af7-fd2375e20037",
   "metadata": {},
   "outputs": [],
   "source": [
    "def copy1(csv_string):\n",
    "    # read\n",
    "    data = []\n",
    "    with open(csv_string, 'r') as f:\n",
    "        f_csv = csv.reader(f)\n",
    "        # header = next(f_csv)\n",
    "        for row in f_csv:\n",
    "            data.append(row)\n",
    "    # write\n",
    "    with open('pokemonResult.csv', 'w') as f:\n",
    "        writer = csv.writer(f)\n",
    "        for i in range(len(data)):\n",
    "            if any(field.strip() for field in row):\n",
    "                writer.writerow(data[i])\n"
   ]
  },
  {
   "cell_type": "code",
   "execution_count": 476,
   "id": "f015e788-a2e6-4ce8-acbd-c3221e56794e",
   "metadata": {},
   "outputs": [],
   "source": [
    "## use this one oof\n",
    "# copies csv and writes to new csv file\n",
    "def copy_csv(csv_string):\n",
    "    with open(csv_string) as input, open('pokemonResult.csv', 'w') as output:\n",
    "        non_blank = (line for line in input if line.strip())\n",
    "        output.writelines(non_blank)\n"
   ]
  },
  {
   "cell_type": "code",
   "execution_count": 508,
   "id": "569e7ad1-469b-429f-bb26-d53931a83465",
   "metadata": {},
   "outputs": [
    {
     "name": "stdout",
     "output_type": "stream",
     "text": [
      "124.0\n",
      "78.2\n"
     ]
    }
   ],
   "source": [
    "def generate_new_csv():\n",
    "    water, fighting, flying, fire = calculate_weakness()\n",
    "    atkover_40, atkleq_40 = calculate_atk()\n",
    "    defover_40, defleq_40 = calculate_def()\n",
    "    hpover_40, hpleq_40 = calculate_hp()\n",
    "    \n",
    "    print(hpover_40)\n",
    "    print(hpleq_40)\n",
    "    \n",
    "    with open('pokemonResult.csv', 'r') as file:\n",
    "        next(file)\n",
    "        reader = csv.reader(file)\n",
    "\n",
    "generate_new_csv()\n",
    "\n",
    "\n",
    "\n"
   ]
  },
  {
   "cell_type": "code",
   "execution_count": 509,
   "id": "79963e88-9144-43c5-930a-19612b5c9dab",
   "metadata": {},
   "outputs": [],
   "source": [
    "def calculate_weakness():\n",
    "    with open('pokemonTrain.csv', 'r') as file:\n",
    "        next(file)\n",
    "        reader = csv.reader(file)\n",
    "        \n",
    "        #calculate weakness weighting\n",
    "        waterweakness = []\n",
    "        fightingweakness = []\n",
    "        flyingweakness = []\n",
    "        fireweakness = []\n",
    "        for row in reader:\n",
    "            if row[5]=='water' and row[4]!='NaN':\n",
    "                 waterweakness.append(row[4])  \n",
    "            if row[5]=='fighting' and row[4]!='NaN':\n",
    "                fightingweakness.append(row[4])\n",
    "            if row[5]=='flying' and row[4]!='NaN':\n",
    "                flyingweakness.append(row[4])\n",
    "            if row[5]=='fire' and row[4]!='NaN':\n",
    "                fireweakness.append(row[4])\n",
    "                \n",
    "        water = most_common(waterweakness)\n",
    "        fighting = most_common(fightingweakness)\n",
    "        flying = most_common(flyingweakness)\n",
    "        fire = most_common(fireweakness)\n",
    "        \n",
    "    return water, fighting, flying, fire"
   ]
  },
  {
   "cell_type": "code",
   "execution_count": 510,
   "id": "e38b4e3c-7a8d-455f-9f4f-561132117960",
   "metadata": {},
   "outputs": [],
   "source": [
    "def calculate_atk():\n",
    "     with open('pokemonTrain.csv', 'r') as file:\n",
    "        next(file)\n",
    "        reader = csv.reader(file)\n",
    "        tot_over_40 = 0\n",
    "        count_over_40 = 0\n",
    "        tot_leq_40 = 0\n",
    "        count_leq_40 = 0\n",
    "        for row in reader:\n",
    "            if row[6] != 'NaN':\n",
    "                if int((float(row[2]))) > 40:\n",
    "                    tot_over_40 += int(float((row[6])))\n",
    "                    count_over_40+=1\n",
    "                if int((float(row[2]))) <= (40):\n",
    "                    tot_leq_40 += int(float((row[6])))\n",
    "                    count_leq_40+=1\n",
    "        avg_over_40 = round((tot_over_40/count_over_40), 1)\n",
    "        avg_leq_40 = round((tot_leq_40/count_leq_40), 1)\n",
    "        return avg_over_40, avg_leq_40\n"
   ]
  },
  {
   "cell_type": "code",
   "execution_count": 514,
   "id": "4988baae-8a26-4d22-aacb-e74635b27fd8",
   "metadata": {},
   "outputs": [],
   "source": [
    "def calculate_def():\n",
    "     with open('pokemonTrain.csv', 'r') as file:\n",
    "        next(file)\n",
    "        reader = csv.reader(file)\n",
    "        tot_over_40 = 0\n",
    "        count_over_40 = 0\n",
    "        tot_leq_40 = 0\n",
    "        count_leq_40 = 0\n",
    "        for row in reader:\n",
    "            if row[7] != 'NaN':\n",
    "                if int((float(row[2]))) > 40:\n",
    "                    tot_over_40 += int(float((row[7])))\n",
    "                    count_over_40+=1\n",
    "                if int((float(row[2]))) <= (40):\n",
    "                    tot_leq_40 += int(float((row[7])))\n",
    "                    count_leq_40+=1\n",
    "        avg_over_40 = round((tot_over_40/count_over_40), 1)\n",
    "        avg_leq_40 = round((tot_leq_40/count_leq_40), 1)\n",
    "        return avg_over_40, avg_leq_40"
   ]
  },
  {
   "cell_type": "code",
   "execution_count": 515,
   "id": "d91aa4e1-0140-4933-b120-2e28623b9c41",
   "metadata": {},
   "outputs": [],
   "source": [
    "def calculate_hp():\n",
    "     with open('pokemonTrain.csv', 'r') as file:\n",
    "        next(file)\n",
    "        reader = csv.reader(file)\n",
    "        tot_over_40 = 0\n",
    "        count_over_40 = 0\n",
    "        tot_leq_40 = 0\n",
    "        count_leq_40 = 0\n",
    "        for row in reader:\n",
    "            if row[8] != 'NaN':\n",
    "                if int((float(row[2]))) > 40:\n",
    "                    tot_over_40 += int(float((row[8])))\n",
    "                    count_over_40+=1\n",
    "                if int((float(row[2]))) <= (40):\n",
    "                    tot_leq_40 += int(float((row[8])))\n",
    "                    count_leq_40+=1\n",
    "        avg_over_40 = round((tot_over_40/count_over_40), 1)\n",
    "        avg_leq_40 = round((tot_leq_40/count_leq_40), 1)\n",
    "        return avg_over_40, avg_leq_40"
   ]
  },
  {
   "cell_type": "code",
   "execution_count": 516,
   "id": "e64da908-e4cf-498a-9acb-32d152b5a31d",
   "metadata": {},
   "outputs": [
    {
     "data": {
      "text/plain": [
       "(113.5, 111.4)"
      ]
     },
     "execution_count": 516,
     "metadata": {},
     "output_type": "execute_result"
    }
   ],
   "source": [
    "calculate_hp()"
   ]
  },
  {
   "cell_type": "code",
   "execution_count": null,
   "id": "f55378e2-fd08-4bb3-b3fb-2e687d0307eb",
   "metadata": {},
   "outputs": [],
   "source": []
  },
  {
   "cell_type": "code",
   "execution_count": null,
   "id": "02ff5922-6742-43fb-9412-6e47c95ad140",
   "metadata": {},
   "outputs": [],
   "source": []
  }
 ],
 "metadata": {
  "kernelspec": {
   "display_name": "Python 3 (ipykernel)",
   "language": "python",
   "name": "python3"
  },
  "language_info": {
   "codemirror_mode": {
    "name": "ipython",
    "version": 3
   },
   "file_extension": ".py",
   "mimetype": "text/x-python",
   "name": "python",
   "nbconvert_exporter": "python",
   "pygments_lexer": "ipython3",
   "version": "3.9.7"
  }
 },
 "nbformat": 4,
 "nbformat_minor": 5
}
