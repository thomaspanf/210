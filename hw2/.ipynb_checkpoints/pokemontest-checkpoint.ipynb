{
 "cells": [
  {
   "cell_type": "code",
   "execution_count": 129,
   "id": "dd32af72-d196-4457-afb6-420d02e1ac91",
   "metadata": {},
   "outputs": [],
   "source": [
    "import csv\n",
    "from csv import reader, writer\n"
   ]
  },
  {
   "cell_type": "code",
   "execution_count": 175,
   "id": "61d367f8-5771-40ea-ad84-63a0f2c358d4",
   "metadata": {},
   "outputs": [],
   "source": [
    "\n",
    "def over40():\n",
    "    with open('pokemonTrain.csv', 'r') as file:\n",
    "        next(file)\n",
    "        reader = csv.reader(file)\n",
    "        total = 0\n",
    "        over40 = 0\n",
    "        for row in reader:\n",
    "            total+=1\n",
    "            if float(row[2])>=40:\n",
    "                over40+=1\n",
    "        percent = round(over40/total*100)\n",
    "        print(f\"Percentage of fire type Pokemons at or above level 40 = {percent}\")\n",
    "    with open('pokemon1.txt', 'w') as file:\n",
    "        file.write(f\"Percentage of fire type Pokemons at or above level 40 = {percent}\")\n"
   ]
  },
  {
   "cell_type": "code",
   "execution_count": 176,
   "id": "1d9153d5-6b5d-43db-af51-e56401cbca4d",
   "metadata": {},
   "outputs": [
    {
     "name": "stdout",
     "output_type": "stream",
     "text": [
      "Percentage of fire type Pokemons at or above level 40 = 62\n"
     ]
    }
   ],
   "source": [
    "over40()"
   ]
  },
  {
   "cell_type": "code",
   "execution_count": 187,
   "id": "0f74791a-6403-494c-b863-6c599b6435a9",
   "metadata": {},
   "outputs": [],
   "source": [
    "def fillTypes():\n",
    "    \n",
    "    copy_csv('pokemonTrain.csv')\n",
    "    \n",
    "    with open('pokemonResult.csv', 'r') as file:\n",
    "        next(file)\n",
    "        reader = csv.reader(file)\n",
    "        \n",
    "        #calculate weakness weighting\n",
    "        waterweakness = []\n",
    "        fightingweakness = []\n",
    "        flyingweakness = []\n",
    "        fireweakness = []\n",
    "        for row in reader:\n",
    "            #if(len(row) < 1):\n",
    "                #continue\n",
    "            if row[5]=='water' and row[4]!='NaN':\n",
    "                waterweakness.append(row[4])            \n",
    "        print(most_common(waterweakness))\n",
    "\n",
    "        \n",
    "            \n",
    "            \n",
    "        for row in reader:\n",
    "            if row[4]=='NaN':\n",
    "                print(row)\n",
    "            \n",
    "            \n"
   ]
  },
  {
   "cell_type": "code",
   "execution_count": 188,
   "id": "3182d8c0-6fcb-4e6e-a84b-5bde7edd89fe",
   "metadata": {},
   "outputs": [
    {
     "name": "stdout",
     "output_type": "stream",
     "text": [
      "fire\n"
     ]
    }
   ],
   "source": [
    "fillTypes()"
   ]
  },
  {
   "cell_type": "raw",
   "id": "8f76fcaa-9f50-479e-9ef1-99a32c5670a5",
   "metadata": {},
   "source": [
    "water, fighting, flying, fire"
   ]
  },
  {
   "cell_type": "code",
   "execution_count": 179,
   "id": "efbb9057-5d33-4247-8511-3cf61a09774f",
   "metadata": {},
   "outputs": [],
   "source": [
    "\n",
    "def most_common(lst):\n",
    "    return max(set(lst), key=lst.count)\n",
    "\n"
   ]
  },
  {
   "cell_type": "code",
   "execution_count": 184,
   "id": "d25a7166-b0f0-425e-8646-e65235a626eb",
   "metadata": {},
   "outputs": [],
   "source": [
    "def copy0(csv_string):\n",
    "    with open(csv_string, 'r') as f1:\n",
    "        reader = csv.reader(f1)\n",
    "        with open('pokemonResult.csv', 'w') as f2:\n",
    "            writer = csv.writer(f2)\n",
    "            for row in reader:\n",
    "                if(len(row) < 1):\n",
    "                    continue\n",
    "                writer.writerow(row)"
   ]
  },
  {
   "cell_type": "code",
   "execution_count": 185,
   "id": "731a49eb-46a2-40b5-8af7-fd2375e20037",
   "metadata": {},
   "outputs": [],
   "source": [
    "def copy1(csv_string):\n",
    "    # read\n",
    "    data = []\n",
    "    with open(csv_string, 'r') as f:\n",
    "        f_csv = csv.reader(f)\n",
    "        # header = next(f_csv)\n",
    "        for row in f_csv:\n",
    "            data.append(row)\n",
    "    # write\n",
    "    with open('pokemonResult.csv', 'w') as f:\n",
    "        writer = csv.writer(f)\n",
    "        for i in range(len(data)):\n",
    "            if any(field.strip() for field in row):\n",
    "                writer.writerow(data[i])\n"
   ]
  },
  {
   "cell_type": "code",
   "execution_count": 186,
   "id": "f015e788-a2e6-4ce8-acbd-c3221e56794e",
   "metadata": {},
   "outputs": [],
   "source": [
    "## use this one oof\n",
    "# copies csv and writes to new csv file\n",
    "def copy_csv(csv_string):\n",
    "    with open('pokemonTrain.csv') as input, open('pokemonResult.csv', 'w') as output:\n",
    "        non_blank = (line for line in input if line.strip())\n",
    "        output.writelines(non_blank)\n"
   ]
  },
  {
   "cell_type": "code",
   "execution_count": null,
   "id": "569e7ad1-469b-429f-bb26-d53931a83465",
   "metadata": {},
   "outputs": [],
   "source": []
  },
  {
   "cell_type": "code",
   "execution_count": null,
   "id": "79963e88-9144-43c5-930a-19612b5c9dab",
   "metadata": {},
   "outputs": [],
   "source": []
  },
  {
   "cell_type": "code",
   "execution_count": null,
   "id": "e38b4e3c-7a8d-455f-9f4f-561132117960",
   "metadata": {},
   "outputs": [],
   "source": []
  }
 ],
 "metadata": {
  "kernelspec": {
   "display_name": "Python 3 (ipykernel)",
   "language": "python",
   "name": "python3"
  },
  "language_info": {
   "codemirror_mode": {
    "name": "ipython",
    "version": 3
   },
   "file_extension": ".py",
   "mimetype": "text/x-python",
   "name": "python",
   "nbconvert_exporter": "python",
   "pygments_lexer": "ipython3",
   "version": "3.9.7"
  }
 },
 "nbformat": 4,
 "nbformat_minor": 5
}
