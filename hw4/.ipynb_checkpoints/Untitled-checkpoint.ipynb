{
 "cells": [
  {
   "cell_type": "code",
   "execution_count": null,
   "id": "6e60db49-0973-4829-be58-362d9c139a57",
   "metadata": {},
   "outputs": [],
   "source": []
  },
  {
   "cell_type": "code",
   "execution_count": 2,
   "id": "f15189c9-c167-4e45-be7b-8a0e724b410f",
   "metadata": {},
   "outputs": [
    {
     "name": "stdout",
     "output_type": "stream",
     "text": [
      "('album',)\n",
      "('album_rating',)\n",
      "('album_song',)\n",
      "('artist',)\n",
      "('genre',)\n",
      "('playlist',)\n",
      "('playlist_rating',)\n",
      "('playlist_song',)\n",
      "('song',)\n",
      "('song_genre',)\n",
      "('song_rating',)\n",
      "('user',)\n"
     ]
    }
   ],
   "source": [
    "import mysql.connector\n",
    "\n",
    "# connect to nobels database\n",
    "mydb = mysql.connector.connect(\n",
    "  host=\"localhost\",\n",
    "  user=\"root\", # replace with your non-root username\n",
    "  passwd=\"password\",  # replace with your password\n",
    "  database=\"Music_Lib\"\n",
    ")\n",
    "\n",
    "# set up for access\n",
    "cursor = mydb.cursor()\n",
    "\n",
    "# show table in the database\n",
    "query = 'show tables'\n",
    "cursor.execute(query)\n",
    "res = cursor.fetchall()\n",
    "for row in res:\n",
    "    print(row)\n",
    "    "
   ]
  },
  {
   "cell_type": "code",
   "execution_count": null,
   "id": "e2ce3e30-48d3-4c94-a0b1-3a4a354a562f",
   "metadata": {},
   "outputs": [],
   "source": []
  },
  {
   "cell_type": "code",
   "execution_count": null,
   "id": "280666d7-127c-4989-b044-3fdb6a36a159",
   "metadata": {},
   "outputs": [],
   "source": []
  }
 ],
 "metadata": {
  "kernelspec": {
   "display_name": "Python 3 (ipykernel)",
   "language": "python",
   "name": "python3"
  },
  "language_info": {
   "codemirror_mode": {
    "name": "ipython",
    "version": 3
   },
   "file_extension": ".py",
   "mimetype": "text/x-python",
   "name": "python",
   "nbconvert_exporter": "python",
   "pygments_lexer": "ipython3",
   "version": "3.9.7"
  }
 },
 "nbformat": 4,
 "nbformat_minor": 5
}
