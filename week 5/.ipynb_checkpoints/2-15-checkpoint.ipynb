{
 "cells": [
  {
   "cell_type": "code",
   "execution_count": 1,
   "id": "d9217759-2055-48b3-b079-3210b55b1962",
   "metadata": {},
   "outputs": [],
   "source": [
    "import re"
   ]
  },
  {
   "cell_type": "code",
   "execution_count": 4,
   "id": "92002680-2034-4743-99cd-cb334ab9deeb",
   "metadata": {},
   "outputs": [
    {
     "name": "stdin",
     "output_type": "stream",
     "text": [
      "string? ('quit' to stop) quit\n"
     ]
    }
   ],
   "source": [
    "while True:\n",
    "    astr = input(\"string? ('quit' to stop)\")\n",
    "    if astr == 'quit':\n",
    "        break\n",
    "    res = re.search('^ar[^0-9]*t$',astr)\n",
    "    print('match') if res else print('no match')\n"
   ]
  },
  {
   "cell_type": "code",
   "execution_count": 5,
   "id": "f5cf51ee-0f1d-4e6b-80f2-de8faade7a2f",
   "metadata": {},
   "outputs": [
    {
     "name": "stdout",
     "output_type": "stream",
     "text": [
      "None\n"
     ]
    }
   ],
   "source": [
    "res = re.search('^[^0-9A-Z]*$', 'abxXyz')\n",
    "print(res)"
   ]
  },
  {
   "cell_type": "code",
   "execution_count": 6,
   "id": "c02939c4-5183-4d0e-8a7c-d0e834b9c2ac",
   "metadata": {},
   "outputs": [
    {
     "name": "stdout",
     "output_type": "stream",
     "text": [
      "<re.Match object; span=(0, 5), match='abcyz'>\n"
     ]
    }
   ],
   "source": [
    "res = re.search('^[^0-9A-Z]*$', 'abcyz')\n",
    "print(res)"
   ]
  },
  {
   "cell_type": "code",
   "execution_count": 7,
   "id": "5617462d-c87f-41d3-9c47-992d630663fd",
   "metadata": {},
   "outputs": [
    {
     "name": "stdin",
     "output_type": "stream",
     "text": [
      "string? ('quit' to stop) naaat\n"
     ]
    },
    {
     "name": "stdout",
     "output_type": "stream",
     "text": [
      "match\n"
     ]
    },
    {
     "name": "stdin",
     "output_type": "stream",
     "text": [
      "string? ('quit' to stop) naaaaaaaaat\n"
     ]
    },
    {
     "name": "stdout",
     "output_type": "stream",
     "text": [
      "match\n"
     ]
    },
    {
     "name": "stdin",
     "output_type": "stream",
     "text": [
      "string? ('quit' to stop) at\n"
     ]
    },
    {
     "name": "stdout",
     "output_type": "stream",
     "text": [
      "no match\n"
     ]
    },
    {
     "name": "stdin",
     "output_type": "stream",
     "text": [
      "string? ('quit' to stop) azt\n"
     ]
    },
    {
     "name": "stdout",
     "output_type": "stream",
     "text": [
      "no match\n"
     ]
    },
    {
     "name": "stdin",
     "output_type": "stream",
     "text": [
      "string? ('quit' to stop) anat\n"
     ]
    },
    {
     "name": "stdout",
     "output_type": "stream",
     "text": [
      "match\n"
     ]
    },
    {
     "name": "stdin",
     "output_type": "stream",
     "text": [
      "string? ('quit' to stop) ant\n"
     ]
    },
    {
     "name": "stdout",
     "output_type": "stream",
     "text": [
      "no match\n"
     ]
    },
    {
     "name": "stdin",
     "output_type": "stream",
     "text": [
      "string? ('quit' to stop) nat\n"
     ]
    },
    {
     "name": "stdout",
     "output_type": "stream",
     "text": [
      "no match\n"
     ]
    },
    {
     "name": "stdin",
     "output_type": "stream",
     "text": [
      "string? ('quit' to stop) naat\n"
     ]
    },
    {
     "name": "stdout",
     "output_type": "stream",
     "text": [
      "no match\n"
     ]
    },
    {
     "name": "stdin",
     "output_type": "stream",
     "text": [
      "string? ('quit' to stop) naaat\n"
     ]
    },
    {
     "name": "stdout",
     "output_type": "stream",
     "text": [
      "match\n"
     ]
    },
    {
     "name": "stdin",
     "output_type": "stream",
     "text": [
      "string? ('quit' to stop) quit\n"
     ]
    }
   ],
   "source": [
    "while True:\n",
    "    astr = input(\"string? ('quit' to stop)\")\n",
    "    if astr == 'quit':\n",
    "        break\n",
    "    res = re.search('a[a-zA-Z0-9][a-zA-Z0-0]t$',astr) \n",
    "    print('match') if res else print('no match')\n"
   ]
  },
  {
   "cell_type": "code",
   "execution_count": 8,
   "id": "1a884a20-945d-4813-8433-02db9edd3417",
   "metadata": {},
   "outputs": [
    {
     "name": "stdin",
     "output_type": "stream",
     "text": [
      "string? ('quit' to stop) naaat\n"
     ]
    },
    {
     "name": "stdout",
     "output_type": "stream",
     "text": [
      "no match\n"
     ]
    },
    {
     "name": "stdin",
     "output_type": "stream",
     "text": [
      "string? ('quit' to stop) na9t\n"
     ]
    },
    {
     "name": "stdout",
     "output_type": "stream",
     "text": [
      "no match\n"
     ]
    },
    {
     "name": "stdin",
     "output_type": "stream",
     "text": [
      "string? ('quit' to stop) naa9t\n"
     ]
    },
    {
     "name": "stdout",
     "output_type": "stream",
     "text": [
      "match\n"
     ]
    },
    {
     "name": "stdin",
     "output_type": "stream",
     "text": [
      "string? ('quit' to stop) nsss9t\n"
     ]
    },
    {
     "name": "stdout",
     "output_type": "stream",
     "text": [
      "no match\n"
     ]
    },
    {
     "name": "stdin",
     "output_type": "stream",
     "text": [
      "string? ('quit' to stop) a9xt\n"
     ]
    },
    {
     "name": "stdout",
     "output_type": "stream",
     "text": [
      "match\n"
     ]
    },
    {
     "name": "stdin",
     "output_type": "stream",
     "text": [
      "string? ('quit' to stop) a99t\n"
     ]
    },
    {
     "name": "stdout",
     "output_type": "stream",
     "text": [
      "no match\n"
     ]
    },
    {
     "name": "stdin",
     "output_type": "stream",
     "text": [
      "string? ('quit' to stop) axyt\n"
     ]
    },
    {
     "name": "stdout",
     "output_type": "stream",
     "text": [
      "no match\n"
     ]
    },
    {
     "name": "stdin",
     "output_type": "stream",
     "text": [
      "string? ('quit' to stop) quit\n"
     ]
    }
   ],
   "source": [
    "while True:\n",
    "    astr = input(\"string? ('quit' to stop)\")\n",
    "    if astr == 'quit':\n",
    "        break\n",
    "    res = re.search('a[a-zA-Z][0-9]|[0-9][a-zA-Z]t$',astr) \n",
    "    print('match') if res else print('no match')"
   ]
  },
  {
   "cell_type": "code",
   "execution_count": 10,
   "id": "f5acb08d-9331-46f6-a397-2b5cfc5dfb2d",
   "metadata": {},
   "outputs": [
    {
     "name": "stdin",
     "output_type": "stream",
     "text": [
      "string? ('quit' to stop) quit\n"
     ]
    }
   ],
   "source": [
    "while True:\n",
    "    astr = input(\"string? ('quit' to stop)\")\n",
    "    if astr == 'quit':\n",
    "        break\n",
    "    res = re.search('a([a-zA-Z][0-9]|[0-9][a-zA-Z])t$',astr) \n",
    "    print('match') if res else print('no match')"
   ]
  },
  {
   "cell_type": "code",
   "execution_count": 11,
   "id": "de843ee2-893b-417c-8d2b-445be809b502",
   "metadata": {},
   "outputs": [],
   "source": [
    "#search for sequence 'airport' or 'airplane'"
   ]
  },
  {
   "cell_type": "code",
   "execution_count": 13,
   "id": "c184550d-d46b-44db-ab45-57ddfa63053b",
   "metadata": {},
   "outputs": [],
   "source": [
    "res = re.search('air(port|plane)', 'the air is cool')"
   ]
  },
  {
   "cell_type": "code",
   "execution_count": 14,
   "id": "1997d53a-8a47-48cc-b039-ff3565b7c257",
   "metadata": {},
   "outputs": [
    {
     "name": "stdout",
     "output_type": "stream",
     "text": [
      "None\n"
     ]
    }
   ],
   "source": [
    "\n",
    "print(res)\n"
   ]
  },
  {
   "cell_type": "code",
   "execution_count": 15,
   "id": "f8f5b56d-92d6-49b9-b0a6-8d284fd9e245",
   "metadata": {},
   "outputs": [],
   "source": [
    "res = re.search('air(port|plane)', 'airplane')"
   ]
  },
  {
   "cell_type": "code",
   "execution_count": 16,
   "id": "709d1471-26d4-455e-8c46-66e9716adb47",
   "metadata": {},
   "outputs": [
    {
     "name": "stdout",
     "output_type": "stream",
     "text": [
      "<re.Match object; span=(0, 8), match='airplane'>\n"
     ]
    }
   ],
   "source": [
    "print(res)"
   ]
  },
  {
   "cell_type": "code",
   "execution_count": 18,
   "id": "e0dbc123-280d-4d63-80c9-9424b909ecae",
   "metadata": {},
   "outputs": [
    {
     "name": "stdout",
     "output_type": "stream",
     "text": [
      "None\n"
     ]
    }
   ],
   "source": [
    "print(re.search('[A-Z]{2-4}', 'xABCDEy23'))"
   ]
  },
  {
   "cell_type": "code",
   "execution_count": 19,
   "id": "d67cb384-fb67-43d6-a7b8-395d96795e2e",
   "metadata": {},
   "outputs": [
    {
     "name": "stdout",
     "output_type": "stream",
     "text": [
      "None\n"
     ]
    }
   ],
   "source": [
    "print(re.search('[A-Z]{2-4}', 'ABC3'))"
   ]
  },
  {
   "cell_type": "code",
   "execution_count": 21,
   "id": "c0b23056-81fd-4349-8103-47b252c9b1d5",
   "metadata": {},
   "outputs": [
    {
     "name": "stdout",
     "output_type": "stream",
     "text": [
      "<re.Match object; span=(2, 5), match='CAR'>\n"
     ]
    }
   ],
   "source": [
    "print(re.search('[A-Z]{2,}', '12CAR34'))"
   ]
  },
  {
   "cell_type": "code",
   "execution_count": 22,
   "id": "36086a99-01c2-433d-92bf-fd96e9df3474",
   "metadata": {},
   "outputs": [],
   "source": [
    "#escaping(\"neutralizing\") special meaning of metacharacter with '\\'"
   ]
  },
  {
   "cell_type": "code",
   "execution_count": 23,
   "id": "fd521d1f-70e4-4a79-8ff6-5849bc56198e",
   "metadata": {},
   "outputs": [
    {
     "name": "stdout",
     "output_type": "stream",
     "text": [
      "<re.Match object; span=(0, 2), match='ab'>\n"
     ]
    }
   ],
   "source": [
    "print(re.search('a+b', 'ab'))"
   ]
  },
  {
   "cell_type": "code",
   "execution_count": 24,
   "id": "69c1dbd2-5d9a-4b4a-b9d9-985e881cc545",
   "metadata": {},
   "outputs": [],
   "source": [
    "# want to match the pattern a+b (literally)"
   ]
  },
  {
   "cell_type": "code",
   "execution_count": 26,
   "id": "8afe831e-3551-4f9b-a5e5-4554604d3a20",
   "metadata": {},
   "outputs": [
    {
     "name": "stdout",
     "output_type": "stream",
     "text": [
      "None\n"
     ]
    }
   ],
   "source": [
    "print(re.search('a+b', 'a+b')) #doesnt work"
   ]
  },
  {
   "cell_type": "code",
   "execution_count": 27,
   "id": "d29d49c2-87a3-4f97-bbcd-a216f8f1764e",
   "metadata": {},
   "outputs": [
    {
     "name": "stdout",
     "output_type": "stream",
     "text": [
      "<re.Match object; span=(0, 3), match='a+b'>\n"
     ]
    }
   ],
   "source": [
    "print(re.search('a\\+b', 'a+b'))"
   ]
  },
  {
   "cell_type": "code",
   "execution_count": 28,
   "id": "b1fee343-d3c7-49d9-b590-42230f8a7656",
   "metadata": {},
   "outputs": [],
   "source": [
    "#want to match the pattern a, followed by at least one +, followed by b"
   ]
  },
  {
   "cell_type": "code",
   "execution_count": 29,
   "id": "1444c3dd-f63b-4421-be3b-acb33e438dbe",
   "metadata": {},
   "outputs": [
    {
     "name": "stdout",
     "output_type": "stream",
     "text": [
      "<re.Match object; span=(0, 3), match='a+b'>\n"
     ]
    }
   ],
   "source": [
    "print(re.search('a\\++b', 'a+b'))"
   ]
  },
  {
   "cell_type": "code",
   "execution_count": 31,
   "id": "4ee89bdb-aaaa-4fa0-a872-8259ae75b184",
   "metadata": {},
   "outputs": [
    {
     "name": "stdout",
     "output_type": "stream",
     "text": [
      "<re.Match object; span=(0, 4), match='a++b'>\n"
     ]
    }
   ],
   "source": [
    "print(re.search('a\\++b','a++b'))"
   ]
  },
  {
   "cell_type": "code",
   "execution_count": 32,
   "id": "9bfdbfc6-4239-4fa6-b7dc-97ede5ea4c1e",
   "metadata": {},
   "outputs": [],
   "source": [
    "#want to match the pattern a, followed by any number of dots, followed by c"
   ]
  },
  {
   "cell_type": "code",
   "execution_count": 34,
   "id": "9dd273d3-78d7-4031-8290-91889d337491",
   "metadata": {},
   "outputs": [
    {
     "name": "stdout",
     "output_type": "stream",
     "text": [
      "<re.Match object; span=(0, 5), match='a...c'>\n"
     ]
    }
   ],
   "source": [
    "print(re.search('a\\.+c', 'a...c'))"
   ]
  },
  {
   "cell_type": "code",
   "execution_count": 35,
   "id": "7bab7b40-e56b-4275-b21e-a6b3769009e3",
   "metadata": {},
   "outputs": [],
   "source": [
    "#want to match the sequence 'a\\y' or 'ay', i.e. one or zero occurrence of '\\' between 'a' and 'y'"
   ]
  },
  {
   "cell_type": "code",
   "execution_count": 37,
   "id": "991b9fba-e241-4050-b2e2-417b6fe5e1c8",
   "metadata": {},
   "outputs": [
    {
     "name": "stdout",
     "output_type": "stream",
     "text": [
      "None\n",
      "<re.Match object; span=(0, 3), match='a?y'>\n"
     ]
    }
   ],
   "source": [
    "print(re.search('a\\?y', 'ay'))#doesnt work\n",
    "print(re.search('a\\?y', 'a?y'))"
   ]
  },
  {
   "cell_type": "code",
   "execution_count": 38,
   "id": "9e1e67ce-cfe6-4a50-a6de-fd81d93f8794",
   "metadata": {},
   "outputs": [
    {
     "name": "stdout",
     "output_type": "stream",
     "text": [
      "None\n"
     ]
    }
   ],
   "source": [
    "# need to escape the backslash itself\n",
    "print(re.search('a\\\\?y', 'ay'))"
   ]
  },
  {
   "cell_type": "code",
   "execution_count": 39,
   "id": "6c295cd4-c3af-4928-b16b-eab8acc0bb90",
   "metadata": {},
   "outputs": [
    {
     "name": "stdout",
     "output_type": "stream",
     "text": [
      "<re.Match object; span=(0, 3), match='a?y'>\n"
     ]
    }
   ],
   "source": [
    "print(re.search('a\\\\?y', 'a?y'))"
   ]
  },
  {
   "cell_type": "code",
   "execution_count": 40,
   "id": "740eb12e-cb80-40e9-afdb-068a319dcdcd",
   "metadata": {},
   "outputs": [
    {
     "name": "stdout",
     "output_type": "stream",
     "text": [
      "<re.Match object; span=(0, 3), match='a\\\\y'>\n"
     ]
    }
   ],
   "source": [
    "print(re.search('a\\\\\\\\?y', 'a\\y'))"
   ]
  },
  {
   "cell_type": "code",
   "execution_count": 41,
   "id": "802144d3-ed09-4f1c-a300-326154d7161e",
   "metadata": {},
   "outputs": [
    {
     "name": "stdout",
     "output_type": "stream",
     "text": [
      "<re.Match object; span=(0, 3), match='a\\\\y'>\n"
     ]
    }
   ],
   "source": [
    "print(re.search('a\\\\\\\\?y', 'a\\\\y'))"
   ]
  },
  {
   "cell_type": "code",
   "execution_count": 42,
   "id": "00a7f866-3113-40b2-b04a-db347505973a",
   "metadata": {},
   "outputs": [
    {
     "name": "stdout",
     "output_type": "stream",
     "text": [
      "<re.Match object; span=(0, 3), match='a?y'>\n",
      "None\n",
      "None\n"
     ]
    }
   ],
   "source": [
    "#want to use 'r' in front of the target string, for \"raw\" string\n",
    "#singls '\\' still retains its special meaning\n",
    "print(re.search(r'a\\?y', 'a?y'))\n",
    "print(re.search(r'a\\?y', 'ay'))\n",
    "print(re.search(r'a\\?y', 'a??y'))"
   ]
  },
  {
   "cell_type": "code",
   "execution_count": 44,
   "id": "0fe3a64a-92f6-4685-80a2-70c645838a5f",
   "metadata": {},
   "outputs": [
    {
     "name": "stdout",
     "output_type": "stream",
     "text": [
      "<re.Match object; span=(0, 3), match='a\\\\y'>\n"
     ]
    }
   ],
   "source": [
    "print(re.search(r'a\\\\?y', 'a\\y'))"
   ]
  },
  {
   "cell_type": "code",
   "execution_count": 45,
   "id": "3b4a18e9-29f4-4f0d-8c4f-2ab1856e657f",
   "metadata": {},
   "outputs": [],
   "source": [
    "#always use raw string for regular expression if it has an escape '\\' character "
   ]
  },
  {
   "cell_type": "code",
   "execution_count": 46,
   "id": "f1d1b7a1-6ab2-4f9b-9992-97d82807d4b4",
   "metadata": {},
   "outputs": [],
   "source": [
    "#greedy and non-greedy matching"
   ]
  },
  {
   "cell_type": "code",
   "execution_count": 48,
   "id": "b0dd9e2a-edd8-4a61-bcee-d5278b28404c",
   "metadata": {},
   "outputs": [],
   "source": [
    "res = re.search('<.*>', '<p class=\"para\">This is a paragraph.<\\p>')"
   ]
  },
  {
   "cell_type": "code",
   "execution_count": 49,
   "id": "378528c3-f1d1-45ff-9e9f-7e5707cb95a4",
   "metadata": {},
   "outputs": [
    {
     "name": "stdout",
     "output_type": "stream",
     "text": [
      "<re.Match object; span=(0, 40), match='<p class=\"para\">This is a paragraph.<\\\\p>'>\n"
     ]
    }
   ],
   "source": [
    "print(res)"
   ]
  },
  {
   "cell_type": "code",
   "execution_count": 50,
   "id": "2685f967-a903-4a8f-b0ec-9b66b89762ee",
   "metadata": {},
   "outputs": [],
   "source": [
    "#non-greedy match with ?"
   ]
  },
  {
   "cell_type": "code",
   "execution_count": 51,
   "id": "88aa5b3f-aa2d-47a6-95eb-9f1c4c9c975e",
   "metadata": {},
   "outputs": [
    {
     "name": "stdout",
     "output_type": "stream",
     "text": [
      "<re.Match object; span=(0, 16), match='<p class=\"para\">'>\n"
     ]
    }
   ],
   "source": [
    "res = re.search('<.*?>', '<p class=\"para\">This is a paragraph.<\\p>')\n",
    "print(res)"
   ]
  },
  {
   "cell_type": "code",
   "execution_count": null,
   "id": "131bd3e7-d5b3-4928-94ea-22595be472ef",
   "metadata": {},
   "outputs": [],
   "source": []
  }
 ],
 "metadata": {
  "kernelspec": {
   "display_name": "Python 3 (ipykernel)",
   "language": "python",
   "name": "python3"
  },
  "language_info": {
   "codemirror_mode": {
    "name": "ipython",
    "version": 3
   },
   "file_extension": ".py",
   "mimetype": "text/x-python",
   "name": "python",
   "nbconvert_exporter": "python",
   "pygments_lexer": "ipython3",
   "version": "3.9.7"
  }
 },
 "nbformat": 4,
 "nbformat_minor": 5
}
