{
 "cells": [
  {
   "cell_type": "code",
   "execution_count": 20,
   "id": "738a5b60-9208-4a6f-8d57-6fce1510ab93",
   "metadata": {},
   "outputs": [],
   "source": [
    "def calculate_average_rating(d):\n",
    "    result = {}\n",
    "    for line in open(d):\n",
    "        line = line.rstrip()\n",
    "        data = line.split('|')[0:]\n",
    "        if data[0] in result.keys():\n",
    "            result[data[0]].append(data[2])\n",
    "        else:\n",
    "            result[data[0]] = [data[2]]\n",
    "    return(result)\n",
    "###FINAL ANSWER"
   ]
  },
  {
   "cell_type": "code",
   "execution_count": 21,
   "id": "f50658ab-57e8-4844-a91e-e050ae459770",
   "metadata": {},
   "outputs": [],
   "source": [
    "test = {}\n",
    "example = \"Adventure|1|Toy Story (1995)\""
   ]
  },
  {
   "cell_type": "code",
   "execution_count": 22,
   "id": "516a6c3d-a838-4b2b-88bb-b3db0fd1d966",
   "metadata": {},
   "outputs": [
    {
     "name": "stdout",
     "output_type": "stream",
     "text": [
      "Adventure|1|Toy Story (1995)\n"
     ]
    }
   ],
   "source": [
    "print(example)"
   ]
  },
  {
   "cell_type": "code",
   "execution_count": 23,
   "id": "105ffe0c-39ac-45fa-ae85-36f061ac91f1",
   "metadata": {},
   "outputs": [
    {
     "name": "stdout",
     "output_type": "stream",
     "text": [
      "['Adventure', '1', 'Toy Story (1995)']\n"
     ]
    }
   ],
   "source": [
    "example = example.split('|')[0:]\n",
    "print(example)"
   ]
  },
  {
   "cell_type": "code",
   "execution_count": 24,
   "id": "2ee76145-d1ac-4cf6-9a58-6c644fc2bda9",
   "metadata": {},
   "outputs": [
    {
     "name": "stdout",
     "output_type": "stream",
     "text": [
      "{'Adventure': ['Toy Story (1995)', 'Jumanji (1995)', 'Tom and Huck (1995)'], 'Comedy': ['Grumpier Old Men (1995)', 'Waiting to Exhale (1995)', 'Father of the Bride Part II (1995)'], 'Action': ['Heat (1995)', 'Sudden Death (1995)', 'GoldenEye (1995)']}\n"
     ]
    }
   ],
   "source": [
    "print(create_genre_dict(\"movies.txt\"))"
   ]
  },
  {
   "cell_type": "code",
   "execution_count": null,
   "id": "0b101132-14d4-47be-953f-6fa79abefee7",
   "metadata": {},
   "outputs": [],
   "source": []
  },
  {
   "cell_type": "code",
   "execution_count": null,
   "id": "65696213-51c6-44cf-abc0-69441acc5f79",
   "metadata": {},
   "outputs": [],
   "source": []
  }
 ],
 "metadata": {
  "kernelspec": {
   "display_name": "Python 3 (ipykernel)",
   "language": "python",
   "name": "python3"
  },
  "language_info": {
   "codemirror_mode": {
    "name": "ipython",
    "version": 3
   },
   "file_extension": ".py",
   "mimetype": "text/x-python",
   "name": "python",
   "nbconvert_exporter": "python",
   "pygments_lexer": "ipython3",
   "version": "3.9.7"
  }
 },
 "nbformat": 4,
 "nbformat_minor": 5
}
