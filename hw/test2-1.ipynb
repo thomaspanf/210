{
 "cells": [
  {
   "cell_type": "code",
   "execution_count": 40,
   "id": "738a5b60-9208-4a6f-8d57-6fce1510ab93",
   "metadata": {},
   "outputs": [],
   "source": [
    "def create_genre_dict(d):\n",
    "    result = {}\n",
    "    for line in open(d):\n",
    "        line = line.rstrip()\n",
    "        data = line.split('|')[0:]\n",
    "        if data[0] in result.keys():\n",
    "            result[data[0]].append(data[2])\n",
    "        else:\n",
    "            result[data[0]] = [data[2]]\n",
    "    return(result)\n",
    "    #whoops"
   ]
  },
  {
   "cell_type": "code",
   "execution_count": 41,
   "id": "f50658ab-57e8-4844-a91e-e050ae459770",
   "metadata": {},
   "outputs": [],
   "source": [
    "test = {}\n",
    "example = \"Adventure|1|Toy Story (1995)\""
   ]
  },
  {
   "cell_type": "code",
   "execution_count": 42,
   "id": "516a6c3d-a838-4b2b-88bb-b3db0fd1d966",
   "metadata": {},
   "outputs": [
    {
     "name": "stdout",
     "output_type": "stream",
     "text": [
      "Adventure|1|Toy Story (1995)\n"
     ]
    }
   ],
   "source": [
    "print(example)"
   ]
  },
  {
   "cell_type": "code",
   "execution_count": 43,
   "id": "105ffe0c-39ac-45fa-ae85-36f061ac91f1",
   "metadata": {},
   "outputs": [
    {
     "name": "stdout",
     "output_type": "stream",
     "text": [
      "['Adventure', '1', 'Toy Story (1995)']\n"
     ]
    }
   ],
   "source": [
    "example = example.split('|')[0:]\n",
    "print(example)"
   ]
  },
  {
   "cell_type": "code",
   "execution_count": 44,
   "id": "2ee76145-d1ac-4cf6-9a58-6c644fc2bda9",
   "metadata": {},
   "outputs": [
    {
     "name": "stdout",
     "output_type": "stream",
     "text": [
      "{'Adventure': ['Toy Story (1995)', 'Jumanji (1995)', 'Tom and Huck (1995)'], 'Comedy': ['Grumpier Old Men (1995)', 'Waiting to Exhale (1995)', 'Father of the Bride Part II (1995)'], 'Action': ['Heat (1995)', 'Sudden Death (1995)', 'GoldenEye (1995)']}\n"
     ]
    }
   ],
   "source": [
    "print(create_genre_dict(\"movies.txt\"))"
   ]
  },
  {
   "cell_type": "code",
   "execution_count": 4,
   "id": "0b101132-14d4-47be-953f-6fa79abefee7",
   "metadata": {},
   "outputs": [],
   "source": [
    "def read_movie_genre(f):\n",
    "    result = {}\n",
    "    for line in open(f):\n",
    "        line = line.rstrip()\n",
    "        data = line.split('|')[0:]\n",
    "        result[data[2]] = data[0]\n",
    "    return(result)\n",
    "####FINAL ANSWER"
   ]
  },
  {
   "cell_type": "code",
   "execution_count": 5,
   "id": "4a1e20cf-19fe-4b45-a00a-09ac524f6625",
   "metadata": {},
   "outputs": [
    {
     "name": "stdout",
     "output_type": "stream",
     "text": [
      "{'Toy Story (1995)': 'Adventure', 'Jumanji (1995)': 'Adventure', 'Tom and Huck (1995)': 'Adventure', 'Grumpier Old Men (1995)': 'Comedy', 'Waiting to Exhale (1995)': 'Comedy', 'Father of the Bride Part II (1995)': 'Comedy', 'Heat (1995)': 'Action', 'Sudden Death (1995)': 'Action', 'GoldenEye (1995)': 'Action'}\n"
     ]
    }
   ],
   "source": [
    "print(read_movie_genre(\"movies.txt\"))"
   ]
  },
  {
   "cell_type": "code",
   "execution_count": 200,
   "id": "e6304d34-a2e2-4b77-942c-0908a4451628",
   "metadata": {},
   "outputs": [],
   "source": [
    "def create_genre_dict(d):\n",
    "    print(d)\n",
    "    res = {v: k for k, v in d.items()}\n",
    "    print(res)\n",
    "    result = {}\n",
    "    for key in res:\n",
    "        if key in res.keys():\n",
    "            print(\"key exists\")\n",
    "            result[key].append(res.get(key))\n",
    "        else:\n",
    "            print(\"adding new key\")\n",
    "            result[key] = res.get(key)\n",
    "            print(result[key])\n",
    "    print(result)\n",
    "    return result"
   ]
  },
  {
   "cell_type": "code",
   "execution_count": 229,
   "id": "6cf3eeff-d135-41d6-afdb-21a6629ee836",
   "metadata": {},
   "outputs": [],
   "source": [
    "movie_genre_dict = read_movie_genre(\"movies.txt\")"
   ]
  },
  {
   "cell_type": "code",
   "execution_count": 230,
   "id": "e61e79e0-374a-44ff-b21a-6fa32aa06583",
   "metadata": {},
   "outputs": [
    {
     "name": "stdout",
     "output_type": "stream",
     "text": [
      "{'Toy Story (1995)': 'Adventure', 'Jumanji (1995)': 'Adventure', 'Tom and Huck (1995)': 'Adventure', 'Grumpier Old Men (1995)': 'Comedy', 'Waiting to Exhale (1995)': 'Comedy', 'Father of the Bride Part II (1995)': 'Comedy', 'Heat (1995)': 'Action', 'Sudden Death (1995)': 'Action', 'GoldenEye (1995)': 'Action'}\n"
     ]
    }
   ],
   "source": [
    "print(movie_genre_dict)"
   ]
  },
  {
   "cell_type": "code",
   "execution_count": 231,
   "id": "af1e6141-f006-42b6-b39b-a883798f86ca",
   "metadata": {},
   "outputs": [
    {
     "data": {
      "text/plain": [
       "{'Adventure': ['Toy Story (1995)', 'Jumanji (1995)', 'Tom and Huck (1995)'],\n",
       " 'Comedy': ['Grumpier Old Men (1995)',\n",
       "  'Waiting to Exhale (1995)',\n",
       "  'Father of the Bride Part II (1995)'],\n",
       " 'Action': ['Heat (1995)', 'Sudden Death (1995)', 'GoldenEye (1995)']}"
      ]
     },
     "execution_count": 231,
     "metadata": {},
     "output_type": "execute_result"
    }
   ],
   "source": [
    "create_genre_dict(movie_genre_dict)"
   ]
  },
  {
   "cell_type": "code",
   "execution_count": 232,
   "id": "eb2b892d-97d7-4aaf-966d-c9bb57a33963",
   "metadata": {},
   "outputs": [],
   "source": [
    "inv_map = {}\n",
    "for k, v in movie_genre_dict.items():\n",
    "    inv_map[v] = inv_map.get(v, []) + [k]\n"
   ]
  },
  {
   "cell_type": "code",
   "execution_count": 227,
   "id": "bfe32d4b-fc77-42d4-9fd7-da927aa9ee5f",
   "metadata": {},
   "outputs": [
    {
     "name": "stdout",
     "output_type": "stream",
     "text": [
      "{'Adventure': ['Toy Story (1995)', 'Jumanji (1995)', 'Tom and Huck (1995)'], 'Comedy': ['Grumpier Old Men (1995)', 'Waiting to Exhale (1995)', 'Father of the Bride Part II (1995)'], 'Action': ['Heat (1995)', 'Sudden Death (1995)', 'GoldenEye (1995)']}\n"
     ]
    }
   ],
   "source": [
    "print(inv_map)"
   ]
  },
  {
   "cell_type": "code",
   "execution_count": 240,
   "id": "0bc13bdb-33c1-4cd3-8ab7-d74e3f30aa82",
   "metadata": {},
   "outputs": [],
   "source": [
    "def create_genre_dict(d):\n",
    "    result = {}\n",
    "    for k, v in d.items():\n",
    "        result[v] = result.get(v, []) + [k]\n",
    "    return result\n",
    "####FINAL ANSWER"
   ]
  },
  {
   "cell_type": "code",
   "execution_count": 241,
   "id": "d258a1f2-4489-4abd-ac7c-ed924e48c0f3",
   "metadata": {},
   "outputs": [
    {
     "name": "stdout",
     "output_type": "stream",
     "text": [
      "{'Adventure': ['Toy Story (1995)', 'Jumanji (1995)', 'Tom and Huck (1995)'], 'Comedy': ['Grumpier Old Men (1995)', 'Waiting to Exhale (1995)', 'Father of the Bride Part II (1995)'], 'Action': ['Heat (1995)', 'Sudden Death (1995)', 'GoldenEye (1995)']}\n"
     ]
    }
   ],
   "source": [
    "print(create_genre_dict(movie_genre_dict))"
   ]
  },
  {
   "cell_type": "code",
   "execution_count": 242,
   "id": "2d5ec91b-10f1-4ec9-b5cd-3ce8858142df",
   "metadata": {},
   "outputs": [
    {
     "name": "stdout",
     "output_type": "stream",
     "text": [
      "{'Toy Story (1995)': 'Adventure', 'Jumanji (1995)': 'Adventure', 'Tom and Huck (1995)': 'Adventure', 'Grumpier Old Men (1995)': 'Comedy', 'Waiting to Exhale (1995)': 'Comedy', 'Father of the Bride Part II (1995)': 'Comedy', 'Heat (1995)': 'Action', 'Sudden Death (1995)': 'Action', 'GoldenEye (1995)': 'Action'}\n"
     ]
    }
   ],
   "source": [
    "print(movie_genre_dict)"
   ]
  },
  {
   "cell_type": "code",
   "execution_count": null,
   "id": "d3eb3ba3-5d44-402b-bd56-c246c9833f36",
   "metadata": {},
   "outputs": [],
   "source": []
  },
  {
   "cell_type": "code",
   "execution_count": null,
   "id": "abb43ef5-137e-49d3-b55d-24725e552796",
   "metadata": {},
   "outputs": [],
   "source": []
  }
 ],
 "metadata": {
  "kernelspec": {
   "display_name": "Python 3 (ipykernel)",
   "language": "python",
   "name": "python3"
  },
  "language_info": {
   "codemirror_mode": {
    "name": "ipython",
    "version": 3
   },
   "file_extension": ".py",
   "mimetype": "text/x-python",
   "name": "python",
   "nbconvert_exporter": "python",
   "pygments_lexer": "ipython3",
   "version": "3.9.7"
  }
 },
 "nbformat": 4,
 "nbformat_minor": 5
}
