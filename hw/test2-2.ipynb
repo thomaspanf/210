{
 "cells": [
  {
   "cell_type": "code",
   "execution_count": 1,
   "id": "ffc7c64b-81fe-43e4-87bd-e74d5b15bf3a",
   "metadata": {},
   "outputs": [],
   "source": [
    "def calculate_average_rating(d):\n",
    "    result = {}\n",
    "    for line in open(d):\n",
    "        #list of data in format ['Toy Story (1995)', '4.0']\n",
    "        data = line.split('|')[0:]\n",
    "        data = data[:-1]\n",
    "        ##if key exists\n",
    "        if data[0] in result.keys():\n",
    "            result[data[0]].append(float(data[1]))\n",
    "        ##otherwise add new key value pair\n",
    "        else:\n",
    "            result[data[0]] = [float(data[1])]\n",
    "    ##surely there is a better way to do this\n",
    "    avg_result = {}\n",
    "    for key, value in result.items():\n",
    "        avg_result[key] = sum(value)/float(len(value))\n",
    "    del result\n",
    "    return avg_result\n",
    "###oops"
   ]
  },
  {
   "cell_type": "code",
   "execution_count": 44,
   "id": "9a457b8e-a2f5-4b02-8632-24fb8da32061",
   "metadata": {},
   "outputs": [
    {
     "name": "stdout",
     "output_type": "stream",
     "text": [
      "True\n",
      "{'Toy Story (1995)': 3.8333333333333335, 'Jumanji (1995)': 3.4166666666666665, 'Tom and Huck (1995)': 2.8333333333333335, 'Grumpier Old Men (1995)': 4.0, 'Waiting to Exhale (1995)': 2.5, 'Father of the Bride Part II (1995)': 4.0, 'Heat (1995)': 4.25, 'Sudden Death (1995)': 3.3333333333333335, 'GoldenEye (1995)': 3.0}\n"
     ]
    }
   ],
   "source": [
    "print(isinstance(calculate_average_rating(\"ratings.txt\"), dict))\n",
    "print(calculate_average_rating(\"ratings.txt\")"
   ]
  },
  {
   "cell_type": "code",
   "execution_count": 8,
   "id": "7aaf29bf-21c1-48ed-9ac2-74af3779237f",
   "metadata": {},
   "outputs": [],
   "source": [
    "def read_ratings_data(f):\n",
    "    result = {}\n",
    "    for line in open(f):\n",
    "        #list of data in format ['Toy Story (1995)', '4.0']\n",
    "        data = line.split('|')[0:]\n",
    "        data = data[:-1]\n",
    "        if data[0] in result.keys():\n",
    "            result[data[0]].append(float(data[1]))\n",
    "        else:\n",
    "            result[data[0]] = [float(data[1])]\n",
    "    return(result)"
   ]
  },
  {
   "cell_type": "code",
   "execution_count": 11,
   "id": "c8f8b600-ef66-4c06-acc7-89bd4e7f630b",
   "metadata": {},
   "outputs": [],
   "source": [
    "ratings_dict = read_ratings_data(\"ratings.txt\")"
   ]
  },
  {
   "cell_type": "code",
   "execution_count": 12,
   "id": "2ee41ab2-c7bd-436a-bd81-99fa025d0e6d",
   "metadata": {},
   "outputs": [
    {
     "name": "stdout",
     "output_type": "stream",
     "text": [
      "{'Toy Story (1995)': [4.0, 4.0, 4.5, 2.5, 4.5, 3.5], 'Jumanji (1995)': [4.0, 4.0, 3.0, 3.0, 3.0, 3.5], 'Tom and Huck (1995)': [3.0, 1.0, 5.0, 3.0, 2.0, 3.0], 'Grumpier Old Men (1995)': [4.0, 5.0, 3.0, 3.0, 4.0, 5.0], 'Waiting to Exhale (1995)': [3.0, 3.0, 3.0, 3.0, 1.0, 2.0], 'Father of the Bride Part II (1995)': [5.0, 3.0, 5.0, 3.0, 4.0, 4.0], 'Heat (1995)': [4.0, 4.0, 5.0, 4.0, 4.0, 4.5], 'Sudden Death (1995)': [4.0, 3.0, 3.0, 2.0, 3.0, 5.0], 'GoldenEye (1995)': [3.0, 2.0, 3.0, 2.0, 5.0, 3.0]}\n"
     ]
    }
   ],
   "source": [
    "print(ratings_dict)"
   ]
  },
  {
   "cell_type": "code",
   "execution_count": 13,
   "id": "99bf0ec1-bb81-4226-9951-c716d993c229",
   "metadata": {},
   "outputs": [],
   "source": [
    "def calculate_average_rating(d):\n",
    "    avg_result = {}\n",
    "    for key, value in d.items():\n",
    "        avg_result[key] = sum(value)/float(len(value))\n",
    "    return avg_result"
   ]
  },
  {
   "cell_type": "code",
   "execution_count": 15,
   "id": "e2cd486e-a8b5-48c7-8f30-26d4bc3fe0f7",
   "metadata": {},
   "outputs": [
    {
     "name": "stdout",
     "output_type": "stream",
     "text": [
      "{'Toy Story (1995)': 3.8333333333333335, 'Jumanji (1995)': 3.4166666666666665, 'Tom and Huck (1995)': 2.8333333333333335, 'Grumpier Old Men (1995)': 4.0, 'Waiting to Exhale (1995)': 2.5, 'Father of the Bride Part II (1995)': 4.0, 'Heat (1995)': 4.25, 'Sudden Death (1995)': 3.3333333333333335, 'GoldenEye (1995)': 3.0}\n"
     ]
    }
   ],
   "source": [
    "print(calculate_average_rating(ratings_dict))"
   ]
  },
  {
   "cell_type": "code",
   "execution_count": null,
   "id": "737025ea-5b77-4592-81d5-dcae65e5ae10",
   "metadata": {},
   "outputs": [],
   "source": []
  }
 ],
 "metadata": {
  "kernelspec": {
   "display_name": "Python 3 (ipykernel)",
   "language": "python",
   "name": "python3"
  },
  "language_info": {
   "codemirror_mode": {
    "name": "ipython",
    "version": 3
   },
   "file_extension": ".py",
   "mimetype": "text/x-python",
   "name": "python",
   "nbconvert_exporter": "python",
   "pygments_lexer": "ipython3",
   "version": "3.9.7"
  }
 },
 "nbformat": 4,
 "nbformat_minor": 5
}
