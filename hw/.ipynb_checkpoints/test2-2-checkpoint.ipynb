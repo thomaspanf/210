{
 "cells": [
  {
   "cell_type": "code",
   "execution_count": 40,
   "id": "ffc7c64b-81fe-43e4-87bd-e74d5b15bf3a",
   "metadata": {},
   "outputs": [],
   "source": [
    "def calculate_average_rating(d):\n",
    "    result = {}\n",
    "    for line in open(d):\n",
    "        #list of data in format ['Toy Story (1995)', '4.0']\n",
    "        data = line.split('|')[0:]\n",
    "        data = data[:-1]\n",
    "        ##if key exists\n",
    "        if data[0] in result.keys():\n",
    "            result[data[0]].append(float(data[1]))\n",
    "        ##otherwise add new key value pair\n",
    "        else:\n",
    "            result[data[0]] = [float(data[1])]\n",
    "    ##surely there is a better way to do this\n",
    "    avg_result = {}\n",
    "    for key, value in result.items():\n",
    "        avg_result[key] = sum(value)/float(len(value))\n",
    "    del result\n",
    "    return avg_result\n",
    "###FINAL ANSWER"
   ]
  },
  {
   "cell_type": "code",
   "execution_count": 43,
   "id": "9a457b8e-a2f5-4b02-8632-24fb8da32061",
   "metadata": {},
   "outputs": [
    {
     "name": "stdout",
     "output_type": "stream",
     "text": [
      "True\n"
     ]
    }
   ],
   "source": [
    "print(isinstance(calculate_average_rating(\"ratings.txt\"), dict))"
   ]
  },
  {
   "cell_type": "code",
   "execution_count": 37,
   "id": "4ca7daca-3ed7-4d0e-a372-548ac7f24d1e",
   "metadata": {},
   "outputs": [],
   "source": [
    "##attempt at using 1 for loop\n",
    "\n",
    "def calculate_average_rating(d):\n",
    "    result = {}\n",
    "    for line in open(d):\n",
    "        #list of data in format ['Toy Story (1995)', '4.0']\n",
    "        data = line.split('|')[0:]\n",
    "        data = data[:-1]\n",
    "        ##if key exists\n",
    "        if data[0] in result.keys():\n",
    "            result[data[0]].append(float(data[1]))\n",
    "        ##otherwise add new key value pair\n",
    "        else:\n",
    "            result[data[0]] = [float(data[1])]\n",
    "    ##surely there is a better way to do this\n",
    "    avg_result = {}\n",
    "    for key, value in result.items():\n",
    "        avg_result[key] = sum(value)/float(len(value))\n",
    "    return avg_result\n",
    "##nvm dont feel like it"
   ]
  },
  {
   "cell_type": "code",
   "execution_count": null,
   "id": "7aaf29bf-21c1-48ed-9ac2-74af3779237f",
   "metadata": {},
   "outputs": [],
   "source": []
  },
  {
   "cell_type": "code",
   "execution_count": null,
   "id": "c8f8b600-ef66-4c06-acc7-89bd4e7f630b",
   "metadata": {},
   "outputs": [],
   "source": []
  }
 ],
 "metadata": {
  "kernelspec": {
   "display_name": "Python 3 (ipykernel)",
   "language": "python",
   "name": "python3"
  },
  "language_info": {
   "codemirror_mode": {
    "name": "ipython",
    "version": 3
   },
   "file_extension": ".py",
   "mimetype": "text/x-python",
   "name": "python",
   "nbconvert_exporter": "python",
   "pygments_lexer": "ipython3",
   "version": "3.9.7"
  }
 },
 "nbformat": 4,
 "nbformat_minor": 5
}
