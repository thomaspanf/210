{
 "cells": [
  {
   "cell_type": "code",
   "execution_count": 28,
   "id": "ffc7c64b-81fe-43e4-87bd-e74d5b15bf3a",
   "metadata": {},
   "outputs": [],
   "source": [
    "def calculate_average_rating(d):\n",
    "    result = {}\n",
    "    for line in open(d):\n",
    "        #list of data in format ['Toy Story (1995)', '4.0']\n",
    "        data = line.split('|')[0:]\n",
    "        data = data[:-1]\n",
    "        ##if key exists\n",
    "        if data[0] in result.keys():\n",
    "            result[data[0]].append(float(data[1]))\n",
    "        ##otherwise add new key value pair\n",
    "        else:\n",
    "            result[data[0]] = [float(data[1])]\n",
    "    ##surely there is a better way to do this\n",
    "    avg_result = {}\n",
    "    for key, value in result.items():\n",
    "        avg_result[key] = sum(value)/float(len(value))\n",
    "    return avg_result"
   ]
  },
  {
   "cell_type": "code",
   "execution_count": 29,
   "id": "9a457b8e-a2f5-4b02-8632-24fb8da32061",
   "metadata": {},
   "outputs": [
    {
     "name": "stdout",
     "output_type": "stream",
     "text": [
      "{'Toy Story (1995)': 3.8333333333333335, 'Jumanji (1995)': 3.4166666666666665, 'Tom and Huck (1995)': 2.8333333333333335, 'Grumpier Old Men (1995)': 4.0, 'Waiting to Exhale (1995)': 2.5, 'Father of the Bride Part II (1995)': 4.0, 'Heat (1995)': 4.25, 'Sudden Death (1995)': 3.3333333333333335, 'GoldenEye (1995)': 3.0}\n"
     ]
    }
   ],
   "source": [
    "print(calculate_average_rating(\"ratings.txt\"))"
   ]
  },
  {
   "cell_type": "code",
   "execution_count": null,
   "id": "4ca7daca-3ed7-4d0e-a372-548ac7f24d1e",
   "metadata": {},
   "outputs": [],
   "source": []
  }
 ],
 "metadata": {
  "kernelspec": {
   "display_name": "Python 3 (ipykernel)",
   "language": "python",
   "name": "python3"
  },
  "language_info": {
   "codemirror_mode": {
    "name": "ipython",
    "version": 3
   },
   "file_extension": ".py",
   "mimetype": "text/x-python",
   "name": "python",
   "nbconvert_exporter": "python",
   "pygments_lexer": "ipython3",
   "version": "3.9.7"
  }
 },
 "nbformat": 4,
 "nbformat_minor": 5
}
