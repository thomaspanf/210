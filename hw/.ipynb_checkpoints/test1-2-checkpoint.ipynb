{
 "cells": [
  {
   "cell_type": "code",
   "execution_count": 1,
   "id": "f818303b-e4ad-4c01-9db9-ab690c8156c1",
   "metadata": {},
   "outputs": [],
   "source": [
    "def read_ratings_data(f):\n",
    "    result = {}\n",
    "    for line in open(f):\n",
    "        #list of data in format ['Toy Story (1995)', '4.0']\n",
    "        data = line.split('|')[0:]\n",
    "        data = data[:-1]\n",
    "        if data[0] in result.keys():\n",
    "            result[data[0]].append(data[1])\n",
    "        else:\n",
    "            result[data[0]] = [data[1]]\n",
    "    return(result)\n",
    "    ###############FINAL ANSWER##############"
   ]
  },
  {
   "cell_type": "code",
   "execution_count": 11,
   "id": "a77fa1eb-7c5a-4077-a35a-87a8f9ca78b7",
   "metadata": {},
   "outputs": [],
   "source": [
    "test = {}\n",
    "example = \"Adventure|1|Toy Story (1995)\""
   ]
  },
  {
   "cell_type": "code",
   "execution_count": 12,
   "id": "e649e62f-c214-4f97-bf37-89fb576856fd",
   "metadata": {},
   "outputs": [
    {
     "name": "stdout",
     "output_type": "stream",
     "text": [
      "['Adventure', '1', 'Toy Story (1995)']\n"
     ]
    }
   ],
   "source": [
    "example = example.split('|')[0:]\n",
    "print(example)"
   ]
  },
  {
   "cell_type": "code",
   "execution_count": 13,
   "id": "de7cb118-5109-421e-9df8-12d484164fd6",
   "metadata": {},
   "outputs": [
    {
     "name": "stdout",
     "output_type": "stream",
     "text": [
      "Adventure\n",
      "Toy Story (1995)\n"
     ]
    }
   ],
   "source": [
    "print(example[0])\n",
    "print(example[2])"
   ]
  },
  {
   "cell_type": "code",
   "execution_count": 16,
   "id": "058a5d00-70b1-4501-a7ee-a7d98146ff28",
   "metadata": {},
   "outputs": [],
   "source": [
    "def read_movie_genre(f):\n",
    "    result = {}\n",
    "    for line in open(f):\n",
    "        line = line.rstrip()\n",
    "        data = line.split('|')[0:]\n",
    "        result[data[2]] = data[0]\n",
    "    return(result)"
   ]
  },
  {
   "cell_type": "code",
   "execution_count": 17,
   "id": "9ce8bb4e-ccb3-46a6-9626-43286a523254",
   "metadata": {},
   "outputs": [
    {
     "name": "stdout",
     "output_type": "stream",
     "text": [
      "{'Toy Story (1995)': 'Adventure', 'Jumanji (1995)': 'Adventure', 'Tom and Huck (1995)': 'Adventure', 'Grumpier Old Men (1995)': 'Comedy', 'Waiting to Exhale (1995)': 'Comedy', 'Father of the Bride Part II (1995)': 'Comedy', 'Heat (1995)': 'Action', 'Sudden Death (1995)': 'Action', 'GoldenEye (1995)': 'Action'}\n"
     ]
    }
   ],
   "source": [
    "print(read_movie_genre('movies.txt'))"
   ]
  },
  {
   "cell_type": "code",
   "execution_count": null,
   "id": "fea3914a-559c-43be-b8e9-1a1dd37f4fd3",
   "metadata": {},
   "outputs": [],
   "source": []
  }
 ],
 "metadata": {
  "kernelspec": {
   "display_name": "Python 3 (ipykernel)",
   "language": "python",
   "name": "python3"
  },
  "language_info": {
   "codemirror_mode": {
    "name": "ipython",
    "version": 3
   },
   "file_extension": ".py",
   "mimetype": "text/x-python",
   "name": "python",
   "nbconvert_exporter": "python",
   "pygments_lexer": "ipython3",
   "version": "3.9.7"
  }
 },
 "nbformat": 4,
 "nbformat_minor": 5
}
