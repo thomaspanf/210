{
 "cells": [
  {
   "cell_type": "code",
   "execution_count": 1,
   "id": "f62403f5-e26b-48df-af7a-81f96ff504d7",
   "metadata": {},
   "outputs": [],
   "source": [
    "def read_ratings_data(f):\n",
    "    result = {}\n",
    "    for line in open(f):\n",
    "        #list of data in format ['Toy Story (1995)', '4.0']\n",
    "        data = line.split('|')[0:]\n",
    "        data = data[:-1]\n",
    "        if data[0] in result.keys():\n",
    "            result[data[0]].append(float(data[1]))\n",
    "        else:\n",
    "            result[data[0]] = [float(data[1])]\n",
    "    return(result)\n",
    "    ###############FINAL ANSWER##############"
   ]
  },
  {
   "cell_type": "code",
   "execution_count": 2,
   "id": "ede527cf-6e38-4127-ae46-1b5d42d08020",
   "metadata": {},
   "outputs": [],
   "source": [
    "def calculate_average_rating(d):\n",
    "    avg_result = {}\n",
    "    for key, value in d.items():\n",
    "        avg_result[key] = sum(value)/float(len(value))\n",
    "    return avg_result\n",
    "###FINAL ANSWER"
   ]
  },
  {
   "cell_type": "code",
   "execution_count": 5,
   "id": "8a694163-f85a-4337-b590-d92999678d2e",
   "metadata": {},
   "outputs": [
    {
     "name": "stdout",
     "output_type": "stream",
     "text": [
      "{'Toy Story (1995)': 3.8333333333333335, 'Jumanji (1995)': 3.4166666666666665, 'Tom and Huck (1995)': 2.8333333333333335, 'Grumpier Old Men (1995)': 4.0, 'Waiting to Exhale (1995)': 2.5, 'Father of the Bride Part II (1995)': 4.0, 'Heat (1995)': 4.25, 'Sudden Death (1995)': 3.3333333333333335, 'GoldenEye (1995)': 3.0}\n"
     ]
    }
   ],
   "source": [
    "movie_average_dict = calculate_average_rating(read_ratings_data(\"ratings.txt\"))\n",
    "print(movie_average_dict)"
   ]
  },
  {
   "cell_type": "code",
   "execution_count": 27,
   "id": "98d022d2-1888-41fd-8a82-253c6f8085eb",
   "metadata": {},
   "outputs": [],
   "source": [
    "def filter_movies(d, thres_rating = 3):\n",
    "    result = {} \n",
    "    for k in d.keys():\n",
    "        if d.get(k) >= thres_rating:\n",
    "            result[k] = d[k]\n",
    "    return result\n",
    "####FINAL ANSWER"
   ]
  },
  {
   "cell_type": "code",
   "execution_count": 28,
   "id": "ee92b33e-d654-4ebb-8a46-7218de5eaff3",
   "metadata": {},
   "outputs": [
    {
     "name": "stdout",
     "output_type": "stream",
     "text": [
      "{'Toy Story (1995)': 3.8333333333333335, 'Jumanji (1995)': 3.4166666666666665, 'Grumpier Old Men (1995)': 4.0, 'Father of the Bride Part II (1995)': 4.0, 'Heat (1995)': 4.25, 'Sudden Death (1995)': 3.3333333333333335, 'GoldenEye (1995)': 3.0}\n"
     ]
    }
   ],
   "source": [
    "print(filter_movies(movie_average_dict))"
   ]
  },
  {
   "cell_type": "code",
   "execution_count": null,
   "id": "0a5bdfd2-5a1c-4c8a-a45c-d89e55d5f6bc",
   "metadata": {},
   "outputs": [],
   "source": []
  }
 ],
 "metadata": {
  "kernelspec": {
   "display_name": "Python 3 (ipykernel)",
   "language": "python",
   "name": "python3"
  },
  "language_info": {
   "codemirror_mode": {
    "name": "ipython",
    "version": 3
   },
   "file_extension": ".py",
   "mimetype": "text/x-python",
   "name": "python",
   "nbconvert_exporter": "python",
   "pygments_lexer": "ipython3",
   "version": "3.9.7"
  }
 },
 "nbformat": 4,
 "nbformat_minor": 5
}
