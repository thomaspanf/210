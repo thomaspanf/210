{
 "cells": [
  {
   "cell_type": "code",
   "execution_count": 131,
   "id": "cf9def86-df76-408f-8c85-473be532db88",
   "metadata": {},
   "outputs": [],
   "source": [
    "# ------ TASK 1: READING DATA  --------\n",
    "\n",
    "# 1.1\n",
    "def read_ratings_data(f):\n",
    "    lines = []\n",
    "    result = {}\n",
    "    for line in open(f):\n",
    "        #list of data in format ['Toy Story (1995)', '4.0']\n",
    "        data = line.split('|')[0:]\n",
    "        data = data[:-1]\n",
    "        if data[0] in result:\n",
    "            result[0].append(data[1])\n",
    "        else:\n",
    "            result[data[0]] = data[1]\n",
    "    print(dict)\n",
    "                        \n"
   ]
  },
  {
   "cell_type": "code",
   "execution_count": 38,
   "id": "205c82b9-4efe-4360-a48e-3037acee3992",
   "metadata": {},
   "outputs": [],
   "source": [
    "line = \"Toy Story (1995)|4.0|1\""
   ]
  },
  {
   "cell_type": "code",
   "execution_count": 107,
   "id": "6f18101a-d4f0-4292-ae2a-cec026104562",
   "metadata": {},
   "outputs": [],
   "source": [
    "data = line.split('|')[0:]"
   ]
  },
  {
   "cell_type": "code",
   "execution_count": 108,
   "id": "f9bba308-7a4e-480a-8342-ffec6122fd5a",
   "metadata": {},
   "outputs": [
    {
     "name": "stdout",
     "output_type": "stream",
     "text": [
      "['Toy Story (1995)', '4.0', '1']\n"
     ]
    }
   ],
   "source": [
    "print(data)"
   ]
  },
  {
   "cell_type": "code",
   "execution_count": 109,
   "id": "79d6dda9-fd39-4259-bfa0-6e102f05cd83",
   "metadata": {},
   "outputs": [
    {
     "name": "stdout",
     "output_type": "stream",
     "text": [
      "['Toy Story (1995)', '4.0']\n"
     ]
    }
   ],
   "source": [
    "data = data[:-1]\n",
    "print(data)"
   ]
  },
  {
   "cell_type": "code",
   "execution_count": 117,
   "id": "ec8d2462-d3d0-434b-9a85-c94e2a16ef14",
   "metadata": {},
   "outputs": [
    {
     "name": "stdout",
     "output_type": "stream",
     "text": [
      "Toy Story (1995)\n"
     ]
    }
   ],
   "source": [
    "print(data[0])"
   ]
  },
  {
   "cell_type": "code",
   "execution_count": 132,
   "id": "2c322907-273f-4ef2-a4e1-1e598927ee81",
   "metadata": {},
   "outputs": [
    {
     "ename": "KeyError",
     "evalue": "0",
     "output_type": "error",
     "traceback": [
      "\u001b[1;31m---------------------------------------------------------------------------\u001b[0m",
      "\u001b[1;31mKeyError\u001b[0m                                  Traceback (most recent call last)",
      "\u001b[1;32m~\\AppData\\Local\\Temp/ipykernel_6152/96579481.py\u001b[0m in \u001b[0;36m<module>\u001b[1;34m\u001b[0m\n\u001b[1;32m----> 1\u001b[1;33m \u001b[0mread_ratings_data\u001b[0m\u001b[1;33m(\u001b[0m\u001b[1;34m\"ratings.txt\"\u001b[0m\u001b[1;33m)\u001b[0m\u001b[1;33m\u001b[0m\u001b[1;33m\u001b[0m\u001b[0m\n\u001b[0m",
      "\u001b[1;32m~\\AppData\\Local\\Temp/ipykernel_6152/719326554.py\u001b[0m in \u001b[0;36mread_ratings_data\u001b[1;34m(f)\u001b[0m\n\u001b[0;32m      9\u001b[0m         \u001b[0mdata\u001b[0m \u001b[1;33m=\u001b[0m \u001b[0mdata\u001b[0m\u001b[1;33m[\u001b[0m\u001b[1;33m:\u001b[0m\u001b[1;33m-\u001b[0m\u001b[1;36m1\u001b[0m\u001b[1;33m]\u001b[0m\u001b[1;33m\u001b[0m\u001b[1;33m\u001b[0m\u001b[0m\n\u001b[0;32m     10\u001b[0m         \u001b[1;32mif\u001b[0m \u001b[0mdata\u001b[0m\u001b[1;33m[\u001b[0m\u001b[1;36m0\u001b[0m\u001b[1;33m]\u001b[0m \u001b[1;32min\u001b[0m \u001b[0mresult\u001b[0m\u001b[1;33m:\u001b[0m\u001b[1;33m\u001b[0m\u001b[1;33m\u001b[0m\u001b[0m\n\u001b[1;32m---> 11\u001b[1;33m             \u001b[0mresult\u001b[0m\u001b[1;33m[\u001b[0m\u001b[1;36m0\u001b[0m\u001b[1;33m]\u001b[0m\u001b[1;33m.\u001b[0m\u001b[0mappend\u001b[0m\u001b[1;33m(\u001b[0m\u001b[0mdata\u001b[0m\u001b[1;33m[\u001b[0m\u001b[1;36m1\u001b[0m\u001b[1;33m]\u001b[0m\u001b[1;33m)\u001b[0m\u001b[1;33m\u001b[0m\u001b[1;33m\u001b[0m\u001b[0m\n\u001b[0m\u001b[0;32m     12\u001b[0m         \u001b[1;32melse\u001b[0m\u001b[1;33m:\u001b[0m\u001b[1;33m\u001b[0m\u001b[1;33m\u001b[0m\u001b[0m\n\u001b[0;32m     13\u001b[0m             \u001b[0mresult\u001b[0m\u001b[1;33m[\u001b[0m\u001b[0mdata\u001b[0m\u001b[1;33m[\u001b[0m\u001b[1;36m0\u001b[0m\u001b[1;33m]\u001b[0m\u001b[1;33m]\u001b[0m \u001b[1;33m=\u001b[0m \u001b[0mdata\u001b[0m\u001b[1;33m[\u001b[0m\u001b[1;36m1\u001b[0m\u001b[1;33m]\u001b[0m\u001b[1;33m\u001b[0m\u001b[1;33m\u001b[0m\u001b[0m\n",
      "\u001b[1;31mKeyError\u001b[0m: 0"
     ]
    }
   ],
   "source": [
    "read_ratings_data(\"ratings.txt\")"
   ]
  },
  {
   "cell_type": "code",
   "execution_count": 118,
   "id": "a5d155d5-dbea-4533-8f21-5ca24a55b5cd",
   "metadata": {},
   "outputs": [
    {
     "name": "stdout",
     "output_type": "stream",
     "text": [
      "['Toy Story (1995)', '4.0']\n"
     ]
    }
   ],
   "source": [
    "print(data)"
   ]
  },
  {
   "cell_type": "code",
   "execution_count": 119,
   "id": "8f161248-83f5-42b5-9833-2b90701e9018",
   "metadata": {
    "tags": []
   },
   "outputs": [],
   "source": [
    "result = {}"
   ]
  },
  {
   "cell_type": "code",
   "execution_count": 120,
   "id": "7466bda7-2aea-4cf9-a626-1619bf3af1fd",
   "metadata": {},
   "outputs": [
    {
     "name": "stdout",
     "output_type": "stream",
     "text": [
      "{}\n"
     ]
    }
   ],
   "source": [
    "print(result)"
   ]
  },
  {
   "cell_type": "code",
   "execution_count": 123,
   "id": "5c4451bc-b1ad-4033-b2e7-659e5e466907",
   "metadata": {},
   "outputs": [],
   "source": [
    "result[0] = 123"
   ]
  },
  {
   "cell_type": "code",
   "execution_count": 124,
   "id": "05e15039-b4c3-49ce-bec5-43594e16737b",
   "metadata": {},
   "outputs": [
    {
     "name": "stdout",
     "output_type": "stream",
     "text": [
      "{0: 123}\n"
     ]
    }
   ],
   "source": [
    "print(result)"
   ]
  },
  {
   "cell_type": "code",
   "execution_count": 127,
   "id": "49ce1118-3167-4b48-af28-23b8d91f4981",
   "metadata": {},
   "outputs": [],
   "source": [
    "result[1] = data[0]"
   ]
  },
  {
   "cell_type": "code",
   "execution_count": 129,
   "id": "5b188df0-acac-4b72-a3d3-797b26161693",
   "metadata": {},
   "outputs": [
    {
     "name": "stdout",
     "output_type": "stream",
     "text": [
      "{0: 123, 1: 'Toy Story (1995)'}\n"
     ]
    }
   ],
   "source": [
    "print(result)"
   ]
  },
  {
   "cell_type": "code",
   "execution_count": 157,
   "id": "6560e173-d533-47a8-9e3c-92135c5e3f50",
   "metadata": {},
   "outputs": [],
   "source": [
    "def read_ratings_data(f):\n",
    "    result = {}\n",
    "    for line in open(f):\n",
    "        #list of data in format ['Toy Story (1995)', '4.0']\n",
    "        data = line.split('|')[0:]\n",
    "        data = data[:-1]\n",
    "        if data[0] in result.keys():\n",
    "            result[data[0]].append(data[1])\n",
    "        else:\n",
    "            result[data[0]] = [data[1]]\n",
    "    return(result)\n"
   ]
  },
  {
   "cell_type": "code",
   "execution_count": 158,
   "id": "de8c7cbb-d580-4137-a7f6-c81a9053b7af",
   "metadata": {},
   "outputs": [
    {
     "data": {
      "text/plain": [
       "{'Toy Story (1995)': ['4.0', '4.0', '4.5', '2.5', '4.5', '3.5'],\n",
       " 'Jumanji (1995)': ['4.0', '4.0', '3.0', '3.0', '3.0', '3.5'],\n",
       " 'Tom and Huck (1995)': ['3.0', '1.0', '5.0', '3.0', '2.0', '3.0'],\n",
       " 'Grumpier Old Men (1995)': ['4.0', '5.0', '3.0', '3.0', '4.0', '5.0'],\n",
       " 'Waiting to Exhale (1995)': ['3.0', '3.0', '3.0', '3.0', '1.0', '2.0'],\n",
       " 'Father of the Bride Part II (1995)': ['5.0',\n",
       "  '3.0',\n",
       "  '5.0',\n",
       "  '3.0',\n",
       "  '4.0',\n",
       "  '4.0'],\n",
       " 'Heat (1995)': ['4.0', '4.0', '5.0', '4.0', '4.0', '4.5'],\n",
       " 'Sudden Death (1995)': ['4.0', '3.0', '3.0', '2.0', '3.0', '5.0'],\n",
       " 'GoldenEye (1995)': ['3.0', '2.0', '3.0', '2.0', '5.0', '3.0']}"
      ]
     },
     "execution_count": 158,
     "metadata": {},
     "output_type": "execute_result"
    }
   ],
   "source": [
    "read_ratings_data(\"ratings.txt\")"
   ]
  },
  {
   "cell_type": "code",
   "execution_count": 2,
   "id": "01f2738b-59b2-4f12-b63f-dfd437b50fd4",
   "metadata": {},
   "outputs": [
    {
     "name": "stdout",
     "output_type": "stream",
     "text": [
      "{'Toy Story (1995)': [4.0, 4.0, 4.5, 2.5, 4.5, 3.5], 'Jumanji (1995)': [4.0, 4.0, 3.0, 3.0, 3.0, 3.5], 'Tom and Huck (1995)': [3.0, 1.0, 5.0, 3.0, 2.0, 3.0], 'Grumpier Old Men (1995)': [4.0, 5.0, 3.0, 3.0, 4.0, 5.0], 'Waiting to Exhale (1995)': [3.0, 3.0, 3.0, 3.0, 1.0, 2.0], 'Father of the Bride Part II (1995)': [5.0, 3.0, 5.0, 3.0, 4.0, 4.0], 'Heat (1995)': [4.0, 4.0, 5.0, 4.0, 4.0, 4.5], 'Sudden Death (1995)': [4.0, 3.0, 3.0, 2.0, 3.0, 5.0], 'GoldenEye (1995)': [3.0, 2.0, 3.0, 2.0, 5.0, 3.0]}\n"
     ]
    }
   ],
   "source": [
    "def read_ratings_data(f):\n",
    "    result = {}\n",
    "    for line in open(f):\n",
    "        #list of data in format ['Toy Story (1995)', '4.0']\n",
    "        data = line.split('|')[0:]\n",
    "        data = data[:-1]\n",
    "        if data[0] in result.keys():\n",
    "            result[data[0]].append(float(data[1]))\n",
    "        else:\n",
    "            result[data[0]] = [float(data[1])]\n",
    "    return(result)\n",
    "    ###############FINAL ANSWER##############\n",
    "print(read_ratings_data(\"ratings.txt\"))"
   ]
  },
  {
   "cell_type": "code",
   "execution_count": null,
   "id": "95b9d014-fcba-4b88-9142-49a270d5277a",
   "metadata": {},
   "outputs": [],
   "source": []
  },
  {
   "cell_type": "code",
   "execution_count": null,
   "id": "6d814118-c380-4dee-b3b1-96f4672eb7aa",
   "metadata": {},
   "outputs": [],
   "source": []
  }
 ],
 "metadata": {
  "kernelspec": {
   "display_name": "Python 3 (ipykernel)",
   "language": "python",
   "name": "python3"
  },
  "language_info": {
   "codemirror_mode": {
    "name": "ipython",
    "version": 3
   },
   "file_extension": ".py",
   "mimetype": "text/x-python",
   "name": "python",
   "nbconvert_exporter": "python",
   "pygments_lexer": "ipython3",
   "version": "3.9.7"
  }
 },
 "nbformat": 4,
 "nbformat_minor": 5
}
