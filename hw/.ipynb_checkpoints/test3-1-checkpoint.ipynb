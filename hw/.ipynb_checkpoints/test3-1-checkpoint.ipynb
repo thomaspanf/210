{
 "cells": [
  {
   "cell_type": "code",
   "execution_count": 70,
   "id": "5061d155-5b7f-4e24-9b10-fdac3d1e14af",
   "metadata": {},
   "outputs": [],
   "source": [
    "def get_popular_movies(d, n=10):\n",
    "    result = {}\n",
    "    for line in open(d):\n",
    "        #list of data in format ['Toy Story (1995)', '4.0']\n",
    "        data = line.split('|')[0:]\n",
    "        data = data[:-1]\n",
    "        ##if key exists\n",
    "        if data[0] in result.keys():\n",
    "            result[data[0]].append(float(data[1]))\n",
    "        ##otherwise add new key value pair\n",
    "        else:\n",
    "            result[data[0]] = [float(data[1])]\n",
    "    ##surely there is a better way to do this\n",
    "    avg_result = {}\n",
    "    for key, value in result.items():\n",
    "        avg_result[key] = sum(value)/float(len(value))\n",
    "\n",
    "    sorted_avg = dict(sorted(avg_result.items(), key=lambda x:x[1], reverse=True))\n",
    "    items = sorted_avg.items()\n",
    "    topn = list(items)[:n]\n",
    "    #convert list to dict\n",
    "    dict_top_n = {topn[i]: topn[i+1] for i in range(0, len(topn), 2)}\n",
    "    \n",
    "    del result\n",
    "    del sorted_avg\n",
    "    del items\n",
    "\n",
    "    return dict_top_n\n",
    "###FINAL ANSWER"
   ]
  },
  {
   "cell_type": "code",
   "execution_count": 71,
   "id": "e73de152-1be1-4209-9de4-cad7927e94bf",
   "metadata": {},
   "outputs": [
    {
     "name": "stdout",
     "output_type": "stream",
     "text": [
      "True\n",
      "{('TestMovie0 (1995)', 99.0): ('TestMovie1 (1995)', 98.0), ('TestMovie2 (1995)', 97.0): ('TestMovie3 (1995)', 96.0), ('TestMovie4 (1995)', 95.0): ('TestMovie5 (1995)', 94.0), ('Heat (1995)', 4.25): ('Grumpier Old Men (1995)', 4.0), ('Father of the Bride Part II (1995)', 4.0): ('Toy Story (1995)', 3.8333333333333335)}\n"
     ]
    }
   ],
   "source": [
    "print(get_popular_movies(\"ratings1.txt\",10))"
   ]
  },
  {
   "cell_type": "code",
   "execution_count": 54,
   "id": "3ffec909-c226-44ba-bb4c-bdc26445b9a2",
   "metadata": {},
   "outputs": [],
   "source": [
    "testdict = {}\n",
    "testdict[0] = 'test'"
   ]
  },
  {
   "cell_type": "code",
   "execution_count": 49,
   "id": "d4d0ea44-3a1c-4b8f-b177-924d2c7792f5",
   "metadata": {},
   "outputs": [
    {
     "name": "stdout",
     "output_type": "stream",
     "text": [
      "{0: 'test'}\n"
     ]
    }
   ],
   "source": [
    "print(testdict)"
   ]
  },
  {
   "cell_type": "code",
   "execution_count": 4,
   "id": "af43b262-c357-4905-ad62-b405300e3390",
   "metadata": {},
   "outputs": [],
   "source": [
    "del testdict"
   ]
  },
  {
   "cell_type": "code",
   "execution_count": 5,
   "id": "1c1a73f2-5751-4fba-a7c8-b5f089ed9c17",
   "metadata": {},
   "outputs": [
    {
     "ename": "NameError",
     "evalue": "name 'testdict' is not defined",
     "output_type": "error",
     "traceback": [
      "\u001b[1;31m---------------------------------------------------------------------------\u001b[0m",
      "\u001b[1;31mNameError\u001b[0m                                 Traceback (most recent call last)",
      "\u001b[1;32m~\\AppData\\Local\\Temp/ipykernel_8128/3501789660.py\u001b[0m in \u001b[0;36m<module>\u001b[1;34m\u001b[0m\n\u001b[1;32m----> 1\u001b[1;33m \u001b[0mprint\u001b[0m\u001b[1;33m(\u001b[0m\u001b[0mtestdict\u001b[0m\u001b[1;33m)\u001b[0m\u001b[1;33m\u001b[0m\u001b[1;33m\u001b[0m\u001b[0m\n\u001b[0m",
      "\u001b[1;31mNameError\u001b[0m: name 'testdict' is not defined"
     ]
    }
   ],
   "source": [
    "print(testdict)"
   ]
  },
  {
   "cell_type": "code",
   "execution_count": 8,
   "id": "33baff8a-ed3c-46ff-85d6-09fe32b4de03",
   "metadata": {},
   "outputs": [
    {
     "name": "stdout",
     "output_type": "stream",
     "text": [
      "test\n",
      "test\n",
      "test\n",
      "test\n",
      "test\n",
      "test\n",
      "test\n",
      "test\n",
      "test\n",
      "test\n"
     ]
    }
   ],
   "source": [
    "for i in range(10):\n",
    "    print(\"test\")"
   ]
  },
  {
   "cell_type": "code",
   "execution_count": null,
   "id": "2ac857a0-0c20-4aa2-8e6f-0be7763bf6d7",
   "metadata": {},
   "outputs": [],
   "source": []
  }
 ],
 "metadata": {
  "kernelspec": {
   "display_name": "Python 3 (ipykernel)",
   "language": "python",
   "name": "python3"
  },
  "language_info": {
   "codemirror_mode": {
    "name": "ipython",
    "version": 3
   },
   "file_extension": ".py",
   "mimetype": "text/x-python",
   "name": "python",
   "nbconvert_exporter": "python",
   "pygments_lexer": "ipython3",
   "version": "3.9.7"
  }
 },
 "nbformat": 4,
 "nbformat_minor": 5
}
