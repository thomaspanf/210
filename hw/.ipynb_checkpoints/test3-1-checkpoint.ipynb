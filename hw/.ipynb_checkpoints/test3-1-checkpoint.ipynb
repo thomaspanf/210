{
 "cells": [
  {
   "cell_type": "code",
   "execution_count": 1,
   "id": "5061d155-5b7f-4e24-9b10-fdac3d1e14af",
   "metadata": {},
   "outputs": [],
   "source": [
    "def get_popular_movies(d, n=10):\n",
    "    result = {}\n",
    "    for line in open(d):\n",
    "        #list of data in format ['Toy Story (1995)', '4.0']\n",
    "        data = line.split('|')[0:]\n",
    "        data = data[:-1]\n",
    "        ##if key exists\n",
    "        if data[0] in result.keys():\n",
    "            result[data[0]].append(float(data[1]))\n",
    "        ##otherwise add new key value pair\n",
    "        else:\n",
    "            result[data[0]] = [float(data[1])]\n",
    "    ##surely there is a better way to do this\n",
    "    avg_result = {}\n",
    "    for key, value in result.items():\n",
    "        avg_result[key] = sum(value)/float(len(value))\n",
    "\n",
    "    sorted_avg = dict(sorted(avg_result.items(), key=lambda x:x[1], reverse=True))\n",
    "    items = sorted_avg.items()\n",
    "    topn = list(items)[:n]\n",
    "    #convert list to dict\n",
    "    dict_top_n = {topn[i]: topn[i+1] for i in range(0, len(topn), 2)}\n",
    "    \n",
    "    del result\n",
    "    del sorted_avg\n",
    "    del items\n",
    "\n",
    "    return dict_top_n\n",
    "###oops"
   ]
  },
  {
   "cell_type": "code",
   "execution_count": 2,
   "id": "e73de152-1be1-4209-9de4-cad7927e94bf",
   "metadata": {},
   "outputs": [
    {
     "name": "stdout",
     "output_type": "stream",
     "text": [
      "{('TestMovie0 (1995)', 99.0): ('TestMovie1 (1995)', 98.0), ('TestMovie2 (1995)', 97.0): ('TestMovie3 (1995)', 96.0), ('TestMovie4 (1995)', 95.0): ('TestMovie5 (1995)', 94.0), ('Heat (1995)', 4.25): ('Grumpier Old Men (1995)', 4.0), ('Father of the Bride Part II (1995)', 4.0): ('Toy Story (1995)', 3.8333333333333335)}\n"
     ]
    }
   ],
   "source": [
    "print(get_popular_movies(\"ratings1.txt\",10))"
   ]
  },
  {
   "cell_type": "code",
   "execution_count": 5,
   "id": "4dad9977-4652-4394-9952-6536cfaf387d",
   "metadata": {},
   "outputs": [],
   "source": [
    "def read_ratings_data(f):\n",
    "    result = {}\n",
    "    for line in open(f):\n",
    "        #list of data in format ['Toy Story (1995)', '4.0']\n",
    "        data = line.split('|')[0:]\n",
    "        data = data[:-1]\n",
    "        if data[0] in result.keys():\n",
    "            result[data[0]].append(float(data[1]))\n",
    "        else:\n",
    "            result[data[0]] = [float(data[1])]\n",
    "    return(result)\n",
    "    ###############FINAL ANSWER##############\n"
   ]
  },
  {
   "cell_type": "code",
   "execution_count": 147,
   "id": "74709b01-33dc-435f-829d-a22e792a438d",
   "metadata": {},
   "outputs": [],
   "source": [
    "def calculate_average_rating(d):\n",
    "    avg_result = {}\n",
    "    for key, value in d.items():\n",
    "        avg_result[key] = sum(value)/float(len(value))\n",
    "    return avg_result\n",
    "###FINAL ANSWER"
   ]
  },
  {
   "cell_type": "code",
   "execution_count": 148,
   "id": "0b681dcc-87df-43e8-8366-32b6ebbbac6e",
   "metadata": {},
   "outputs": [
    {
     "name": "stdout",
     "output_type": "stream",
     "text": [
      "{'TestMovie0 (1995)': [99.0], 'TestMovie1 (1995)': [98.0], 'TestMovie2 (1995)': [97.0], 'TestMovie3 (1995)': [96.0], 'TestMovie4 (1995)': [95.0], 'TestMovie5 (1995)': [94.0]}\n"
     ]
    }
   ],
   "source": [
    "print(read_ratings_data(\"ratings3.txt\"))"
   ]
  },
  {
   "cell_type": "code",
   "execution_count": 149,
   "id": "70120aeb-bdb9-4829-b0e0-b139f1a11877",
   "metadata": {},
   "outputs": [
    {
     "name": "stdout",
     "output_type": "stream",
     "text": [
      "{'TestMovie0 (1995)': 99.0, 'TestMovie1 (1995)': 98.0, 'TestMovie2 (1995)': 97.0, 'TestMovie3 (1995)': 96.0, 'TestMovie4 (1995)': 95.0, 'TestMovie5 (1995)': 94.0}\n"
     ]
    }
   ],
   "source": [
    "print(calculate_average_rating(read_ratings_data(\"ratings3.txt\")))"
   ]
  },
  {
   "cell_type": "code",
   "execution_count": 150,
   "id": "2a5b568b-e633-4fda-903e-eb1a1dd8b473",
   "metadata": {},
   "outputs": [],
   "source": [
    "movie_average_dict = calculate_average_rating(read_ratings_data(\"ratings3.txt\"))"
   ]
  },
  {
   "cell_type": "code",
   "execution_count": 151,
   "id": "2e532c33-589d-4e8c-abad-1a78c8bb2c36",
   "metadata": {},
   "outputs": [
    {
     "name": "stdout",
     "output_type": "stream",
     "text": [
      "{'TestMovie0 (1995)': 99.0, 'TestMovie1 (1995)': 98.0, 'TestMovie2 (1995)': 97.0, 'TestMovie3 (1995)': 96.0, 'TestMovie4 (1995)': 95.0, 'TestMovie5 (1995)': 94.0}\n"
     ]
    }
   ],
   "source": [
    "print(movie_average_dict)"
   ]
  },
  {
   "cell_type": "code",
   "execution_count": 164,
   "id": "cd983ee0-092a-495b-826c-dd00d82ab86e",
   "metadata": {},
   "outputs": [],
   "source": [
    "def get_popular_movies(d, n=10):\n",
    "    \n",
    "    sorted_avg = dict(sorted(d.items(), key=lambda x:x[1], reverse=True))\n",
    "    items = sorted_avg.items()\n",
    "    topn = list(items)[:n]\n",
    "    #convert list to dict\n",
    "    dict_top_n = dict(topn)\n",
    "    \n",
    "    del sorted_avg\n",
    "    del items\n",
    "\n",
    "    return dict_top_n\n",
    "###FINAL ANSWER"
   ]
  },
  {
   "cell_type": "code",
   "execution_count": 165,
   "id": "2413035c-2214-411b-a66c-34183feaa3dc",
   "metadata": {},
   "outputs": [
    {
     "name": "stdout",
     "output_type": "stream",
     "text": [
      "{'TestMovie0 (1995)': 99.0, 'TestMovie1 (1995)': 98.0, 'TestMovie2 (1995)': 97.0, 'TestMovie3 (1995)': 96.0, 'TestMovie4 (1995)': 95.0, 'TestMovie5 (1995)': 94.0}\n"
     ]
    }
   ],
   "source": [
    "print(get_popular_movies(movie_average_dict))"
   ]
  },
  {
   "cell_type": "code",
   "execution_count": null,
   "id": "a9205beb-d922-46da-b5f1-5e73ccc78f09",
   "metadata": {},
   "outputs": [],
   "source": [
    "\n",
    "    "
   ]
  },
  {
   "cell_type": "code",
   "execution_count": null,
   "id": "7a1a31f3-9436-4b39-81f1-b5ab171e7098",
   "metadata": {},
   "outputs": [],
   "source": []
  }
 ],
 "metadata": {
  "kernelspec": {
   "display_name": "Python 3 (ipykernel)",
   "language": "python",
   "name": "python3"
  },
  "language_info": {
   "codemirror_mode": {
    "name": "ipython",
    "version": 3
   },
   "file_extension": ".py",
   "mimetype": "text/x-python",
   "name": "python",
   "nbconvert_exporter": "python",
   "pygments_lexer": "ipython3",
   "version": "3.9.7"
  }
 },
 "nbformat": 4,
 "nbformat_minor": 5
}
