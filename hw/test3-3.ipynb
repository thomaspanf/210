{
 "cells": [
  {
   "cell_type": "code",
   "execution_count": 2,
   "id": "05f6ed45-3a5f-48bc-b779-76ef313e5199",
   "metadata": {},
   "outputs": [],
   "source": [
    "def read_movie_genre(f):\n",
    "    result = {}\n",
    "    for line in open(f):\n",
    "        line = line.rstrip()\n",
    "        data = line.split('|')[0:]\n",
    "        result[data[2]] = data[0]\n",
    "    return(result)\n",
    "####FINAL ANSWER"
   ]
  },
  {
   "cell_type": "code",
   "execution_count": 18,
   "id": "4b2e58e2-4f44-4882-a826-4d7b6ccd5bf0",
   "metadata": {},
   "outputs": [],
   "source": [
    "def create_genre_dict(d):\n",
    "    result = {}\n",
    "    for k, v in d.items():\n",
    "        result[v] = result.get(v, []) + [k]\n",
    "    return result\n",
    "####FINAL ANSWER"
   ]
  },
  {
   "cell_type": "code",
   "execution_count": 21,
   "id": "22bbe0a4-7efa-49e7-9649-2048e86a0380",
   "metadata": {},
   "outputs": [
    {
     "name": "stdout",
     "output_type": "stream",
     "text": [
      "{'Adventure': ['Toy Story (1995)', 'Jumanji (1995)', 'test3 (1995)', 'test4 (1995)', 'test5 (1995)', 'test6 (1995)', 'test7 (1995)', 'test8 (1995)', 'test9 (1995)', 'test10 (1995)'], 'Comedy': ['Grumpier Old Men (1995)', 'Waiting to Exhale (1995)', 'Father of the Bride Part II (1995)'], 'Action': ['Heat (1995)', 'Sudden Death (1995)', 'GoldenEye (1995)']}\n"
     ]
    }
   ],
   "source": [
    "genre_to_movies = create_genre_dict(read_movie_genre(\"33movies.txt\"))\n",
    "print(genre_to_movies)"
   ]
  },
  {
   "cell_type": "code",
   "execution_count": 14,
   "id": "71d055ef-0d38-424c-8b67-a0a9ecf3b4ed",
   "metadata": {},
   "outputs": [],
   "source": [
    "def read_ratings_data(f):\n",
    "    result = {}\n",
    "    for line in open(f):\n",
    "        #list of data in format ['Toy Story (1995)', '4.0']\n",
    "        data = line.split('|')[0:]\n",
    "        data = data[:-1]\n",
    "        if data[0] in result.keys():\n",
    "            result[data[0]].append(float(data[1]))\n",
    "        else:\n",
    "            result[data[0]] = [float(data[1])]\n",
    "    return(result)\n",
    "###############FINAL ANSWER##############"
   ]
  },
  {
   "cell_type": "code",
   "execution_count": 15,
   "id": "1e275bd5-ef83-49cc-b335-4e9b5842b7a3",
   "metadata": {},
   "outputs": [],
   "source": [
    "def calculate_average_rating(d):\n",
    "    avg_result = {}\n",
    "    for key, value in d.items():\n",
    "        avg_result[key] = sum(value)/float(len(value))\n",
    "    return avg_result\n",
    "###FINAL ANSWER"
   ]
  },
  {
   "cell_type": "code",
   "execution_count": 36,
   "id": "eb71ee19-3da0-4c6a-be6d-0ec7a0d08594",
   "metadata": {},
   "outputs": [
    {
     "name": "stdout",
     "output_type": "stream",
     "text": [
      "{'test3 (1995)': 3.0, 'test4 (1995)': 3.0, 'test5 (1995)': 3.0, 'test6 (1995)': 3.0, 'test7 (1995)': 3.0, 'test8 (1995)': 3.0, 'test9 (1995)': 3.0, 'test10 (1995)': 3.0, 'Toy Story (1995)': 3.8333333333333335, 'Jumanji (1995)': 3.4166666666666665, 'Tom and Huck (1995)': 2.8333333333333335, 'Grumpier Old Men (1995)': 4.0, 'Waiting to Exhale (1995)': 2.5, 'Father of the Bride Part II (1995)': 4.0, 'Heat (1995)': 4.25, 'Sudden Death (1995)': 3.3333333333333335, 'GoldenEye (1995)': 3.0}\n"
     ]
    }
   ],
   "source": [
    "movie_to_average_rating = calculate_average_rating(read_ratings_data(\"33ratings.txt\"))\n",
    "print(movie_to_average_rating)"
   ]
  },
  {
   "cell_type": "code",
   "execution_count": 103,
   "id": "29e13e4d-9d89-4c45-954f-a93649c6db63",
   "metadata": {},
   "outputs": [],
   "source": [
    "def get_popular_in_genre(genre, genre_to_movies, movie_to_average_rating, n=5):\n",
    "    genre_dict = {}\n",
    "    ratings_in_genre = {}\n",
    "    avg_rating_greaterthan_n = {} \n",
    "    \n",
    "    for key in genre_to_movies:\n",
    "        if key == genre:\n",
    "            genre_dict[key] = genre_to_movies[key]\n",
    "            \n",
    "    for key, value in movie_to_average_rating.items():\n",
    "        print(key, value)\n",
    "        if key == movie_to_average_rating.get(key):\n",
    "            print(\":)\")\n",
    "            ratings_in_genre[key] = movie_to_average_rating[key]\n",
    "            \n",
    "            \n",
    "    print(genre_dict)\n",
    "    return ratings_in_genre"
   ]
  },
  {
   "cell_type": "code",
   "execution_count": 104,
   "id": "5e9d9d87-126f-4a63-ad6e-d8fb1cbdb9c5",
   "metadata": {},
   "outputs": [
    {
     "name": "stdout",
     "output_type": "stream",
     "text": [
      "test3 (1995) 3.0\n",
      "test4 (1995) 3.0\n",
      "test5 (1995) 3.0\n",
      "test6 (1995) 3.0\n",
      "test7 (1995) 3.0\n",
      "test8 (1995) 3.0\n",
      "test9 (1995) 3.0\n",
      "test10 (1995) 3.0\n",
      "Toy Story (1995) 3.8333333333333335\n",
      "Jumanji (1995) 3.4166666666666665\n",
      "Tom and Huck (1995) 2.8333333333333335\n",
      "Grumpier Old Men (1995) 4.0\n",
      "Waiting to Exhale (1995) 2.5\n",
      "Father of the Bride Part II (1995) 4.0\n",
      "Heat (1995) 4.25\n",
      "Sudden Death (1995) 3.3333333333333335\n",
      "GoldenEye (1995) 3.0\n",
      "{'Adventure': ['Toy Story (1995)', 'Jumanji (1995)', 'test3 (1995)', 'test4 (1995)', 'test5 (1995)', 'test6 (1995)', 'test7 (1995)', 'test8 (1995)', 'test9 (1995)', 'test10 (1995)']}\n",
      "{}\n"
     ]
    }
   ],
   "source": [
    "print(get_popular_in_genre(\"Adventure\", genre_to_movies, movie_to_average_rating))"
   ]
  },
  {
   "cell_type": "code",
   "execution_count": null,
   "id": "8535dea3-f55d-4129-8ac4-c2b2ee08f0fc",
   "metadata": {},
   "outputs": [],
   "source": []
  },
  {
   "cell_type": "code",
   "execution_count": null,
   "id": "53329d88-7c3d-4e6f-a2a4-6c0e77aae0d8",
   "metadata": {},
   "outputs": [],
   "source": []
  }
 ],
 "metadata": {
  "kernelspec": {
   "display_name": "Python 3 (ipykernel)",
   "language": "python",
   "name": "python3"
  },
  "language_info": {
   "codemirror_mode": {
    "name": "ipython",
    "version": 3
   },
   "file_extension": ".py",
   "mimetype": "text/x-python",
   "name": "python",
   "nbconvert_exporter": "python",
   "pygments_lexer": "ipython3",
   "version": "3.9.7"
  }
 },
 "nbformat": 4,
 "nbformat_minor": 5
}
