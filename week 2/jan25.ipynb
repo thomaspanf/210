{
 "cells": [
  {
   "cell_type": "code",
   "execution_count": 6,
   "id": "1461f3e9-395f-4698-a7ae-6802fd9d014b",
   "metadata": {},
   "outputs": [
    {
     "ename": "SyntaxError",
     "evalue": "invalid syntax (Temp/ipykernel_1908/2036860997.py, line 6)",
     "output_type": "error",
     "traceback": [
      "\u001b[1;36m  File \u001b[1;32m\"C:\\Users\\thomas\\AppData\\Local\\Temp/ipykernel_1908/2036860997.py\"\u001b[1;36m, line \u001b[1;32m6\u001b[0m\n\u001b[1;33m    1. the number of people attending the party (default 5)\u001b[0m\n\u001b[1;37m       ^\u001b[0m\n\u001b[1;31mSyntaxError\u001b[0m\u001b[1;31m:\u001b[0m invalid syntax\n"
     ]
    }
   ],
   "source": [
    "#### Party expense exercise\n",
    "#Suppose that you are responsible for buying pizza and soda for your employers annual company party. You must buy entire pizza pies and cases of soda (boxes of soda cans). You cannot buy individual slices of pizza or cans of soda, nor can you buy fractional numbers of pizza pies or soda cases.\n",
    "#Write a function to compute the total cost of the pizza and soda you will need to buy. Do not buy more than you need to in order to supply each partygoer with the desired number of pizza slices and soda cans.\n",
    "#Your function should take the following parameters:\n",
    "\n",
    "1. the number of people attending the party (default 5)\n",
    "2. the number of slices of pizza each person should be able to eat (default 2)\n",
    "3. the number of cans of soda each person should be able to drink (default 1)\n",
    "4. the cost of a pizza pie (default \\$10)\n",
    "5. the number of slices in a pizza pie (default 8)\n",
    "6. the cost of a case of soda (default \\$1.50)\n",
    "7. the number of cans in a case of soda (default 12)\n"
   ]
  },
  {
   "cell_type": "code",
   "execution_count": 7,
   "id": "98770928-8bc5-46ed-8336-b711d678f779",
   "metadata": {},
   "outputs": [
    {
     "ename": "SyntaxError",
     "evalue": "invalid syntax (Temp/ipykernel_1908/2036860997.py, line 6)",
     "output_type": "error",
     "traceback": [
      "\u001b[1;36m  File \u001b[1;32m\"C:\\Users\\thomas\\AppData\\Local\\Temp/ipykernel_1908/2036860997.py\"\u001b[1;36m, line \u001b[1;32m6\u001b[0m\n\u001b[1;33m    1. the number of people attending the party (default 5)\u001b[0m\n\u001b[1;37m       ^\u001b[0m\n\u001b[1;31mSyntaxError\u001b[0m\u001b[1;31m:\u001b[0m invalid syntax\n"
     ]
    }
   ],
   "source": [
    "#### Party expense exercise\n",
    "#Suppose that you are responsible for buying pizza and soda for your employers annual company party. You must buy entire pizza pies and cases of soda (boxes of soda cans). You cannot buy individual slices of pizza or cans of soda, nor can you buy fractional numbers of pizza pies or soda cases.\n",
    "#Write a function to compute the total cost of the pizza and soda you will need to buy. Do not buy more than you need to in order to supply each partygoer with the desired number of pizza slices and soda cans.\n",
    "#Your function should take the following parameters:\n",
    "\n",
    "1. the number of people attending the party (default 5)\n",
    "2. the number of slices of pizza each person should be able to eat (default 2)\n",
    "3. the number of cans of soda each person should be able to drink (default 1)\n",
    "4. the cost of a pizza pie (default \\$10)\n",
    "5. the number of slices in a pizza pie (default 8)\n",
    "6. the cost of a case of soda (default \\$1.50)\n",
    "7. the number of cans in a case of soda (default 12)\n"
   ]
  },
  {
   "cell_type": "markdown",
   "id": "ee883dd7-fd4c-432a-be0c-5b712ec4fa3f",
   "metadata": {},
   "source": [
    "#### Party expense exercise\n",
    "#Suppose that you are responsible for buying pizza and soda for your employers annual company party. You must buy entire pizza pies and cases of soda (boxes of soda cans). You cannot buy individual slices of pizza or cans of soda, nor can you buy fractional numbers of pizza pies or soda cases.\n",
    "#Write a function to compute the total cost of the pizza and soda you will need to buy. Do not buy more than you need to in order to supply each partygoer with the desired number of pizza slices and soda cans.\n",
    "#Your function should take the following parameters:\n",
    "\n",
    "1. the number of people attending the party (default 5)\n",
    "2. the number of slices of pizza each person should be able to eat (default 2)\n",
    "3. the number of cans of soda each person should be able to drink (default 1)\n",
    "4. the cost of a pizza pie (default \\$10)\n",
    "5. the number of slices in a pizza pie (default 8)\n",
    "6. the cost of a case of soda (default \\$1.50)\n",
    "7. the number of cans in a case of soda (default 12)\n"
   ]
  },
  {
   "cell_type": "code",
   "execution_count": 8,
   "id": "82227c89-cfc8-4695-8c40-791a77cbdbce",
   "metadata": {},
   "outputs": [],
   "source": [
    "import math"
   ]
  },
  {
   "cell_type": "code",
   "execution_count": 17,
   "id": "95dfd86d-4b4a-40e8-afe8-c6061667977f",
   "metadata": {},
   "outputs": [],
   "source": [
    "def party_cost(n=5, p=2, s=1, pc=10, ps=8, sc=1.5, cc=12):\n",
    "    pizza_cost = math.ceil((n*p)/ps)*pc\n",
    "    soda_cost = math.ceil((n*s)/cc)*sc\n",
    "    return pizza_cost + soda_cost"
   ]
  },
  {
   "cell_type": "raw",
   "id": "f67a6917-7c3d-42a0-a2a8-a82f116063e4",
   "metadata": {},
   "source": [
    "party_cost()"
   ]
  },
  {
   "cell_type": "code",
   "execution_count": 16,
   "id": "f8ebf09c-e1c5-4067-900d-80441eba0777",
   "metadata": {},
   "outputs": [
    {
     "ename": "NameError",
     "evalue": "name 'mail' is not defined",
     "output_type": "error",
     "traceback": [
      "\u001b[1;31m---------------------------------------------------------------------------\u001b[0m",
      "\u001b[1;31mNameError\u001b[0m                                 Traceback (most recent call last)",
      "\u001b[1;32m~\\AppData\\Local\\Temp/ipykernel_1908/3811630901.py\u001b[0m in \u001b[0;36m<module>\u001b[1;34m\u001b[0m\n\u001b[1;32m----> 1\u001b[1;33m \u001b[0mparty_cost\u001b[0m\u001b[1;33m(\u001b[0m\u001b[1;36m5\u001b[0m\u001b[1;33m)\u001b[0m\u001b[1;33m\u001b[0m\u001b[1;33m\u001b[0m\u001b[0m\n\u001b[0m",
      "\u001b[1;32m~\\AppData\\Local\\Temp/ipykernel_1908/3187460408.py\u001b[0m in \u001b[0;36mparty_cost\u001b[1;34m(n, p, s, pc, ps, sc, cc)\u001b[0m\n\u001b[0;32m      1\u001b[0m \u001b[1;32mdef\u001b[0m \u001b[0mparty_cost\u001b[0m\u001b[1;33m(\u001b[0m\u001b[0mn\u001b[0m\u001b[1;33m=\u001b[0m\u001b[1;36m5\u001b[0m\u001b[1;33m,\u001b[0m \u001b[0mp\u001b[0m\u001b[1;33m=\u001b[0m\u001b[1;36m2\u001b[0m\u001b[1;33m,\u001b[0m \u001b[0ms\u001b[0m\u001b[1;33m=\u001b[0m\u001b[1;36m1\u001b[0m\u001b[1;33m,\u001b[0m \u001b[0mpc\u001b[0m\u001b[1;33m=\u001b[0m\u001b[1;36m10\u001b[0m\u001b[1;33m,\u001b[0m \u001b[0mps\u001b[0m\u001b[1;33m=\u001b[0m\u001b[1;36m8\u001b[0m\u001b[1;33m,\u001b[0m \u001b[0msc\u001b[0m\u001b[1;33m=\u001b[0m\u001b[1;36m1.5\u001b[0m\u001b[1;33m,\u001b[0m \u001b[0mcc\u001b[0m\u001b[1;33m=\u001b[0m\u001b[1;36m12\u001b[0m\u001b[1;33m)\u001b[0m\u001b[1;33m:\u001b[0m\u001b[1;33m\u001b[0m\u001b[1;33m\u001b[0m\u001b[0m\n\u001b[0;32m      2\u001b[0m     \u001b[0mpizza_cost\u001b[0m \u001b[1;33m=\u001b[0m \u001b[0mmath\u001b[0m\u001b[1;33m.\u001b[0m\u001b[0mceil\u001b[0m\u001b[1;33m(\u001b[0m\u001b[1;33m(\u001b[0m\u001b[0mn\u001b[0m\u001b[1;33m*\u001b[0m\u001b[0mp\u001b[0m\u001b[1;33m)\u001b[0m\u001b[1;33m/\u001b[0m\u001b[0mps\u001b[0m\u001b[1;33m)\u001b[0m\u001b[1;33m*\u001b[0m\u001b[0mpc\u001b[0m\u001b[1;33m\u001b[0m\u001b[1;33m\u001b[0m\u001b[0m\n\u001b[1;32m----> 3\u001b[1;33m     \u001b[0msoda_cost\u001b[0m \u001b[1;33m=\u001b[0m \u001b[0mmail\u001b[0m\u001b[1;33m.\u001b[0m\u001b[0mceil\u001b[0m\u001b[1;33m(\u001b[0m\u001b[1;33m(\u001b[0m\u001b[0mn\u001b[0m\u001b[1;33m*\u001b[0m\u001b[0ms\u001b[0m\u001b[1;33m)\u001b[0m\u001b[1;33m/\u001b[0m\u001b[0mcc\u001b[0m\u001b[1;33m)\u001b[0m\u001b[1;33m*\u001b[0m\u001b[0msc\u001b[0m\u001b[1;33m\u001b[0m\u001b[1;33m\u001b[0m\u001b[0m\n\u001b[0m\u001b[0;32m      4\u001b[0m     \u001b[1;32mreturn\u001b[0m \u001b[0mpizza_cost\u001b[0m \u001b[1;33m+\u001b[0m \u001b[0msoda_cost\u001b[0m\u001b[1;33m\u001b[0m\u001b[1;33m\u001b[0m\u001b[0m\n",
      "\u001b[1;31mNameError\u001b[0m: name 'mail' is not defined"
     ]
    }
   ],
   "source": [
    "party_cost(5)"
   ]
  },
  {
   "cell_type": "code",
   "execution_count": 18,
   "id": "97f2ca08-51d9-441f-8161-254f1a3d0929",
   "metadata": {},
   "outputs": [
    {
     "data": {
      "text/plain": [
       "21.5"
      ]
     },
     "execution_count": 18,
     "metadata": {},
     "output_type": "execute_result"
    }
   ],
   "source": [
    "party_cost()"
   ]
  },
  {
   "cell_type": "code",
   "execution_count": 19,
   "id": "d1aaa930-fc9e-451d-b1d7-88de9c0aaa7c",
   "metadata": {},
   "outputs": [],
   "source": [
    "def convert(temp, dirs='ctof'):\n",
    "    if dir == 'ctof': \n",
    "        res = temp*9/5 + 32\n",
    "    else: \n",
    "        res = (temp-32)*5/9\n",
    "    return res"
   ]
  },
  {
   "cell_type": "code",
   "execution_count": 21,
   "id": "a728ae6e-b590-4c55-a1d6-31e097838c38",
   "metadata": {},
   "outputs": [
    {
     "name": "stdout",
     "output_type": "stream",
     "text": [
      "5.83\n"
     ]
    }
   ],
   "source": [
    "cval = convert(42.5, 'ctof')\n",
    "print(f'{cval:.2f}')"
   ]
  },
  {
   "cell_type": "code",
   "execution_count": 32,
   "id": "57fa24e7-9805-4cfc-b140-53b308cc04ff",
   "metadata": {
    "tags": []
   },
   "outputs": [],
   "source": [
    "def tempconvert():\n",
    "    dir = input(\"Enter 'f2c' or 'c2f': \") \n",
    "    if dir == 'f2c':\n",
    "        f = float(input('enter F:')) # convert text to real number \n",
    "        c =  (f-32)*5/9\n",
    "        return c \n",
    "    else: \n",
    "        c = float(input('enter C:')) \n",
    "        f = c*9/5 + 32\n",
    "    return f"
   ]
  },
  {
   "cell_type": "code",
   "execution_count": 27,
   "id": "417c59ba-f2a8-49c8-9e79-0ffd54395452",
   "metadata": {},
   "outputs": [
    {
     "name": "stdin",
     "output_type": "stream",
     "text": [
      "Enter 'f2c' or 'c2f':  f2c\n",
      "enter F: 42.5\n"
     ]
    },
    {
     "ename": "NameError",
     "evalue": "name 'temp' is not defined",
     "output_type": "error",
     "traceback": [
      "\u001b[1;31m---------------------------------------------------------------------------\u001b[0m",
      "\u001b[1;31mNameError\u001b[0m                                 Traceback (most recent call last)",
      "\u001b[1;32m~\\AppData\\Local\\Temp/ipykernel_1908/1250826023.py\u001b[0m in \u001b[0;36m<module>\u001b[1;34m\u001b[0m\n\u001b[1;32m----> 1\u001b[1;33m \u001b[0mtempconvert\u001b[0m\u001b[1;33m(\u001b[0m\u001b[1;33m)\u001b[0m\u001b[1;33m\u001b[0m\u001b[1;33m\u001b[0m\u001b[0m\n\u001b[0m",
      "\u001b[1;32m~\\AppData\\Local\\Temp/ipykernel_1908/2958666011.py\u001b[0m in \u001b[0;36mtempconvert\u001b[1;34m()\u001b[0m\n\u001b[0;32m      3\u001b[0m     \u001b[1;32mif\u001b[0m \u001b[0mdir\u001b[0m \u001b[1;33m==\u001b[0m \u001b[1;34m'f2c'\u001b[0m\u001b[1;33m:\u001b[0m\u001b[1;33m\u001b[0m\u001b[1;33m\u001b[0m\u001b[0m\n\u001b[0;32m      4\u001b[0m         \u001b[0mf\u001b[0m \u001b[1;33m=\u001b[0m \u001b[0mfloat\u001b[0m\u001b[1;33m(\u001b[0m\u001b[0minput\u001b[0m\u001b[1;33m(\u001b[0m\u001b[1;34m'enter F:'\u001b[0m\u001b[1;33m)\u001b[0m\u001b[1;33m)\u001b[0m \u001b[1;31m# convert text to real number\u001b[0m\u001b[1;33m\u001b[0m\u001b[1;33m\u001b[0m\u001b[0m\n\u001b[1;32m----> 5\u001b[1;33m         \u001b[0mc\u001b[0m \u001b[1;33m=\u001b[0m  \u001b[0mtemp\u001b[0m \u001b[1;33m*\u001b[0m \u001b[1;36m9\u001b[0m\u001b[1;33m/\u001b[0m\u001b[1;36m5\u001b[0m \u001b[1;33m+\u001b[0m \u001b[1;36m32\u001b[0m\u001b[1;33m\u001b[0m\u001b[1;33m\u001b[0m\u001b[0m\n\u001b[0m\u001b[0;32m      6\u001b[0m         \u001b[1;32mreturn\u001b[0m \u001b[0mc\u001b[0m\u001b[1;33m\u001b[0m\u001b[1;33m\u001b[0m\u001b[0m\n\u001b[0;32m      7\u001b[0m     \u001b[1;32melse\u001b[0m\u001b[1;33m:\u001b[0m\u001b[1;33m\u001b[0m\u001b[1;33m\u001b[0m\u001b[0m\n",
      "\u001b[1;31mNameError\u001b[0m: name 'temp' is not defined"
     ]
    }
   ],
   "source": [
    "tempconvert()"
   ]
  },
  {
   "cell_type": "code",
   "execution_count": 28,
   "id": "fa3c2a68-e912-42ee-86ee-c17627ea65df",
   "metadata": {},
   "outputs": [],
   "source": [
    "temp = 0"
   ]
  },
  {
   "cell_type": "code",
   "execution_count": 29,
   "id": "3d2701fc-1b64-49e5-aa8e-8df9419bcd7e",
   "metadata": {},
   "outputs": [
    {
     "name": "stdin",
     "output_type": "stream",
     "text": [
      "Enter 'f2c' or 'c2f':  f2c\n",
      "enter F: 42.5\n"
     ]
    },
    {
     "data": {
      "text/plain": [
       "32.0"
      ]
     },
     "execution_count": 29,
     "metadata": {},
     "output_type": "execute_result"
    }
   ],
   "source": [
    "tempconvert()\n"
   ]
  },
  {
   "cell_type": "code",
   "execution_count": 30,
   "id": "7f9f5d90-19a3-4961-8cb9-5bac45a00f4a",
   "metadata": {},
   "outputs": [],
   "source": [
    "temp = 42.5\n"
   ]
  },
  {
   "cell_type": "code",
   "execution_count": 31,
   "id": "93ad4b11-418b-4d49-8692-30ffd0af3723",
   "metadata": {},
   "outputs": [
    {
     "name": "stdin",
     "output_type": "stream",
     "text": [
      "Enter 'f2c' or 'c2f':  f2c\n",
      "enter F: 42.5\n"
     ]
    },
    {
     "data": {
      "text/plain": [
       "108.5"
      ]
     },
     "execution_count": 31,
     "metadata": {},
     "output_type": "execute_result"
    }
   ],
   "source": [
    "tempconvert()"
   ]
  },
  {
   "cell_type": "code",
   "execution_count": 33,
   "id": "61ca2764-341b-4650-8dc7-bb143a2daba3",
   "metadata": {},
   "outputs": [
    {
     "name": "stdin",
     "output_type": "stream",
     "text": [
      "Enter 'f2c' or 'c2f':  f2c\n",
      "enter F: 42.5\n"
     ]
    },
    {
     "data": {
      "text/plain": [
       "5.833333333333333"
      ]
     },
     "execution_count": 33,
     "metadata": {},
     "output_type": "execute_result"
    }
   ],
   "source": [
    "tempconvert()"
   ]
  },
  {
   "cell_type": "code",
   "execution_count": 34,
   "id": "9ed5f696-7e12-4253-afe5-5282a45fda50",
   "metadata": {},
   "outputs": [
    {
     "name": "stdin",
     "output_type": "stream",
     "text": [
      "Enter 'f2c' or 'c2f':  c2f\n",
      "enter C: 23\n"
     ]
    },
    {
     "data": {
      "text/plain": [
       "73.4"
      ]
     },
     "execution_count": 34,
     "metadata": {},
     "output_type": "execute_result"
    }
   ],
   "source": [
    "tempconvert()"
   ]
  },
  {
   "cell_type": "code",
   "execution_count": 43,
   "id": "26a79712-bb5a-4728-82aa-e8d799e20bde",
   "metadata": {},
   "outputs": [],
   "source": [
    "def tempconvert():\n",
    "    dir = input(\"Enter 'f2c' or 'c2f': \") \n",
    "    try: \n",
    "        if dir == 'f2c':\n",
    "            inp = input('enter F: ') \n",
    "            f = float(inp) #error might occur here \n",
    "            c =  (f-32)*5/9\n",
    "            return c \n",
    "        elif dir == 'c2f':\n",
    "            inp = input('enter C: ') \n",
    "            c = float(inp) #error might occur here \n",
    "            f = c*9/5 + 32\n",
    "            return f\n",
    "        else:\n",
    "            print(f' You must enter f2c or c2f, you entered {dir}')\n",
    "    except ValueError as err: \n",
    "        print(f' Input must be a real number, you entered \"{inp}\"')"
   ]
  },
  {
   "cell_type": "code",
   "execution_count": 36,
   "id": "667b8cb1-b2e5-419f-b917-8b1e18fa448f",
   "metadata": {},
   "outputs": [
    {
     "name": "stdin",
     "output_type": "stream",
     "text": [
      "Enter 'f2c' or 'c2f':  f2c\n",
      "enter F: sfdl\n"
     ]
    },
    {
     "name": "stdout",
     "output_type": "stream",
     "text": [
      "could not convert string to float: 'sfdl'\n"
     ]
    }
   ],
   "source": [
    "tempconvert()"
   ]
  },
  {
   "cell_type": "code",
   "execution_count": 38,
   "id": "a00da498-ad14-4715-ae42-54122c2e11e7",
   "metadata": {},
   "outputs": [
    {
     "name": "stdin",
     "output_type": "stream",
     "text": [
      "Enter 'f2c' or 'c2f':  f2c\n",
      "enter F:  234c\n"
     ]
    },
    {
     "name": "stdout",
     "output_type": "stream",
     "text": [
      " Input must be a real number, you entered \"234c\"\n"
     ]
    }
   ],
   "source": [
    "tempconvert()"
   ]
  },
  {
   "cell_type": "code",
   "execution_count": 44,
   "id": "aa6e90c3-32c2-4998-ab57-b657c9424414",
   "metadata": {},
   "outputs": [
    {
     "name": "stdin",
     "output_type": "stream",
     "text": [
      "Enter 'f2c' or 'c2f':  asdf\n"
     ]
    },
    {
     "name": "stdout",
     "output_type": "stream",
     "text": [
      " You must enter f2c or c2f, you entered asdf\n"
     ]
    }
   ],
   "source": [
    "tempconvert()"
   ]
  },
  {
   "cell_type": "code",
   "execution_count": 48,
   "id": "214db71f-654e-49b5-9595-27768f3fc315",
   "metadata": {},
   "outputs": [],
   "source": [
    "def stuff(): \n",
    "    try: \n",
    "        val = int(input(\"enter an integer\"))\n",
    "        print(val)\n",
    "    except ValueError as err: \n",
    "        print(err)"
   ]
  },
  {
   "cell_type": "code",
   "execution_count": 46,
   "id": "4252d459-88bb-4d1f-8d7e-b69e1e892ccb",
   "metadata": {},
   "outputs": [
    {
     "name": "stdin",
     "output_type": "stream",
     "text": [
      "enter an integer 123\n"
     ]
    }
   ],
   "source": [
    "stuff()"
   ]
  },
  {
   "cell_type": "code",
   "execution_count": 47,
   "id": "f89018f2-59df-49cd-b077-3472a90ac668",
   "metadata": {},
   "outputs": [
    {
     "name": "stdin",
     "output_type": "stream",
     "text": [
      "enter an integer sdf\n"
     ]
    },
    {
     "name": "stdout",
     "output_type": "stream",
     "text": [
      "invalid literal for int() with base 10: 'sdf'\n"
     ]
    }
   ],
   "source": [
    "stuff()"
   ]
  },
  {
   "cell_type": "code",
   "execution_count": 49,
   "id": "191ec66d-bd18-4da4-90f5-878e6bbcf62c",
   "metadata": {},
   "outputs": [
    {
     "name": "stdin",
     "output_type": "stream",
     "text": [
      "enter an integer 123\n"
     ]
    },
    {
     "name": "stdout",
     "output_type": "stream",
     "text": [
      "123\n"
     ]
    }
   ],
   "source": [
    "stuff()"
   ]
  },
  {
   "cell_type": "code",
   "execution_count": null,
   "id": "94059916-9cce-4222-8983-5c9b7a2129d6",
   "metadata": {},
   "outputs": [],
   "source": []
  }
 ],
 "metadata": {
  "kernelspec": {
   "display_name": "Python 3 (ipykernel)",
   "language": "python",
   "name": "python3"
  },
  "language_info": {
   "codemirror_mode": {
    "name": "ipython",
    "version": 3
   },
   "file_extension": ".py",
   "mimetype": "text/x-python",
   "name": "python",
   "nbconvert_exporter": "python",
   "pygments_lexer": "ipython3",
   "version": "3.9.7"
  },
  "toc-showcode": false
 },
 "nbformat": 4,
 "nbformat_minor": 5
}
