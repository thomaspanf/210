{
 "cells": [
  {
   "cell_type": "code",
   "execution_count": 1,
   "id": "ceb95fe8-2705-458a-9898-8dfecaf8c0f2",
   "metadata": {},
   "outputs": [],
   "source": [
    "#relational databases"
   ]
  },
  {
   "cell_type": "code",
   "execution_count": 5,
   "id": "d53e47c5-cf7f-4ac5-b927-f9666f8e89c6",
   "metadata": {},
   "outputs": [],
   "source": [
    "import json, requests\n",
    "\n",
    "nobel_url = 'http://api.nobelprize.org/v1/prize.json'\n",
    "resp = requests.get(nobel_url)\n",
    "nobels = json.loads(resp.text)"
   ]
  },
  {
   "cell_type": "code",
   "execution_count": 6,
   "id": "2df1d0e6-b3b3-4d93-83d1-69e3eb94a99a",
   "metadata": {},
   "outputs": [
    {
     "name": "stdout",
     "output_type": "stream",
     "text": [
      "{'year': '2021', 'category': 'chemistry', 'laureates': [{'id': '1002', 'firstname': 'Benjamin', 'surname': 'List', 'motivation': '\"for the development of asymmetric organocatalysis\"', 'share': '2'}, {'id': '1003', 'firstname': 'David', 'surname': 'MacMillan', 'motivation': '\"for the development of asymmetric organocatalysis\"', 'share': '2'}]}\n"
     ]
    }
   ],
   "source": [
    "print(nobels['prizes'][0])"
   ]
  },
  {
   "cell_type": "code",
   "execution_count": 7,
   "id": "c751e7ab-1462-4c3a-8f0d-3b6df9e5cc54",
   "metadata": {},
   "outputs": [
    {
     "name": "stdout",
     "output_type": "stream",
     "text": [
      "dict_keys(['year', 'category', 'laureates'])\n"
     ]
    }
   ],
   "source": [
    "print(nobels['prizes'][0].keys())"
   ]
  },
  {
   "cell_type": "code",
   "execution_count": 8,
   "id": "570b14d3-cb8f-4d2b-b46c-562392a41409",
   "metadata": {},
   "outputs": [
    {
     "name": "stdout",
     "output_type": "stream",
     "text": [
      "{'year': '2021', 'category': 'economics', 'laureates': [{'id': '1007', 'firstname': 'David', 'surname': 'Card', 'motivation': '\"for his empirical contributions to labour economics\"', 'share': '2'}, {'id': '1008', 'firstname': 'Joshua', 'surname': 'Angrist', 'motivation': '\"for their methodological contributions to the analysis of causal relationships\"', 'share': '4'}, {'id': '1009', 'firstname': 'Guido', 'surname': 'Imbens', 'motivation': '\"for their methodological contributions to the analysis of causal relationships\"', 'share': '4'}]}\n"
     ]
    }
   ],
   "source": [
    "print(nobels['prizes'][1])"
   ]
  },
  {
   "cell_type": "code",
   "execution_count": 13,
   "id": "9b0ed48e-88c7-4866-a3b2-4fa71ca02ea8",
   "metadata": {},
   "outputs": [
    {
     "name": "stdout",
     "output_type": "stream",
     "text": [
      "No laureates in the years: ['1972', '1967', '1966', '1956', '1955', '1948', '1943', '1943', '1942', '1942', '1942', '1942', '1942', '1941', '1941', '1941', '1941', '1941', '1940', '1940', '1940', '1940', '1940', '1939', '1935', '1934', '1933', '1932', '1931', '1928', '1925', '1924', '1924', '1923', '1921', '1919', '1918', '1918', '1918', '1917', '1917', '1916', '1916', '1916', '1916', '1915', '1915', '1914', '1914']\n",
      "\n",
      "Max Lengths\n",
      "Category: 10\n",
      "Motivation: 341\n"
     ]
    }
   ],
   "source": [
    "# max lengths of motivation, first name, and last name\n",
    "category_maxlen=0\n",
    "motiv_maxlen=0\n",
    "fname_maxlen=0\n",
    "lname_maxlen=0\n",
    "no_laureates = []\n",
    "for prize in nobels['prizes']:\n",
    "    if not 'laureates' in prize:\n",
    "        no_laureates.append(prize['year'])\n",
    "        continue\n",
    "    cat = prize['category']\n",
    "    category_maxlen = max(category_maxlen, len(cat))\n",
    "    for winner in prize['laureates']:\n",
    "        motiv = winner.get('motivation').strip('\"')\n",
    "        motiv_maxlen = max(motiv_maxlen, len(motiv))\n",
    "        fname = winner.get('firstname')\n",
    "        fname_maxlen = max(fname_maxlen, len(fname))\n",
    "        lname = winner.get('surname','')\n",
    "        lname_maxlen = max(lname_maxlen, len(lname))\n",
    "\n",
    "print(f'No laureates in the years: {no_laureates}\\n')\n",
    "print(\"Max Lengths\")\n",
    "print(f'Category: {category_maxlen}')\n",
    "print(f\"Motivation: {motiv_maxlen}\")\n",
    "print(f'First name: {fname_maxlen}')\n",
    "print(f'Last name: {"
   ]
  },
  {
   "cell_type": "code",
   "execution_count": null,
   "id": "2d0e1b50-67c1-464d-92d9-c42b734e0a9b",
   "metadata": {},
   "outputs": [],
   "source": []
  }
 ],
 "metadata": {
  "kernelspec": {
   "display_name": "Python 3 (ipykernel)",
   "language": "python",
   "name": "python3"
  },
  "language_info": {
   "codemirror_mode": {
    "name": "ipython",
    "version": 3
   },
   "file_extension": ".py",
   "mimetype": "text/x-python",
   "name": "python",
   "nbconvert_exporter": "python",
   "pygments_lexer": "ipython3",
   "version": "3.9.7"
  }
 },
 "nbformat": 4,
 "nbformat_minor": 5
}
