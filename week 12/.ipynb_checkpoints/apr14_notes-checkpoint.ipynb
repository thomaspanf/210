{
 "cells": [
  {
   "cell_type": "markdown",
   "metadata": {},
   "source": [
    "### <font color=\"brown\">Relational Databases - Continued</font>"
   ]
  },
  {
   "cell_type": "markdown",
   "metadata": {},
   "source": [
    "---"
   ]
  },
  {
   "cell_type": "markdown",
   "metadata": {},
   "source": [
    "#### <font color=\"brown\">Example 2: Nobel Prize Winners Database - Version 2</font>\n",
    "\n",
    "#### Minimizing Redundancy of Data Storage"
   ]
  },
  {
   "cell_type": "markdown",
   "metadata": {},
   "source": [
    "---"
   ]
  },
  {
   "cell_type": "markdown",
   "metadata": {},
   "source": [
    "#### <font color=\"brown\">Inserting Individual Rows in Tables</font>"
   ]
  },
  {
   "cell_type": "markdown",
   "metadata": {},
   "source": [
    "##### 1. Insert into **yearcat**"
   ]
  },
  {
   "cell_type": "markdown",
   "metadata": {},
   "source": [
    "<pre>\n",
    "mysql> insert into yearcat (year, category) values (2021, 'Chemistry');\n",
    "mysql> select * from yearcat;\n",
    "+----+------+-----------+\n",
    "| id | year | category  |\n",
    "+----+------+-----------+\n",
    "|  1 | 2021 | Chemistry |\n",
    "+----+------+-----------+\n",
    "</pre>\n",
    "https://dev.mysql.com/doc/refman/8.0/en/insert.html\n",
    "\n",
    "- Note that we did not supply the value for <tt>id</tt> since it is defined to be auto incremented. Since this is the first insert, its value has been automatically set to 1.\n",
    "\n",
    "- This value will increment to 2 when you add another row:\n",
    "\n",
    "<pre>\n",
    "mysql> insert into yearcat (year, category) values (2021, 'Economics');\n",
    "mysql> select * from yearcat;\n",
    "+----+------+-----------+\n",
    "| id | year | category  |\n",
    "+----+------+-----------+\n",
    "|  1 | 2021 | Chemistry |\n",
    "|  2 | 2021 | Economics |\n",
    "+----+------+-----------+\n",
    "</pre>\n",
    "\n",
    "- You can explicitly set the <tt>id</tt> value if you want:\n",
    "\n",
    "<pre>\n",
    "mysql> insert into yearcat (id, year, category) values (3, 2021, 'Literature');\n",
    "mysql> insert into yearcat (id, year, category) values (5, 2021, 'Peace');\n",
    "mysql> select * from yearcat;\n",
    "+----+------+------------+\n",
    "| id | year | category   |\n",
    "+----+------+------------+\n",
    "|  1 | 2021 | Chemistry  |\n",
    "|  2 | 2021 | Economics  |\n",
    "|  3 | 2021 | Literature |\n",
    "|  5 | 2021 | Peace      |\n",
    "+----+------+------------+\n",
    "</pre>\n",
    "\n",
    "- However, if you attempt to use an existing id, you will get an error:\n",
    "\n",
    "<pre>\n",
    "mysql> insert into yearcat (id, year, category) values (3, 2021, 'Physics');\n",
    "ERROR 1062 (23000): Duplicate entry '3' for key 'PRIMARY'\n",
    "</pre>\n",
    "\n",
    "- But this will work:\n",
    "\n",
    "<pre>\n",
    "mysql> insert into yearcat (id, year, category) values (4, 2021, 'Physics');\n",
    "mysql> select * from yearcat;\n",
    "+----+------+------------+\n",
    "| id | year | category   |\n",
    "+----+------+------------+\n",
    "|  1 | 2021 | Chemistry  |\n",
    "|  2 | 2021 | Economics  |\n",
    "|  3 | 2021 | Literature |\n",
    "|  4 | 2021 | Physics    |\n",
    "|  5 | 2021 | Peace      |\n",
    "+----+------+------------+\n",
    "</pre>\n",
    "\n",
    "- If you are inserting values for all the columns, you can skip the columns list and just list the values *in the order of columns in the create table definition*, e.g.\n",
    "\n",
    "<pre>\n",
    "mysql> insert into yearcat values (6, 2021, 'Medicine');\n",
    "mysql> select * from yearcat;\n",
    "+----+------+------------+\n",
    "| id | year | category   |\n",
    "+----+------+------------+\n",
    "|  1 | 2021 | Chemistry  |\n",
    "|  2 | 2021 | Economics  |\n",
    "|  3 | 2021 | Literature |\n",
    "|  4 | 2021 | Physics    |\n",
    "|  5 | 2021 | Peace      |\n",
    "|  6 | 2021 | Medicine   |\n",
    "+----+------+------------+\n",
    "</pre>\n"
   ]
  },
  {
   "cell_type": "markdown",
   "metadata": {},
   "source": [
    "##### 2. Insert into **contribution**"
   ]
  },
  {
   "cell_type": "markdown",
   "metadata": {},
   "source": [
    "<pre>\n",
    "mysql> insert into contribution (motivation) \n",
    "          values ('for the development of asymmetric organocatalysis');\n",
    "mysql> insert into contribution (motivation) \n",
    "          values ('for his empirical contributions to labour economics');\n",
    "mysql> insert into contribution (motivation) \n",
    "          values ('for their methodological contributions to the analysis  of causal relationships');\n",
    "mysql> select * from contribution;\n",
    "+----+---------------------------------------------------------------------------------+\n",
    "| id | motivation                                                                      |\n",
    "+----+---------------------------------------------------------------------------------+\n",
    "|  1 | for the development of asymmetric organocatalysis                               |\n",
    "|  2 | for his empirical contributions to labour economics                            |\n",
    "|  3 | for their methodological contributions to the analysis  of causal relationships |\n",
    "+----+---------------------------------------------------------------------------------+\n",
    "</pre>"
   ]
  },
  {
   "cell_type": "markdown",
   "metadata": {},
   "source": [
    "##### 3. Insert into **laureate**"
   ]
  },
  {
   "cell_type": "markdown",
   "metadata": {},
   "source": [
    "<pre>\n",
    "mysql> insert into laureate values ('Benjamin','List',2,1,1);\n",
    "\n",
    "mysql> insert into laureate values ('David','MacMillan',2,1,1);\n",
    "\n",
    "mysql> select * from laureate;\n",
    "+----------+-----------+-------+-------------+----------+\n",
    "| fname    | lname     | share | year_cat_id | motiv_id |\n",
    "+----------+-----------+-------+-------------+----------+\n",
    "| Benjamin | List      |     2 |           1 |        1 |\n",
    "| David    | MacMillan |     2 |           1 |        1 |\n",
    "+----------+-----------+-------+-------------+----------+\n",
    "</pre>\n",
    "- Note that the <tt>year_cat_id</tt> value of 1 is the primary key (id) value 1 in the <tt>yearcat</tt> table, and the <tt>motiv_id</tt> value of 1 is the primary key (id) value 1 in the <tt>contribution</tt> table."
   ]
  },
  {
   "cell_type": "markdown",
   "metadata": {},
   "source": [
    "---"
   ]
  },
  {
   "cell_type": "markdown",
   "metadata": {},
   "source": [
    "### <font color=\"brown\">Database Access via Python</font>"
   ]
  },
  {
   "cell_type": "markdown",
   "metadata": {},
   "source": [
    "---"
   ]
  },
  {
   "cell_type": "markdown",
   "metadata": {},
   "source": [
    "#### <font color=\"brown\">Install the Python driver for MySQL</font>\n",
    "##### conda install -c anaconda mysql-connector-python"
   ]
  },
  {
   "cell_type": "markdown",
   "metadata": {},
   "source": [
    "---"
   ]
  },
  {
   "cell_type": "markdown",
   "metadata": {},
   "source": [
    "**<font color=\"brown\">Before you get started with the following, make sure you quit the mysql session in Terminal. Otherwise, there will be a conflict when you set up another session via Python, and you will get indeterminate results.</font>**"
   ]
  },
  {
   "cell_type": "code",
   "execution_count": 1,
   "metadata": {},
   "outputs": [],
   "source": [
    "# import connector module\n",
    "import mysql.connector"
   ]
  },
  {
   "cell_type": "code",
   "execution_count": 22,
   "metadata": {},
   "outputs": [],
   "source": [
    "# connect to nobels database\n",
    "mydb = mysql.connector.connect(\n",
    "  host=\"localhost\",\n",
    "  user=\"sesh\",    # replace with your non-root username\n",
    "  passwd=\"sesh\",  # replace with your password\n",
    "  database=\"nobels\"\n",
    ")"
   ]
  },
  {
   "cell_type": "code",
   "execution_count": 23,
   "metadata": {},
   "outputs": [],
   "source": [
    "# set up for access\n",
    "cursor = mydb.cursor()"
   ]
  },
  {
   "cell_type": "code",
   "execution_count": 4,
   "metadata": {},
   "outputs": [
    {
     "name": "stdout",
     "output_type": "stream",
     "text": [
      "('contribution',)\n",
      "('laureate',)\n",
      "('winners',)\n",
      "('yearcat',)\n"
     ]
    }
   ],
   "source": [
    "# show table in the database\n",
    "query = 'show tables'\n",
    "cursor.execute(query)\n",
    "res = cursor.fetchall()\n",
    "for row in res:\n",
    "    print(row)"
   ]
  },
  {
   "cell_type": "markdown",
   "metadata": {},
   "source": [
    "---"
   ]
  },
  {
   "cell_type": "markdown",
   "metadata": {},
   "source": [
    "##### MySQL Connector/Python Developer Guide: https://dev.mysql.com/doc/connector-python/en/"
   ]
  },
  {
   "cell_type": "markdown",
   "metadata": {},
   "source": [
    "##### Cursor Methods: https://dev.mysql.com/doc/connector-python/en/connector-python-api-mysqlcursor.html"
   ]
  },
  {
   "cell_type": "markdown",
   "metadata": {},
   "source": [
    "---"
   ]
  },
  {
   "cell_type": "markdown",
   "metadata": {},
   "source": [
    "**Get number of rows in winners table**"
   ]
  },
  {
   "cell_type": "code",
   "execution_count": 5,
   "metadata": {},
   "outputs": [
    {
     "name": "stdout",
     "output_type": "stream",
     "text": [
      "(975,)\n",
      "975\n"
     ]
    }
   ],
   "source": [
    "query = 'select count(*) from winners' \n",
    "cursor.execute(query)\n",
    "res = cursor.fetchall()\n",
    "for row in res:\n",
    "    print(row)\n",
    "    print(row[0])"
   ]
  },
  {
   "cell_type": "markdown",
   "metadata": {},
   "source": [
    "**Get all data for the first 5 rows of winners table**"
   ]
  },
  {
   "cell_type": "code",
   "execution_count": 8,
   "metadata": {},
   "outputs": [
    {
     "name": "stdout",
     "output_type": "stream",
     "text": [
      "(2021, 'Chemistry', 'Benjamin', 'List', 'for the development of asymmetric organocatalysis', 2)\n",
      "(2021, 'Chemistry', 'David', 'MacMillan', 'for the development of asymmetric organocatalysis', 2)\n",
      "(2021, 'Economics', 'David', 'Card', 'for his empirical contributions  to labour economics', 2)\n",
      "(2021, 'Economics', 'Joshua', 'Angrist', 'for their methodological contributions to the analysis  of causal relationships', 4)\n",
      "(2021, 'Economics', 'Guido', 'Imbens', 'for their methodological contributions to the analysis  of causal relationships', 4)\n"
     ]
    }
   ],
   "source": [
    "query = 'select * from winners limit 5' \n",
    "cursor.execute(query)\n",
    "res = cursor.fetchall()\n",
    "for row in res:\n",
    "    print(row)"
   ]
  },
  {
   "cell_type": "markdown",
   "metadata": {},
   "source": [
    "**List contents of yearcat table**"
   ]
  },
  {
   "cell_type": "code",
   "execution_count": 17,
   "metadata": {},
   "outputs": [
    {
     "name": "stdout",
     "output_type": "stream",
     "text": [
      "(1, 2021, 'Chemistry')\n",
      "(2, 2021, 'Economics')\n",
      "(3, 2021, 'Literature')\n",
      "(4, 2021, 'Physics')\n",
      "(5, 2021, 'Peace')\n",
      "(6, 2021, 'Medicine')\n"
     ]
    }
   ],
   "source": [
    "query = 'select * from yearcat' \n",
    "cursor.execute(query)\n",
    "res = cursor.fetchall()\n",
    "for row in res:\n",
    "    print(row)"
   ]
  },
  {
   "cell_type": "markdown",
   "metadata": {},
   "source": [
    "**List contents of contribution table**"
   ]
  },
  {
   "cell_type": "code",
   "execution_count": 24,
   "metadata": {},
   "outputs": [
    {
     "name": "stdout",
     "output_type": "stream",
     "text": [
      "(1, 'for the development of asymmetric organocatalysis')\n",
      "(2, 'for his empirical contributions to labour economics')\n",
      "(3, 'for their methodological contributions to the analysis  of causal relationships')\n"
     ]
    }
   ],
   "source": [
    "query = 'select * from contribution' \n",
    "cursor.execute(query)\n",
    "res = cursor.fetchall()\n",
    "for row in res:\n",
    "    print(row)"
   ]
  },
  {
   "cell_type": "markdown",
   "metadata": {},
   "source": [
    "**List contents of laureate table**"
   ]
  },
  {
   "cell_type": "code",
   "execution_count": 59,
   "metadata": {},
   "outputs": [
    {
     "name": "stdout",
     "output_type": "stream",
     "text": [
      "('Benjamin', 'List', 2, 1, 1)\n",
      "('David', 'MacMillan', 2, 1, 1)\n"
     ]
    }
   ],
   "source": [
    "query = 'select * from laureate' \n",
    "cursor.execute(query)\n",
    "res = cursor.fetchall()\n",
    "for row in res:\n",
    "    print(row)"
   ]
  },
  {
   "cell_type": "markdown",
   "metadata": {},
   "source": [
    "**Insert a row in laureate table**"
   ]
  },
  {
   "cell_type": "code",
   "execution_count": 60,
   "metadata": {},
   "outputs": [],
   "source": [
    "# set up sql template to add laureate\n",
    "add_laureate = \"insert into laureate values (%s, %s, %s, %s, %s)\""
   ]
  },
  {
   "cell_type": "code",
   "execution_count": 61,
   "metadata": {},
   "outputs": [
    {
     "name": "stdout",
     "output_type": "stream",
     "text": [
      "1 record(s) inserted\n"
     ]
    }
   ],
   "source": [
    "# add David Card to 2021 Economics\n",
    "laureate = ('David','Card',2,2,2)  # share=2, year_cat_id=2, motiv_id=2\n",
    "cursor.execute(add_laureate, laureate) # first arg is sql template, second is values tuple\n",
    "print(cursor.rowcount,'record(s) inserted')\n",
    "mydb.commit()  # update the database"
   ]
  },
  {
   "cell_type": "markdown",
   "metadata": {},
   "source": [
    "**<font color=\"red\">Note: You MUST do a commit after every database update.</font>**"
   ]
  },
  {
   "cell_type": "code",
   "execution_count": 62,
   "metadata": {},
   "outputs": [
    {
     "name": "stdout",
     "output_type": "stream",
     "text": [
      "('Benjamin', 'List', 2, 1, 1)\n",
      "('David', 'MacMillan', 2, 1, 1)\n",
      "('David', 'Card', 2, 2, 2)\n"
     ]
    }
   ],
   "source": [
    "# check the laureate table\n",
    "query = 'select * from laureate' \n",
    "cursor.execute(query)\n",
    "res = cursor.fetchall()\n",
    "for row in res:\n",
    "    print(row)"
   ]
  },
  {
   "cell_type": "markdown",
   "metadata": {},
   "source": [
    "**Delete a row from laureate table**"
   ]
  },
  {
   "cell_type": "code",
   "execution_count": 63,
   "metadata": {},
   "outputs": [],
   "source": [
    "# set up sql template to delete laureate\n",
    "delete_laureate = \"delete from laureate where fname=%s and lname=%s\"\n",
    "cursor.execute(delete_laureate, ('David','Card'))\n",
    "mydb.commit()"
   ]
  },
  {
   "cell_type": "code",
   "execution_count": 64,
   "metadata": {},
   "outputs": [
    {
     "name": "stdout",
     "output_type": "stream",
     "text": [
      "('Benjamin', 'List', 2, 1, 1)\n",
      "('David', 'MacMillan', 2, 1, 1)\n"
     ]
    }
   ],
   "source": [
    "# check the laureate table\n",
    "query = 'select * from laureate' \n",
    "cursor.execute(query)\n",
    "res = cursor.fetchall()\n",
    "for row in res:\n",
    "    print(row)"
   ]
  },
  {
   "cell_type": "markdown",
   "metadata": {},
   "source": [
    "**Insert multiple rows in laureate table**"
   ]
  },
  {
   "cell_type": "code",
   "execution_count": 65,
   "metadata": {},
   "outputs": [
    {
     "name": "stdout",
     "output_type": "stream",
     "text": [
      "3 record(s) inserted\n"
     ]
    }
   ],
   "source": [
    "# let's add all 2021 Economics laureates in one shot\n",
    "# year_cat_id=2 is same for all of them, but share and motiv_id vary\n",
    "laureates = [('David','Card',2,2,2), ('Joshua','Angrist',4,2,3), ('Guido','Imbens',4,2,3)]\n",
    "cursor.executemany(add_laureate, laureates)\n",
    "print(cursor.rowcount,'record(s) inserted')\n",
    "mydb.commit()  # update the database"
   ]
  },
  {
   "cell_type": "code",
   "execution_count": 66,
   "metadata": {},
   "outputs": [
    {
     "name": "stdout",
     "output_type": "stream",
     "text": [
      "('Benjamin', 'List', 2, 1, 1)\n",
      "('David', 'MacMillan', 2, 1, 1)\n",
      "('David', 'Card', 2, 2, 2)\n",
      "('Joshua', 'Angrist', 4, 2, 3)\n",
      "('Guido', 'Imbens', 4, 2, 3)\n"
     ]
    }
   ],
   "source": [
    "# check the laureate table\n",
    "query = 'select * from laureate' \n",
    "cursor.execute(query)\n",
    "res = cursor.fetchall()\n",
    "for row in res:\n",
    "    print(row)"
   ]
  },
  {
   "cell_type": "markdown",
   "metadata": {},
   "source": [
    "---"
   ]
  },
  {
   "cell_type": "markdown",
   "metadata": {},
   "source": [
    "##### <font color=\"brown\">We're going to switch over to terminal to add a row to contribution, for literature in 2021. We're also going to delete the Physics, Peace, and Medicine entries for 2021, from yearcat </font>\n",
    "##### <font color=\"brown\"> Before we do that, we should close the cursor and the connection.</font>"
   ]
  },
  {
   "cell_type": "code",
   "execution_count": 81,
   "metadata": {},
   "outputs": [
    {
     "data": {
      "text/plain": [
       "True"
      ]
     },
     "execution_count": 81,
     "metadata": {},
     "output_type": "execute_result"
    }
   ],
   "source": [
    "cursor.close()"
   ]
  },
  {
   "cell_type": "code",
   "execution_count": 82,
   "metadata": {},
   "outputs": [],
   "source": [
    "mydb.close()"
   ]
  },
  {
   "cell_type": "markdown",
   "metadata": {},
   "source": [
    "<b>In Terminal:\n",
    "<pre>\n",
    "sesh> mysql -u sesh -p nobels\n",
    "Enter password:\n",
    "\n",
    "mysql> insert into contribution (motivation) values ('for his uncompromising and compassionate penetration of the effects of colonialism and the fate of the refugee in the gulf between cultures and continents');\n",
    "\n",
    "mysql> select * from contribution;\n",
    "+----+------------------------------------------------------------------------------------------------------------------------------------------------------------+\n",
    "| id | motivation                                                                                                                                                 |\n",
    "+----+------------------------------------------------------------------------------------------------------------------------------------------------------------+\n",
    "|  1 | for the development of asymmetric organocatalysis                                                                                                          |\n",
    "|  2 | for his empirical contributions to labour economics                                                                                                        |\n",
    "|  3 | for their methodological contributions to the analysis  of causal relationships                                                                            |\n",
    "|  4 | for his uncompromising and compassionate penetration of the effects of colonialism and the fate of the refugee in the gulf between cultures and continents |\n",
    "+----+------------------------------------------------------------------------------------------------------------------------------------------------------------+\n",
    "\n",
    "mysql> select * from yearcat;\n",
    "+----+------+------------+\n",
    "| id | year | category   |\n",
    "+----+------+------------+\n",
    "|  1 | 2021 | Chemistry  |\n",
    "|  2 | 2021 | Economics  |\n",
    "|  3 | 2021 | Literature |\n",
    "|  4 | 2021 | Physics    |\n",
    "|  5 | 2021 | Peace      |\n",
    "|  6 | 2021 | Medicine   |\n",
    "+----+------+------------+\n",
    "6 rows in set (0.00 sec)\n",
    "\n",
    "mysql> delete from yearcat where id > 3;\n",
    "Query OK, 3 rows affected (0.00 sec)\n",
    "\n",
    "mysql> select * from yearcat;\n",
    "+----+------+------------+\n",
    "| id | year | category   |\n",
    "+----+------+------------+\n",
    "|  1 | 2021 | Chemistry  |\n",
    "|  2 | 2021 | Economics  |\n",
    "|  3 | 2021 | Literature |\n",
    "+----+------+------------+\n",
    "3 rows in set (0.00 sec)\n",
    "\n",
    "mysql> select * from winners where year=2021 and category='Physics';\n",
    "+------+----------+---------+------------+---------------------------------------------------------------------------------------------------------------------+-------+\n",
    "| year | category | fname   | lname      | motivation                                                                                                          | share |\n",
    "+------+----------+---------+------------+---------------------------------------------------------------------------------------------------------------------+-------+\n",
    "| 2021 | Physics  | Syukuro | Manabe     | for the physical modelling of Earth’s climate, quantifying variability and reliably predicting global warming       |     4 |\n",
    "| 2021 | Physics  | Klaus   | Hasselmann | for the physical modelling of Earth’s climate, quantifying variability and reliably predicting global warming       |     4 |\n",
    "| 2021 | Physics  | Giorgio | Parisi     | for the discovery of the interplay of disorder and fluctuations in physical systems from atomic to planetary scales |     2 |\n",
    "+------+----------+---------+------------+---------------------------------------------------------------------------------------------------------------------+-------+\n",
    "\n",
    "mysql> exit\n",
    "Bye\n",
    "</pre>"
   ]
  },
  {
   "cell_type": "markdown",
   "metadata": {},
   "source": [
    "---"
   ]
  },
  {
   "cell_type": "markdown",
   "metadata": {},
   "source": [
    "*Back to Python programming*"
   ]
  },
  {
   "cell_type": "markdown",
   "metadata": {},
   "source": [
    "##### <font color=\"brown\">Make sure to redo the mydb connection and set up cursor, like we did initially. Just jump to and re-execute those cells, then jump back here.</font>"
   ]
  },
  {
   "cell_type": "markdown",
   "metadata": {},
   "source": [
    "---"
   ]
  },
  {
   "cell_type": "markdown",
   "metadata": {},
   "source": [
    "**Insert a row in laureate table, for literature prize in 2021**"
   ]
  },
  {
   "cell_type": "code",
   "execution_count": 71,
   "metadata": {},
   "outputs": [
    {
     "name": "stdout",
     "output_type": "stream",
     "text": [
      "1 record(s) inserted\n"
     ]
    }
   ],
   "source": [
    "# add Abdulrazak Gurnah to 2021 Literature\n",
    "laureate = ('Abdulrazak','Gurnah',1,3,4)  # share=1, year_cat_id=3, motiv_id=4\n",
    "cursor.execute(add_laureate, laureate) \n",
    "print(cursor.rowcount,'record(s) inserted')\n",
    "mydb.commit()  # update the database"
   ]
  },
  {
   "cell_type": "code",
   "execution_count": 72,
   "metadata": {},
   "outputs": [
    {
     "name": "stdout",
     "output_type": "stream",
     "text": [
      "('Benjamin', 'List', 2, 1, 1)\n",
      "('David', 'MacMillan', 2, 1, 1)\n",
      "('David', 'Card', 2, 2, 2)\n",
      "('Joshua', 'Angrist', 4, 2, 3)\n",
      "('Guido', 'Imbens', 4, 2, 3)\n",
      "('Abdulrazak', 'Gurnah', 1, 3, 4)\n"
     ]
    }
   ],
   "source": [
    "# check the laureate table\n",
    "query = 'select * from laureate' \n",
    "cursor.execute(query)\n",
    "res = cursor.fetchall()\n",
    "for row in res:\n",
    "    print(row)"
   ]
  },
  {
   "cell_type": "markdown",
   "metadata": {},
   "source": [
    "---"
   ]
  },
  {
   "cell_type": "markdown",
   "metadata": {},
   "source": [
    "#### <font color=\"brown\">Adding to all three tables (yearcat, contribution, and laureate), retaining id from yearcat and contribution for add to laureate</font>"
   ]
  },
  {
   "cell_type": "markdown",
   "metadata": {},
   "source": [
    "##### <font color=\"brown\">Add Physics laureates for 2021</font>"
   ]
  },
  {
   "cell_type": "markdown",
   "metadata": {},
   "source": [
    "**Set up sql templates and values**"
   ]
  },
  {
   "cell_type": "code",
   "execution_count": 76,
   "metadata": {},
   "outputs": [],
   "source": [
    "# set up sql template and values for yearcat table\n",
    "add_yearcat = \"insert into yearcat (year,category) values (%s,%s)\"\n",
    "yc_val =  (2021,'Physics')\n",
    "\n",
    "# set up sql template and values for contribution table\n",
    "add_contribution = \"insert into contribution (motivation) values (%s)\"\n",
    "\n",
    "str1 = 'for the physical modelling of Earth’s climate, ' \n",
    "str2 = 'quantifying variability and reliably predicting global warming'\n",
    "share4_contrib = str1 + str2        \n",
    "\n",
    "str1 = 'for the discovery of the interplay of disorder and fluctuations '\n",
    "str2 = 'in physical systems from atomic to planetary scales'\n",
    "share2_contrib = str1 + str2"
   ]
  },
  {
   "cell_type": "markdown",
   "metadata": {},
   "source": [
    "##### **Add to yearcat and get last added id using cursor.lastrowid. Similarly for contribution. Then add laureates.**\n",
    "https://dev.mysql.com/doc/connector-python/en/connector-python-api-mysqlcursor-lastrowid.html"
   ]
  },
  {
   "cell_type": "code",
   "execution_count": 79,
   "metadata": {},
   "outputs": [
    {
     "name": "stdout",
     "output_type": "stream",
     "text": [
      "7\n"
     ]
    }
   ],
   "source": [
    "# add yearcat, and get last added id\n",
    "cursor.execute(add_yearcat, yc_val)\n",
    "mydb.commit()  # update the database\n",
    "yc_id = cursor.lastrowid\n",
    "print(yc_id)"
   ]
  },
  {
   "cell_type": "markdown",
   "metadata": {},
   "source": [
    "**The id is 7 because the max id that had been added was 6 (Medicine). Subsequently, we deleted the ids 4,5,6 but that does not change the fact that max id ever added was 6. So a new add gets id=6+1=7.**"
   ]
  },
  {
   "cell_type": "code",
   "execution_count": 80,
   "metadata": {},
   "outputs": [
    {
     "name": "stdout",
     "output_type": "stream",
     "text": [
      "5\n"
     ]
    }
   ],
   "source": [
    "# add share4 contributon and get last added id\n",
    "cursor.execute(add_contribution, (share4_contrib,))  # Note the tuple syntax!! Only one value to be added\n",
    "mydb.commit()  # update the database\n",
    "contrib_id = cursor.lastrowid\n",
    "print(contrib_id)"
   ]
  },
  {
   "cell_type": "code",
   "execution_count": 30,
   "metadata": {},
   "outputs": [
    {
     "name": "stdout",
     "output_type": "stream",
     "text": [
      "2 record(s) inserted\n"
     ]
    }
   ],
   "source": [
    "# now add the two laureates at a share of 4 apiece\n",
    "laureates = [('Syukuro','Manabe',4,yc_id,contrib_id), ('Klaus','Hasselmann',4,yc_id,contrib_id)]\n",
    "cursor.executemany(add_laureate,laureates)\n",
    "mydb.commit()"
   ]
  },
  {
   "cell_type": "code",
   "execution_count": null,
   "metadata": {},
   "outputs": [],
   "source": [
    "# add share2 contributon and get last added id\n",
    "cursor.execute(add_contribution, (share2_contrib,))  \n",
    "mydb.commit()  # update the database\n",
    "contrib_id = cursor.lastrowid"
   ]
  },
  {
   "cell_type": "code",
   "execution_count": 28,
   "metadata": {},
   "outputs": [
    {
     "name": "stdout",
     "output_type": "stream",
     "text": [
      "1 record(s) inserted\n"
     ]
    }
   ],
   "source": [
    "# add the third laureate, with a share of 2\n",
    "cursor.execute(add_laureate,('Giorgio','Parisi',2,yc_id,contrib_id))\n",
    "print(cursor.rowcount,'record(s) inserted')\n",
    "mydb.commit()"
   ]
  },
  {
   "cell_type": "code",
   "execution_count": 85,
   "metadata": {},
   "outputs": [
    {
     "name": "stdout",
     "output_type": "stream",
     "text": [
      "('Benjamin', 'List', 2, 1, 1)\n",
      "('David', 'MacMillan', 2, 1, 1)\n",
      "('David', 'Card', 2, 2, 2)\n",
      "('Joshua', 'Angrist', 4, 2, 3)\n",
      "('Guido', 'Imbens', 4, 2, 3)\n",
      "('Abdulrazak', 'Gurnah', 1, 3, 4)\n",
      "('Syukuro', 'Manabe', 4, 7, 5)\n",
      "('Klaus', 'Hasselmann', 4, 7, 5)\n",
      "('Giorgio', 'Parisi', 2, 7, 6)\n"
     ]
    }
   ],
   "source": [
    "# get contents of laureate table\n",
    "query = 'select * from laureate'\n",
    "cursor.execute(query)\n",
    "res = cursor.fetchall()\n",
    "for row in res:\n",
    "    print(row)"
   ]
  },
  {
   "cell_type": "code",
   "execution_count": 25,
   "metadata": {},
   "outputs": [
    {
     "data": {
      "text/plain": [
       "True"
      ]
     },
     "execution_count": 25,
     "metadata": {},
     "output_type": "execute_result"
    }
   ],
   "source": [
    "cursor.close()"
   ]
  },
  {
   "cell_type": "code",
   "execution_count": 26,
   "metadata": {},
   "outputs": [],
   "source": [
    "mydb.close()"
   ]
  },
  {
   "cell_type": "code",
   "execution_count": null,
   "metadata": {},
   "outputs": [],
   "source": []
  }
 ],
 "metadata": {
  "kernelspec": {
   "display_name": "Python 3",
   "language": "python",
   "name": "python3"
  },
  "language_info": {
   "codemirror_mode": {
    "name": "ipython",
    "version": 3
   },
   "file_extension": ".py",
   "mimetype": "text/x-python",
   "name": "python",
   "nbconvert_exporter": "python",
   "pygments_lexer": "ipython3",
   "version": "3.7.6"
  }
 },
 "nbformat": 4,
 "nbformat_minor": 4
}
