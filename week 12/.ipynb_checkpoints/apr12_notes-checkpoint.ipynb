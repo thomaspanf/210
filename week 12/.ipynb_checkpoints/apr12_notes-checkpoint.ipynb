{
 "cells": [
  {
   "cell_type": "markdown",
   "metadata": {},
   "source": [
    "### <font color=\"brown\">Relational Databases</font>"
   ]
  },
  {
   "cell_type": "markdown",
   "metadata": {},
   "source": [
    "---"
   ]
  },
  {
   "cell_type": "markdown",
   "metadata": {},
   "source": [
    "#### <font color=\"brown\">Example 1: Nobel Prize Winners Database</font>"
   ]
  },
  {
   "cell_type": "markdown",
   "metadata": {},
   "source": [
    "##### <font color=\"brown\">We are going to build a database for the noble prize winner data that we saw previously in our discussion on JSON (Week 7).</font>"
   ]
  },
  {
   "cell_type": "markdown",
   "metadata": {},
   "source": [
    "---"
   ]
  },
  {
   "cell_type": "code",
   "execution_count": 1,
   "metadata": {},
   "outputs": [],
   "source": [
    "import json, requests\n",
    "\n",
    "nobel_url = 'http://api.nobelprize.org/v1/prize.json'\n",
    "resp = requests.get(nobel_url)\n",
    "nobels = json.loads(resp.text)"
   ]
  },
  {
   "cell_type": "code",
   "execution_count": 2,
   "metadata": {},
   "outputs": [
    {
     "name": "stdout",
     "output_type": "stream",
     "text": [
      "{'year': '2021', 'category': 'chemistry', 'laureates': [{'id': '1002', 'firstname': 'Benjamin', 'surname': 'List', 'motivation': '\"for the development of asymmetric organocatalysis\"', 'share': '2'}, {'id': '1003', 'firstname': 'David', 'surname': 'MacMillan', 'motivation': '\"for the development of asymmetric organocatalysis\"', 'share': '2'}]}\n"
     ]
    }
   ],
   "source": [
    "print(nobels['prizes'][0])"
   ]
  },
  {
   "cell_type": "code",
   "execution_count": 3,
   "metadata": {},
   "outputs": [
    {
     "name": "stdout",
     "output_type": "stream",
     "text": [
      "dict_keys(['year', 'category', 'laureates'])\n"
     ]
    }
   ],
   "source": [
    "print(nobels['prizes'][0].keys())"
   ]
  },
  {
   "cell_type": "code",
   "execution_count": 4,
   "metadata": {},
   "outputs": [
    {
     "name": "stdout",
     "output_type": "stream",
     "text": [
      "{'year': '2021', 'category': 'economics', 'laureates': [{'id': '1007', 'firstname': 'David', 'surname': 'Card', 'motivation': '\"for his empirical contributions to labour economics\"', 'share': '2'}, {'id': '1008', 'firstname': 'Joshua', 'surname': 'Angrist', 'motivation': '\"for their methodological contributions to the analysis of causal relationships\"', 'share': '4'}, {'id': '1009', 'firstname': 'Guido', 'surname': 'Imbens', 'motivation': '\"for their methodological contributions to the analysis of causal relationships\"', 'share': '4'}]}\n"
     ]
    }
   ],
   "source": [
    "print(nobels['prizes'][1])"
   ]
  },
  {
   "cell_type": "markdown",
   "metadata": {},
   "source": [
    "**Each entry in the list of values for nobels['prizes'] is a dictionary of year+category+list of laureates**"
   ]
  },
  {
   "cell_type": "code",
   "execution_count": 5,
   "metadata": {},
   "outputs": [
    {
     "name": "stdout",
     "output_type": "stream",
     "text": [
      "{'id': '1007', 'firstname': 'David', 'surname': 'Card', 'motivation': '\"for his empirical contributions to labour economics\"', 'share': '2'}\n"
     ]
    }
   ],
   "source": [
    "print(nobels['prizes'][1]['laureates'][0])"
   ]
  },
  {
   "cell_type": "markdown",
   "metadata": {},
   "source": [
    "##### <font color=\"brown\">The data we want is Year, Category, First Name, Last Name, Motivation, and Share for each Nobel prize winner (laureate)</font>"
   ]
  },
  {
   "cell_type": "markdown",
   "metadata": {},
   "source": [
    "##### In order to set aside most appropriate amount of space for storage in the database, we need to know maximum lengths for the motivation, first name, and last name strings. We could have done this above, but I wanted to kept it separate so it doesn't get confusing."
   ]
  },
  {
   "cell_type": "code",
   "execution_count": 13,
   "metadata": {},
   "outputs": [
    {
     "name": "stdout",
     "output_type": "stream",
     "text": [
      "No laureates in the years: ['1972', '1967', '1966', '1956', '1955', '1948', '1943', '1943', '1942', '1942', '1942', '1942', '1942', '1941', '1941', '1941', '1941', '1941', '1940', '1940', '1940', '1940', '1940', '1939', '1935', '1934', '1933', '1932', '1931', '1928', '1925', '1924', '1924', '1923', '1921', '1919', '1918', '1918', '1918', '1917', '1917', '1916', '1916', '1916', '1916', '1915', '1915', '1914', '1914']\n",
      "\n",
      "Max lengths\n",
      "Category: 10\n",
      "Motivation: 341\n",
      "First name: 59\n",
      "Last name: 26\n"
     ]
    }
   ],
   "source": [
    "# max lengths of motivation, first name, and last name\n",
    "category_maxlen=0\n",
    "motiv_maxlen=0\n",
    "fname_maxlen=0\n",
    "lname_maxlen=0\n",
    "no_laureates = []\n",
    "for prize in nobels['prizes']:\n",
    "    if not 'laureates' in prize:\n",
    "        no_laureates.append(prize['year'])\n",
    "        continue\n",
    "    cat = prize['category']\n",
    "    category_maxlen = max(category_maxlen, len(cat))\n",
    "    for winner in prize['laureates']:\n",
    "        motiv = winner.get('motivation').strip('\"')\n",
    "        motiv_maxlen = max(motiv_maxlen, len(motiv))\n",
    "        fname = winner.get('firstname')\n",
    "        fname_maxlen = max(fname_maxlen, len(fname))\n",
    "        lname = winner.get('surname','')\n",
    "        lname_maxlen = max(lname_maxlen, len(lname))\n",
    "\n",
    "print(f'No laureates in the years: {no_laureates}\\n')\n",
    "print('Max lengths')\n",
    "print(f'Category: {category_maxlen}')\n",
    "print(f'Motivation: {motiv_maxlen}')\n",
    "print(f'First name: {fname_maxlen}')\n",
    "print(f'Last name: {lname_maxlen}')"
   ]
  },
  {
   "cell_type": "markdown",
   "metadata": {},
   "source": [
    "---"
   ]
  },
  {
   "cell_type": "markdown",
   "metadata": {},
   "source": [
    "#### <font color=\"brown\">Creating a new user in database system</font>"
   ]
  },
  {
   "cell_type": "markdown",
   "metadata": {},
   "source": [
    "##### Execute the following commands in the MySQL client window to create the a new non-root user. You want to log in as this user when using any of the databases other than the special 'mysql' database."
   ]
  },
  {
   "cell_type": "markdown",
   "metadata": {},
   "source": [
    "- Launch terminal in Jupyter, then in the terminal log into the <tt>mysql</tt> database, which is the master database that contains all user-defined databases\n",
    "    \n",
    "    <pre>\n",
    "    % mysql -u root -p mysql\n",
    "    ...\n",
    "    </pre>\n",
    "\n",
    "- 'mysql>' is the prompt inside the MySQL session. The <tt>create user</tt> statement can then be used to create a new database system user. See https://dev.mysql.com/doc/refman/8.0/en/create-user.html <br> Give the user whatever name you like, and whatever password you want:\n",
    "\n",
    "    <pre>\n",
    "    mysql> create user 'someusername'@'localhost' identified by 'somepassword'\n",
    "    ...\n",
    "    </pre>\n",
    "\n",
    "- Exit the MySQL client session\n",
    "\n",
    "    <pre>\n",
    "    mysql> exit\n",
    "    </pre>"
   ]
  },
  {
   "cell_type": "markdown",
   "metadata": {},
   "source": [
    "---"
   ]
  },
  {
   "cell_type": "markdown",
   "metadata": {},
   "source": [
    "#### <font color=\"brown\">Creating a nobels database</font>"
   ]
  },
  {
   "cell_type": "markdown",
   "metadata": {},
   "source": [
    "##### <font color=\"brown\">1. Create a database named nobels</font>\n",
    "\n",
    "##### Execute the following commands in the MySQL client window to create the 'nobels' database, and grant permissions to your non-root user"
   ]
  },
  {
   "cell_type": "markdown",
   "metadata": {},
   "source": [
    "- 'sesh>' is an example of a terminal prompt.<br>Log into the <tt>mysql</tt> database, which is the master database that contains all user-defined databases\n",
    "    \n",
    "    <pre>\n",
    "    sesh> mysql -u root -p mysql\n",
    "    ...\n",
    "    </pre>\n",
    "\n",
    "- The <tt>show databases</tt> statement lists all databases you have created. <br><b>Note: all commands in the mysql session end in ';'</b>\n",
    "\n",
    "    <pre>\n",
    "    mysql> show databases;\n",
    "    ...\n",
    "    </pre>\n",
    "\n",
    "- Create the database with the <tt>create database</tt> statement<br>\n",
    "https://dev.mysql.com/doc/refman/8.0/en/create-database.html\n",
    "\n",
    "    <pre>\n",
    "    mysql> create database nobels;\n",
    "    ...\n",
    "    </pre>\n",
    "\n",
    "    <pre>\n",
    "    mysql> show databases;\n",
    "    ...\n",
    "    </pre>\n",
    "    \n",
    "    You should see the nobels database in the list shown by the <tt>show databases</tt> command\n",
    "\n",
    "- Grant 'all' (create/update/read) access to the non-root user you set up earlier (my non-root user is 'sesh')\n",
    "\n",
    "    <pre>\n",
    "    mysql> grant all on nobels.* to 'sesh'@'localhost';\n",
    "    ...\n",
    "    </pre>\n",
    "\n",
    "- Exit the MySQL client session\n",
    "\n",
    "    <pre>\n",
    "    mysql> exit\n",
    "    \n",
    "    sesh>\n",
    "    </pre>"
   ]
  },
  {
   "cell_type": "markdown",
   "metadata": {},
   "source": [
    "---"
   ]
  },
  {
   "cell_type": "markdown",
   "metadata": {},
   "source": [
    "##### <font color=\"brown\">2. Create a winners table in the database</font>"
   ]
  },
  {
   "cell_type": "markdown",
   "metadata": {},
   "source": [
    "##### **i) Define a couple of columns to start with - execute the following in the MySQL client window:**"
   ]
  },
  {
   "cell_type": "markdown",
   "metadata": {},
   "source": [
    "- You need to first log in to the <tt>nobels</tt> database as a non-root user to whom you have granted access, using whatever password you set for that user.<br>\n",
    "<b>Note: you can manipulate the nobels database when you are logged in as root to the mysql database, but it is\n",
    "    not recommended. The root user has admin privileges that you might inadvertently use and thrash stuff that\n",
    "    might affect other databases as well.</b>\n",
    "\n",
    "<pre>\n",
    "    sesh> mysql -u sesh -p nobels\n",
    "    ...\n",
    "</pre>\n",
    "\n",
    "- Once you are logged in to the <tt>nobels</tt> database, you can see what tables there are if any (there are no tables, since we didn't make any yet), then go ahead and create a table called <tt>winners</tt><br>\n",
    "    https://dev.mysql.com/doc/refman/8.0/en/create-table.html\n",
    "    \n",
    "<pre>\n",
    "    mysql> show tables;\n",
    "    Empty set (0.00 sec)\n",
    "\n",
    "    mysql> create table winners (year year not null, category char(10) not null);\n",
    "    Query OK, 0 rows affected (0.03 sec)\n",
    "</pre>\n",
    "\n",
    "- Column <tt>year</tt> has datatype <tt>year</tt><br>\n",
    "https://dev.mysql.com/doc/refman/8.0/en/year.html\n",
    "- Column <tt>category</tt> has datatype <tt>char(10)</tt> meaning space worth 10 characters. The actual number of characters stored in this space may be less than 10, but 10 characters of space is always set aside.<br>\n",
    "https://dev.mysql.com/doc/refman/8.0/en/char.html\n",
    "- When you set a column to be **not null**, it means when you add a row, that column *must* have a value, otherwise the database system will reject the add\n",
    "\n",
    "<pre>\n",
    "    mysql> show tables;\n",
    "    +------------------+\n",
    "    | Tables_in_nobels |\n",
    "    +------------------+\n",
    "    | winners          |\n",
    "    +------------------+\n",
    "    1 row in set (0.00 sec)\n",
    "</pre>\n",
    "\n",
    "- You can see the table schema (structure) with the <tt>desc</tt> statement:\n",
    "\n",
    "<pre>\n",
    "    mysql> desc winners;\n",
    "    +----------+----------+------+-----+---------+-------+\n",
    "    | Field    | Type     | Null | Key | Default | Extra |\n",
    "    +----------+----------+------+-----+---------+-------+\n",
    "    | year     | year(4)  | NO   |     | NULL    |       |\n",
    "    | category | char(10) | NO   |     | NULL    |       |\n",
    "    +----------+----------+------+-----+---------+-------+\n",
    "    2 rows in set (0.00 sec)\n",
    "</pre>\n",
    "\n",
    "- Alternatively, you can use the <tt>show columns from<tt> statement<br>\n",
    "   https://dev.mysql.com/doc/refman/8.0/en/show-columns.html\n",
    "    \n",
    "<pre>\n",
    "    mysql> show columns from winners;\n",
    "    +----------+----------+------+-----+---------+-------+\n",
    "    | Field    | Type     | Null | Key | Default | Extra |\n",
    "    +----------+----------+------+-----+---------+-------+\n",
    "    | year     | year(4)  | NO   |     | NULL    |       |\n",
    "    | category | char(10) | NO   |     | NULL    |       |\n",
    "    +----------+----------+------+-----+---------+-------+\n",
    "    2 rows in set (0.00 sec)\n",
    "</pre>\n",
    "    \n",
    "- The default value being NULL simply means that whenever you add a row, you must supply a value. If you had chosen to NOT say *not null*, it means a null (no value) is allowed. In which case, you may specifiy a default, which would be the assumed value if none is supplied - see the **lname** column below."
   ]
  },
  {
   "cell_type": "markdown",
   "metadata": {},
   "source": [
    "##### **ii) Add in the rest of the columns**"
   ]
  },
  {
   "cell_type": "markdown",
   "metadata": {},
   "source": [
    "<pre>\n",
    "mysql> alter table winners add column fname varchar(80) not null;\n",
    "mysql> alter table winners add column lname varchar(40);\n",
    "mysql> alter table winners add column motivation varchar(500) not null;\n",
    "mysql> alter table winners add column share tinyint not null;\n",
    "</pre>"
   ]
  },
  {
   "cell_type": "markdown",
   "metadata": {},
   "source": [
    "##### \n",
    "- The <tt>alter table</tt> statement can be used to add or modify columns <br>\n",
    "https://dev.mysql.com/doc/refman/8.0/en/alter-table.html\n",
    "- You don't *have* to do it this way (create with a few columns, then add in all the rest), but it is sometimes easier to break it up like this than have a super long <tt>create table</tt> statement\n",
    "- The <tt>fname</tt>, <tt>lname</tt>, and <tt>motivation</tt> columns are all of type <tt>varchar</tt>, with a different number of characters, based on our earlier analysis of maximum lengths for these fields (and we added on some). Basically <tt>varchar</tt> is for variable characters, meaning the space specified is the maximum, but unlike <tt>char</tt> the actual storage will not necessarily equal the maximum specified. Instead, it will be the actual number of characters, plus a very small amount of constant extra space to tell how many actual characters there are:<br>\n",
    "https://dev.mysql.com/doc/refman/8.0/en/storage-requirements.html#data-types-storage-reqs-strings\n",
    "- The <tt>share</tt> column is of type </tt>tinyint</tt>, which is the least amount of integer space you can set aside for a column<br>\n",
    "https://dev.mysql.com/doc/refman/8.0/en/storage-requirements.html#data-types-storage-reqs-numeric"
   ]
  },
  {
   "cell_type": "markdown",
   "metadata": {},
   "source": [
    "<pre>\n",
    "    mysql> show columns from winners;\n",
    "    +------------+--------------+------+-----+---------+-------+\n",
    "    | Field      | Type         | Null | Key | Default | Extra |\n",
    "    +------------+--------------+------+-----+---------+-------+\n",
    "    | year       | year(4)      | NO   |     | NULL    |       |\n",
    "    | category   | char(10)     | NO   |     | NULL    |       |\n",
    "    | fname      | varchar(80)  | NO   |     | NULL    |       |\n",
    "    | lname      | varchar(40)  | YES  |     | NULL    |       |\n",
    "    | motivation | varchar(500) | NO   |     | NULL    |       |\n",
    "    | share      | tinyint(4)   | NO   |     | NULL    |       |\n",
    "    +------------+--------------+------+-----+---------+-------+\n",
    "    6 rows in set (0.00 sec)\n",
    "</pre>"
   ]
  },
  {
   "cell_type": "markdown",
   "metadata": {},
   "source": [
    "##### Key can be any column or combinaton of columns that has unique values. In this table, no column has unique values. We could do a combination of year and category as unique, since no two rows can have the same combination of year and category, but we will leave it aside for now."
   ]
  },
  {
   "cell_type": "markdown",
   "metadata": {},
   "source": [
    "---"
   ]
  },
  {
   "cell_type": "markdown",
   "metadata": {},
   "source": [
    "#### <font color=\"brown\">Loading data into winners table</font>\n",
    "\n",
    "##### The JSON data can be added to the winners table via Python, but we will get to the Python-based database access later. For now, we will load data from a pre-done database file, nobelsv1.sql\n",
    "\n",
    "##### Make sure the nobelsv1.sql file is in your notebook. Then, in Terminal (make sure you have exited mysql), issue the following command, to position yourself in the directory where you have this notebook. (Replace the path in this example with that on your computer. If you are Windows, your path will be something like C:\\\\...)\n",
    "<pre>\n",
    "sesh> cd /Users/seshv/courses/cs210/lectures/week12\n",
    "</pre>\n",
    "\n",
    "##### Then, issue the following command to load the data from nobelsv1.sql into the nobels database:\n",
    "<pre>\n",
    "sesh> mysql -u sesh -p nobels < nobelsv1.sql\n",
    "</pre>"
   ]
  },
  {
   "cell_type": "markdown",
   "metadata": {},
   "source": [
    "---"
   ]
  },
  {
   "cell_type": "markdown",
   "metadata": {},
   "source": [
    "#### <font color=\"brown\">Quering the winners Table</font>"
   ]
  },
  {
   "cell_type": "markdown",
   "metadata": {},
   "source": [
    "##### **Queries are done using the <tt>select</tt> statement**\n",
    "https://dev.mysql.com/doc/refman/8.0/en/select.html\n",
    "\n",
    "##### **The result of any query is a table**"
   ]
  },
  {
   "cell_type": "markdown",
   "metadata": {},
   "source": [
    "---"
   ]
  },
  {
   "cell_type": "markdown",
   "metadata": {},
   "source": [
    "##### **1. How many entries are in the table?**"
   ]
  },
  {
   "cell_type": "markdown",
   "metadata": {},
   "source": [
    "<pre>\n",
    "mysql> select count(*) from winners;\n",
    "+----------+\n",
    "| count(*) |\n",
    "+----------+\n",
    "|      975 |\n",
    "+----------+\n",
    "</pre>"
   ]
  },
  {
   "cell_type": "markdown",
   "metadata": {},
   "source": [
    "##### **2. Show the first 5 rows in the table**"
   ]
  },
  {
   "cell_type": "markdown",
   "metadata": {},
   "source": [
    "<pre>\n",
    "mysql> select * from winners limit 5;\n",
    "+------+-----------+----------+-----------+---------------------------------------------------------------------------------+-------+\n",
    "| year | category  | fname    | lname     | motivation                                                                      | share |\n",
    "+------+-----------+----------+-----------+---------------------------------------------------------------------------------+-------+\n",
    "| 2021 | Chemistry | Benjamin | List      | for the development of asymmetric organocatalysis                               |     2 |\n",
    "| 2021 | Chemistry | David    | MacMillan | for the development of asymmetric organocatalysis                               |     2 |\n",
    "| 2021 | Economics | David    | Card      | for his empirical contributions  to labour economics                            |     2 |\n",
    "| 2021 | Economics | Joshua   | Angrist   | for their methodological contributions to the analysis  of causal relationships |     4 |\n",
    "| 2021 | Economics | Guido    | Imbens    | for their methodological contributions to the analysis  of causal relationships |     4 |\n",
    "+------+-----------+----------+-----------+---------------------------------------------------------------------------------+-------+\n",
    "</pre>\n",
    "\n",
    "**<tt>select *</tt>** selects all columns.<p>\n",
    "\n",
    "This can be hard to read if any of the columns is extra long. In which case, an alternative is to use this variant, with a '\\G' at the end of the query:\n",
    "<pre>\n",
    "mysql> select * from winners limit 5\\G;\n",
    "*************************** 1. row ***************************\n",
    "      year: 2021\n",
    "  category: Chemistry\n",
    "     fname: Benjamin\n",
    "     lname: List\n",
    "motivation: for the development of asymmetric organocatalysis\n",
    "     share: 2\n",
    "*************************** 2. row ***************************\n",
    "      year: 2021\n",
    "  category: Chemistry\n",
    "     fname: David\n",
    "     lname: MacMillan\n",
    "motivation: for the development of asymmetric organocatalysis\n",
    "     share: 2\n",
    "*************************** 3. row ***************************\n",
    "      year: 2021\n",
    "  category: Economics\n",
    "     fname: David\n",
    "     lname: Card\n",
    "motivation: for his empirical contributions  to labour economics\n",
    "     share: 2\n",
    "*************************** 4. row ***************************\n",
    "      year: 2021\n",
    "  category: Economics\n",
    "     fname: Joshua\n",
    "     lname: Angrist\n",
    "motivation: for their methodological contributions to the analysis  of causal relationships\n",
    "     share: 4\n",
    "*************************** 5. row ***************************\n",
    "      year: 2021\n",
    "  category: Economics\n",
    "     fname: Guido\n",
    "     lname: Imbens\n",
    "motivation: for their methodological contributions to the analysis  of causal relationships\n",
    "     share: 4\n",
    "</pre>\n"
   ]
  },
  {
   "cell_type": "markdown",
   "metadata": {},
   "source": [
    "##### **3. What are all the years for which nobel winners are listed?**"
   ]
  },
  {
   "cell_type": "raw",
   "metadata": {},
   "source": [
    "<pre>\n",
    "mysql> select distinct(year) from winners;\n",
    "+------+\n",
    "| year |\n",
    "+------+\n",
    "| 2021 |\n",
    "| 2020 |\n",
    "| 2019 |\n",
    "| 2018 |\n",
    "| 2017 |\n",
    "| 2016 |\n",
    "  ...\n",
    "  ...\n",
    "| 1903 |\n",
    "| 1902 |\n",
    "| 1901 |\n",
    "+------+\n",
    "</pre>"
   ]
  },
  {
   "cell_type": "markdown",
   "metadata": {},
   "source": [
    "##### **4. For how many years are winners listed?**"
   ]
  },
  {
   "cell_type": "markdown",
   "metadata": {},
   "source": [
    "<pre>\n",
    "mysql> select count(distinct(year)) from winners;\n",
    "+-----------------------+\n",
    "| count(distinct(year)) |\n",
    "+-----------------------+\n",
    "|                   118 |\n",
    "+-----------------------+\n",
    "</pre>"
   ]
  },
  {
   "cell_type": "markdown",
   "metadata": {},
   "source": [
    "##### **5. Who are all the winners in 2020, and for what category?**"
   ]
  },
  {
   "cell_type": "markdown",
   "metadata": {},
   "source": [
    "<pre>\n",
    "mysql> select category, fname, lname from winners where year=2020;\n",
    "+------------+----------------------+-------------+\n",
    "| category   | fname                | lname       |\n",
    "+------------+----------------------+-------------+\n",
    "| Chemistry  | Emmanuelle           | Charpentier |\n",
    "| Chemistry  | Jennifer A.          | Doudna      |\n",
    "| Economics  | Paul                 | Milgrom     |\n",
    "| Economics  | Robert               | Wilson      |\n",
    "| Literature | Louise               | Glück       |\n",
    "| Peace      | World Food Programme |             |\n",
    "| Physics    | Roger                | Penrose     |\n",
    "| Physics    | Reinhard             | Genzel      |\n",
    "| Physics    | Andrea               | Ghez        |\n",
    "| Medicine   | Harvey               | Alter       |\n",
    "| Medicine   | Michael              | Houghton    |\n",
    "| Medicine   | Charles              | Rice        |\n",
    "+------------+----------------------+-------------+\n",
    "12 rows in set (0.00 sec)\n",
    "</pre>\n",
    "- Any number of columns can be specified in the **select** statement, separated by commas\n",
    "- The **where** clause sets up a condition"
   ]
  },
  {
   "cell_type": "markdown",
   "metadata": {},
   "source": [
    "##### **6. Who were the winners of the Literature prize in the years 2011 thru 2021?**"
   ]
  },
  {
   "cell_type": "markdown",
   "metadata": {},
   "source": [
    "<pre>\n",
    "mysql> select fname, lname, year from winners where category='Literature' and year between 2010 and 2020;\n",
    "+------------+--------------+------+\n",
    "| fname      | lname        | year |\n",
    "+------------+--------------+------+\n",
    "| Abdulrazak | Gurnah       | 2021 |\n",
    "| Louise     | Glück        | 2020 |\n",
    "| Peter      | Handke       | 2019 |\n",
    "| Olga       | Tokarczuk    | 2018 |\n",
    "| Kazuo      | Ishiguro     | 2017 |\n",
    "| Bob        | Dylan        | 2016 |\n",
    "| Svetlana   | Alexievich   | 2015 |\n",
    "| Patrick    | Modiano      | 2014 |\n",
    "| Alice      | Munro        | 2013 |\n",
    "| Mo         | Yan          | 2012 |\n",
    "| Tomas      | Tranströmer  | 2011 |\n",
    "+------------+--------------+------+\n",
    "</pre>\n",
    "- For numeric types, you can use the **between** keyword to select range"
   ]
  },
  {
   "cell_type": "markdown",
   "metadata": {},
   "source": [
    "##### **7. List all details of all the prizes that Einstein won**"
   ]
  },
  {
   "cell_type": "markdown",
   "metadata": {},
   "source": [
    "<pre>\n",
    "mysql> select * from winners where lname='Einstein'\\G;\n",
    "*************************** 1. row ***************************\n",
    "      year: 1921\n",
    "  category: Physics\n",
    "     fname: Albert\n",
    "     lname: Einstein\n",
    "motivation: for his services to Theoretical Physics, and especially for his discovery of the law of the photoelectric effect\n",
    "     share: 1\n",
    "</pre>"
   ]
  },
  {
   "cell_type": "markdown",
   "metadata": {},
   "source": [
    "---"
   ]
  },
  {
   "cell_type": "markdown",
   "metadata": {},
   "source": [
    "---"
   ]
  },
  {
   "cell_type": "markdown",
   "metadata": {},
   "source": [
    "#### <font color=\"brown\">Example 2: Nobel Prize Winners Database - Version 2</font>\n",
    "\n",
    "#### Minimizing Redundancy of Data Storage"
   ]
  },
  {
   "cell_type": "markdown",
   "metadata": {},
   "source": [
    "---"
   ]
  },
  {
   "cell_type": "markdown",
   "metadata": {},
   "source": [
    "##### <font color=\"brown\">Where is the redundancy in the previous version with a single winners table?</font>"
   ]
  },
  {
   "cell_type": "markdown",
   "metadata": {},
   "source": [
    "##### **1. If the nobel prize for a year is shared by multiple people, the year and category are repeated for each.**"
   ]
  },
  {
   "cell_type": "markdown",
   "metadata": {},
   "source": [
    "<pre>\n",
    "mysql> select count(*) from winners where share=1;\n",
    "+----------+\n",
    "| count(*) |\n",
    "+----------+\n",
    "|      353 |\n",
    "+----------+\n",
    "\n",
    "mysql> select count(*) from winners;\n",
    "+----------+\n",
    "| count(*) |\n",
    "+----------+\n",
    "|      975 |\n",
    "+----------+\n",
    "mysql> \n",
    "</pre>\n",
    "Out of a total of 975, 353 winners are solos. So 622 winners--nearly two thirds--have shared their prize, and for each of these, there will be repeated values for year and category.\n",
    "\n",
    "##### <font color=\"brown\">A minimum-redundancy version would have year and category in a separate table, say **yearcat**,<br> with a *manufactured* unique integer id that would serve as a **primary key**.</font>"
   ]
  },
  {
   "cell_type": "markdown",
   "metadata": {},
   "source": [
    "##### **2. There is also redundancy in the motivation, when prize is shared.**"
   ]
  },
  {
   "cell_type": "markdown",
   "metadata": {},
   "source": [
    "For instance:\n",
    "<pre>\n",
    "select fname,lname,motivation,share from winners where year=2018 and category='Chemistry';\n",
    "+----------------+--------+--------------------------------------------------+-------+\n",
    "| fname          | lname  | motivation                                       | share |\n",
    "+----------------+--------+--------------------------------------------------+-------+\n",
    "| Frances H.     | Arnold | for the directed evolution of enzymes            |     2 |\n",
    "| George P.      | Smith  | for the phage display of peptides and antibodies |     4 |\n",
    "| Sir Gregory P. | Winter | for the phage display of peptides and antibodies |     4 |\n",
    "+----------------+--------+--------------------------------------------------+-------+\n",
    "</pre>\n",
    "This is even worse than year/category redundancy since the motivation string can be fairly long. (As an aside, note that not all sharing winners are listed with the same motivation - winners could have worked in different areas for a prize in a year and category.)\n",
    "\n",
    "##### <font color=\"brown\">To remove this redundancy, we can make another table for motivation, say **contributon** with a *manufactured* unique integer id that would serve as the primary key.</font>"
   ]
  },
  {
   "cell_type": "markdown",
   "metadata": {},
   "source": [
    "##### <font color=\"brown\">Finally, the actual winner table, say **laureate**, would have a firstname, lastname, and share for each winner, plus a column that would be a **foreign key** that refers to the year-category in the **yearcat** table, and another column that would be another foreign key that refers to the contribution for that winner.</font>"
   ]
  },
  {
   "cell_type": "markdown",
   "metadata": {},
   "source": [
    "---"
   ]
  },
  {
   "cell_type": "markdown",
   "metadata": {},
   "source": [
    "#### <font color=\"brown\">Database Schema</font>"
   ]
  },
  {
   "cell_type": "markdown",
   "metadata": {},
   "source": [
    "##### 1. Log in to the **nobels** database"
   ]
  },
  {
   "cell_type": "markdown",
   "metadata": {},
   "source": [
    "<pre>\n",
    "sesh> mysql -u sesh -p nobels\n",
    "...\n",
    "</pre>\n",
    "You can drop the table <tt>winners</tt> if you would like, like this (<font color=\"red\">but don't do it yet!</font>):\n",
    "<pre>\n",
    "mysql> drop table winners;\n",
    "</pre>\n",
    "https://dev.mysql.com/doc/refman/8.0/en/drop-table.html"
   ]
  },
  {
   "cell_type": "markdown",
   "metadata": {},
   "source": [
    "##### 2. Create table **yearcat**"
   ]
  },
  {
   "cell_type": "markdown",
   "metadata": {},
   "source": [
    "<pre>\n",
    "mysql> create table yearcat (\n",
    "        id smallint auto_increment primary key, \n",
    "        year year not null, \n",
    "        category char(10) not null);\n",
    "</pre>\n",
    "\n",
    "- The datatype <tt>smallint</tt> holds a greater range of values than <tt>tinyint</tt><br>\n",
    "https://dev.mysql.com/doc/refman/8.0/en/integer-types.html\n",
    "- Every time you add a new row, <tt>auto_increment</tt> ensures that the <tt>id</tt> value is 1 more than the current maximum value, starting with 1 for the first row that was added.\n",
    "- The <tt>id</tt> column is the primary key for this table. The database system will ensure that searches based on primary key are fast. By definition, the primary key column has unique non-null values. There can be at most one primary key for a table.\n",
    "\n",
    "<pre>\n",
    "mysql> desc yearcat;\n",
    "+----------+-------------+------+-----+---------+----------------+\n",
    "| Field    | Type        | Null | Key | Default | Extra          |\n",
    "+----------+-------------+------+-----+---------+----------------+\n",
    "| id       | smallint(6) | NO   | PRI | NULL    | auto_increment |\n",
    "| year     | year(4)     | NO   |     | NULL    |                |\n",
    "| category | char(10)    | NO   |     | NULL    |                |\n",
    "+----------+-------------+------+-----+---------+----------------+\n",
    "</pre>"
   ]
  },
  {
   "cell_type": "markdown",
   "metadata": {},
   "source": [
    "##### 3. Create table **contribution**"
   ]
  },
  {
   "cell_type": "markdown",
   "metadata": {},
   "source": [
    "<pre>\n",
    "mysql> create table contribution (\n",
    "        id smallint auto_increment primary key, \n",
    "        motivation varchar(500) not null);\n",
    "        \n",
    "mysql> desc contribution;\n",
    "+------------+--------------+------+-----+---------+----------------+\n",
    "| Field      | Type         | Null | Key | Default | Extra          |\n",
    "+------------+--------------+------+-----+---------+----------------+\n",
    "| id         | smallint(6)  | NO   | PRI | NULL    | auto_increment |\n",
    "| motivation | varchar(500) | NO   |     | NULL    |                |\n",
    "+------------+--------------+------+-----+---------+----------------+\n",
    "</pre>\n"
   ]
  },
  {
   "cell_type": "markdown",
   "metadata": {},
   "source": [
    "##### 4. Create table **laureate**"
   ]
  },
  {
   "cell_type": "markdown",
   "metadata": {},
   "source": [
    "<pre>\n",
    "mysql> create table laureate (\n",
    "        fname varchar(80) not null, \n",
    "        lname varchar(40), \n",
    "        share tinyint not null,\n",
    "        year_cat_id smallint not null,\n",
    "        motiv_id smallint not null,\n",
    "        foreign key (year_cat_id) references yearcat(id),\n",
    "        foreign key (motiv_id) references contribution(id));\n",
    "</pre>\n",
    "\n",
    "- The columns <tt>year_cat_id</tt> and <tt>motiv_id</tt> are *dependent* on values in other tables. In this case, they are both **foriegn keys** that reference the primary key of the tables <tt>yearcat</tt> and <tt>contribution</tt>, respectively.\n",
    "\n",
    "<pre>\n",
    "mysql> desc laureate;\n",
    "+-------------+--------------+------+-----+---------+-------+\n",
    "| Field       | Type         | Null | Key | Default | Extra |\n",
    "+-------------+--------------+------+-----+---------+-------+\n",
    "| fname       | varchar(80)  | NO   |     | NULL    |       |\n",
    "| lname       | varchar(40)  | YES  |     | NULL    |       |\n",
    "| share       | tinyint(4)   | NO   |     | NULL    |       |\n",
    "| year_cat_id | smallint(6)  | NO   | MUL | NULL    |       |\n",
    "| motiv_id    | smallint(6)  | NO   | MUL | NULL    |       |\n",
    "+-------------+--------------+------+-----+---------+-------+\n",
    "</pre>"
   ]
  },
  {
   "cell_type": "markdown",
   "metadata": {},
   "source": [
    "**Showing a table description doesn't give details of foreign key (constraint)**\n",
    "\n",
    "In the above table description, for the keys year_cat_id and motiv_id, it says \"MUL\" for key, but it's not clear on what other key they depend.\n",
    "\n",
    "**You can see the details via the <font color=\"brown\">show create table</font> statement**\n",
    "<pre>\n",
    "mysql> show create table laureate\\G;\n",
    "*************************** 1. row ***************************\n",
    "       Table: laureate\n",
    "Create Table: CREATE TABLE `laureate` (\n",
    "  `fname` varchar(80) NOT NULL,\n",
    "  `lname` varchar(40) DEFAULT NULL,\n",
    "  `share` tinyint NOT NULL,\n",
    "  `year_cat_id` smallint NOT NULL,\n",
    "  `motiv_id` smallint NOT NULL,\n",
    "  KEY `year_cat_id` (`year_cat_id`),\n",
    "  KEY `motiv_id` (`motiv_id`),\n",
    "  CONSTRAINT `laureate_ibfk_1` FOREIGN KEY (`year_cat_id`) REFERENCES `yearcat` (`id`),\n",
    "  CONSTRAINT `laureate_ibfk_2` FOREIGN KEY (`motiv_id`) REFERENCES `contribution` (`id`)\n",
    ") ENGINE=InnoDB DEFAULT CHARSET=utf8mb4 COLLATE=utf8mb4_0900_ai_ci\n",
    "</pre>"
   ]
  }
 ],
 "metadata": {
  "kernelspec": {
   "display_name": "Python 3",
   "language": "python",
   "name": "python3"
  },
  "language_info": {
   "codemirror_mode": {
    "name": "ipython",
    "version": 3
   },
   "file_extension": ".py",
   "mimetype": "text/x-python",
   "name": "python",
   "nbconvert_exporter": "python",
   "pygments_lexer": "ipython3",
   "version": "3.7.6"
  }
 },
 "nbformat": 4,
 "nbformat_minor": 4
}
