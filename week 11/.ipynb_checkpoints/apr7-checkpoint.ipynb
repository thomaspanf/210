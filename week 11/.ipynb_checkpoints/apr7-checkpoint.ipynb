{
 "cells": [
  {
   "cell_type": "markdown",
   "metadata": {},
   "source": [
    "### <font color=\"brown\">Visualization - continued</font>"
   ]
  },
  {
   "cell_type": "code",
   "execution_count": 1,
   "metadata": {},
   "outputs": [],
   "source": [
    "from matplotlib import pyplot as plt"
   ]
  },
  {
   "cell_type": "markdown",
   "metadata": {},
   "source": [
    "---"
   ]
  },
  {
   "cell_type": "markdown",
   "metadata": {},
   "source": [
    "#### <font color=\"brown\">Plot Grid</font>"
   ]
  },
  {
   "cell_type": "markdown",
   "metadata": {},
   "source": [
    "**Creating a grid of subplots**"
   ]
  },
  {
   "cell_type": "markdown",
   "metadata": {},
   "source": [
    "https://python-course.eu/numerical-programming/creating-subplots-in-matplotlib.php"
   ]
  },
  {
   "cell_type": "code",
   "execution_count": null,
   "metadata": {},
   "outputs": [],
   "source": [
    "fig, axes = plt.subplots(1,2)  # 1 row, 2 columns"
   ]
  },
  {
   "cell_type": "markdown",
   "metadata": {},
   "source": [
    "**Change figure size to widen it, and introduce padding between sub plot**"
   ]
  },
  {
   "cell_type": "code",
   "execution_count": null,
   "metadata": {},
   "outputs": [],
   "source": [
    "fig, axes = plt.subplots(1,2,figsize=(8,4))\n",
    "fig.tight_layout(pad=3.0)"
   ]
  },
  {
   "cell_type": "code",
   "execution_count": null,
   "metadata": {},
   "outputs": [],
   "source": [
    "# set yticks for the first figure\n",
    "fig, axes = plt.subplots(1,2,figsize=(8,4))\n",
    "fig.tight_layout(pad=3.0)\n",
    "axes[0].set_yticks(range(0,51,10))  # for the axes object, you need to use set_yticks (yticks won't work)\n",
    "plt.show()"
   ]
  },
  {
   "cell_type": "markdown",
   "metadata": {},
   "source": [
    "#### Do subplots, sharing x and y axes"
   ]
  },
  {
   "cell_type": "code",
   "execution_count": null,
   "metadata": {},
   "outputs": [],
   "source": [
    "# do plots for Apple and Facebook\n",
    "# share the y-axes and x-axes\n",
    "fig, axes = plt.subplots(1,2,figsize=(10,4),sharey=True,sharex=True)\n",
    "fig.tight_layout(pad=3.0)\n",
    "\n",
    "years = [2015,2016,2017,2018,2019]\n",
    "\n",
    "# first figure for Apple stock\n",
    "apple_share_price = [105,116,169,148,297]\n",
    "axes[0].plot(years,apple_share_price)\n",
    "axes[0].set_title('Apple Stock')\n",
    "\n",
    "# second figure for Facebook stock\n",
    "facebook_share_price = [104,115,176,134,208]\n",
    "axes[1].plot(years,facebook_share_price)\n",
    "axes[1].set_title('Facebook Stock')\n",
    "\n",
    "# you can set the tick labels to be different than the tick values\n",
    "axes[0].set_xticks([2015,2016,2017,2018,2019])\n",
    "axes[0].set_xticklabels(\n",
    "    ['Dec\\n2015','Dec\\n2016','Dec\\n2017','Dec\\n2018','Dec\\n2019'])\n",
    "\n",
    "plt.show()"
   ]
  },
  {
   "cell_type": "code",
   "execution_count": null,
   "metadata": {},
   "outputs": [],
   "source": [
    "# do plots for Apple and Facebook\n",
    "# share the y-axes and x-axes\n",
    "fig, axes = plt.subplots(2,2,figsize=(10,8),sharey=True,sharex=True)\n",
    "fig.tight_layout(h_pad=5.0,w_pad=3.0)\n",
    "\n",
    "years = [2015,2016,2017,2018,2019]\n",
    "\n",
    "# first figure for Apple stock\n",
    "apple_share_price = [105,116,169,148,297]\n",
    "axes[0][0].plot(years,apple_share_price)\n",
    "axes[0][0].set_title('Apple Stock')\n",
    "\n",
    "# second figure for Facebook stock\n",
    "facebook_share_price = [104,115,176,134,208]\n",
    "axes[0][1].plot(years,facebook_share_price)\n",
    "axes[0][1].set_title('Facebook Stock')\n",
    "\n",
    "# third figure for Google\n",
    "google_share_price = [766,830,1053,1046,1354]\n",
    "axes[1][0].plot(years,google_share_price)\n",
    "axes[1][0].set_title('Google Stock')\n",
    "\n",
    "# last subplot unused, turn it off\n",
    "axes[1][1].set_axis_off()\n",
    "\n",
    "# x ticks and labels for all\n",
    "axes[0][0].set_xticks([2015,2016,2017,2018,2019])\n",
    "axes[0][0].set_xticklabels(\n",
    "            ['Dec\\n2015','Dec\\n2016','Dec\\n2017','Dec\\n2018','Dec\\n2019'])\n",
    "\n",
    "\n",
    "plt.show()"
   ]
  },
  {
   "cell_type": "code",
   "execution_count": null,
   "metadata": {},
   "outputs": [],
   "source": [
    "# do plots for Apple and Facebook\n",
    "# share the y-axes and x-axes\n",
    "fig, axes = plt.subplots(2,2,figsize=(10,8),sharey=True)\n",
    "fig.tight_layout(h_pad=5.0,w_pad=3.0)\n",
    "\n",
    "years = [2015,2016,2017,2018,2019]\n",
    "\n",
    "# first figure for Apple stock\n",
    "apple_share_price = [105,116,169,148,297]\n",
    "axes[0][0].plot(years,apple_share_price)\n",
    "axes[0][0].set_title('Apple Stock')\n",
    "\n",
    "# second figure for Facebook stock\n",
    "facebook_share_price = [104,115,176,134,208]\n",
    "axes[0][1].plot(years,facebook_share_price)\n",
    "axes[0][1].set_title('Facebook Stock')\n",
    "\n",
    "# third figure for Google\n",
    "google_share_price = [766,830,1053,1046,1354]\n",
    "axes[1][0].plot(years,google_share_price)\n",
    "axes[1][0].set_title('Google Stock')\n",
    "\n",
    "# last subplot unused, turn it off\n",
    "axes[1][1].set_axis_off()\n",
    "\n",
    "# x ticks and labels for all\n",
    "for i in (0,1):\n",
    "    for j in (0,1):\n",
    "        axes[i][j].set_xticks([2015,2016,2017,2018,2019])\n",
    "        axes[i][j].set_xticklabels(\n",
    "            ['Dec\\n2015','Dec\\n2016','Dec\\n2017','Dec\\n2018','Dec\\n2019'])\n",
    "\n",
    "plt.show()"
   ]
  },
  {
   "cell_type": "markdown",
   "metadata": {},
   "source": []
  }
 ],
 "metadata": {
  "kernelspec": {
   "display_name": "Python 3",
   "language": "python",
   "name": "python3"
  },
  "language_info": {
   "codemirror_mode": {
    "name": "ipython",
    "version": 3
   },
   "file_extension": ".py",
   "mimetype": "text/x-python",
   "name": "python",
   "nbconvert_exporter": "python",
   "pygments_lexer": "ipython3",
   "version": "3.7.6"
  }
 },
 "nbformat": 4,
 "nbformat_minor": 4
}
