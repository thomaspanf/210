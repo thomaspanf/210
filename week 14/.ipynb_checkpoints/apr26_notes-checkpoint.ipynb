{
 "cells": [
  {
   "cell_type": "markdown",
   "metadata": {},
   "source": [
    "### <font color=\"brown\">Movies Database</font>"
   ]
  },
  {
   "cell_type": "markdown",
   "metadata": {},
   "source": [
    "---"
   ]
  },
  {
   "cell_type": "markdown",
   "metadata": {},
   "source": [
    "The movies data has been sourced from: https://data.world/jamesgaskin/movies/workspace/file?filename=view\n",
    "\n",
    "This dataset has a bunch of columns, of which we are going to only use title (Column B), release_date (Column F), and genre (Column G)\n",
    "\n",
    "The downloaded data file is in movies_full.xlsx, from which the required columns were extracted into a tab-delimited text file, movies.txt.\n",
    "\n",
    "For our movies database, we're going to create a **movies** table, a **user** table, and a **rating** table."
   ]
  },
  {
   "cell_type": "markdown",
   "metadata": {},
   "source": [
    "---"
   ]
  },
  {
   "cell_type": "markdown",
   "metadata": {},
   "source": [
    "#### <font color=\"brown\">Create a Movies Database</font>"
   ]
  },
  {
   "cell_type": "markdown",
   "metadata": {},
   "source": [
    "##### **1. Create a database named <tt>movies</tt>**\n",
    "\n",
    "##### Execute the following commands in the MySQL client window to create the 'movies' database, and grant permissions to your non-root user"
   ]
  },
  {
   "cell_type": "markdown",
   "metadata": {},
   "source": [
    "<pre>\n",
    "    sesh> mysql -u root -p mysql\n",
    "   \n",
    "    mysql> create database movies;\n",
    "    mysql> grant all on movies.* to 'sesh'@'localhost';\n",
    "    mysql> exit\n",
    "</pre>"
   ]
  },
  {
   "cell_type": "markdown",
   "metadata": {},
   "source": [
    "##### **2. Create the 'movie' table**"
   ]
  },
  {
   "cell_type": "markdown",
   "metadata": {},
   "source": [
    "<pre>\n",
    "sesh> mysql -u sesh -p movies\n",
    "\n",
    "mysql> create table movie (\n",
    "          id int auto_increment primary key, \n",
    "          title varchar(100) not null, \n",
    "          release_date date not null, \n",
    "          genre varchar(20) not null);\n",
    "</pre>\n",
    "We could make this table more robust by defining the (title,release_date) combination to be unique:\n",
    "<pre>\n",
    "mysql> alter table movie add unique(title,release_date);\n",
    "\n",
    "mysql> desc movie;\n",
    "+--------------+--------------+------+-----+---------+----------------+\n",
    "| Field        | Type         | Null | Key | Default | Extra          |\n",
    "+--------------+--------------+------+-----+---------+----------------+\n",
    "| id           | int          | NO   | PRI | NULL    | auto_increment |\n",
    "| title        | varchar(100) | NO   | MUL | NULL    |                |\n",
    "| release_date | date         | NO   |     | NULL    |                |\n",
    "| genre        | varchar(20)  | NO   |     | NULL    |                |\n",
    "+--------------+--------------+------+-----+---------+----------------+\n",
    "4 rows in set (0.00 sec)\n",
    "\n",
    "mysql> show create table movie\\G;\n",
    "*************************** 1. row ***************************\n",
    "       Table: movie\n",
    "Create Table: CREATE TABLE `movie` (\n",
    "  `id` int NOT NULL AUTO_INCREMENT,\n",
    "  `title` varchar(100) NOT NULL,\n",
    "  `release_date` date NOT NULL,\n",
    "  `genre` varchar(20) NOT NULL,\n",
    "  PRIMARY KEY (`id`),\n",
    "  UNIQUE KEY `title` (`title`,`release_date`)\n",
    ") ENGINE=InnoDB DEFAULT CHARSET=utf8mb4 COLLATE=utf8mb4_0900_ai_ci\n",
    "1 row in set (0.00 sec)\n",
    "</pre>\n",
    "\n",
    "You can add the same title multiple times, but the (title,release_date) may not be repeated:\n",
    "<pre>\n",
    "mysql> insert into movie (title,release_date,genre) values ('ma','2009-12-10','Action');\n",
    "mysql> insert into movie (title,release_date,genre) values ('ma','2010-12-10','Adventure');\n",
    "mysql> select * from movie;\n",
    "+----+-------+--------------+-----------+\n",
    "| id | title | release_date | genre     |\n",
    "+----+-------+--------------+-----------+\n",
    "|  1 | ma    | 2009-12-10   | Action    |\n",
    "|  2 | ma    | 2010-12-10   | Adventure |\n",
    "+----+-------+--------------+-----------+\n",
    "<font color=\"red\">\n",
    "mysql> insert into movie (title,release_date,genre) values ('ma','2009-12-10','Drama');\n",
    "ERROR 1062 (23000): Duplicate entry 'ma-2009-12-10' for key 'movie.title'\n",
    "</font>\n",
    "</pre>\n",
    "**Let's drop the movies table and recreate it so that we are can start with id=1 for insertions**\n",
    "<pre>\n",
    "mysql> drop table movie;\n",
    "mysql> create table movie (\n",
    "          id int auto_increment primary key, \n",
    "          title varchar(100) not null, \n",
    "          release_date date not null, \n",
    "          genre varchar(20) not null,\n",
    "          unique (title,release_date));\n",
    "</pre>"
   ]
  },
  {
   "cell_type": "markdown",
   "metadata": {},
   "source": [
    "##### **3. Create the 'user' table**"
   ]
  },
  {
   "cell_type": "code",
   "execution_count": 24,
   "metadata": {},
   "outputs": [],
   "source": [
    "states = [\"Alabama\",\n",
    "        \"Alaska\",\n",
    "        \"Arizona\",\n",
    "        \"Arkansas\",\n",
    "        \"California\",\n",
    "        \"Colorado\",\n",
    "        \"Connecticut\",\n",
    "        \"Delaware\",\n",
    "        \"Florida\",\n",
    "        \"Georgia\",\n",
    "        \"Hawaii\",\n",
    "        \"Idaho\",\n",
    "        \"Illinois\",\n",
    "        \"Indiana\",\n",
    "        \"Iowa\",\n",
    "        \"Kansas\",\n",
    "        \"Kentucky\",\n",
    "        \"Louisiana\",\n",
    "        \"Maine\",\n",
    "        \"Maryland\",\n",
    "        \"Massachusetts\",\n",
    "        \"Michigan\",\n",
    "        \"Minnesota\",\n",
    "        \"Mississippi\",\n",
    "        \"Missouri\",\n",
    "        \"Montana\",\n",
    "        \"Nebraska\",\n",
    "        \"Nevada\",\n",
    "        \"New Hampshire\",\n",
    "        \"New Jersey\",\n",
    "        \"New Mexico\",\n",
    "        \"New York\",\n",
    "        \"North Carolina\",\n",
    "        \"North Dakota\",\n",
    "        \"Ohio\",\n",
    "        \"Oklahoma\",\n",
    "        \"Oregon\",\n",
    "        \"Pennsylvania\",\n",
    "        \"Rhode Island\",\n",
    "        \"South Carolina\",\n",
    "        \"South Dakota\",\n",
    "        \"Tennessee\",\n",
    "        \"Texas\",\n",
    "        \"Utah\",\n",
    "        \"Vermont\",\n",
    "        \"Virginia\",\n",
    "        \"Washington\",\n",
    "        \"West Virginia\",\n",
    "        \"Wisconsin\",\n",
    "        \"Wyoming\"]"
   ]
  },
  {
   "cell_type": "code",
   "execution_count": 25,
   "metadata": {},
   "outputs": [
    {
     "data": {
      "text/plain": [
       "50"
      ]
     },
     "execution_count": 25,
     "metadata": {},
     "output_type": "execute_result"
    }
   ],
   "source": [
    "len(states)"
   ]
  },
  {
   "cell_type": "code",
   "execution_count": 26,
   "metadata": {},
   "outputs": [
    {
     "data": {
      "text/plain": [
       "14"
      ]
     },
     "execution_count": 26,
     "metadata": {},
     "output_type": "execute_result"
    }
   ],
   "source": [
    "max([len(s) for s in states])  # this informs the length of the state column in user table"
   ]
  },
  {
   "cell_type": "markdown",
   "metadata": {},
   "source": [
    "<pre>\n",
    "mysql> create table user (\n",
    "          id int auto_increment primary key,\n",
    "          uname char(8) unique not null, \n",
    "          age tinyint not null, \n",
    "          state varchar(14) not null);\n",
    "</pre>"
   ]
  },
  {
   "cell_type": "markdown",
   "metadata": {},
   "source": [
    "##### **4. Create the 'rating' table**"
   ]
  },
  {
   "cell_type": "markdown",
   "metadata": {},
   "source": [
    "<pre>\n",
    "mysql> create table rating (\n",
    "          userid int not null, \n",
    "          foreign key (userid) references user(id),\n",
    "          movieid int not null, \n",
    "          foreign key (movieid) references movie(id),\n",
    "          unique(userid, movieid),\n",
    "          rating tinyint not null check (rating >= 0 and rating &lt;= 10));         \n",
    "</pre>\n",
    "The CHECK constraints establishes a condition the values of a column. <br>\n",
    "See https://dev.mysql.com/doc/refman/8.0/en/create-table-check-constraints.html\n",
    "\n",
    "<pre>\n",
    "mysql> show create table rating\\G;\n",
    "*************************** 1. row ***************************\n",
    "       Table: rating\n",
    "Create Table: CREATE TABLE `rating` (\n",
    "  `userid` int NOT NULL,\n",
    "  `movieid` int NOT NULL,\n",
    "  `rating` tinyint NOT NULL,\n",
    "  UNIQUE KEY `userid` (`userid`,`movieid`),\n",
    "  KEY `movieid` (`movieid`),\n",
    "  CONSTRAINT `rating_ibfk_1` FOREIGN KEY (`userid`) REFERENCES `user` (`id`),\n",
    "  CONSTRAINT `rating_ibfk_2` FOREIGN KEY (`movieid`) REFERENCES `movie` (`id`),\n",
    "  CONSTRAINT `rating_chk_1` CHECK (((`rating` >= 0) and (`rating` &lt;= 10)))\n",
    ") ENGINE=InnoDB DEFAULT CHARSET=utf8mb4 COLLATE=utf8mb4_0900_ai_ci\n",
    "1 row in set (0.00 sec)\n",
    "\n",
    "<font color=\"red\">\n",
    "mysql> insert into rating values (1,1,15);\n",
    "ERROR 3819 (HY000): Check constraint 'rating_chk_1' is violated.\n",
    "</font>\n",
    "</pre>"
   ]
  },
  {
   "cell_type": "markdown",
   "metadata": {},
   "source": [
    "---"
   ]
  },
  {
   "cell_type": "markdown",
   "metadata": {},
   "source": [
    "#### <font color=\"brown\">Connect to movies database</font>"
   ]
  },
  {
   "cell_type": "code",
   "execution_count": 1,
   "metadata": {},
   "outputs": [],
   "source": [
    "# import connector module\n",
    "import mysql.connector"
   ]
  },
  {
   "cell_type": "code",
   "execution_count": 2,
   "metadata": {},
   "outputs": [],
   "source": [
    "# connect to nobels database\n",
    "mydb = mysql.connector.connect(\n",
    "  host=\"localhost\",\n",
    "  user=\"sesh\",\n",
    "  passwd=\"sesh\",  # replace with your password\n",
    "  database=\"movies\"\n",
    ")"
   ]
  },
  {
   "cell_type": "code",
   "execution_count": 3,
   "metadata": {},
   "outputs": [],
   "source": [
    "# set up for access\n",
    "cursor = mydb.cursor()"
   ]
  },
  {
   "cell_type": "markdown",
   "metadata": {},
   "source": [
    "---"
   ]
  },
  {
   "cell_type": "markdown",
   "metadata": {},
   "source": [
    "#### <font color=\"brown\">Populate the tables</font>"
   ]
  },
  {
   "cell_type": "markdown",
   "metadata": {},
   "source": [
    "##### **1. Insert into movie table from movies.txt**"
   ]
  },
  {
   "cell_type": "code",
   "execution_count": 4,
   "metadata": {},
   "outputs": [],
   "source": [
    "add_movie = \"insert into movie (title,release_date,genre) values (%s,%s,%s)\""
   ]
  },
  {
   "cell_type": "code",
   "execution_count": 5,
   "metadata": {},
   "outputs": [],
   "source": [
    "# read text file and strip the double quotes from the title\n",
    "# also, convert date from month/date/year to year/month/date for db date type\n",
    "import csv\n",
    "with open(\"movies.txt\") as infile:\n",
    "    reader = csv.reader(infile,delimiter='\\t')\n",
    "    for row in reader:\n",
    "        title = row[0].strip('\"')  # a few of the movie titles have double quotes around them\n",
    "        date_parts = row[1].split('/')\n",
    "        release_date = date_parts[2] + '/' + date_parts[0] + '/' + date_parts[1] # need year/month/day\n",
    "        genre = row[2]\n",
    "        cursor.execute(add_movie,(title,release_date,genre))\n",
    "        mydb.commit()"
   ]
  },
  {
   "cell_type": "markdown",
   "metadata": {},
   "source": [
    "##### **The movies_db.txt file has 615 records**"
   ]
  },
  {
   "cell_type": "code",
   "execution_count": 12,
   "metadata": {},
   "outputs": [
    {
     "name": "stdout",
     "output_type": "stream",
     "text": [
      "(615,)\n"
     ]
    }
   ],
   "source": [
    "cursor.execute('select count(*) from movie')\n",
    "res = cursor.fetchall();\n",
    "for row in res:\n",
    "    print(row)"
   ]
  },
  {
   "cell_type": "code",
   "execution_count": 13,
   "metadata": {},
   "outputs": [
    {
     "name": "stdout",
     "output_type": "stream",
     "text": [
      "(1, \"Look Who's Talking\", datetime.date(1989, 10, 12), 'Romance')\n",
      "(2, 'Driving Miss Daisy', datetime.date(1989, 12, 13), 'Comedy')\n",
      "(3, 'Turner & Hooch', datetime.date(1989, 7, 28), 'Crime')\n",
      "(4, 'Born on the Fourth of July', datetime.date(1989, 12, 20), 'War')\n",
      "(5, 'Field of Dreams', datetime.date(1989, 4, 21), 'Drama')\n"
     ]
    }
   ],
   "source": [
    "cursor.execute('select * from movie limit 5')\n",
    "res = cursor.fetchall();\n",
    "for row in res:\n",
    "    print(row)"
   ]
  },
  {
   "cell_type": "code",
   "execution_count": 18,
   "metadata": {},
   "outputs": [
    {
     "name": "stdout",
     "output_type": "stream",
     "text": [
      "(1, \"Look Who's Talking\", '1989/10/12', 'Romance')\n",
      "(2, 'Driving Miss Daisy', '1989/12/13', 'Comedy')\n",
      "(3, 'Turner & Hooch', '1989/7/28', 'Crime')\n",
      "(4, 'Born on the Fourth of July', '1989/12/20', 'War')\n",
      "(5, 'Field of Dreams', '1989/4/21', 'Drama')\n"
     ]
    }
   ],
   "source": [
    "# getting year, month, and day fields from release date\n",
    "# look up datetime module and datetime.date class in Python reference\n",
    "for row in res:\n",
    "    (id,title,rdate,genre) = row\n",
    "    rdate = str(rdate.year) + '/' + str(rdate.month) + '/' + str(rdate.day)\n",
    "    print((id,title,rdate,genre))"
   ]
  },
  {
   "cell_type": "markdown",
   "metadata": {},
   "source": [
    "---"
   ]
  },
  {
   "cell_type": "markdown",
   "metadata": {},
   "source": [
    "##### **2. Insert into user table**\n",
    "\n",
    "&lt;uname> &lt;age> &lt;state>\n",
    "\n",
    "- The uname column is a randomly generated username with 5 letters and 3 digits\n",
    "- Age is randomly generated, between 18 and 70\n",
    "- State is one of the US states, randomly chosen"
   ]
  },
  {
   "cell_type": "code",
   "execution_count": 28,
   "metadata": {},
   "outputs": [],
   "source": [
    "import string, random, numpy as np\n",
    "letters = [l for l in string.ascii_letters]  # all lowercase letters, followed by all uppercase letters"
   ]
  },
  {
   "cell_type": "code",
   "execution_count": 33,
   "metadata": {},
   "outputs": [],
   "source": [
    "# generate username, age, and state\n",
    "def make_user():\n",
    "    part1 = ''.join(np.random.choice(letters,5,replace=False).tolist())\n",
    "    part2 = np.random.randint(0,10,3).tolist()\n",
    "    part2 = ''.join([str(d) for d in part2])\n",
    "    uname = part1+part2\n",
    "    age = random.randint(18,71)\n",
    "    state = random.choice(states)\n",
    "    return (uname,age,state)"
   ]
  },
  {
   "cell_type": "code",
   "execution_count": 34,
   "metadata": {},
   "outputs": [],
   "source": [
    "add_user = \"insert into user (uname,age,state) values (%s,%s,%s)\""
   ]
  },
  {
   "cell_type": "code",
   "execution_count": 35,
   "metadata": {},
   "outputs": [],
   "source": [
    "# insert 2000 rows in user table with unique uname\n",
    "uset = set()  # make sure there are no duplicate usernames\n",
    "i = 0\n",
    "while i < 2000:\n",
    "    user = make_user()\n",
    "    if not user[0] in uset:\n",
    "        uset.add(user)\n",
    "        cursor.execute(add_user,user)\n",
    "        mydb.commit()\n",
    "        i += 1"
   ]
  },
  {
   "cell_type": "code",
   "execution_count": 36,
   "metadata": {},
   "outputs": [
    {
     "name": "stdout",
     "output_type": "stream",
     "text": [
      "(2000,)\n"
     ]
    }
   ],
   "source": [
    "cursor.execute('select count(*) from user')\n",
    "res = cursor.fetchall();\n",
    "for row in res:\n",
    "    print(row)"
   ]
  },
  {
   "cell_type": "code",
   "execution_count": 4,
   "metadata": {},
   "outputs": [
    {
     "name": "stdout",
     "output_type": "stream",
     "text": [
      "(1, 'ZqkCe579', 19, 'Delaware')\n",
      "(2, 'ktFAM702', 53, 'North Carolina')\n",
      "(3, 'NeOEI446', 35, 'Delaware')\n",
      "(4, 'DvXQj522', 68, 'Ohio')\n",
      "(5, 'OVnAt417', 31, 'Ohio')\n"
     ]
    }
   ],
   "source": [
    "cursor.execute('select * from user limit 5')\n",
    "res = cursor.fetchall();\n",
    "for row in res:\n",
    "    print(row)"
   ]
  },
  {
   "cell_type": "markdown",
   "metadata": {},
   "source": [
    "**Note, your result will be different since user names are randomized**"
   ]
  },
  {
   "cell_type": "markdown",
   "metadata": {},
   "source": [
    "---"
   ]
  },
  {
   "cell_type": "markdown",
   "metadata": {},
   "source": [
    "##### **3. Insert into rating table**\n",
    "\n",
    "Randomly generate a userid (between 1 and 2000, for id values in user table), a movieid (between 1 and 615, for id values in movie table), and a rating (integer between 1 and 10). \n"
   ]
  },
  {
   "cell_type": "code",
   "execution_count": 48,
   "metadata": {},
   "outputs": [],
   "source": [
    "add_rating = \"insert into rating (userid,movieid,rating) values (%s,%s,%s)\""
   ]
  },
  {
   "cell_type": "markdown",
   "metadata": {},
   "source": [
    "**Insert 100000 ratings. This will take a little time, so make sure the following cell finishes executing before you check the database**"
   ]
  },
  {
   "cell_type": "code",
   "execution_count": 50,
   "metadata": {},
   "outputs": [],
   "source": [
    "# insert 100000 ratings \n",
    "\n",
    "import random\n",
    "\n",
    "ratings = {}\n",
    "i = 0\n",
    "while i < 100000:\n",
    "    userid = random.randint(1,2000)\n",
    "    movieid = random.randint(1,615)\n",
    "    if (userid,movieid) in ratings: # user has already rated this movie\n",
    "        continue\n",
    "    rating = random.randint(1,10)\n",
    "    ratings[(userid,movieid)] = rating\n",
    "    cursor.execute(add_rating,(userid,movieid,rating))\n",
    "    mydb.commit()\n",
    "    i += 1"
   ]
  },
  {
   "cell_type": "code",
   "execution_count": 51,
   "metadata": {},
   "outputs": [
    {
     "name": "stdout",
     "output_type": "stream",
     "text": [
      "(100000,)\n"
     ]
    }
   ],
   "source": [
    "cursor.execute('select count(*) from rating')\n",
    "res = cursor.fetchall();\n",
    "for row in res:\n",
    "    print(row)"
   ]
  },
  {
   "cell_type": "code",
   "execution_count": 5,
   "metadata": {},
   "outputs": [
    {
     "name": "stdout",
     "output_type": "stream",
     "text": [
      "(1, 1, 7)\n",
      "(1, 21, 3)\n",
      "(1, 27, 3)\n",
      "(1, 63, 9)\n",
      "(1, 67, 4)\n"
     ]
    }
   ],
   "source": [
    "cursor.execute('select * from rating limit 5')\n",
    "res = cursor.fetchall();\n",
    "for row in res:\n",
    "    print(row)"
   ]
  },
  {
   "cell_type": "markdown",
   "metadata": {},
   "source": [
    "**Note, your result will be different since ratings are randomized**"
   ]
  },
  {
   "cell_type": "code",
   "execution_count": 38,
   "metadata": {},
   "outputs": [],
   "source": [
    "cursor.close()\n",
    "mydb.close()"
   ]
  },
  {
   "cell_type": "markdown",
   "metadata": {},
   "source": [
    "---"
   ]
  },
  {
   "cell_type": "markdown",
   "metadata": {},
   "source": [
    "#### <font color=\"brown\">Queries</font>"
   ]
  },
  {
   "cell_type": "markdown",
   "metadata": {},
   "source": [
    "##### **The schema**"
   ]
  },
  {
   "cell_type": "markdown",
   "metadata": {},
   "source": [
    "<pre>\n",
    "mysql> desc movie;\n",
    "+--------------+--------------+------+-----+---------+----------------+\n",
    "| Field        | Type         | Null | Key | Default | Extra          |\n",
    "+--------------+--------------+------+-----+---------+----------------+\n",
    "| id           | int          | NO   | PRI | NULL    | auto_increment |\n",
    "| title        | varchar(100) | NO   | MUL | NULL    |                |\n",
    "| release_date | date         | NO   |     | NULL    |                |\n",
    "| genre        | varchar(20)  | NO   |     | NULL    |                |\n",
    "+--------------+--------------+------+-----+---------+----------------+\n",
    "4 rows in set (0.00 sec)\n",
    "\n",
    "mysql> desc user;\n",
    "+-------+-------------+------+-----+---------+----------------+\n",
    "| Field | Type        | Null | Key | Default | Extra          |\n",
    "+-------+-------------+------+-----+---------+----------------+\n",
    "| id    | int         | NO   | PRI | NULL    | auto_increment |\n",
    "| uname | char(8)     | NO   | UNI | NULL    |                |\n",
    "| age   | tinyint     | NO   |     | NULL    |                |\n",
    "| state | varchar(14) | NO   |     | NULL    |                |\n",
    "+-------+-------------+------+-----+---------+----------------+\n",
    "4 rows in set (0.00 sec)\n",
    "\n",
    "mysql> desc rating;\n",
    "+---------+---------+------+-----+---------+-------+\n",
    "| Field   | Type    | Null | Key | Default | Extra |\n",
    "+---------+---------+------+-----+---------+-------+\n",
    "| userid  | int     | NO   | PRI | NULL    |       |\n",
    "| movieid | int     | NO   | PRI | NULL    |       |\n",
    "| rating  | tinyint | NO   |     | NULL    |       |\n",
    "+---------+---------+------+-----+---------+-------+\n",
    "3 rows in set (0.00 sec)\n",
    "\n",
    "</pre>\n",
    "**Your results will be different for queries that involve usernames or ratings since these were randomly generated. <p>\n",
    "If you want to match results with the ones shown here, you must use the notes_movies.sql database posted in Lectures -> Week of April 26**"
   ]
  },
  {
   "cell_type": "markdown",
   "metadata": {},
   "source": [
    "**<font color=\"brown\">1. Find movie titles that begin with 'The', limit to 10</font>**"
   ]
  },
  {
   "cell_type": "markdown",
   "metadata": {},
   "source": [
    "<pre>\n",
    "mysql> select title from movie where title like 'The%' limit 10;\n",
    "\n",
    "+--------------------------+\n",
    "| title                    |\n",
    "+--------------------------+\n",
    "| The 40 Year Old Virgin   |\n",
    "| The Addams Family        |\n",
    "| The Amazing Spider-Man   |\n",
    "| The Amazing Spider-Man 2 |\n",
    "| The Avengers             |\n",
    "| The Birdcage             |\n",
    "| The Blair Witch Project  |\n",
    "| The Blind Side           |\n",
    "| The Bodyguard            |\n",
    "| The Boss Baby            |\n",
    "+--------------------------+\n",
    "</pre>"
   ]
  },
  {
   "cell_type": "markdown",
   "metadata": {},
   "source": [
    "---"
   ]
  },
  {
   "cell_type": "markdown",
   "metadata": {},
   "source": [
    "**<font color=\"brown\">2. How many movies were released in 2015?**"
   ]
  },
  {
   "cell_type": "markdown",
   "metadata": {},
   "source": [
    "<pre>\n",
    "mysql> select count(*) from movie where release_date like '2015%';\n",
    "\n",
    "+----------+\n",
    "| count(*) |\n",
    "+----------+\n",
    "|       20 |\n",
    "+----------+\n",
    "</pre>\n",
    "Alternatively:\n",
    "<pre>\n",
    "mysql> select count(*) from movie where year(release_date) = 2015;\n",
    "\n",
    "+----------+\n",
    "| count(*) |\n",
    "+----------+\n",
    "|       20 |\n",
    "+----------+\n",
    "</pre>\n",
    "https://dev.mysql.com/doc/refman/8.0/en/date-and-time-functions.html"
   ]
  },
  {
   "cell_type": "markdown",
   "metadata": {},
   "source": [
    "---"
   ]
  },
  {
   "cell_type": "markdown",
   "metadata": {},
   "source": [
    "**<font color=\"brown\">3. How many movies were released in the years 2001 to 2005?**"
   ]
  },
  {
   "cell_type": "markdown",
   "metadata": {},
   "source": [
    "<pre>\n",
    "mysql> select count(*) from movie where year(release_date) between 2001 and 2005;\n",
    "\n",
    "+----------+\n",
    "| count(*) |\n",
    "+----------+\n",
    "|      100 |\n",
    "+----------+\n",
    "</pre>"
   ]
  },
  {
   "cell_type": "markdown",
   "metadata": {},
   "source": [
    "---"
   ]
  },
  {
   "cell_type": "markdown",
   "metadata": {},
   "source": [
    "**<font color=\"brown\">4. What are all the movie genres?**"
   ]
  },
  {
   "cell_type": "markdown",
   "metadata": {},
   "source": [
    "<pre>\n",
    "mysql> select distinct(genre) from movie;\n",
    "\n",
    "+-----------------+\n",
    "| genre           |\n",
    "+-----------------+\n",
    "| Romance         |\n",
    "| Comedy          |\n",
    "| Crime           |\n",
    "| War             |\n",
    "| Drama           |\n",
    "| Family          |\n",
    "| Action          |\n",
    "| Animation       |\n",
    "| Science Fiction |\n",
    "| Adventure       |\n",
    "| Thriller        |\n",
    "| Western         |\n",
    "| Horror          |\n",
    "| Mystery         |\n",
    "| History         |\n",
    "| Fantasy         |\n",
    "+-----------------+\n",
    "</pre>"
   ]
  },
  {
   "cell_type": "markdown",
   "metadata": {},
   "source": [
    "---"
   ]
  },
  {
   "cell_type": "markdown",
   "metadata": {},
   "source": [
    "**<font color=\"brown\">5. Which 3 genres had the most releases in 2010?**"
   ]
  },
  {
   "cell_type": "markdown",
   "metadata": {},
   "source": [
    "<pre>\n",
    "mysql> select genre, count(*) as 'number of releases' \n",
    "       from movie \n",
    "       where year(release_date) = 2010 \n",
    "       group by genre \n",
    "       order by count(*) desc limit 3;\n",
    "       \n",
    "+-----------+--------------------+\n",
    "| genre     | number of releases |\n",
    "+-----------+--------------------+\n",
    "| Animation |                  6 |\n",
    "| Action    |                  3 |\n",
    "| Drama     |                  2 |\n",
    "+-----------+--------------------+\n",
    "</pre>\n",
    "\n",
    "Tie for #3 broken arbitrarily"
   ]
  },
  {
   "cell_type": "markdown",
   "metadata": {},
   "source": [
    "---"
   ]
  },
  {
   "cell_type": "markdown",
   "metadata": {},
   "source": [
    "**<font color=\"brown\">6. List all genres that had at least 3 releases in 2010**"
   ]
  },
  {
   "cell_type": "markdown",
   "metadata": {},
   "source": [
    "<pre>\n",
    "mysql> select genre, count(*) as 'number of releases' \n",
    "         from movie \n",
    "         where year(release_date) = 2010 \n",
    "         group by genre \n",
    "         having count(*) > 2;\n",
    "         \n",
    "+-----------+-----+\n",
    "| genre     | num |\n",
    "+-----------+-----+\n",
    "| Action    |   3 |\n",
    "| Animation |   6 |\n",
    "+-----------+-----+\n",
    "</pre>\n"
   ]
  },
  {
   "cell_type": "markdown",
   "metadata": {},
   "source": [
    "---"
   ]
  },
  {
   "cell_type": "markdown",
   "metadata": {},
   "source": [
    "**<font color=\"brown\">7. What were the 5 highest rated movies of 2017, and what were their average rating?**"
   ]
  },
  {
   "cell_type": "markdown",
   "metadata": {},
   "source": [
    "<pre>\n",
    "mysql> select title, round(avg(rating),1) as average_rating \n",
    "         from rating, movie \n",
    "         where movieid=id and year(release_date) = 2017 \n",
    "         group by movieid \n",
    "         order by average_rating desc \n",
    "         limit 5;\n",
    "         \n",
    "+------------------------+----------------+\n",
    "| title                  | average_rating |\n",
    "+------------------------+----------------+\n",
    "| Beauty and the Beast   |            5.8 |\n",
    "| Dunkirk                |            5.8 |\n",
    "| The LEGO Batman Movie  |            5.7 |\n",
    "| It                     |            5.6 |\n",
    "| Spider-Man: Homecoming |            5.6 |\n",
    "+------------------------+----------------+\n",
    "</pre>\n",
    "See https://dev.mysql.com/doc/refman/8.0/en/aggregate-functions.html for various aggregate functions (aside from avg)<br>\n",
    "See https://dev.mysql.com/doc/refman/8.0/en/mathematical-functions.html for various mathematical functions (aside from round)"
   ]
  },
  {
   "cell_type": "markdown",
   "metadata": {},
   "source": [
    "---"
   ]
  },
  {
   "cell_type": "markdown",
   "metadata": {},
   "source": [
    "**<font color=\"brown\">8. Which users have an average rating of at least 8.0 for movies in the years 2010-2015, and what is their average rating</font>**"
   ]
  },
  {
   "cell_type": "markdown",
   "metadata": {},
   "source": [
    "<pre>\n",
    "mysql> select uname, round(avg(rating),1) as average_rating \n",
    "         from rating, user, movie \n",
    "         where userid=user.id and \n",
    "               movieid=movie.id and \n",
    "               year(release_date) between 2010 and 2015 \n",
    "         group by uname \n",
    "         having average_rating >= 8.0;\n",
    "         \n",
    "+----------+----------------+\n",
    "| uname    | average_rating |\n",
    "+----------+----------------+\n",
    "| bdZWY381 |            8.2 |\n",
    "| DQtdi052 |            8.0 |\n",
    "| ePuFV640 |            8.0 |\n",
    "| haBkx803 |            8.1 |\n",
    "| QSJUb581 |            8.2 |\n",
    "| TdMcx810 |            8.0 |\n",
    "| tvdUE823 |            8.3 |\n",
    "| vEraH377 |            8.1 |\n",
    "| VLUPZ650 |            8.3 |\n",
    "| vqXGj062 |            8.0 |\n",
    "| yVIBT711 |            8.4 |\n",
    "+----------+----------------+\n",
    "</pre>\n",
    "\n",
    "**Just out of curiosity, what ratings did yVIBT711 give to these movies?**\n",
    "\n",
    "<pre>\n",
    "mysql> select title,rating \n",
    "         from movie,rating,user \n",
    "         where uname='yVIBT711' and \n",
    "               userid=user.id and \n",
    "               movieid=movie.id and \n",
    "               year(release_date) between 2010 and 2015;\n",
    "\n",
    "+-------------------------------------------+--------+\n",
    "| title                                     | rating |\n",
    "+-------------------------------------------+--------+\n",
    "| The Twilight Saga: Eclipse                |      6 |\n",
    "| The Twilight Saga: Breaking Dawn - Part 2 |     10 |\n",
    "| Madagascar 3: Europe's Most Wanted        |     10 |\n",
    "| The Croods                                |      5 |\n",
    "| Godzilla                                  |     10 |\n",
    "| Interstellar                              |      9 |\n",
    "| The Amazing Spider-Man 2                  |      9 |\n",
    "+-------------------------------------------+--------+\n",
    "</pre>"
   ]
  },
  {
   "cell_type": "markdown",
   "metadata": {},
   "source": [
    "---"
   ]
  },
  {
   "cell_type": "markdown",
   "metadata": {},
   "source": [
    "**<font color=\"brown\">9. Which movies (list title and average rating) released in the same year as 'Wonder Woman' have an average rating greater than it?</font>**\n",
    "\n",
    "<pre>\n",
    "mysql> select title, year(release_date) as year, avg(rating) as average_rating\n",
    "             from movie, user, rating\n",
    "             where userid=user.id \n",
    "                   and movieid=movie.id\n",
    "             group by title, year \n",
    "             having year in (select year(release_date) from movie where title='Wonder Woman')\n",
    "              and avg(rating) > \n",
    "               (select avg(rating) \n",
    "                 from movie, user, rating\n",
    "                 where movie.title = 'Wonder Woman' and\n",
    "                       userid = user.id and\n",
    "                       movieid = movie.id)\n",
    "             order by avg(rating) desc;\n",
    "                      \n",
    "+--------------------------------------------------+------+----------------+\n",
    "| title                                            | year | average_rating |\n",
    "+--------------------------------------------------+------+----------------+\n",
    "| Beauty and the Beast                             | 2017 |         5.8391 |\n",
    "| Dunkirk                                          | 2017 |         5.8046 |\n",
    "| The LEGO Batman Movie                            | 2017 |         5.6605 |\n",
    "| It                                               | 2017 |         5.6218 |\n",
    "| Thor: Ragnarok                                   | 2017 |         5.5789 |\n",
    "| Spider-Man: Homecoming                           | 2017 |         5.5705 |\n",
    "| Guardians of the Galaxy Vol. 2                   | 2017 |         5.5263 |\n",
    "| Logan                                            | 2017 |         5.5176 |\n",
    "| Jumanji: Welcome to the Jungle                   | 2017 |         5.5083 |\n",
    "| Coco                                             | 2017 |         5.5034 |\n",
    "| Justice League                                   | 2017 |         5.4937 |\n",
    "| The Greatest Showman                             | 2017 |         5.4867 |\n",
    "| Kong: Skull Island                               | 2017 |         5.4224 |\n",
    "| Get Out                                          | 2017 |         5.3899 |\n",
    "| The Fate of the Furious                          | 2017 |         5.3580 |\n",
    "| Despicable Me 3                                  | 2017 |         5.2746 |\n",
    "| The Boss Baby                                    | 2017 |         5.2389 |\n",
    "| Pirates of the Caribbean: Dead Men Tell No Tales | 2017 |         5.2357 |\n",
    "+--------------------------------------------------+------+----------------+                   \n",
    "</pre>\n",
    "We don't need the year column since it's the same for all, and same as the release year of Wonder Woman."
   ]
  },
  {
   "cell_type": "markdown",
   "metadata": {},
   "source": [
    "<pre>\n",
    "mysql> select title, avg(rating) as average_rating\n",
    "             from movie, user, rating\n",
    "             where userid=user.id \n",
    "                   and movieid=movie.id\n",
    "                   and year(release_date) = \n",
    "                        (select year(release_date) from movie where title='Wonder Woman')\n",
    "             group by title, year(release_date)\n",
    "             having avg(rating) > \n",
    "               (select avg(rating) \n",
    "                 from movie, user, rating\n",
    "                 where movie.title = 'Wonder Woman' and\n",
    "                       userid = user.id and\n",
    "                       movieid = movie.id)\n",
    "             order by average_rating desc;\n",
    "                      \n",
    "+--------------------------------------------------+----------------+\n",
    "| title                                            | average_rating |\n",
    "+--------------------------------------------------+----------------+\n",
    "| Beauty and the Beast                             |         5.8391 |\n",
    "| Dunkirk                                          |         5.8046 |\n",
    "| The LEGO Batman Movie                            |         5.6605 |\n",
    "| It                                               |         5.6218 |\n",
    "| Thor: Ragnarok                                   |         5.5789 |\n",
    "| Spider-Man: Homecoming                           |         5.5705 |\n",
    "| Guardians of the Galaxy Vol. 2                   |         5.5263 |\n",
    "| Logan                                            |         5.5176 |\n",
    "| Jumanji: Welcome to the Jungle                   |         5.5083 |\n",
    "| Coco                                             |         5.5034 |\n",
    "| Justice League                                   |         5.4937 |\n",
    "| The Greatest Showman                             |         5.4867 |\n",
    "| Kong: Skull Island                               |         5.4224 |\n",
    "| Get Out                                          |         5.3899 |\n",
    "| The Fate of the Furious                          |         5.3580 |\n",
    "| Despicable Me 3                                  |         5.2746 |\n",
    "| The Boss Baby                                    |         5.2389 |\n",
    "| Pirates of the Caribbean: Dead Men Tell No Tales |         5.2357 |\n",
    "+--------------------------------------------------+----------------+                \n",
    "</pre>"
   ]
  },
  {
   "cell_type": "markdown",
   "metadata": {},
   "source": [
    "Check the average rating for Wonder Woman:\n",
    "<pre>\n",
    "select avg(rating) \n",
    "    from movie, user, rating\n",
    "    where movie.title = 'Wonder Woman' and\n",
    "    userid = user.id and\n",
    "    movieid = movie.id;\n",
    "    \n",
    "+-------------+\n",
    "| avg(rating) |\n",
    "+-------------+\n",
    "|      5.1572 |\n",
    "+-------------+   \n",
    "</pre>"
   ]
  },
  {
   "cell_type": "code",
   "execution_count": null,
   "metadata": {},
   "outputs": [],
   "source": []
  }
 ],
 "metadata": {
  "kernelspec": {
   "display_name": "Python 3",
   "language": "python",
   "name": "python3"
  },
  "language_info": {
   "codemirror_mode": {
    "name": "ipython",
    "version": 3
   },
   "file_extension": ".py",
   "mimetype": "text/x-python",
   "name": "python",
   "nbconvert_exporter": "python",
   "pygments_lexer": "ipython3",
   "version": "3.7.6"
  }
 },
 "nbformat": 4,
 "nbformat_minor": 4
}
