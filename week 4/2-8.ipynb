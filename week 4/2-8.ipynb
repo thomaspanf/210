{
 "cells": [
  {
   "cell_type": "code",
   "execution_count": 8,
   "id": "b6813827-acbe-4a63-b9fb-82b2466df0e5",
   "metadata": {},
   "outputs": [
    {
     "data": {
      "text/plain": [
       "{'Jenna': 80, 'Dylan': 75, 'Anis': 65}"
      ]
     },
     "execution_count": 8,
     "metadata": {},
     "output_type": "execute_result"
    }
   ],
   "source": [
    "empty_dict1 = {}\n",
    "empty_dict2 = dict()\n",
    "grades = {'Jenna': 80, 'Dylan': 75, 'Anis': 65}\n",
    "grades"
   ]
  },
  {
   "cell_type": "code",
   "execution_count": 9,
   "id": "939b24d6-2b9d-4a94-9d8a-22f3588e1a7a",
   "metadata": {},
   "outputs": [
    {
     "name": "stdout",
     "output_type": "stream",
     "text": [
      "80\n"
     ]
    }
   ],
   "source": [
    "grade = grades['Jenna']\n",
    "print(grade)"
   ]
  },
  {
   "cell_type": "code",
   "execution_count": 10,
   "id": "96306592-f350-4462-8f73-03b9842cdf00",
   "metadata": {},
   "outputs": [],
   "source": [
    "grade = grades.get('Keisha', 0)"
   ]
  },
  {
   "cell_type": "code",
   "execution_count": 11,
   "id": "0a1175c2-289e-4e21-8e4b-ed8086c7a2c4",
   "metadata": {},
   "outputs": [
    {
     "data": {
      "text/plain": [
       "0"
      ]
     },
     "execution_count": 11,
     "metadata": {},
     "output_type": "execute_result"
    }
   ],
   "source": [
    "grade"
   ]
  },
  {
   "cell_type": "code",
   "execution_count": 12,
   "id": "1af83804-f5db-46b1-8b94-e073a57106c5",
   "metadata": {},
   "outputs": [
    {
     "data": {
      "text/plain": [
       "{'Jenna': 80, 'Dylan': 75, 'Anis': 65}"
      ]
     },
     "execution_count": 12,
     "metadata": {},
     "output_type": "execute_result"
    }
   ],
   "source": [
    "grades"
   ]
  },
  {
   "cell_type": "code",
   "execution_count": 13,
   "id": "93b3d931-dc8e-441d-924d-aee4b73d74b3",
   "metadata": {},
   "outputs": [],
   "source": [
    "grades['Keisha'] = 82"
   ]
  },
  {
   "cell_type": "raw",
   "id": "844a2abe-54e6-44b5-86a1-9fa98c7e23a0",
   "metadata": {},
   "source": [
    "grade"
   ]
  },
  {
   "cell_type": "code",
   "execution_count": 14,
   "id": "a18da248-399d-4fe8-9023-8a070d62d2e5",
   "metadata": {},
   "outputs": [
    {
     "data": {
      "text/plain": [
       "{'Jenna': 80, 'Dylan': 75, 'Anis': 65, 'Keisha': 82}"
      ]
     },
     "execution_count": 14,
     "metadata": {},
     "output_type": "execute_result"
    }
   ],
   "source": [
    "grades"
   ]
  },
  {
   "cell_type": "code",
   "execution_count": 15,
   "id": "42340efe-82e3-4446-be06-b9c2322593c4",
   "metadata": {},
   "outputs": [
    {
     "name": "stdout",
     "output_type": "stream",
     "text": [
      "Jenna: 80\n",
      "Dylan: 75\n",
      "Anis: 65\n",
      "Keisha: 82\n"
     ]
    }
   ],
   "source": [
    "for key in grades: \n",
    "    print(f'{key}: {grades.get(key)}')\n"
   ]
  },
  {
   "cell_type": "code",
   "execution_count": 16,
   "id": "ba1d09cc-e008-4601-b787-47053c30ac6d",
   "metadata": {},
   "outputs": [
    {
     "name": "stdout",
     "output_type": "stream",
     "text": [
      "Jenna\n",
      "Dylan\n",
      "Anis\n",
      "Keisha\n"
     ]
    }
   ],
   "source": [
    "for key in grades.keys(): \n",
    "    print(key)"
   ]
  },
  {
   "cell_type": "code",
   "execution_count": 17,
   "id": "2f420f93-cad6-4561-aba4-403896758548",
   "metadata": {},
   "outputs": [
    {
     "name": "stdout",
     "output_type": "stream",
     "text": [
      "Jenna\n",
      "Dylan\n",
      "Anis\n",
      "Keisha\n"
     ]
    }
   ],
   "source": [
    "for key in grades: \n",
    "    print(key)\n"
   ]
  },
  {
   "cell_type": "code",
   "execution_count": 18,
   "id": "1d4b8033-6a27-407b-ab04-7e19218a8c2e",
   "metadata": {},
   "outputs": [
    {
     "name": "stdout",
     "output_type": "stream",
     "text": [
      "75\n"
     ]
    }
   ],
   "source": [
    "print(grades.get('Dylan'))\n",
    "grades['Dylan'] = 78"
   ]
  },
  {
   "cell_type": "code",
   "execution_count": 19,
   "id": "48137c57-4a8a-4a5c-a63e-18d0924e3e6d",
   "metadata": {},
   "outputs": [
    {
     "data": {
      "text/plain": [
       "0"
      ]
     },
     "execution_count": 19,
     "metadata": {},
     "output_type": "execute_result"
    }
   ],
   "source": [
    "grade"
   ]
  },
  {
   "cell_type": "code",
   "execution_count": 20,
   "id": "dad8e04a-d3e6-475c-a230-dee7b7b5e85a",
   "metadata": {},
   "outputs": [
    {
     "data": {
      "text/plain": [
       "{'Jenna': 80, 'Dylan': 78, 'Anis': 65, 'Keisha': 82}"
      ]
     },
     "execution_count": 20,
     "metadata": {},
     "output_type": "execute_result"
    }
   ],
   "source": [
    "grades"
   ]
  },
  {
   "cell_type": "code",
   "execution_count": 21,
   "id": "2b9b853a-cf38-45a7-a3f1-47a94dea2f92",
   "metadata": {},
   "outputs": [
    {
     "data": {
      "text/plain": [
       "dict_values([80, 78, 65, 82])"
      ]
     },
     "execution_count": 21,
     "metadata": {},
     "output_type": "execute_result"
    }
   ],
   "source": [
    "grades.values()"
   ]
  },
  {
   "cell_type": "code",
   "execution_count": 27,
   "id": "4fc04a1b-36e3-4874-bcbd-e81922076932",
   "metadata": {},
   "outputs": [
    {
     "ename": "NameError",
     "evalue": "name 'dict_items' is not defined",
     "output_type": "error",
     "traceback": [
      "\u001b[1;31m---------------------------------------------------------------------------\u001b[0m",
      "\u001b[1;31mNameError\u001b[0m                                 Traceback (most recent call last)",
      "\u001b[1;32m~\\AppData\\Local\\Temp/ipykernel_10444/1934249716.py\u001b[0m in \u001b[0;36m<module>\u001b[1;34m\u001b[0m\n\u001b[1;32m----> 1\u001b[1;33m \u001b[0mdict_items\u001b[0m\u001b[1;33m(\u001b[0m\u001b[1;33m[\u001b[0m\u001b[1;33m(\u001b[0m\u001b[1;34m'Jenna'\u001b[0m\u001b[1;33m,\u001b[0m \u001b[1;36m80\u001b[0m\u001b[1;33m)\u001b[0m\u001b[1;33m,\u001b[0m \u001b[1;33m(\u001b[0m\u001b[1;34m'Dylan'\u001b[0m\u001b[1;33m,\u001b[0m \u001b[1;36m78\u001b[0m\u001b[1;33m)\u001b[0m\u001b[1;33m,\u001b[0m \u001b[1;33m(\u001b[0m\u001b[1;34m'Anis'\u001b[0m\u001b[1;33m,\u001b[0m \u001b[1;36m65\u001b[0m\u001b[1;33m)\u001b[0m\u001b[1;33m,\u001b[0m \u001b[1;33m(\u001b[0m\u001b[1;34m'Keisha'\u001b[0m\u001b[1;33m,\u001b[0m \u001b[1;36m82\u001b[0m\u001b[1;33m)\u001b[0m\u001b[1;33m]\u001b[0m\u001b[1;33m)\u001b[0m\u001b[1;33m\u001b[0m\u001b[1;33m\u001b[0m\u001b[0m\n\u001b[0m",
      "\u001b[1;31mNameError\u001b[0m: name 'dict_items' is not defined"
     ]
    }
   ],
   "source": [
    "dict_items([('Jenna', 80), ('Dylan', 78), ('Anis', 65), ('Keisha', 82)])"
   ]
  },
  {
   "cell_type": "code",
   "execution_count": 28,
   "id": "4efd2233-52a8-4c3f-9e2a-9b1e94cb69e7",
   "metadata": {},
   "outputs": [],
   "source": [
    "prereqs = {'cs112':'cs111', 'cs336':['cs112', 'cs205']}"
   ]
  },
  {
   "cell_type": "code",
   "execution_count": 29,
   "id": "eb64aa25-3f57-4397-92fa-0fa061e69b7a",
   "metadata": {},
   "outputs": [
    {
     "data": {
      "text/plain": [
       "'cs111'"
      ]
     },
     "execution_count": 29,
     "metadata": {},
     "output_type": "execute_result"
    }
   ],
   "source": [
    "prereqs['cs112']"
   ]
  },
  {
   "cell_type": "code",
   "execution_count": 30,
   "id": "b0ddfa3c-8913-4159-ad2b-69a7b6454167",
   "metadata": {},
   "outputs": [
    {
     "data": {
      "text/plain": [
       "['cs112', 'cs205']"
      ]
     },
     "execution_count": 30,
     "metadata": {},
     "output_type": "execute_result"
    }
   ],
   "source": [
    "prereqs['cs336']"
   ]
  },
  {
   "cell_type": "code",
   "execution_count": 32,
   "id": "82321cc9-8edb-4bcc-af07-0b29808f07a7",
   "metadata": {},
   "outputs": [],
   "source": [
    "\n",
    "mydict = dict([('cs111',800), ('cs112', 500)])"
   ]
  },
  {
   "cell_type": "code",
   "execution_count": 33,
   "id": "4f1c497f-4e59-4d73-928e-cdfc1558dd8d",
   "metadata": {},
   "outputs": [
    {
     "data": {
      "text/plain": [
       "{'cs111': 800, 'cs112': 500}"
      ]
     },
     "execution_count": 33,
     "metadata": {},
     "output_type": "execute_result"
    }
   ],
   "source": [
    "mydict"
   ]
  },
  {
   "cell_type": "code",
   "execution_count": 34,
   "id": "02a3bafa-735a-41f0-ab57-692573d0eadf",
   "metadata": {},
   "outputs": [],
   "source": [
    "#counter"
   ]
  },
  {
   "cell_type": "code",
   "execution_count": 35,
   "id": "e9f5bc8d-9f0c-4d3a-b5f8-ce43bf6c1ca7",
   "metadata": {},
   "outputs": [],
   "source": [
    "from collections import Counter"
   ]
  },
  {
   "cell_type": "code",
   "execution_count": 37,
   "id": "44a8914a-f972-44f5-8425-5373fb043cdd",
   "metadata": {},
   "outputs": [],
   "source": [
    "ctr = Counter([1,2,8,2,9,1])"
   ]
  },
  {
   "cell_type": "code",
   "execution_count": 38,
   "id": "d88e13e0-a029-4eae-b5cf-5bd26ac86d9e",
   "metadata": {},
   "outputs": [
    {
     "data": {
      "text/plain": [
       "Counter({1: 2, 2: 2, 8: 1, 9: 1})"
      ]
     },
     "execution_count": 38,
     "metadata": {},
     "output_type": "execute_result"
    }
   ],
   "source": [
    "ctr"
   ]
  },
  {
   "cell_type": "code",
   "execution_count": 39,
   "id": "6b0ddab2-d29c-4cb0-9c36-ca169a50e38e",
   "metadata": {},
   "outputs": [
    {
     "data": {
      "text/plain": [
       "dict_items([(1, 2), (2, 2), (8, 1), (9, 1)])"
      ]
     },
     "execution_count": 39,
     "metadata": {},
     "output_type": "execute_result"
    }
   ],
   "source": [
    "ctr.items()"
   ]
  },
  {
   "cell_type": "code",
   "execution_count": 40,
   "id": "8a4ebdda-fdbd-4069-bb79-10c5e3ef1011",
   "metadata": {},
   "outputs": [
    {
     "data": {
      "text/plain": [
       "dict_values([2, 2, 1, 1])"
      ]
     },
     "execution_count": 40,
     "metadata": {},
     "output_type": "execute_result"
    }
   ],
   "source": [
    "ctr.values()"
   ]
  },
  {
   "cell_type": "code",
   "execution_count": 41,
   "id": "6513c5af-e017-477c-ae81-d567bed74e2b",
   "metadata": {},
   "outputs": [
    {
     "data": {
      "text/plain": [
       "Counter({1: 3, 2: 2, 8: 1, 9: 1})"
      ]
     },
     "execution_count": 41,
     "metadata": {},
     "output_type": "execute_result"
    }
   ],
   "source": [
    "ctr.update([1])\n",
    "ctr"
   ]
  },
  {
   "cell_type": "code",
   "execution_count": 42,
   "id": "14fdaa8a-f6c0-4317-9bda-45e2f917fb25",
   "metadata": {},
   "outputs": [],
   "source": [
    "### reading from a file"
   ]
  },
  {
   "cell_type": "code",
   "execution_count": 44,
   "id": "9180409f-e44d-4d4f-9613-d2114bf5cba2",
   "metadata": {},
   "outputs": [
    {
     "name": "stdout",
     "output_type": "stream",
     "text": [
      "{'Hurt Locker': '2011', 'The Artist': '2012', 'The Shape of Water': '2018', 'The Hurt Locker': '2010', 'Moonlight': '2017', 'Argo': '2013', 'Green Book': '2019', '12 Years a Slave': '2014', 'Spotlight': '2016', 'Birdman': '2015'}\n"
     ]
    }
   ],
   "source": [
    "oscars = {}\n",
    "for line in open('oscars.txt'): #read one line at a time \n",
    "    movie, year = line.split(':') #splits line into two pieces around \":\"\n",
    "    oscars[movie.strip()] = year.strip()\n",
    "print(oscars)"
   ]
  },
  {
   "cell_type": "code",
   "execution_count": 45,
   "id": "e2383674-c190-4efc-8a5c-5e24befee95d",
   "metadata": {},
   "outputs": [],
   "source": [
    "#sory by year"
   ]
  },
  {
   "cell_type": "code",
   "execution_count": 50,
   "id": "274277ce-1419-4b25-ad2a-12955dda631a",
   "metadata": {},
   "outputs": [
    {
     "data": {
      "text/plain": [
       "[('The Hurt Locker', '2010'),\n",
       " ('Hurt Locker', '2011'),\n",
       " ('The Artist', '2012'),\n",
       " ('Argo', '2013'),\n",
       " ('12 Years a Slave', '2014'),\n",
       " ('Birdman', '2015'),\n",
       " ('Spotlight', '2016'),\n",
       " ('Moonlight', '2017'),\n",
       " ('The Shape of Water', '2018'),\n",
       " ('Green Book', '2019')]"
      ]
     },
     "execution_count": 50,
     "metadata": {},
     "output_type": "execute_result"
    }
   ],
   "source": [
    "oscar_years = sorted(oscars.items(), key = lambda movie: movie[1])\n",
    "oscar_years"
   ]
  },
  {
   "cell_type": "code",
   "execution_count": null,
   "id": "a308a1af-da5c-4112-be9c-ec5ae0f84f47",
   "metadata": {},
   "outputs": [],
   "source": []
  }
 ],
 "metadata": {
  "kernelspec": {
   "display_name": "Python 3 (ipykernel)",
   "language": "python",
   "name": "python3"
  },
  "language_info": {
   "codemirror_mode": {
    "name": "ipython",
    "version": 3
   },
   "file_extension": ".py",
   "mimetype": "text/x-python",
   "name": "python",
   "nbconvert_exporter": "python",
   "pygments_lexer": "ipython3",
   "version": "3.9.7"
  }
 },
 "nbformat": 4,
 "nbformat_minor": 5
}
