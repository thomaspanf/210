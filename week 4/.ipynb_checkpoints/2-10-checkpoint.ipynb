{
 "cells": [
  {
   "cell_type": "code",
   "execution_count": 2,
   "id": "2d4f92d0-aa2f-42b9-ab3d-4badb7e66989",
   "metadata": {},
   "outputs": [
    {
     "name": "stdout",
     "output_type": "stream",
     "text": [
      "{'The Artist': '2012', 'The Shape of Water': '2018', 'The Hurt Locker': '2010', 'Moonlight': '2017', 'Argo': '2013', 'Green Book': '2019', '12 Years a Slave': '2014', 'Spotlight': '2016', 'Birdman': '2015'}\n"
     ]
    }
   ],
   "source": [
    "oscars = {}\n",
    "for line in open('oscars.txt'): #read one line at a time \n",
    "    movie, year = line.split(':') #splits line into two pieces around \":\"\n",
    "    oscars[movie.strip()] = year.strip()\n",
    "print(oscars)\n"
   ]
  },
  {
   "cell_type": "code",
   "execution_count": 3,
   "id": "42ba4fdf-04d8-4def-9e1c-7882eea072c1",
   "metadata": {},
   "outputs": [
    {
     "data": {
      "text/plain": [
       "[('The Hurt Locker', '2010'),\n",
       " ('The Artist', '2012'),\n",
       " ('Argo', '2013'),\n",
       " ('12 Years a Slave', '2014'),\n",
       " ('Birdman', '2015'),\n",
       " ('Spotlight', '2016'),\n",
       " ('Moonlight', '2017'),\n",
       " ('The Shape of Water', '2018'),\n",
       " ('Green Book', '2019')]"
      ]
     },
     "execution_count": 3,
     "metadata": {},
     "output_type": "execute_result"
    }
   ],
   "source": [
    "oscar_years = sorted(oscars.items(), key = lambda movie: movie[1])\n",
    "oscar_years"
   ]
  },
  {
   "cell_type": "code",
   "execution_count": 4,
   "id": "3c736783-cf5e-4724-8b57-a75c56986fba",
   "metadata": {},
   "outputs": [
    {
     "data": {
      "text/plain": [
       "{'Jenna': 80, 'Dylan': 75, 'Anis': 65}"
      ]
     },
     "execution_count": 4,
     "metadata": {},
     "output_type": "execute_result"
    }
   ],
   "source": [
    "empty_dict1 = {}\n",
    "empty_dict2 = dict()\n",
    "grades = {'Jenna': 80, 'Dylan': 75, 'Anis': 65}\n",
    "grades"
   ]
  },
  {
   "cell_type": "code",
   "execution_count": 5,
   "id": "90d37016-ae83-44c0-abf2-0d66d4ab58c2",
   "metadata": {},
   "outputs": [],
   "source": [
    "grade = grades.get('Keisha', 0)\n"
   ]
  },
  {
   "cell_type": "code",
   "execution_count": 6,
   "id": "417ed1c9-49bd-4bdb-9dfa-ac7ace4f48c1",
   "metadata": {},
   "outputs": [],
   "source": [
    "grades['keisha'] = 80"
   ]
  },
  {
   "cell_type": "code",
   "execution_count": 7,
   "id": "e2b6bdcf-f4cb-4909-a06c-30766af0f093",
   "metadata": {},
   "outputs": [
    {
     "data": {
      "text/plain": [
       "{'Jenna': 80, 'Dylan': 75, 'Anis': 65, 'keisha': 80}"
      ]
     },
     "execution_count": 7,
     "metadata": {},
     "output_type": "execute_result"
    }
   ],
   "source": [
    "grades"
   ]
  },
  {
   "cell_type": "code",
   "execution_count": 8,
   "id": "1fcece58-1398-4eec-a57e-a2c87628cb96",
   "metadata": {},
   "outputs": [],
   "source": [
    "scores_file = open(\"scores_file.txt\", \"w\")\n",
    "for key, value in grades.items():\n",
    "    scores_file.write(key + \":\" + str(value) + \"\\n\")\n",
    "scores_file.close()"
   ]
  },
  {
   "cell_type": "code",
   "execution_count": 9,
   "id": "80276a38-2284-4f70-9589-015ca604c2cb",
   "metadata": {},
   "outputs": [],
   "source": [
    "#exercise"
   ]
  },
  {
   "cell_type": "code",
   "execution_count": 11,
   "id": "301019cc-65ef-407b-90eb-788e809b67dd",
   "metadata": {},
   "outputs": [],
   "source": [
    "def getPopulations(file): \n",
    "    pops = {} \n",
    "    for line in open(file):\n",
    "        country, pop = line.split(\"|\")\n",
    "        population = int(pop.replace(\",\", \"\"))\n",
    "        pops[country] = population\n",
    "    return pops"
   ]
  },
  {
   "cell_type": "code",
   "execution_count": 13,
   "id": "4996db27-9600-44cd-bf5d-ffeb489b7bac",
   "metadata": {},
   "outputs": [],
   "source": [
    "populations = getPopulations('population.txt')"
   ]
  },
  {
   "cell_type": "code",
   "execution_count": 14,
   "id": "096d07e7-1b36-4bcf-8e4c-0e97b66ea81f",
   "metadata": {},
   "outputs": [
    {
     "name": "stdout",
     "output_type": "stream",
     "text": [
      "{'China': 1347350000, 'India': 1210193422, 'United States': 314705000, 'Indonesia': 237641326, 'Brazil': 193946886, 'Pakistan': 181128000, 'Nigeria': 166629000, 'Bangladesh': 152518015, 'Russia': 143228300, 'Japan': 127520000, 'Mexico': 112336538, 'Philippines': 92337852, 'Vietnam': 87840000, 'Ethiopia': 84320987, 'Egypt': 82783000, 'Germany': 81857000, 'Iran': 75149669, 'Turkey': 74724269, 'Democratic Republic of the Congo': 69575000, 'Thailand': 65479453, 'France': 65350000, 'United Kingdom': 62262000, 'Italy': 60849247, 'South Africa': 51770560, 'South Korea': 50004441, 'Myanmar': 48724000, 'Colombia': 46770000, 'Spain': 46163116, 'Ukraine': 45560272, 'Tanzania': 43188000, 'Argentina': 40117096, 'Kenya': 38610097, 'Poland': 38538447, 'Algeria': 37100000, 'Canada': 34967800, 'Iraq': 33330000, 'Uganda': 32939800, 'Morocco': 32718800, 'Sudan': 30894000, 'Peru': 30135875, 'Malaysia': 29537000, 'Uzbekistan': 29123400, 'Venezuela': 28946101, 'Saudi Arabia': 28376355, 'Nepal': 26620809, 'Afghanistan': 25500100, 'Ghana': 24658823, 'North Korea': 24554000, 'Yemen': 24527000, 'Mozambique': 23700715, 'Taiwan': 23268372, 'Australia': 22802044, 'Syria': 21819000, 'Ivory Coast': 21395000, 'Madagascar': 20696070, 'Angola': 20609294, 'Sri Lanka': 20277597, 'Cameroon': 19406100, 'Romania': 19042936, 'Kazakhstan': 16815000, 'Netherlands': 16751323, 'Chile': 16572475, 'Niger': 16274738, 'Malawi': 15883000, 'Burkina Faso': 15730977, 'Guatemala': 14713763, 'Mali': 14528662, 'Ecuador': 14483499, 'Cambodia': 14478000, 'Zambia': 13092666, 'Zimbabwe': 13014000, 'Senegal': 12855153, 'Chad': 11274106, 'Cuba': 11247925, 'Belgium': 10839905, 'Guinea': 10824200, 'Greece': 10787690, 'Rwanda': 10718379, 'Tunisia': 10673800, 'Portugal': 10561614, 'Czech Republic': 10507566, 'Bolivia': 10426155, 'Haiti': 10085214, 'Hungary': 9957731, 'Somalia': 9797000, 'Sweden': 9532634, 'Belarus': 9459000, 'Dominican Republic': 9445281, 'Benin': 9352000, 'Azerbaijan': 9235100, 'Burundi': 8749000, 'Austria': 8452835, 'Honduras': 8385072, 'United Arab Emirates': 8264070, 'South Sudan': 8260490, 'Switzerland': 8000001, 'Israel': 7928500, 'Tajikistan': 7800000, 'Bulgaria': 7364570, 'Papua New Guinea': 7170000, 'Serbia': 7120666, 'Hong Kong': 7103700, 'Libya': 6469000, 'Laos': 6465800, 'Paraguay': 6337127, 'Jordan': 6365800, 'Togo': 6191155, 'El Salvador': 6183000, 'Sierra Leone': 6126000, 'Nicaragua': 6071045, 'Denmark': 5587085, 'Eritrea': 5581000, 'Kyrgyzstan': 5477600, 'Slovakia': 5445324, 'Finland': 5423740, 'Singapore': 5183700, 'Turkmenistan': 5170000, 'Norway': 5045500, 'Republic of Ireland': 4588252, 'Central African Republic': 4576000, 'Georgia (country)': 4497600, 'New Zealand': 4444780, 'Costa Rica': 4301712, 'Palestinian territories': 4293313, 'Lebanon': 4292000, 'Croatia': 4290612, 'Liberia': 4245000, 'Republic of the Congo': 4233000, 'Bosnia and Herzegovina': 3868621, 'Puerto Rico': 3706690, 'Kuwait': 3582054, 'Moldova': 3559500, 'Panama': 3405813, 'Mauritania': 3378254, 'Uruguay': 3286314, 'Armenia': 3275700, 'Lithuania': 3180394, 'Albania': 2831741, 'Oman': 2773479, 'Mongolia': 2736800, 'Jamaica': 2709300, 'Lesotho': 2217000, 'Namibia': 2104900, 'Latvia': 2070371, 'Republic of Macedonia': 2059794, 'Slovenia': 2061170, 'Botswana': 2024904, 'The Gambia': 1825000, 'Qatar': 1699435, 'Gabon': 1564000, 'Guinea-Bissau': 1520830, 'Trinidad and Tobago': 1317714, 'Estonia': 1294236, 'Mauritius': 1286051, 'Bahrain': 1234571, 'Swaziland': 1220000, 'East Timor': 1066409, 'Fiji': 876000, 'Cyprus': 838897, 'Djibouti': 818159, 'RÃƒÂ©union': 816364, 'Guyana': 784894, 'Equatorial Guinea': 740000, 'Bhutan': 720679, 'Comoros': 669300, 'Montenegro': 620029, 'Macau': 568700, 'Western Sahara': 567000, 'Solomon Islands': 553935, 'Suriname': 534000, 'Luxembourg': 511800, 'Cape Verde': 491875, 'Malta': 417617, 'Guadeloupe': 401554, 'Martinique': 396404, 'Brunei': 393162, 'The Bahamas': 353658, 'Iceland': 320060, 'Maldives': 317280, 'Belize': 312971, 'French Polynesia': 277000, 'Barbados': 274200, 'New Caledonia': 245580, 'Vanuatu': 234023, 'French Guiana': 224469, 'Mayotte': 217000, 'Samoa': 186340, 'SÃƒÂ£o TomÃƒÂ© and PrÃƒ-ncipe': 172000, 'Saint Lucia': 166526, 'Guam': 159358, 'CuraÃƒÂ§ao': 149679, 'Grenada': 110821, 'United States Virgin Islands': 106405, 'Tonga': 103036, 'Kiribati': 103000, 'Federated States of Micronesia': 102843, 'Aruba': 101484, 'Saint Vincent and the Grenadines': 100892, 'Jersey': 97857, 'Seychelles': 90945, 'Antigua and Barbuda': 86295, 'Isle of Man': 84497, 'Andorra': 78115, 'Dominica': 71293, 'Bermuda': 64237, 'Guernsey': 62431, 'Greenland': 56749, 'American Samoa': 55519, 'Cayman Islands': 55456, 'Marshall Islands': 54305, 'Northern Mariana Islands': 53883, 'Saint Kitts and Nevis': 51970, 'Faroe Islands': 48459, 'Sint Maarten': 37429, 'Collectivity of Saint Martin': 36824, 'Liechtenstein': 36476, 'Monaco': 35000, 'San Marino': 32404, 'Turks and Caicos Islands': 31458, 'Gibraltar': 29752, 'British Virgin Islands': 29537, 'ÃƒÂ…land Islands': 28355, 'Caribbean Netherlands': 21133, 'Palau': 21000, 'Cook Islands': 17791, 'Anguilla': 13452, 'Wallis and Futuna': 13000, 'Nauru': 10000, 'Tuvalu': 10000, 'Saint BarthÃƒÂ©lemy': 8902, 'Saint Pierre and Miquelon': 6082, 'Montserrat': 4922, 'Saint Helena, Ascension and Tristan da Cunha': 4000, 'Falkland Islands': 2563, 'Svalbard and Jan Mayen': 2495, 'Norfolk Island': 2302, 'Christmas Island': 2072, 'Tokelau': 1411, 'Niue': 1000, 'Vatican City': 800, 'Cocos (Keeling) Islands': 550, 'Pitcairn Islands': 66}\n"
     ]
    }
   ],
   "source": [
    "print(populations)"
   ]
  },
  {
   "cell_type": "code",
   "execution_count": 17,
   "id": "7e2ae268-82cc-4c34-8c0d-4ba1e06108a8",
   "metadata": {},
   "outputs": [
    {
     "data": {
      "text/plain": [
       "1347350000"
      ]
     },
     "execution_count": 17,
     "metadata": {},
     "output_type": "execute_result"
    }
   ],
   "source": [
    "populations[\"China\"]"
   ]
  },
  {
   "cell_type": "code",
   "execution_count": 18,
   "id": "20217704-4f47-446d-a3d1-d845bc67ccc4",
   "metadata": {},
   "outputs": [],
   "source": [
    "# get countries with population over 10 million"
   ]
  },
  {
   "cell_type": "code",
   "execution_count": 20,
   "id": "a5beddd0-c45e-4f6e-946b-d17648516dab",
   "metadata": {},
   "outputs": [
    {
     "name": "stdout",
     "output_type": "stream",
     "text": [
      "['China', 'India', 'United States', 'Indonesia', 'Brazil', 'Pakistan', 'Nigeria', 'Bangladesh', 'Russia', 'Japan', 'Mexico']\n"
     ]
    }
   ],
   "source": [
    "large_pops = [c for c,p in populations.items() if p > 100000000]\n",
    "print(large_pops)"
   ]
  },
  {
   "cell_type": "code",
   "execution_count": 36,
   "id": "9cbab8d2-c42d-4076-b80b-19925eb5e8c0",
   "metadata": {},
   "outputs": [
    {
     "name": "stdout",
     "output_type": "stream",
     "text": [
      "Counter({'he': 10, 'to': 6, 'the': 4, 'that': 4, 'was': 4, 'his': 4, 'a': 3, 'and': 3, 'look': 2, 'at': 2, 'dull': 2, 'feel': 2, 'right': 2, 'have': 2, 'gregor': 1, 'then': 1, 'turned': 1, 'out': 1, 'window': 1, 'weather': 1, 'drops': 1, 'of': 1, 'rain': 1, 'could': 1, 'be': 1, 'heard': 1, 'hitting': 1, 'pane': 1, 'which': 1, 'made': 1, 'him': 1, 'quite': 1, 'sad': 1, 'how': 1, 'about': 1, 'if': 1, 'i': 1, 'sleep': 1, 'little': 1, 'bit': 1, 'longer': 1, 'forget': 1, 'all': 1, 'this': 1, 'nonsense': 1, 'thought': 1, 'but': 1, 'something': 1, 'unable': 1, 'do': 1, 'because': 1, 'used': 1, 'sleeping': 1, 'on': 1, 'in': 1, 'present': 1, 'state': 1, \"couldn't\": 1, 'get': 1, 'into': 1, 'position': 1, 'however': 1, 'hard': 1, 'threw': 1, 'himself': 1, 'onto': 1, 'always': 1, 'rolled': 1, 'back': 1, 'where': 1, 'must': 1, 'tried': 1, 'it': 1, 'hundred': 1, 'times': 1, 'shut': 1, 'eyes': 1, 'so': 1, \"wouldn't\": 1, 'floundering': 1, 'legs': 1, 'only': 1, 'stopped': 1, 'when': 1, 'began': 1, 'mild': 1, 'pain': 1, 'there': 1, 'had': 1, 'never': 1, 'felt': 1, 'before': 1})\n"
     ]
    }
   ],
   "source": [
    "from collections import Counter \n",
    "\n",
    "word_count = Counter()\n",
    "for line in open(\"metamorphosis.txt\"):\n",
    "    tokens = line.split() \n",
    "    for token in tokens: \n",
    "        word_count.update([token.lower().strip(',.')])\n",
    "print(word_count) "
   ]
  },
  {
   "cell_type": "code",
   "execution_count": 28,
   "id": "db9ac07b-5a47-434c-981e-4b0f6143294f",
   "metadata": {},
   "outputs": [],
   "source": [
    "#find top 5 most common words"
   ]
  },
  {
   "cell_type": "code",
   "execution_count": 37,
   "id": "85b3366b-d289-40e8-bdd2-ed4b79294d42",
   "metadata": {},
   "outputs": [
    {
     "name": "stdout",
     "output_type": "stream",
     "text": [
      "he 10\n",
      "to 6\n",
      "the 4\n",
      "that 4\n",
      "was 4\n"
     ]
    }
   ],
   "source": [
    "for word, count in word_count.most_common(5):\n",
    "    print(word, count)"
   ]
  },
  {
   "cell_type": "code",
   "execution_count": 42,
   "id": "9e7903f3-8282-4054-93ec-125577da6880",
   "metadata": {},
   "outputs": [],
   "source": [
    "#find words of length 4 or more that occur at least twice \n",
    "commons = [(w,c) for w,c in word_count.most_common() if len(w) >= 4 and c >= 2]\n",
    "\n",
    "\n"
   ]
  },
  {
   "cell_type": "code",
   "execution_count": 43,
   "id": "49b6c03d-92db-4359-b0a9-81909ba02664",
   "metadata": {},
   "outputs": [
    {
     "name": "stdout",
     "output_type": "stream",
     "text": [
      "[('that', 4), ('look', 2), ('dull', 2), ('feel', 2), ('right', 2), ('have', 2)]\n"
     ]
    }
   ],
   "source": [
    "print(commons)"
   ]
  },
  {
   "cell_type": "code",
   "execution_count": 44,
   "id": "bed42573-4f2f-4396-a176-dce6e2d5ac93",
   "metadata": {},
   "outputs": [],
   "source": [
    "# Find up to 5 words of length 4 or more that occur at least twice "
   ]
  },
  {
   "cell_type": "code",
   "execution_count": 45,
   "id": "be74c5fe-eb1f-4454-85d1-a1c143f6d6ab",
   "metadata": {},
   "outputs": [],
   "source": [
    "commons = [(w,c) for w,c in word_count.most_common() if len(w) >= 4 and c >= 2][:5]\n"
   ]
  },
  {
   "cell_type": "code",
   "execution_count": 46,
   "id": "4ee62299-0e95-4b6c-a2ae-10133d2c0ab4",
   "metadata": {},
   "outputs": [
    {
     "name": "stdout",
     "output_type": "stream",
     "text": [
      "[('that', 4), ('look', 2), ('dull', 2), ('feel', 2), ('right', 2)]\n"
     ]
    }
   ],
   "source": [
    "print(commons)"
   ]
  },
  {
   "cell_type": "code",
   "execution_count": 47,
   "id": "6f35aad6-a692-438f-bbae-890578f96257",
   "metadata": {},
   "outputs": [],
   "source": [
    "#regular expressions"
   ]
  },
  {
   "cell_type": "code",
   "execution_count": 48,
   "id": "e3a71e08-783d-4e25-86e9-0d2724c6a4ff",
   "metadata": {},
   "outputs": [],
   "source": [
    "import re"
   ]
  },
  {
   "cell_type": "code",
   "execution_count": 49,
   "id": "38f8ce0f-ddd3-40d3-a8ff-cdf7440fbe6a",
   "metadata": {},
   "outputs": [],
   "source": [
    "#searching for a pattern in a string using re.search function"
   ]
  },
  {
   "cell_type": "code",
   "execution_count": 50,
   "id": "a31b8e4d-d710-4b34-937e-7659cd9de483",
   "metadata": {},
   "outputs": [],
   "source": [
    "res = re.search('a','cat') # search for a pattern 'a' in target 'cat'"
   ]
  },
  {
   "cell_type": "code",
   "execution_count": 51,
   "id": "3e5bcf0b-e26a-449f-a7a5-9729e3cd96a4",
   "metadata": {},
   "outputs": [
    {
     "data": {
      "text/plain": [
       "<re.Match object; span=(1, 2), match='a'>"
      ]
     },
     "execution_count": 51,
     "metadata": {},
     "output_type": "execute_result"
    }
   ],
   "source": [
    "res"
   ]
  },
  {
   "cell_type": "code",
   "execution_count": 52,
   "id": "5f2f8f8d-000f-49bd-8658-efdb54e1a5b6",
   "metadata": {},
   "outputs": [
    {
     "name": "stdout",
     "output_type": "stream",
     "text": [
      "not matched\n"
     ]
    }
   ],
   "source": [
    "print(\"matched\") if re.search('a', 'dog') else print('not matched')"
   ]
  },
  {
   "cell_type": "code",
   "execution_count": 53,
   "id": "ac22e62e-e21f-4b1a-95d1-2e75def769ac",
   "metadata": {},
   "outputs": [
    {
     "data": {
      "text/plain": [
       "<re.Match object; span=(1, 3), match='ar'>"
      ]
     },
     "execution_count": 53,
     "metadata": {},
     "output_type": "execute_result"
    }
   ],
   "source": [
    "res = re.search('ar', 'barbaric') \n",
    "res"
   ]
  },
  {
   "cell_type": "code",
   "execution_count": 54,
   "id": "f738c0fd-5631-4056-8822-d8a6422793e2",
   "metadata": {},
   "outputs": [],
   "source": [
    "#writing regexp patterns with metacharacters "
   ]
  },
  {
   "cell_type": "code",
   "execution_count": 55,
   "id": "6bb05772-46bb-417c-aa6e-c387beca2ff5",
   "metadata": {},
   "outputs": [],
   "source": [
    "#example 1 using * metacharacter "
   ]
  },
  {
   "cell_type": "code",
   "execution_count": 57,
   "id": "2a3435e1-faaa-4218-8368-effef9036794",
   "metadata": {},
   "outputs": [
    {
     "name": "stdin",
     "output_type": "stream",
     "text": [
      "string? ('quit' to stop) at\n"
     ]
    },
    {
     "name": "stdout",
     "output_type": "stream",
     "text": [
      "match\n"
     ]
    },
    {
     "name": "stdin",
     "output_type": "stream",
     "text": [
      "string? ('quit' to stop) hat\n"
     ]
    },
    {
     "name": "stdout",
     "output_type": "stream",
     "text": [
      "match\n"
     ]
    },
    {
     "name": "stdin",
     "output_type": "stream",
     "text": [
      "string? ('quit' to stop) hi\n"
     ]
    },
    {
     "name": "stdout",
     "output_type": "stream",
     "text": [
      "no match\n"
     ]
    },
    {
     "name": "stdin",
     "output_type": "stream",
     "text": [
      "string? ('quit' to stop) atc\n"
     ]
    },
    {
     "name": "stdout",
     "output_type": "stream",
     "text": [
      "match\n"
     ]
    },
    {
     "name": "stdin",
     "output_type": "stream",
     "text": [
      "string? ('quit' to stop) act\n"
     ]
    },
    {
     "name": "stdout",
     "output_type": "stream",
     "text": [
      "match\n"
     ]
    },
    {
     "name": "stdin",
     "output_type": "stream",
     "text": [
      "string? ('quit' to stop) alkjljljlkt\n"
     ]
    },
    {
     "name": "stdout",
     "output_type": "stream",
     "text": [
      "no match\n"
     ]
    },
    {
     "name": "stdin",
     "output_type": "stream",
     "text": [
      "string? ('quit' to stop) avt\n"
     ]
    },
    {
     "name": "stdout",
     "output_type": "stream",
     "text": [
      "no match\n"
     ]
    },
    {
     "name": "stdin",
     "output_type": "stream",
     "text": [
      "string? ('quit' to stop) act\n"
     ]
    },
    {
     "name": "stdout",
     "output_type": "stream",
     "text": [
      "match\n"
     ]
    },
    {
     "name": "stdin",
     "output_type": "stream",
     "text": [
      "string? ('quit' to stop) ac\n"
     ]
    },
    {
     "name": "stdout",
     "output_type": "stream",
     "text": [
      "no match\n"
     ]
    },
    {
     "name": "stdin",
     "output_type": "stream",
     "text": [
      "string? ('quit' to stop) ct\n"
     ]
    },
    {
     "name": "stdout",
     "output_type": "stream",
     "text": [
      "no match\n"
     ]
    },
    {
     "name": "stdin",
     "output_type": "stream",
     "text": [
      "string? ('quit' to stop) atc\n"
     ]
    },
    {
     "name": "stdout",
     "output_type": "stream",
     "text": [
      "match\n"
     ]
    },
    {
     "name": "stdin",
     "output_type": "stream",
     "text": [
      "string? ('quit' to stop) cartesian \n"
     ]
    },
    {
     "name": "stdout",
     "output_type": "stream",
     "text": [
      "no match\n"
     ]
    },
    {
     "name": "stdin",
     "output_type": "stream",
     "text": [
      "string? ('quit' to stop) at\n"
     ]
    },
    {
     "name": "stdout",
     "output_type": "stream",
     "text": [
      "match\n"
     ]
    },
    {
     "name": "stdin",
     "output_type": "stream",
     "text": [
      "string? ('quit' to stop) factor\n"
     ]
    },
    {
     "name": "stdout",
     "output_type": "stream",
     "text": [
      "match\n"
     ]
    },
    {
     "name": "stdin",
     "output_type": "stream",
     "text": [
      "string? ('quit' to stop) quitr\n"
     ]
    },
    {
     "name": "stdout",
     "output_type": "stream",
     "text": [
      "no match\n"
     ]
    },
    {
     "name": "stdin",
     "output_type": "stream",
     "text": [
      "string? ('quit' to stop) quit\n"
     ]
    }
   ],
   "source": [
    "while True: \n",
    "    astr = input(\"string? ('quit' to stop)\")\n",
    "    if astr == 'quit':\n",
    "        break\n",
    "    res = re.search('ac*t', astr)\n",
    "    print('match') if res else print('no match') \n"
   ]
  },
  {
   "cell_type": "code",
   "execution_count": 58,
   "id": "7ad3f031-22e0-4ec2-92fb-8956156a60b2",
   "metadata": {},
   "outputs": [],
   "source": [
    "#example 2 using + metacharacter "
   ]
  },
  {
   "cell_type": "code",
   "execution_count": 59,
   "id": "6ff81eb6-00c2-4334-a158-9550d13776d7",
   "metadata": {},
   "outputs": [
    {
     "name": "stdin",
     "output_type": "stream",
     "text": [
      "string? ('quit' to stop) act\n"
     ]
    },
    {
     "name": "stdout",
     "output_type": "stream",
     "text": [
      "match\n"
     ]
    },
    {
     "name": "stdin",
     "output_type": "stream",
     "text": [
      "string? ('quit' to stop) actor\n"
     ]
    },
    {
     "name": "stdout",
     "output_type": "stream",
     "text": [
      "match\n"
     ]
    },
    {
     "name": "stdin",
     "output_type": "stream",
     "text": [
      "string? ('quit' to stop) at\n"
     ]
    },
    {
     "name": "stdout",
     "output_type": "stream",
     "text": [
      "match\n"
     ]
    },
    {
     "name": "stdin",
     "output_type": "stream",
     "text": [
      "string? ('quit' to stop) avt\n"
     ]
    },
    {
     "name": "stdout",
     "output_type": "stream",
     "text": [
      "no match\n"
     ]
    },
    {
     "name": "stdin",
     "output_type": "stream",
     "text": [
      "string? ('quit' to stop) quit\n"
     ]
    }
   ],
   "source": [
    "while True: \n",
    "    astr = input(\"string? ('quit' to stop)\")\n",
    "    if astr == 'quit':\n",
    "        break\n",
    "    res = re.search('ac*t', astr)\n",
    "    print('match') if res else print('no match') "
   ]
  },
  {
   "cell_type": "code",
   "execution_count": 60,
   "id": "7acb2b0f-2c07-4baa-aa2d-45cfb34385ab",
   "metadata": {},
   "outputs": [],
   "source": [
    "#example 3 using metacharacter [] and *"
   ]
  },
  {
   "cell_type": "code",
   "execution_count": 61,
   "id": "380a55cd-6ec9-4066-ad65-8ed5d617e333",
   "metadata": {},
   "outputs": [
    {
     "name": "stdin",
     "output_type": "stream",
     "text": [
      "string? ('quit' to stop) alskdfjlsdkfjlskdfjlt\n"
     ]
    },
    {
     "name": "stdout",
     "output_type": "stream",
     "text": [
      "no match\n"
     ]
    },
    {
     "name": "stdin",
     "output_type": "stream",
     "text": [
      "string? ('quit' to stop) aslkfdjldksft\n"
     ]
    },
    {
     "name": "stdout",
     "output_type": "stream",
     "text": [
      "no match\n"
     ]
    },
    {
     "name": "stdin",
     "output_type": "stream",
     "text": [
      "string? ('quit' to stop) aslkcjdyt\n"
     ]
    },
    {
     "name": "stdout",
     "output_type": "stream",
     "text": [
      "no match\n"
     ]
    },
    {
     "name": "stdin",
     "output_type": "stream",
     "text": [
      "string? ('quit' to stop) at\n"
     ]
    },
    {
     "name": "stdout",
     "output_type": "stream",
     "text": [
      "match\n"
     ]
    },
    {
     "name": "stdin",
     "output_type": "stream",
     "text": [
      "string? ('quit' to stop) a09t\n"
     ]
    },
    {
     "name": "stdout",
     "output_type": "stream",
     "text": [
      "match\n"
     ]
    },
    {
     "name": "stdin",
     "output_type": "stream",
     "text": [
      "string? ('quit' to stop) quit\n"
     ]
    }
   ],
   "source": [
    "while True: \n",
    "    astr = input(\"string? ('quit' to stop)\")\n",
    "    if astr == 'quit':\n",
    "        break\n",
    "    res = re.search('a[0-9]*t', astr)\n",
    "    print('match') if res else print('no match') "
   ]
  },
  {
   "cell_type": "code",
   "execution_count": 62,
   "id": "bed7fbe2-a035-4c89-8866-a2ee4e1068ed",
   "metadata": {},
   "outputs": [],
   "source": [
    "#example 4 using metacharacters [] and * "
   ]
  },
  {
   "cell_type": "code",
   "execution_count": 63,
   "id": "95eeed88-f253-4f4f-8c6a-9be5fee0f2ad",
   "metadata": {},
   "outputs": [
    {
     "name": "stdin",
     "output_type": "stream",
     "text": [
      "string? ('quit' to stop) ajf020UJ98FJDt\n"
     ]
    },
    {
     "name": "stdout",
     "output_type": "stream",
     "text": [
      "match\n"
     ]
    },
    {
     "name": "stdin",
     "output_type": "stream",
     "text": [
      "string? ('quit' to stop) quit\n"
     ]
    }
   ],
   "source": [
    "while True: \n",
    "    astr = input(\"string? ('quit' to stop)\")\n",
    "    if astr == 'quit':\n",
    "        break\n",
    "    res = re.search('a[a-zA-Z0-9]*t', astr)\n",
    "    print('match') if res else print('no match') "
   ]
  },
  {
   "cell_type": "code",
   "execution_count": 64,
   "id": "502e6f14-6ff1-482a-a738-fd34df4da422",
   "metadata": {},
   "outputs": [],
   "source": [
    "#example 5 using metacharacters [] and + "
   ]
  },
  {
   "cell_type": "code",
   "execution_count": 66,
   "id": "37899542-e0de-4d0d-975d-da98c9bac0ee",
   "metadata": {},
   "outputs": [
    {
     "name": "stdin",
     "output_type": "stream",
     "text": [
      "string? ('quit' to stop) asldkfsjdl10984t\n"
     ]
    },
    {
     "name": "stdout",
     "output_type": "stream",
     "text": [
      "match\n"
     ]
    },
    {
     "name": "stdin",
     "output_type": "stream",
     "text": [
      "string? ('quit' to stop) a0942582lksdfjt\n"
     ]
    },
    {
     "name": "stdout",
     "output_type": "stream",
     "text": [
      "no match\n"
     ]
    },
    {
     "name": "stdin",
     "output_type": "stream",
     "text": [
      "string? ('quit' to stop) quit\n"
     ]
    }
   ],
   "source": [
    "while True: \n",
    "    astr = input(\"string? ('quit' to stop)\")\n",
    "    if astr == 'quit':\n",
    "        break\n",
    "    res = re.search('a[a-zA-Z]+[0-9]+t', astr)\n",
    "    print('match') if res else print('no match') "
   ]
  },
  {
   "cell_type": "code",
   "execution_count": null,
   "id": "8aeda77e-f454-4796-84b0-c369c250e8b7",
   "metadata": {},
   "outputs": [],
   "source": [
    "while True: \n",
    "    astr = input(\"string? ('quit' to stop)\")\n",
    "    if astr == 'quit':\n",
    "        break\n",
    "    res = re.search('a[0-9]+[a-zA-Z]+t', astr)\n",
    "    print('match') if res else print('no match') "
   ]
  }
 ],
 "metadata": {
  "kernelspec": {
   "display_name": "Python 3 (ipykernel)",
   "language": "python",
   "name": "python3"
  },
  "language_info": {
   "codemirror_mode": {
    "name": "ipython",
    "version": 3
   },
   "file_extension": ".py",
   "mimetype": "text/x-python",
   "name": "python",
   "nbconvert_exporter": "python",
   "pygments_lexer": "ipython3",
   "version": "3.9.7"
  }
 },
 "nbformat": 4,
 "nbformat_minor": 5
}
