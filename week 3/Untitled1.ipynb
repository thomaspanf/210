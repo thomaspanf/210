{
 "cells": [
  {
   "cell_type": "code",
   "execution_count": 1,
   "id": "b04c4550-d26e-4cb3-9b0b-e76c86bc0cbc",
   "metadata": {},
   "outputs": [
    {
     "data": {
      "text/plain": [
       "[0, 1, 2, 3, 4, 5, 6, 7, 8, 9, 10]"
      ]
     },
     "execution_count": 1,
     "metadata": {},
     "output_type": "execute_result"
    }
   ],
   "source": [
    "nums = [x for x in range(11)]\n",
    "nums"
   ]
  },
  {
   "cell_type": "code",
   "execution_count": 2,
   "id": "d01a311f-8212-4d82-8c65-197ba6e95c9c",
   "metadata": {},
   "outputs": [
    {
     "data": {
      "text/plain": [
       "[0, 2, 4, 6, 8, 10, 12, 14, 16, 18, 20]"
      ]
     },
     "execution_count": 2,
     "metadata": {},
     "output_type": "execute_result"
    }
   ],
   "source": [
    "evens = [x for x in range(21) if x%2  == 0]\n",
    "evens"
   ]
  },
  {
   "cell_type": "code",
   "execution_count": 3,
   "id": "fdd84242-692b-4228-a076-25b700d019b5",
   "metadata": {},
   "outputs": [
    {
     "data": {
      "text/plain": [
       "[(1, 1), (2, 4), (3, 9), (4, 16), (5, 25)]"
      ]
     },
     "execution_count": 3,
     "metadata": {},
     "output_type": "execute_result"
    }
   ],
   "source": [
    "squares = [(x,x*x) for x in range(1,6)]\n",
    "squares"
   ]
  },
  {
   "cell_type": "code",
   "execution_count": 4,
   "id": "cca64e07-03f9-4f38-800b-034ab243097b",
   "metadata": {},
   "outputs": [],
   "source": [
    "#extract text from string "
   ]
  },
  {
   "cell_type": "code",
   "execution_count": 6,
   "id": "a5e50629-8826-47db-b585-ee3c496db033",
   "metadata": {},
   "outputs": [
    {
     "data": {
      "text/plain": [
       "['i',\n",
       " 'e',\n",
       " 'o',\n",
       " 'a',\n",
       " 'o',\n",
       " 'u',\n",
       " 'e',\n",
       " 'e',\n",
       " 'e',\n",
       " 'o',\n",
       " 'u',\n",
       " 'e',\n",
       " 'a',\n",
       " 'I',\n",
       " 'o',\n",
       " 'e',\n",
       " 'o',\n",
       " 'u',\n",
       " 'a',\n",
       " 'e',\n",
       " 'a',\n",
       " 'o',\n",
       " 'o',\n",
       " 'a',\n",
       " 'i',\n",
       " 'e',\n",
       " 'i']"
      ]
     },
     "execution_count": 6,
     "metadata": {},
     "output_type": "execute_result"
    }
   ],
   "source": [
    "txt = 'Friends, Romans, Countrymen, lend me your ears; I come to bury Casear, not to praise him' \n",
    "vowels = [v for v in txt if v.lower() in 'aeiou']\n",
    "vowels"
   ]
  },
  {
   "cell_type": "code",
   "execution_count": 7,
   "id": "0e94c41e-2362-48f7-b966-cea39bf33bb1",
   "metadata": {},
   "outputs": [],
   "source": [
    "txt = 'Friends, Romans, Countrymen, lend me your ears; I come to bury Casear, not to praise him' \n",
    "lst = txt.split() # useful string method "
   ]
  },
  {
   "cell_type": "code",
   "execution_count": 8,
   "id": "480b90a8-a25a-4a0b-9f81-912ceb909a95",
   "metadata": {},
   "outputs": [
    {
     "data": {
      "text/plain": [
       "['Friends,',\n",
       " 'Romans,',\n",
       " 'Countrymen,',\n",
       " 'lend',\n",
       " 'me',\n",
       " 'your',\n",
       " 'ears;',\n",
       " 'I',\n",
       " 'come',\n",
       " 'to',\n",
       " 'bury',\n",
       " 'Casear,',\n",
       " 'not',\n",
       " 'to',\n",
       " 'praise',\n",
       " 'him']"
      ]
     },
     "execution_count": 8,
     "metadata": {},
     "output_type": "execute_result"
    }
   ],
   "source": [
    "lst"
   ]
  },
  {
   "cell_type": "code",
   "execution_count": 11,
   "id": "beac22e4-cf04-486b-8f59-760c966644aa",
   "metadata": {},
   "outputs": [],
   "source": [
    "vowels = [v for word in lst for v in word if len(word) > 1 and v.lower() in 'aeiou'] "
   ]
  },
  {
   "cell_type": "code",
   "execution_count": 12,
   "id": "d6d998df-4a8b-4323-a86b-a73b53d1bdd2",
   "metadata": {},
   "outputs": [
    {
     "data": {
      "text/plain": [
       "['i',\n",
       " 'e',\n",
       " 'o',\n",
       " 'a',\n",
       " 'o',\n",
       " 'u',\n",
       " 'e',\n",
       " 'e',\n",
       " 'e',\n",
       " 'o',\n",
       " 'u',\n",
       " 'e',\n",
       " 'a',\n",
       " 'o',\n",
       " 'e',\n",
       " 'o',\n",
       " 'u',\n",
       " 'a',\n",
       " 'e',\n",
       " 'a',\n",
       " 'o',\n",
       " 'o',\n",
       " 'a',\n",
       " 'i',\n",
       " 'e',\n",
       " 'i']"
      ]
     },
     "execution_count": 12,
     "metadata": {},
     "output_type": "execute_result"
    }
   ],
   "source": [
    "vowels"
   ]
  },
  {
   "cell_type": "code",
   "execution_count": 13,
   "id": "76ba52e3-a53a-4894-93bb-419a93d894d2",
   "metadata": {},
   "outputs": [],
   "source": [
    "# extract all 200 elvel classes from a list of course numbers"
   ]
  },
  {
   "cell_type": "code",
   "execution_count": 14,
   "id": "baa3c443-d0c4-45c2-b80d-ffdb72437fc9",
   "metadata": {},
   "outputs": [],
   "source": [
    "courses = ['198:111', '198:210', '640:250', '750:313']"
   ]
  },
  {
   "cell_type": "code",
   "execution_count": 18,
   "id": "88260566-22c7-4be0-bc01-4c41873ec066",
   "metadata": {},
   "outputs": [
    {
     "data": {
      "text/plain": [
       "['198:210', '640:250']"
      ]
     },
     "execution_count": 18,
     "metadata": {},
     "output_type": "execute_result"
    }
   ],
   "source": [
    "sub200 = [cl for cl in courses if cl[cl.find(':')+1] == '2']\n",
    "sub200"
   ]
  },
  {
   "cell_type": "code",
   "execution_count": 22,
   "id": "c3ecff72-6afc-4338-9993-cc753ed1f581",
   "metadata": {},
   "outputs": [
    {
     "data": {
      "text/plain": [
       "[1992, 1996, 2000, 2004, 2008, 2012, 2016, 2020]"
      ]
     },
     "execution_count": 22,
     "metadata": {},
     "output_type": "execute_result"
    }
   ],
   "source": [
    "leaps = []\n",
    "for yr in range (1990, 2021):\n",
    "    if(yr%4 == 0 and yr % 100 != 0) or (yr%400== 0):\n",
    "        leaps.append(yr)\n",
    "leaps\n"
   ]
  },
  {
   "cell_type": "code",
   "execution_count": 26,
   "id": "a25a6c69-ed36-450b-be38-83ded70bbc08",
   "metadata": {},
   "outputs": [
    {
     "data": {
      "text/plain": [
       "[1992, 1996, 2000, 2004, 2008, 2012, 2016, 2020]"
      ]
     },
     "execution_count": 26,
     "metadata": {},
     "output_type": "execute_result"
    }
   ],
   "source": [
    "#using list comprehension \n",
    "leapsyr = [yr for yr in range(1990,2021)\n",
    "        if(yr%4 == 0 and yr % 100 != 0) or (yr%400== 0)]\n",
    "leapsyr    \n",
    "           "
   ]
  },
  {
   "cell_type": "code",
   "execution_count": 27,
   "id": "438d5e01-9403-422a-b5a6-5e14b02543bc",
   "metadata": {},
   "outputs": [],
   "source": [
    "#given list of integers x and y, generate all pair of values in x and y, except if they are equal "
   ]
  },
  {
   "cell_type": "code",
   "execution_count": 29,
   "id": "00767160-27aa-4ffe-bfd0-08bd90fdb390",
   "metadata": {},
   "outputs": [],
   "source": [
    "def get_pairs(x,y):\n",
    "    return[(xv, yv) for xv in x for yv in y if xv  != yv]"
   ]
  },
  {
   "cell_type": "code",
   "execution_count": 30,
   "id": "a847e190-9de5-49a4-8b7f-fb828bba12fc",
   "metadata": {},
   "outputs": [
    {
     "data": {
      "text/plain": [
       "[(1, 2), (1, 4), (3, 2), (3, 4), (2, 4)]"
      ]
     },
     "execution_count": 30,
     "metadata": {},
     "output_type": "execute_result"
    }
   ],
   "source": [
    "get_pairs([1,3,2], [2,4])"
   ]
  },
  {
   "cell_type": "code",
   "execution_count": 31,
   "id": "f696a8ba-71f4-4e66-ad1c-15380738d7a8",
   "metadata": {},
   "outputs": [
    {
     "data": {
      "text/plain": [
       "[(1, 3),\n",
       " (1, 6),\n",
       " (3, 1),\n",
       " (3, 6),\n",
       " (5, 3),\n",
       " (5, 1),\n",
       " (5, 6),\n",
       " (4, 3),\n",
       " (4, 1),\n",
       " (4, 6)]"
      ]
     },
     "execution_count": 31,
     "metadata": {},
     "output_type": "execute_result"
    }
   ],
   "source": [
    "get_pairs([1,3,5,4], [3,1,6])"
   ]
  },
  {
   "cell_type": "code",
   "execution_count": 32,
   "id": "174fd2a2-3f24-42ce-931e-702abd892ce3",
   "metadata": {},
   "outputs": [],
   "source": [
    "#generate pairs x,y where 0 <= x < 5, and x < y < 5"
   ]
  },
  {
   "cell_type": "code",
   "execution_count": 33,
   "id": "b6da90ef-1fb6-4281-87b7-8230314af41d",
   "metadata": {},
   "outputs": [
    {
     "data": {
      "text/plain": [
       "[(0, 1),\n",
       " (0, 2),\n",
       " (0, 3),\n",
       " (0, 4),\n",
       " (1, 2),\n",
       " (1, 3),\n",
       " (1, 4),\n",
       " (2, 3),\n",
       " (2, 4),\n",
       " (3, 4)]"
      ]
     },
     "execution_count": 33,
     "metadata": {},
     "output_type": "execute_result"
    }
   ],
   "source": [
    "increasing_pairs = [(x,y) for x in range(5) for y in range(x+1,5)]\n",
    "increasing_pairs"
   ]
  },
  {
   "cell_type": "code",
   "execution_count": 34,
   "id": "bfafa4b1-1445-4834-89a2-e8b1124a8533",
   "metadata": {},
   "outputs": [
    {
     "data": {
      "text/plain": [
       "[(0, 1),\n",
       " (0, 2),\n",
       " (0, 3),\n",
       " (0, 4),\n",
       " (1, 2),\n",
       " (1, 3),\n",
       " (1, 4),\n",
       " (2, 3),\n",
       " (2, 4),\n",
       " (3, 4)]"
      ]
     },
     "execution_count": 34,
     "metadata": {},
     "output_type": "execute_result"
    }
   ],
   "source": [
    "increasing_pairs = [(x,y) for x in range(5) for y in range(5) if y > x] \n",
    "increasing_pairs"
   ]
  },
  {
   "cell_type": "code",
   "execution_count": 35,
   "id": "f458eba3-f9ff-483f-ab74-2da6c7116574",
   "metadata": {},
   "outputs": [],
   "source": [
    "#generate the list [[1,2,3], [1,2,3], [1,2,3]]"
   ]
  },
  {
   "cell_type": "code",
   "execution_count": 36,
   "id": "fdf94904-c3cd-4407-a859-0342308b4a4f",
   "metadata": {},
   "outputs": [],
   "source": [
    "list_of_lists = [[j for j in range(1,4)] for i in range(1,4)]"
   ]
  },
  {
   "cell_type": "code",
   "execution_count": 37,
   "id": "9943e441-2037-431f-be21-216f91318ed7",
   "metadata": {},
   "outputs": [
    {
     "data": {
      "text/plain": [
       "[[1, 2, 3], [1, 2, 3], [1, 2, 3]]"
      ]
     },
     "execution_count": 37,
     "metadata": {},
     "output_type": "execute_result"
    }
   ],
   "source": [
    "list_of_lists"
   ]
  },
  {
   "cell_type": "code",
   "execution_count": 38,
   "id": "3c9da879-3c0c-41bd-ba56-ce8aa81e5b88",
   "metadata": {},
   "outputs": [],
   "source": [
    "#generate the list [[1,2,3], [4,5,6], [7,8,9]]"
   ]
  },
  {
   "cell_type": "code",
   "execution_count": 43,
   "id": "69d859de-7b1c-4128-ae1f-1191d0af3736",
   "metadata": {},
   "outputs": [],
   "source": [
    "list_of_lists = [[j+(i-1)*3 for j in range(1,4)] for i in range(1,4)] "
   ]
  },
  {
   "cell_type": "code",
   "execution_count": 44,
   "id": "82078831-db5d-4be8-a6ef-4a1f8a0ffed7",
   "metadata": {},
   "outputs": [
    {
     "data": {
      "text/plain": [
       "[[1, 2, 3], [4, 5, 6], [7, 8, 9]]"
      ]
     },
     "execution_count": 44,
     "metadata": {},
     "output_type": "execute_result"
    }
   ],
   "source": [
    "list_of_lists"
   ]
  },
  {
   "cell_type": "code",
   "execution_count": 46,
   "id": "1b787519-db12-4fa4-99b0-35f27240f181",
   "metadata": {},
   "outputs": [
    {
     "data": {
      "text/plain": [
       "[[1], [1, 2], [1, 2, 3]]"
      ]
     },
     "execution_count": 46,
     "metadata": {},
     "output_type": "execute_result"
    }
   ],
   "source": [
    "#list of varying lengths \n",
    "varying_lengths = [[j for j in range(1,i)] for i in range(2,5)]\n",
    "\n",
    "varying_lengths"
   ]
  },
  {
   "cell_type": "code",
   "execution_count": 47,
   "id": "e0e69936-cc05-415f-8b11-dab5e18fb21d",
   "metadata": {},
   "outputs": [],
   "source": [
    "#sorting"
   ]
  },
  {
   "cell_type": "code",
   "execution_count": 48,
   "id": "5f9be901-3c51-426c-a4df-43739720bf20",
   "metadata": {},
   "outputs": [
    {
     "data": {
      "text/plain": [
       "[1, 1, 2, 3, 3, 4, 5, 9]"
      ]
     },
     "execution_count": 48,
     "metadata": {},
     "output_type": "execute_result"
    }
   ],
   "source": [
    "lst1 = [3,2,4,1,5,9,3,1]\n",
    "lst1.sort()\n",
    "lst1"
   ]
  },
  {
   "cell_type": "code",
   "execution_count": 49,
   "id": "ee2256cf-1373-42b9-b2a4-047394d9b937",
   "metadata": {},
   "outputs": [],
   "source": [
    "lst1.sort(reverse = True)"
   ]
  },
  {
   "cell_type": "code",
   "execution_count": 51,
   "id": "5274c2ed-1817-4cf7-9d12-4fd979060ccc",
   "metadata": {},
   "outputs": [
    {
     "data": {
      "text/plain": [
       "[9, 5, 4, 3, 3, 2, 1, 1]"
      ]
     },
     "execution_count": 51,
     "metadata": {},
     "output_type": "execute_result"
    }
   ],
   "source": [
    "lst1"
   ]
  },
  {
   "cell_type": "code",
   "execution_count": 54,
   "id": "a611473c-5907-4b62-a0fd-c871eff2644a",
   "metadata": {},
   "outputs": [],
   "source": [
    "lst2 = [3, -2, 4, 1, -5, 9, 3, -1]\n",
    "lst2.sort(key=abs)"
   ]
  },
  {
   "cell_type": "code",
   "execution_count": 55,
   "id": "06a6a318-b380-41df-9749-2c1c86645dd9",
   "metadata": {},
   "outputs": [
    {
     "data": {
      "text/plain": [
       "[1, -1, -2, 3, 3, 4, -5, 9]"
      ]
     },
     "execution_count": 55,
     "metadata": {},
     "output_type": "execute_result"
    }
   ],
   "source": [
    "lst2"
   ]
  },
  {
   "cell_type": "code",
   "execution_count": 56,
   "id": "b700cbc9-5595-44b7-b7ea-c6f0c4b386dd",
   "metadata": {},
   "outputs": [],
   "source": [
    "#reverse sort a list without modifying it "
   ]
  },
  {
   "cell_type": "code",
   "execution_count": 57,
   "id": "7f79859c-d8a5-48d1-ba5b-6c7b59883b83",
   "metadata": {},
   "outputs": [
    {
     "data": {
      "text/plain": [
       "[9, -5, 4, 3, 3, -2, 1, -1]"
      ]
     },
     "execution_count": 57,
     "metadata": {},
     "output_type": "execute_result"
    }
   ],
   "source": [
    "lst2 = [3, -2, 4, 1, -5, 9, 3, -1]\n",
    "lst2sort = sorted(lst2, key = abs, reverse = True)\n",
    "lst2\n",
    "lst2sort"
   ]
  },
  {
   "cell_type": "code",
   "execution_count": 58,
   "id": "0090989a-2698-4892-81e2-98a2f503a781",
   "metadata": {},
   "outputs": [
    {
     "data": {
      "text/plain": [
       "[3, -2, 4, 1, -5, 9, 3, -1]"
      ]
     },
     "execution_count": 58,
     "metadata": {},
     "output_type": "execute_result"
    }
   ],
   "source": [
    "lst2"
   ]
  },
  {
   "cell_type": "code",
   "execution_count": 59,
   "id": "30015246-bc0b-4624-92d3-7a2fa7fecafd",
   "metadata": {},
   "outputs": [],
   "source": [
    "#Lambda"
   ]
  },
  {
   "cell_type": "code",
   "execution_count": 61,
   "id": "3db88ccd-1faa-46b3-9947-7f42f8b48d03",
   "metadata": {},
   "outputs": [
    {
     "data": {
      "text/plain": [
       "5"
      ]
     },
     "execution_count": 61,
     "metadata": {},
     "output_type": "execute_result"
    }
   ],
   "source": [
    "#two params in, result out - no explicit return \n",
    "lam = lambda a,b: a+b \n",
    "lam(2,3)"
   ]
  },
  {
   "cell_type": "code",
   "execution_count": 62,
   "id": "cecc9065-c3e7-4b7a-9980-1374c30da146",
   "metadata": {},
   "outputs": [
    {
     "data": {
      "text/plain": [
       "5"
      ]
     },
     "execution_count": 62,
     "metadata": {},
     "output_type": "execute_result"
    }
   ],
   "source": [
    "(lambda a,b : a+b)(2,3)"
   ]
  },
  {
   "cell_type": "code",
   "execution_count": 63,
   "id": "bcb97b19-2ef0-4a30-92b4-1c1f0ed41c3a",
   "metadata": {},
   "outputs": [],
   "source": [
    "lam1 = lambda tup: tup[0]/tup[1]"
   ]
  },
  {
   "cell_type": "code",
   "execution_count": 65,
   "id": "89e73875-dc2f-4a90-9f52-1aa820466226",
   "metadata": {},
   "outputs": [
    {
     "data": {
      "text/plain": [
       "1.5"
      ]
     },
     "execution_count": 65,
     "metadata": {},
     "output_type": "execute_result"
    }
   ],
   "source": [
    "lam1((3,2))"
   ]
  },
  {
   "cell_type": "code",
   "execution_count": 67,
   "id": "ad290271-03cd-421c-be7e-0694c7a97869",
   "metadata": {},
   "outputs": [
    {
     "name": "stdout",
     "output_type": "stream",
     "text": [
      "7\n",
      "12\n"
     ]
    }
   ],
   "source": [
    "lam2 = lambda x,y,z = 0: x+y+z\n",
    "print(lam2(3,4))\n",
    "print(lam2(3,4,5))"
   ]
  },
  {
   "cell_type": "code",
   "execution_count": 68,
   "id": "03f54102-4e7b-4102-aded-28be10c11065",
   "metadata": {},
   "outputs": [
    {
     "ename": "TypeError",
     "evalue": "<lambda>() takes from 2 to 3 positional arguments but 4 were given",
     "output_type": "error",
     "traceback": [
      "\u001b[1;31m---------------------------------------------------------------------------\u001b[0m",
      "\u001b[1;31mTypeError\u001b[0m                                 Traceback (most recent call last)",
      "\u001b[1;32m~\\AppData\\Local\\Temp/ipykernel_12956/3063650793.py\u001b[0m in \u001b[0;36m<module>\u001b[1;34m\u001b[0m\n\u001b[1;32m----> 1\u001b[1;33m \u001b[0mprint\u001b[0m\u001b[1;33m(\u001b[0m\u001b[0mlam2\u001b[0m\u001b[1;33m(\u001b[0m\u001b[1;36m3\u001b[0m\u001b[1;33m,\u001b[0m\u001b[1;36m4\u001b[0m\u001b[1;33m,\u001b[0m\u001b[1;36m5\u001b[0m\u001b[1;33m,\u001b[0m\u001b[1;36m6\u001b[0m\u001b[1;33m)\u001b[0m\u001b[1;33m)\u001b[0m\u001b[1;33m\u001b[0m\u001b[1;33m\u001b[0m\u001b[0m\n\u001b[0m",
      "\u001b[1;31mTypeError\u001b[0m: <lambda>() takes from 2 to 3 positional arguments but 4 were given"
     ]
    }
   ],
   "source": [
    "print(lam2(3,4,5,6))"
   ]
  },
  {
   "cell_type": "code",
   "execution_count": 69,
   "id": "477abc16-7adb-42e7-9d52-9e5bff8a4243",
   "metadata": {},
   "outputs": [
    {
     "data": {
      "text/plain": [
       "[1, -1, -2, 3, 3, 4, -5, 9]"
      ]
     },
     "execution_count": 69,
     "metadata": {},
     "output_type": "execute_result"
    }
   ],
   "source": [
    "lst2 = [3, -2, 4, 1, -5, 9, 3, -1]\n",
    "lst2.sort(key=lambda x: abs(x))\n",
    "lst2"
   ]
  },
  {
   "cell_type": "code",
   "execution_count": null,
   "id": "e587728c-a9b4-4510-ac05-d340a39f70e0",
   "metadata": {},
   "outputs": [],
   "source": []
  }
 ],
 "metadata": {
  "kernelspec": {
   "display_name": "Python 3 (ipykernel)",
   "language": "python",
   "name": "python3"
  },
  "language_info": {
   "codemirror_mode": {
    "name": "ipython",
    "version": 3
   },
   "file_extension": ".py",
   "mimetype": "text/x-python",
   "name": "python",
   "nbconvert_exporter": "python",
   "pygments_lexer": "ipython3",
   "version": "3.9.7"
  }
 },
 "nbformat": 4,
 "nbformat_minor": 5
}
