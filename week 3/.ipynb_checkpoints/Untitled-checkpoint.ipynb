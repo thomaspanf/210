{
 "cells": [
  {
   "cell_type": "code",
   "execution_count": 1,
   "id": "5c5ca40d-722c-4b45-8f36-b1a28b36e699",
   "metadata": {},
   "outputs": [],
   "source": [
    "listofstrings = ['cs', 'ee', 'math']"
   ]
  },
  {
   "cell_type": "code",
   "execution_count": 2,
   "id": "5f6aa788-708e-4b55-a59a-180b1e08d819",
   "metadata": {},
   "outputs": [
    {
     "data": {
      "text/plain": [
       "'cs'"
      ]
     },
     "execution_count": 2,
     "metadata": {},
     "output_type": "execute_result"
    }
   ],
   "source": [
    "listofstrings[0]"
   ]
  },
  {
   "cell_type": "code",
   "execution_count": 3,
   "id": "e44528cc-cc72-4aed-a9d6-35a1270c7621",
   "metadata": {},
   "outputs": [],
   "source": [
    "#list of lists \n",
    "alst = [1,2,3,[4,5,6],[7,8],10,11]"
   ]
  },
  {
   "cell_type": "code",
   "execution_count": 4,
   "id": "598fa14f-c044-42d2-9da3-655a9128f27e",
   "metadata": {},
   "outputs": [
    {
     "data": {
      "text/plain": [
       "[4, 5, 6]"
      ]
     },
     "execution_count": 4,
     "metadata": {},
     "output_type": "execute_result"
    }
   ],
   "source": [
    "alst[3]"
   ]
  },
  {
   "cell_type": "code",
   "execution_count": 5,
   "id": "ded895ff-42d9-4f38-b942-27d48c4621a2",
   "metadata": {},
   "outputs": [
    {
     "data": {
      "text/plain": [
       "5"
      ]
     },
     "execution_count": 5,
     "metadata": {},
     "output_type": "execute_result"
    }
   ],
   "source": [
    "alst[3][1]"
   ]
  },
  {
   "cell_type": "code",
   "execution_count": 6,
   "id": "ae2c5405-8cfe-43f9-935a-1709a3914633",
   "metadata": {},
   "outputs": [],
   "source": [
    "#membership"
   ]
  },
  {
   "cell_type": "code",
   "execution_count": 7,
   "id": "081d1efc-1087-47d9-81b8-36c741449304",
   "metadata": {},
   "outputs": [
    {
     "data": {
      "text/plain": [
       "False"
      ]
     },
     "execution_count": 7,
     "metadata": {},
     "output_type": "execute_result"
    }
   ],
   "source": [
    "6 in alst"
   ]
  },
  {
   "cell_type": "code",
   "execution_count": 8,
   "id": "daf86b81-6b84-4992-852d-3c60c1f0e4ac",
   "metadata": {},
   "outputs": [
    {
     "data": {
      "text/plain": [
       "True"
      ]
     },
     "execution_count": 8,
     "metadata": {},
     "output_type": "execute_result"
    }
   ],
   "source": [
    "[7,8] in alst"
   ]
  },
  {
   "cell_type": "code",
   "execution_count": 9,
   "id": "aa9b8bb4-6f38-4d83-be2a-4c31fdc6345c",
   "metadata": {},
   "outputs": [
    {
     "data": {
      "text/plain": [
       "False"
      ]
     },
     "execution_count": 9,
     "metadata": {},
     "output_type": "execute_result"
    }
   ],
   "source": [
    "[7] in alst"
   ]
  },
  {
   "cell_type": "code",
   "execution_count": 11,
   "id": "1b932847-7895-4aac-94e7-e600fce70eb7",
   "metadata": {},
   "outputs": [],
   "source": [
    "lst = [0,1,2,3,4,5,6,7,8,9]"
   ]
  },
  {
   "cell_type": "code",
   "execution_count": 13,
   "id": "7028b1a6-5c49-464d-ac84-3ed26a51dd2b",
   "metadata": {},
   "outputs": [],
   "source": [
    "nine = lst[9]"
   ]
  },
  {
   "cell_type": "code",
   "execution_count": 14,
   "id": "fe5fb086-7d3c-4f5d-8eb9-debfc7caa592",
   "metadata": {},
   "outputs": [
    {
     "data": {
      "text/plain": [
       "9"
      ]
     },
     "execution_count": 14,
     "metadata": {},
     "output_type": "execute_result"
    }
   ],
   "source": [
    "nine"
   ]
  },
  {
   "cell_type": "code",
   "execution_count": 15,
   "id": "346eba08-1f47-4b67-b96e-821665a4f9ff",
   "metadata": {},
   "outputs": [],
   "source": [
    "eight = lst[-2]"
   ]
  },
  {
   "cell_type": "code",
   "execution_count": 16,
   "id": "779e4742-65d2-42ba-a8ed-74ac6950b1d9",
   "metadata": {},
   "outputs": [
    {
     "data": {
      "text/plain": [
       "8"
      ]
     },
     "execution_count": 16,
     "metadata": {},
     "output_type": "execute_result"
    }
   ],
   "source": [
    "eight"
   ]
  },
  {
   "cell_type": "code",
   "execution_count": 17,
   "id": "aa01c55d-a7df-4e31-ab56-de34901ca689",
   "metadata": {},
   "outputs": [
    {
     "data": {
      "text/plain": [
       "[0, 1, 2, 3, 4, 5, 6, 7, 8, 9]"
      ]
     },
     "execution_count": 17,
     "metadata": {},
     "output_type": "execute_result"
    }
   ],
   "source": [
    "lst"
   ]
  },
  {
   "cell_type": "code",
   "execution_count": 19,
   "id": "2e35057d-5975-4351-b73d-f54d7773c504",
   "metadata": {},
   "outputs": [],
   "source": [
    "#slices of list"
   ]
  },
  {
   "cell_type": "code",
   "execution_count": 23,
   "id": "ba1621b8-fc7c-46cd-9bf1-1d96a72a87ce",
   "metadata": {},
   "outputs": [],
   "source": [
    "second_thru_fourth = lst[1:4]"
   ]
  },
  {
   "cell_type": "code",
   "execution_count": 24,
   "id": "3be913fa-f533-410c-a9bf-f689cf9771e4",
   "metadata": {},
   "outputs": [
    {
     "data": {
      "text/plain": [
       "[11, 2, 3]"
      ]
     },
     "execution_count": 24,
     "metadata": {},
     "output_type": "execute_result"
    }
   ],
   "source": [
    "second_thru_fourth"
   ]
  },
  {
   "cell_type": "code",
   "execution_count": 22,
   "id": "f4bf6654-545e-48f5-ac78-fda37839cf93",
   "metadata": {},
   "outputs": [],
   "source": [
    "lst[1] = 11"
   ]
  },
  {
   "cell_type": "code",
   "execution_count": 25,
   "id": "67fff123-2aac-4d86-8f37-9242c3c4b31c",
   "metadata": {},
   "outputs": [],
   "source": [
    "first_three = lst[:3]"
   ]
  },
  {
   "cell_type": "code",
   "execution_count": 26,
   "id": "0c14797a-6cf5-4c3b-a782-6b0bc259d1bc",
   "metadata": {},
   "outputs": [
    {
     "data": {
      "text/plain": [
       "[0, 11, 2]"
      ]
     },
     "execution_count": 26,
     "metadata": {},
     "output_type": "execute_result"
    }
   ],
   "source": [
    "first_three"
   ]
  },
  {
   "cell_type": "code",
   "execution_count": 27,
   "id": "0d14c23b-2c3e-4f05-a36d-425767e87135",
   "metadata": {},
   "outputs": [
    {
     "data": {
      "text/plain": [
       "[0, 11, 2, 3, 4, 5, 6, 7, 8, 9]"
      ]
     },
     "execution_count": 27,
     "metadata": {},
     "output_type": "execute_result"
    }
   ],
   "source": [
    "lst"
   ]
  },
  {
   "cell_type": "code",
   "execution_count": 28,
   "id": "d21a35af-e1a0-41cd-bd0d-b9fd637658f3",
   "metadata": {},
   "outputs": [],
   "source": [
    "last_three = lst[-3:]"
   ]
  },
  {
   "cell_type": "code",
   "execution_count": 29,
   "id": "1b327ce0-311f-4976-b993-66d36dfe70df",
   "metadata": {},
   "outputs": [
    {
     "data": {
      "text/plain": [
       "[7, 8, 9]"
      ]
     },
     "execution_count": 29,
     "metadata": {},
     "output_type": "execute_result"
    }
   ],
   "source": [
    "last_three"
   ]
  },
  {
   "cell_type": "code",
   "execution_count": 30,
   "id": "8cc43786-9d07-4629-8fd0-b38f17ce8a13",
   "metadata": {},
   "outputs": [],
   "source": [
    "stuff = lst[1:-1]"
   ]
  },
  {
   "cell_type": "code",
   "execution_count": 31,
   "id": "e61736d4-b14a-4525-b421-59c2ebc5ec3f",
   "metadata": {},
   "outputs": [
    {
     "data": {
      "text/plain": [
       "[11, 2, 3, 4, 5, 6, 7, 8]"
      ]
     },
     "execution_count": 31,
     "metadata": {},
     "output_type": "execute_result"
    }
   ],
   "source": [
    "stuff"
   ]
  },
  {
   "cell_type": "code",
   "execution_count": 32,
   "id": "a1687625-441f-4468-bf8b-6fd91fab14a3",
   "metadata": {},
   "outputs": [
    {
     "data": {
      "text/plain": [
       "[0, 11, 2, 3, 4, 5, 6, 7, 8, 9]"
      ]
     },
     "execution_count": 32,
     "metadata": {},
     "output_type": "execute_result"
    }
   ],
   "source": [
    "lst[:]"
   ]
  },
  {
   "cell_type": "code",
   "execution_count": 33,
   "id": "487d6541-6333-413f-88cc-a541ea5ad41c",
   "metadata": {},
   "outputs": [
    {
     "data": {
      "text/plain": [
       "[0, 3, 6, 9]"
      ]
     },
     "execution_count": 33,
     "metadata": {},
     "output_type": "execute_result"
    }
   ],
   "source": [
    "lst[::3]"
   ]
  },
  {
   "cell_type": "code",
   "execution_count": 34,
   "id": "858cdb99-0500-4fb2-a79d-f9e7c7a1f077",
   "metadata": {},
   "outputs": [
    {
     "data": {
      "text/plain": [
       "[8, 6, 4, 2]"
      ]
     },
     "execution_count": 34,
     "metadata": {},
     "output_type": "execute_result"
    }
   ],
   "source": [
    "lst[8:0:-2]"
   ]
  },
  {
   "cell_type": "code",
   "execution_count": 35,
   "id": "5f72519c-f889-4f68-979a-be055713ec9d",
   "metadata": {},
   "outputs": [],
   "source": [
    "xx = [1,2,3]"
   ]
  },
  {
   "cell_type": "code",
   "execution_count": 38,
   "id": "77ce1ac9-69f5-48c1-abc3-746a6a33f267",
   "metadata": {},
   "outputs": [],
   "source": [
    "yy = xx + [4,5,6,7]"
   ]
  },
  {
   "cell_type": "code",
   "execution_count": 39,
   "id": "2e1b561a-0bf0-4f00-972d-d7ad483e7ade",
   "metadata": {},
   "outputs": [
    {
     "data": {
      "text/plain": [
       "[1, 2, 3]"
      ]
     },
     "execution_count": 39,
     "metadata": {},
     "output_type": "execute_result"
    }
   ],
   "source": [
    "xx"
   ]
  },
  {
   "cell_type": "code",
   "execution_count": 40,
   "id": "be701fe7-3377-49e6-831c-8b523a7327d2",
   "metadata": {},
   "outputs": [
    {
     "data": {
      "text/plain": [
       "[1, 2, 3, 4, 5, 6, 7]"
      ]
     },
     "execution_count": 40,
     "metadata": {},
     "output_type": "execute_result"
    }
   ],
   "source": [
    "yy"
   ]
  },
  {
   "cell_type": "code",
   "execution_count": 41,
   "id": "97ba737b-04b7-4fe2-bf1a-3f9e4574863b",
   "metadata": {},
   "outputs": [
    {
     "data": {
      "text/plain": [
       "[1, 2, 3]"
      ]
     },
     "execution_count": 41,
     "metadata": {},
     "output_type": "execute_result"
    }
   ],
   "source": [
    "xx"
   ]
  },
  {
   "cell_type": "code",
   "execution_count": 42,
   "id": "96fba26c-3758-42f6-8c50-9b12a92d886b",
   "metadata": {},
   "outputs": [],
   "source": [
    "xx.extend([4,5,6,7])"
   ]
  },
  {
   "cell_type": "code",
   "execution_count": 43,
   "id": "582a774e-eadc-437c-89ae-5daa3c328759",
   "metadata": {},
   "outputs": [
    {
     "data": {
      "text/plain": [
       "[1, 2, 3, 4, 5, 6, 7]"
      ]
     },
     "execution_count": 43,
     "metadata": {},
     "output_type": "execute_result"
    }
   ],
   "source": [
    "xx"
   ]
  },
  {
   "cell_type": "code",
   "execution_count": 44,
   "id": "2ae414cd-7c42-46e3-b9ab-ea25c769c424",
   "metadata": {},
   "outputs": [],
   "source": [
    "yy = [2,3,4]"
   ]
  },
  {
   "cell_type": "code",
   "execution_count": 46,
   "id": "a99cbac0-9529-4c1d-95a4-88112dca0c22",
   "metadata": {},
   "outputs": [],
   "source": [
    "xx.extend(\"abc\")"
   ]
  },
  {
   "cell_type": "code",
   "execution_count": 48,
   "id": "494afa8f-be19-4d45-97b0-e1164ada9493",
   "metadata": {},
   "outputs": [
    {
     "data": {
      "text/plain": [
       "[1, 2, 3, 4, 5, 6, 7, 'a', 'b', 'c']"
      ]
     },
     "execution_count": 48,
     "metadata": {},
     "output_type": "execute_result"
    }
   ],
   "source": [
    "xx"
   ]
  },
  {
   "cell_type": "code",
   "execution_count": 49,
   "id": "d3e5a602-b47e-4293-8866-0856267c445c",
   "metadata": {},
   "outputs": [],
   "source": [
    "x = [1,2,3]"
   ]
  },
  {
   "cell_type": "code",
   "execution_count": 50,
   "id": "155ec203-5491-4267-8e10-11fab45da336",
   "metadata": {},
   "outputs": [],
   "source": [
    "x.append([4,5,6])"
   ]
  },
  {
   "cell_type": "code",
   "execution_count": 51,
   "id": "06bd5abf-03bf-4989-9d44-8417a04ed926",
   "metadata": {},
   "outputs": [
    {
     "data": {
      "text/plain": [
       "[1, 2, 3, [4, 5, 6]]"
      ]
     },
     "execution_count": 51,
     "metadata": {},
     "output_type": "execute_result"
    }
   ],
   "source": [
    "x"
   ]
  },
  {
   "cell_type": "code",
   "execution_count": 54,
   "id": "5cd66d1f-6c5a-495e-90f1-7f0d4b728691",
   "metadata": {},
   "outputs": [],
   "source": [
    "x.append(\"abc\")"
   ]
  },
  {
   "cell_type": "code",
   "execution_count": 55,
   "id": "d63c80aa-3bfc-460b-b06a-6e35baa66725",
   "metadata": {},
   "outputs": [
    {
     "data": {
      "text/plain": [
       "[1, 2, 3, [4, 5, 6], 'abc', 'abc']"
      ]
     },
     "execution_count": 55,
     "metadata": {},
     "output_type": "execute_result"
    }
   ],
   "source": [
    "x"
   ]
  },
  {
   "cell_type": "code",
   "execution_count": 56,
   "id": "b7052056-b7f1-4285-9d2d-2b14527505cd",
   "metadata": {},
   "outputs": [],
   "source": [
    "#unpacking"
   ]
  },
  {
   "cell_type": "code",
   "execution_count": 57,
   "id": "91405986-f8e9-44c9-a01f-5d69667476ab",
   "metadata": {},
   "outputs": [],
   "source": [
    "a,b = [4,6]"
   ]
  },
  {
   "cell_type": "code",
   "execution_count": 58,
   "id": "cc9b1b46-7560-4b1a-8d36-e624f38f00e5",
   "metadata": {},
   "outputs": [
    {
     "name": "stdout",
     "output_type": "stream",
     "text": [
      "4 6\n"
     ]
    }
   ],
   "source": [
    "print(a,b)"
   ]
  },
  {
   "cell_type": "code",
   "execution_count": 59,
   "id": "38d296b4-0c6c-42d9-b54b-c81d7237b58f",
   "metadata": {},
   "outputs": [],
   "source": [
    "_, b = [4,6]"
   ]
  },
  {
   "cell_type": "code",
   "execution_count": 60,
   "id": "5070d54c-b03d-4b77-b85b-c981b3b870c2",
   "metadata": {},
   "outputs": [
    {
     "data": {
      "text/plain": [
       "6"
      ]
     },
     "execution_count": 60,
     "metadata": {},
     "output_type": "execute_result"
    }
   ],
   "source": [
    "6"
   ]
  },
  {
   "cell_type": "code",
   "execution_count": 61,
   "id": "d90eb436-3887-48aa-abeb-e4407ecab643",
   "metadata": {},
   "outputs": [
    {
     "data": {
      "text/plain": [
       "6"
      ]
     },
     "execution_count": 61,
     "metadata": {},
     "output_type": "execute_result"
    }
   ],
   "source": [
    "b"
   ]
  },
  {
   "cell_type": "code",
   "execution_count": 62,
   "id": "ac4bfc2e-f552-469b-a5b5-2dfd2b594328",
   "metadata": {},
   "outputs": [
    {
     "data": {
      "text/plain": [
       "4"
      ]
     },
     "execution_count": 62,
     "metadata": {},
     "output_type": "execute_result"
    }
   ],
   "source": [
    "a"
   ]
  },
  {
   "cell_type": "code",
   "execution_count": 63,
   "id": "44425098-3ed5-46e2-ae5f-5f30fef21436",
   "metadata": {},
   "outputs": [
    {
     "data": {
      "text/plain": [
       "4"
      ]
     },
     "execution_count": 63,
     "metadata": {},
     "output_type": "execute_result"
    }
   ],
   "source": [
    "a"
   ]
  },
  {
   "cell_type": "code",
   "execution_count": 64,
   "id": "febd9a92-9acd-4a24-9bc3-2d0033fbd47c",
   "metadata": {},
   "outputs": [
    {
     "data": {
      "text/plain": [
       "(4, 6)"
      ]
     },
     "execution_count": 64,
     "metadata": {},
     "output_type": "execute_result"
    }
   ],
   "source": [
    "a,b"
   ]
  },
  {
   "cell_type": "code",
   "execution_count": 67,
   "id": "f620dd59-c206-4fe5-97b6-897b960d3019",
   "metadata": {},
   "outputs": [
    {
     "name": "stdout",
     "output_type": "stream",
     "text": [
      "5\n",
      "[4, -3, 6, 1, -6, 3, 8]\n"
     ]
    }
   ],
   "source": [
    "mylst = [5,4,-3,6,1,-6,3,8]\n",
    "first, *chunk, last = mylst\n",
    "print(first)\n",
    "\n",
    "print(rest)"
   ]
  },
  {
   "cell_type": "code",
   "execution_count": 68,
   "id": "080f642b-9893-4bc4-a498-59b08a123816",
   "metadata": {},
   "outputs": [
    {
     "name": "stdout",
     "output_type": "stream",
     "text": [
      "8\n"
     ]
    }
   ],
   "source": [
    " print(last)"
   ]
  },
  {
   "cell_type": "code",
   "execution_count": 69,
   "id": "a05ff7b7-c2ba-427f-81b8-7036c66dcaf0",
   "metadata": {},
   "outputs": [
    {
     "name": "stdout",
     "output_type": "stream",
     "text": [
      "[4, -3, 6, 1, -6, 3]\n"
     ]
    }
   ],
   "source": [
    "print(chunk)"
   ]
  },
  {
   "cell_type": "code",
   "execution_count": 70,
   "id": "1d81d6ec-ab11-4924-9e73-539b7c3851af",
   "metadata": {},
   "outputs": [
    {
     "data": {
      "text/plain": [
       "[5, 4, -3, 6, 1, -6, 3, 8]"
      ]
     },
     "execution_count": 70,
     "metadata": {},
     "output_type": "execute_result"
    }
   ],
   "source": [
    "mylst"
   ]
  },
  {
   "cell_type": "code",
   "execution_count": 72,
   "id": "187e0b8c-38ea-4d57-a52d-e6d132db9f7c",
   "metadata": {},
   "outputs": [
    {
     "ename": "ValueError",
     "evalue": "too many values to unpack (expected 2)",
     "output_type": "error",
     "traceback": [
      "\u001b[1;31m---------------------------------------------------------------------------\u001b[0m",
      "\u001b[1;31mValueError\u001b[0m                                Traceback (most recent call last)",
      "\u001b[1;32m~\\AppData\\Local\\Temp/ipykernel_18780/2790486569.py\u001b[0m in \u001b[0;36m<module>\u001b[1;34m\u001b[0m\n\u001b[1;32m----> 1\u001b[1;33m \u001b[0mabc\u001b[0m\u001b[1;33m,\u001b[0m \u001b[0mefg\u001b[0m \u001b[1;33m=\u001b[0m \u001b[0mmylst\u001b[0m\u001b[1;33m\u001b[0m\u001b[1;33m\u001b[0m\u001b[0m\n\u001b[0m",
      "\u001b[1;31mValueError\u001b[0m: too many values to unpack (expected 2)"
     ]
    }
   ],
   "source": [
    "abc, efg = mylst"
   ]
  },
  {
   "cell_type": "code",
   "execution_count": 73,
   "id": "9a52d694-5978-4259-8eac-c0c7a4660dc1",
   "metadata": {},
   "outputs": [],
   "source": [
    "clst = ['a','b','c','d','a','a','c']"
   ]
  },
  {
   "cell_type": "code",
   "execution_count": 76,
   "id": "d1a48eb1-f907-454b-95f6-7c90d23272a3",
   "metadata": {},
   "outputs": [
    {
     "data": {
      "text/plain": [
       "3"
      ]
     },
     "execution_count": 76,
     "metadata": {},
     "output_type": "execute_result"
    }
   ],
   "source": [
    "clst.count('a')"
   ]
  },
  {
   "cell_type": "code",
   "execution_count": 78,
   "id": "b06af97b-4e0d-4191-a3bf-15399e642bde",
   "metadata": {},
   "outputs": [
    {
     "data": {
      "text/plain": [
       "4"
      ]
     },
     "execution_count": 78,
     "metadata": {},
     "output_type": "execute_result"
    }
   ],
   "source": [
    "clst.index('a',3)"
   ]
  },
  {
   "cell_type": "code",
   "execution_count": 79,
   "id": "bb0d441e-db45-45d0-aaef-74f5858e86d3",
   "metadata": {},
   "outputs": [
    {
     "data": {
      "text/plain": [
       "1"
      ]
     },
     "execution_count": 79,
     "metadata": {},
     "output_type": "execute_result"
    }
   ],
   "source": [
    "clst[::-1].index('a')\n"
   ]
  },
  {
   "cell_type": "code",
   "execution_count": 89,
   "id": "05432aa1-89c2-494c-9d4b-62b96a884397",
   "metadata": {},
   "outputs": [
    {
     "name": "stdout",
     "output_type": "stream",
     "text": [
      "z is in the list\n"
     ]
    }
   ],
   "source": [
    "try:\n",
    "    res = clst.index('z')\n",
    "    print('z is in the list')\n",
    "except:\n",
    "    print('z is not in the list')"
   ]
  },
  {
   "cell_type": "code",
   "execution_count": 82,
   "id": "1d0cc369-f780-42e3-88ed-35089f48d6f2",
   "metadata": {},
   "outputs": [
    {
     "ename": "AttributeError",
     "evalue": "'list' object has no attribute 'find'",
     "output_type": "error",
     "traceback": [
      "\u001b[1;31m---------------------------------------------------------------------------\u001b[0m",
      "\u001b[1;31mAttributeError\u001b[0m                            Traceback (most recent call last)",
      "\u001b[1;32m~\\AppData\\Local\\Temp/ipykernel_18780/3284804694.py\u001b[0m in \u001b[0;36m<module>\u001b[1;34m\u001b[0m\n\u001b[1;32m----> 1\u001b[1;33m \u001b[0mclst\u001b[0m\u001b[1;33m.\u001b[0m\u001b[0mfind\u001b[0m\u001b[1;33m(\u001b[0m\u001b[1;34m'a'\u001b[0m\u001b[1;33m)\u001b[0m\u001b[1;33m\u001b[0m\u001b[1;33m\u001b[0m\u001b[0m\n\u001b[0m",
      "\u001b[1;31mAttributeError\u001b[0m: 'list' object has no attribute 'find'"
     ]
    }
   ],
   "source": [
    "clst.find('a')"
   ]
  },
  {
   "cell_type": "code",
   "execution_count": 84,
   "id": "1e75ac66-389f-4014-95b3-6cf3e2f685a1",
   "metadata": {},
   "outputs": [],
   "source": [
    "clst.insert(2,'x')        "
   ]
  },
  {
   "cell_type": "code",
   "execution_count": 85,
   "id": "d58e430c-d193-4f04-ac8f-fff8a8398062",
   "metadata": {},
   "outputs": [
    {
     "data": {
      "text/plain": [
       "['a', 'b', 'x', 'c', 'd', 'a', 'a', 'c']"
      ]
     },
     "execution_count": 85,
     "metadata": {},
     "output_type": "execute_result"
    }
   ],
   "source": [
    "clst"
   ]
  },
  {
   "cell_type": "code",
   "execution_count": 86,
   "id": "bb23e809-e294-42d0-a697-b2e26a04f7ea",
   "metadata": {},
   "outputs": [],
   "source": [
    "clst.insert(len(clst),'z')"
   ]
  },
  {
   "cell_type": "code",
   "execution_count": 87,
   "id": "e6e66371-1544-440c-b1d5-6ef9922859e5",
   "metadata": {},
   "outputs": [
    {
     "data": {
      "text/plain": [
       "['a', 'b', 'x', 'c', 'd', 'a', 'a', 'c', 'z']"
      ]
     },
     "execution_count": 87,
     "metadata": {},
     "output_type": "execute_result"
    }
   ],
   "source": [
    "clst"
   ]
  },
  {
   "cell_type": "code",
   "execution_count": 90,
   "id": "6f5f598f-2b56-4f85-b27d-b70814f310aa",
   "metadata": {},
   "outputs": [
    {
     "data": {
      "text/plain": [
       "['a', 'b', 'x', 'c', 'd', 'a', 'a', 'c', 'z', 'k']"
      ]
     },
     "execution_count": 90,
     "metadata": {},
     "output_type": "execute_result"
    }
   ],
   "source": [
    "clst.append('k')\n",
    "clst"
   ]
  },
  {
   "cell_type": "code",
   "execution_count": 91,
   "id": "e33667d7-677c-4571-8e00-4dd3d6962c87",
   "metadata": {},
   "outputs": [
    {
     "data": {
      "text/plain": [
       "['a', 'b', 'x', 'c', 'd', 'a', 'a', 'c', 'z', 'k']"
      ]
     },
     "execution_count": 91,
     "metadata": {},
     "output_type": "execute_result"
    }
   ],
   "source": [
    "clst\n"
   ]
  },
  {
   "cell_type": "code",
   "execution_count": 92,
   "id": "1b1033d6-9038-4711-9220-a2037b59405f",
   "metadata": {},
   "outputs": [
    {
     "name": "stdout",
     "output_type": "stream",
     "text": [
      "['a', 'x', 'c', 'd', 'a', 'a', 'c', 'z', 'k']\n"
     ]
    }
   ],
   "source": [
    "while True:\n",
    "    try:\n",
    "        clst.remove('b')\n",
    "    except:\n",
    "        break\n",
    "print(clst)"
   ]
  },
  {
   "cell_type": "code",
   "execution_count": 93,
   "id": "00069b87-270d-4ce9-a9f3-ca1246eac875",
   "metadata": {},
   "outputs": [],
   "source": [
    "#enumeration "
   ]
  },
  {
   "cell_type": "code",
   "execution_count": 94,
   "id": "29caba89-1a64-42fe-895b-f01288bcf47b",
   "metadata": {},
   "outputs": [
    {
     "name": "stdout",
     "output_type": "stream",
     "text": [
      "(0, 1)\n",
      "(1, 2)\n",
      "(2, 3)\n"
     ]
    }
   ],
   "source": [
    "for item in enumerate([1,2,3]):\n",
    "    print(item)"
   ]
  },
  {
   "cell_type": "code",
   "execution_count": 97,
   "id": "4a54ce89-cb61-48d2-b0ee-df18d4bd993e",
   "metadata": {},
   "outputs": [
    {
     "name": "stdout",
     "output_type": "stream",
     "text": [
      "0 1\n",
      "1 2\n",
      "2 3\n"
     ]
    }
   ],
   "source": [
    "for i,item in enumerate([1,2,3]):\n",
    "    print(i, item)"
   ]
  },
  {
   "cell_type": "raw",
   "id": "19e208ba-e23d-4932-a18e-3f4158fb0d6f",
   "metadata": {},
   "source": [
    "for item in enumerate(range(2,5,2)):\n",
    "    print(item)"
   ]
  },
  {
   "cell_type": "raw",
   "id": "41d0da78-a50a-4d1a-b2b6-c1bc86382dc1",
   "metadata": {},
   "source": [
    "rlst = range(2,5,2)\n",
    "rlst"
   ]
  },
  {
   "cell_type": "code",
   "execution_count": 99,
   "id": "f9e28c7c-919b-4344-8e8d-47f7a8a36c08",
   "metadata": {},
   "outputs": [],
   "source": [
    "#tuples"
   ]
  },
  {
   "cell_type": "code",
   "execution_count": 100,
   "id": "39cfaf1f-9832-4c44-8470-cc5ea03c4a54",
   "metadata": {},
   "outputs": [
    {
     "data": {
      "text/plain": [
       "(2, 4)"
      ]
     },
     "execution_count": 100,
     "metadata": {},
     "output_type": "execute_result"
    }
   ],
   "source": [
    "atup = (2,4)\n",
    "atup"
   ]
  },
  {
   "cell_type": "code",
   "execution_count": 101,
   "id": "349370ce-f6b1-4372-a981-766ce67f16a8",
   "metadata": {},
   "outputs": [
    {
     "data": {
      "text/plain": [
       "(1, 2)"
      ]
     },
     "execution_count": 101,
     "metadata": {},
     "output_type": "execute_result"
    }
   ],
   "source": [
    "atup = tuple((1,2))\n",
    "atup"
   ]
  },
  {
   "cell_type": "code",
   "execution_count": 103,
   "id": "e9661284-6bba-4e0f-a356-5a73e58295a6",
   "metadata": {},
   "outputs": [],
   "source": [
    "mtup = 'a', 2.5, 'cde', 15,[1,2,3]"
   ]
  },
  {
   "cell_type": "code",
   "execution_count": 104,
   "id": "047fd15f-b6e5-48a3-aff1-f6f4c85c656b",
   "metadata": {},
   "outputs": [
    {
     "data": {
      "text/plain": [
       "('a', 2.5, 'cde', 15, [1, 2, 3])"
      ]
     },
     "execution_count": 104,
     "metadata": {},
     "output_type": "execute_result"
    }
   ],
   "source": [
    "mtup"
   ]
  },
  {
   "cell_type": "code",
   "execution_count": 105,
   "id": "94f14fd4-1625-45d9-8344-b5b645a5c4e9",
   "metadata": {},
   "outputs": [
    {
     "name": "stdout",
     "output_type": "stream",
     "text": [
      "2 3\n"
     ]
    }
   ],
   "source": [
    "#swap  \n",
    "a = 3\n",
    "b = 2 \n",
    "a,b = b,a \n",
    "print(a,b)\n"
   ]
  },
  {
   "cell_type": "code",
   "execution_count": 106,
   "id": "1d31ec03-b1ca-4452-b4c5-37b54afcb31c",
   "metadata": {},
   "outputs": [],
   "source": [
    "### strings as iterables "
   ]
  },
  {
   "cell_type": "code",
   "execution_count": 108,
   "id": "d6972aaf-cb34-4e02-8944-b20fb83d805d",
   "metadata": {},
   "outputs": [
    {
     "data": {
      "text/plain": [
       "'s'"
      ]
     },
     "execution_count": 108,
     "metadata": {},
     "output_type": "execute_result"
    }
   ],
   "source": [
    "ds = \"data science\" \n",
    "ds[5]"
   ]
  },
  {
   "cell_type": "code",
   "execution_count": 109,
   "id": "162d30e9-8811-4a41-b8f8-838e6e72fab3",
   "metadata": {},
   "outputs": [
    {
     "data": {
      "text/plain": [
       "'data'"
      ]
     },
     "execution_count": 109,
     "metadata": {},
     "output_type": "execute_result"
    }
   ],
   "source": [
    "ds[:4]"
   ]
  },
  {
   "cell_type": "code",
   "execution_count": 110,
   "id": "9dd61d8a-65bf-4b4f-9e4d-083ac46c46e5",
   "metadata": {},
   "outputs": [
    {
     "data": {
      "text/plain": [
       "'a s'"
      ]
     },
     "execution_count": 110,
     "metadata": {},
     "output_type": "execute_result"
    }
   ],
   "source": [
    "ds[3:6]"
   ]
  },
  {
   "cell_type": "code",
   "execution_count": 113,
   "id": "48883021-1b18-4ad2-a74a-f0a5fe518619",
   "metadata": {},
   "outputs": [],
   "source": [
    "#tell if a string is a palindrome - version 1 \n",
    "def isPalindrome(st):\n",
    "    while True: \n",
    "        n = len(st)\n",
    "        if n == 0 or n == 1:\n",
    "            return True\n",
    "        if st[0].lower() != st[-1].lower(): \n",
    "            return False \n",
    "        st = st[1:-1]"
   ]
  },
  {
   "cell_type": "code",
   "execution_count": 115,
   "id": "2e245387-0a86-4113-aa35-69624d6e3284",
   "metadata": {},
   "outputs": [
    {
     "data": {
      "text/plain": [
       "True"
      ]
     },
     "execution_count": 115,
     "metadata": {},
     "output_type": "execute_result"
    }
   ],
   "source": [
    "isPalindrome(\"aabaa\")"
   ]
  },
  {
   "cell_type": "code",
   "execution_count": 116,
   "id": "a14d4efa-7c45-49ac-8ff2-91159d3e98b9",
   "metadata": {},
   "outputs": [
    {
     "data": {
      "text/plain": [
       "True"
      ]
     },
     "execution_count": 116,
     "metadata": {},
     "output_type": "execute_result"
    }
   ],
   "source": [
    "isPalindrome(\"\")"
   ]
  },
  {
   "cell_type": "code",
   "execution_count": 117,
   "id": "522e5972-1e72-4cfa-96ce-0c903f349be4",
   "metadata": {},
   "outputs": [
    {
     "data": {
      "text/plain": [
       "False"
      ]
     },
     "execution_count": 117,
     "metadata": {},
     "output_type": "execute_result"
    }
   ],
   "source": [
    "isPalindrome(\"whadduP\")"
   ]
  },
  {
   "cell_type": "code",
   "execution_count": 118,
   "id": "e1a75b02-7d25-4d9f-98a8-5afb8b0cd150",
   "metadata": {},
   "outputs": [
    {
     "ename": "TypeError",
     "evalue": "object of type 'int' has no len()",
     "output_type": "error",
     "traceback": [
      "\u001b[1;31m---------------------------------------------------------------------------\u001b[0m",
      "\u001b[1;31mTypeError\u001b[0m                                 Traceback (most recent call last)",
      "\u001b[1;32m~\\AppData\\Local\\Temp/ipykernel_18780/3020657629.py\u001b[0m in \u001b[0;36m<module>\u001b[1;34m\u001b[0m\n\u001b[1;32m----> 1\u001b[1;33m \u001b[0misPalindrome\u001b[0m\u001b[1;33m(\u001b[0m\u001b[1;36m1\u001b[0m\u001b[1;33m)\u001b[0m\u001b[1;33m\u001b[0m\u001b[1;33m\u001b[0m\u001b[0m\n\u001b[0m",
      "\u001b[1;32m~\\AppData\\Local\\Temp/ipykernel_18780/2207884965.py\u001b[0m in \u001b[0;36misPalindrome\u001b[1;34m(st)\u001b[0m\n\u001b[0;32m      2\u001b[0m \u001b[1;32mdef\u001b[0m \u001b[0misPalindrome\u001b[0m\u001b[1;33m(\u001b[0m\u001b[0mst\u001b[0m\u001b[1;33m)\u001b[0m\u001b[1;33m:\u001b[0m\u001b[1;33m\u001b[0m\u001b[1;33m\u001b[0m\u001b[0m\n\u001b[0;32m      3\u001b[0m     \u001b[1;32mwhile\u001b[0m \u001b[1;32mTrue\u001b[0m\u001b[1;33m:\u001b[0m\u001b[1;33m\u001b[0m\u001b[1;33m\u001b[0m\u001b[0m\n\u001b[1;32m----> 4\u001b[1;33m         \u001b[0mn\u001b[0m \u001b[1;33m=\u001b[0m \u001b[0mlen\u001b[0m\u001b[1;33m(\u001b[0m\u001b[0mst\u001b[0m\u001b[1;33m)\u001b[0m\u001b[1;33m\u001b[0m\u001b[1;33m\u001b[0m\u001b[0m\n\u001b[0m\u001b[0;32m      5\u001b[0m         \u001b[1;32mif\u001b[0m \u001b[0mn\u001b[0m \u001b[1;33m==\u001b[0m \u001b[1;36m0\u001b[0m \u001b[1;32mor\u001b[0m \u001b[0mn\u001b[0m \u001b[1;33m==\u001b[0m \u001b[1;36m1\u001b[0m\u001b[1;33m:\u001b[0m\u001b[1;33m\u001b[0m\u001b[1;33m\u001b[0m\u001b[0m\n\u001b[0;32m      6\u001b[0m             \u001b[1;32mreturn\u001b[0m \u001b[1;32mTrue\u001b[0m\u001b[1;33m\u001b[0m\u001b[1;33m\u001b[0m\u001b[0m\n",
      "\u001b[1;31mTypeError\u001b[0m: object of type 'int' has no len()"
     ]
    }
   ],
   "source": [
    "isPalindrome(1)"
   ]
  },
  {
   "cell_type": "code",
   "execution_count": 122,
   "id": "0150e1b9-6473-43f4-9839-4c310628306d",
   "metadata": {},
   "outputs": [],
   "source": [
    "#tell if a string is a palindrome - version 2\n",
    "def isPalindrome(st):\n",
    "    st = st.lower()\n",
    "    while True: \n",
    "        n = len(st)\n",
    "        if n == 0 or n == 1:\n",
    "            return True\n",
    "        f, *st, last = st\n",
    "        if f != last:\n",
    "            return False"
   ]
  },
  {
   "cell_type": "code",
   "execution_count": 123,
   "id": "140a23a0-caa1-4621-a070-2d638cb5b97e",
   "metadata": {},
   "outputs": [
    {
     "data": {
      "text/plain": [
       "True"
      ]
     },
     "execution_count": 123,
     "metadata": {},
     "output_type": "execute_result"
    }
   ],
   "source": [
    "isPalindrome(\"abba\")"
   ]
  },
  {
   "cell_type": "code",
   "execution_count": 124,
   "id": "64f4cb67-b7c1-4e88-9cea-ae60a1f1f6a4",
   "metadata": {},
   "outputs": [],
   "source": [
    "#version 3 \n",
    "def isPalindrom(st):\n",
    "    return st.lower() == st.lower() [::-1]"
   ]
  },
  {
   "cell_type": "code",
   "execution_count": 125,
   "id": "83e37a4a-6fa0-4cfd-93b6-f123ba85cabf",
   "metadata": {},
   "outputs": [
    {
     "data": {
      "text/plain": [
       "True"
      ]
     },
     "execution_count": 125,
     "metadata": {},
     "output_type": "execute_result"
    }
   ],
   "source": [
    "isPalindrome(\"raceCar\")"
   ]
  },
  {
   "cell_type": "code",
   "execution_count": null,
   "id": "1440f988-1f43-4cf2-9036-85bee0cfb1a2",
   "metadata": {},
   "outputs": [],
   "source": [
    "    "
   ]
  }
 ],
 "metadata": {
  "kernelspec": {
   "display_name": "Python 3 (ipykernel)",
   "language": "python",
   "name": "python3"
  },
  "language_info": {
   "codemirror_mode": {
    "name": "ipython",
    "version": 3
   },
   "file_extension": ".py",
   "mimetype": "text/x-python",
   "name": "python",
   "nbconvert_exporter": "python",
   "pygments_lexer": "ipython3",
   "version": "3.9.7"
  }
 },
 "nbformat": 4,
 "nbformat_minor": 5
}
