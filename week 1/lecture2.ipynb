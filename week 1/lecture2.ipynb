{
 "cells": [
  {
   "cell_type": "code",
   "execution_count": null,
   "id": "5dc0338c-97dc-4ce0-bbbf-60fd4844bfa2",
   "metadata": {},
   "outputs": [],
   "source": []
  },
  {
   "cell_type": "code",
   "execution_count": 1,
   "id": "d9fe99f7-ee3c-49d9-8e07-4c5e5b84de98",
   "metadata": {},
   "outputs": [
    {
     "data": {
      "text/plain": [
       "3"
      ]
     },
     "execution_count": 1,
     "metadata": {},
     "output_type": "execute_result"
    }
   ],
   "source": [
    "3\n"
   ]
  },
  {
   "cell_type": "code",
   "execution_count": 2,
   "id": "976fa734-110e-43b8-94b3-20a8f129d6a5",
   "metadata": {},
   "outputs": [
    {
     "data": {
      "text/plain": [
       "6"
      ]
     },
     "execution_count": 2,
     "metadata": {},
     "output_type": "execute_result"
    }
   ],
   "source": [
    "3+3"
   ]
  },
  {
   "cell_type": "code",
   "execution_count": 3,
   "id": "e743c607-9dd6-4580-8556-4bd6029820b8",
   "metadata": {},
   "outputs": [],
   "source": [
    "x=3+3"
   ]
  },
  {
   "cell_type": "code",
   "execution_count": 4,
   "id": "110a63da-569f-459f-a220-29e555a9ed26",
   "metadata": {},
   "outputs": [
    {
     "data": {
      "text/plain": [
       "9"
      ]
     },
     "execution_count": 4,
     "metadata": {},
     "output_type": "execute_result"
    }
   ],
   "source": [
    "x+3"
   ]
  },
  {
   "cell_type": "code",
   "execution_count": 5,
   "id": "4b1d0364-559d-42f1-be90-0d41981936de",
   "metadata": {},
   "outputs": [
    {
     "data": {
      "text/plain": [
       "6"
      ]
     },
     "execution_count": 5,
     "metadata": {},
     "output_type": "execute_result"
    }
   ],
   "source": [
    "x"
   ]
  },
  {
   "cell_type": "code",
   "execution_count": 6,
   "id": "5f883d35-7aaa-487f-acf9-f2f878230115",
   "metadata": {},
   "outputs": [
    {
     "name": "stdout",
     "output_type": "stream",
     "text": [
      "6\n"
     ]
    }
   ],
   "source": [
    "print(x)"
   ]
  },
  {
   "cell_type": "code",
   "execution_count": 7,
   "id": "c3246f3f-5e1d-42a0-bd5e-d60f34dd5b32",
   "metadata": {},
   "outputs": [
    {
     "data": {
      "text/plain": [
       "int"
      ]
     },
     "execution_count": 7,
     "metadata": {},
     "output_type": "execute_result"
    }
   ],
   "source": [
    "type(x)\n"
   ]
  },
  {
   "cell_type": "code",
   "execution_count": 8,
   "id": "7d3bb85a-e01f-4b88-be1f-00e67c42f2d0",
   "metadata": {},
   "outputs": [],
   "source": [
    "hello = \"hello\""
   ]
  },
  {
   "cell_type": "code",
   "execution_count": 9,
   "id": "f8a773e5-802f-4c24-b892-d000fd08fd76",
   "metadata": {},
   "outputs": [
    {
     "name": "stdout",
     "output_type": "stream",
     "text": [
      "hello\n"
     ]
    }
   ],
   "source": [
    "print(hello)"
   ]
  },
  {
   "cell_type": "code",
   "execution_count": 10,
   "id": "f608d03f-4f97-414b-bfb9-3e9045c82d5e",
   "metadata": {},
   "outputs": [
    {
     "ename": "NameError",
     "evalue": "name 'hi' is not defined",
     "output_type": "error",
     "traceback": [
      "\u001b[1;31m---------------------------------------------------------------------------\u001b[0m",
      "\u001b[1;31mNameError\u001b[0m                                 Traceback (most recent call last)",
      "\u001b[1;32m~\\AppData\\Local\\Temp/ipykernel_13992/495290245.py\u001b[0m in \u001b[0;36m<module>\u001b[1;34m\u001b[0m\n\u001b[1;32m----> 1\u001b[1;33m \u001b[0mprint\u001b[0m\u001b[1;33m(\u001b[0m\u001b[0mhi\u001b[0m\u001b[1;33m)\u001b[0m\u001b[1;33m\u001b[0m\u001b[1;33m\u001b[0m\u001b[0m\n\u001b[0m",
      "\u001b[1;31mNameError\u001b[0m: name 'hi' is not defined"
     ]
    }
   ],
   "source": [
    "print(hi)\n"
   ]
  },
  {
   "cell_type": "code",
   "execution_count": 11,
   "id": "e2ab1575-9e01-4753-85d5-8ad44d57ddb3",
   "metadata": {},
   "outputs": [
    {
     "name": "stdout",
     "output_type": "stream",
     "text": [
      "hi\n"
     ]
    }
   ],
   "source": [
    "print(\"hi\")"
   ]
  },
  {
   "cell_type": "code",
   "execution_count": 12,
   "id": "930a1290-f29a-437b-a1d6-cd492c902915",
   "metadata": {},
   "outputs": [
    {
     "name": "stdout",
     "output_type": "stream",
     "text": [
      "6 3\n"
     ]
    }
   ],
   "source": [
    "print(x,3)"
   ]
  },
  {
   "cell_type": "code",
   "execution_count": 13,
   "id": "e7790564-efa2-4c75-8d8d-5f4daef2c0f7",
   "metadata": {},
   "outputs": [
    {
     "name": "stdout",
     "output_type": "stream",
     "text": [
      "9\n"
     ]
    }
   ],
   "source": [
    "print(x+3)"
   ]
  },
  {
   "cell_type": "code",
   "execution_count": 14,
   "id": "0a45bfe6-b991-4cba-9f88-b523688a46a9",
   "metadata": {},
   "outputs": [
    {
     "name": "stdout",
     "output_type": "stream",
     "text": [
      "6 hello\n"
     ]
    }
   ],
   "source": [
    "print(x,hello)"
   ]
  },
  {
   "cell_type": "code",
   "execution_count": 15,
   "id": "9ddeaed7-c047-494d-a146-25a542345e03",
   "metadata": {},
   "outputs": [
    {
     "ename": "NameError",
     "evalue": "name 'hi' is not defined",
     "output_type": "error",
     "traceback": [
      "\u001b[1;31m---------------------------------------------------------------------------\u001b[0m",
      "\u001b[1;31mNameError\u001b[0m                                 Traceback (most recent call last)",
      "\u001b[1;32m~\\AppData\\Local\\Temp/ipykernel_13992/3547552300.py\u001b[0m in \u001b[0;36m<module>\u001b[1;34m\u001b[0m\n\u001b[1;32m----> 1\u001b[1;33m \u001b[0mprint\u001b[0m\u001b[1;33m(\u001b[0m\u001b[1;36m6\u001b[0m\u001b[1;33m,\u001b[0m \u001b[0mhi\u001b[0m\u001b[1;33m)\u001b[0m\u001b[1;33m\u001b[0m\u001b[1;33m\u001b[0m\u001b[0m\n\u001b[0m",
      "\u001b[1;31mNameError\u001b[0m: name 'hi' is not defined"
     ]
    }
   ],
   "source": [
    "print(6, hi)"
   ]
  },
  {
   "cell_type": "code",
   "execution_count": 16,
   "id": "7a84230f-d7d1-444d-a801-1762e1e818e5",
   "metadata": {},
   "outputs": [
    {
     "ename": "TypeError",
     "evalue": "unsupported operand type(s) for +: 'int' and 'str'",
     "output_type": "error",
     "traceback": [
      "\u001b[1;31m---------------------------------------------------------------------------\u001b[0m",
      "\u001b[1;31mTypeError\u001b[0m                                 Traceback (most recent call last)",
      "\u001b[1;32m~\\AppData\\Local\\Temp/ipykernel_13992/1740381071.py\u001b[0m in \u001b[0;36m<module>\u001b[1;34m\u001b[0m\n\u001b[1;32m----> 1\u001b[1;33m \u001b[0mprint\u001b[0m\u001b[1;33m(\u001b[0m\u001b[1;36m6\u001b[0m\u001b[1;33m+\u001b[0m\u001b[0mhello\u001b[0m\u001b[1;33m)\u001b[0m\u001b[1;33m\u001b[0m\u001b[1;33m\u001b[0m\u001b[0m\n\u001b[0m",
      "\u001b[1;31mTypeError\u001b[0m: unsupported operand type(s) for +: 'int' and 'str'"
     ]
    }
   ],
   "source": [
    "print(6+hello)"
   ]
  },
  {
   "cell_type": "code",
   "execution_count": 17,
   "id": "dabd9160-a5d9-4896-8cbe-4e357e2b793e",
   "metadata": {},
   "outputs": [
    {
     "ename": "NameError",
     "evalue": "name 'asdfsadf' is not defined",
     "output_type": "error",
     "traceback": [
      "\u001b[1;31m---------------------------------------------------------------------------\u001b[0m",
      "\u001b[1;31mNameError\u001b[0m                                 Traceback (most recent call last)",
      "\u001b[1;32m~\\AppData\\Local\\Temp/ipykernel_13992/3322490744.py\u001b[0m in \u001b[0;36m<module>\u001b[1;34m\u001b[0m\n\u001b[1;32m----> 1\u001b[1;33m \u001b[0masdfsadf\u001b[0m\u001b[1;33m\u001b[0m\u001b[1;33m\u001b[0m\u001b[0m\n\u001b[0m",
      "\u001b[1;31mNameError\u001b[0m: name 'asdfsadf' is not defined"
     ]
    }
   ],
   "source": [
    "asdfsadf \n"
   ]
  },
  {
   "cell_type": "markdown",
   "id": "ae8590a3-afbf-4a5b-9817-5b942fcf94fe",
   "metadata": {},
   "source": [
    "**arithmetic"
   ]
  },
  {
   "cell_type": "markdown",
   "id": "bb319e00-edda-4407-8a3a-b1604fc714a3",
   "metadata": {},
   "source": [
    "*hello*"
   ]
  },
  {
   "cell_type": "markdown",
   "id": "814476ad-c359-44e5-a765-15d80c9dce92",
   "metadata": {},
   "source": [
    "**bold*"
   ]
  },
  {
   "cell_type": "markdown",
   "id": "3eef1eca-6c2d-44d2-8bf4-6f1bcee6b8cc",
   "metadata": {},
   "source": [
    "**bold**"
   ]
  },
  {
   "cell_type": "code",
   "execution_count": 18,
   "id": "d916df04-d568-4edb-95a0-bbc2c61bab86",
   "metadata": {},
   "outputs": [],
   "source": [
    "x = 5 #commentc"
   ]
  },
  {
   "cell_type": "code",
   "execution_count": 19,
   "id": "59b24099-2171-492b-a277-3f9b7252ad18",
   "metadata": {},
   "outputs": [
    {
     "name": "stdout",
     "output_type": "stream",
     "text": [
      "5\n"
     ]
    }
   ],
   "source": [
    "print(x)c"
   ]
  },
  {
   "cell_type": "code",
   "execution_count": 20,
   "id": "db8c27c1-36c0-41db-a4fa-b865e561a18a",
   "metadata": {},
   "outputs": [
    {
     "data": {
      "text/plain": [
       "1"
      ]
     },
     "execution_count": 20,
     "metadata": {},
     "output_type": "execute_result"
    }
   ],
   "source": [
    "3 // 2 # integer result, quotient"
   ]
  },
  {
   "cell_type": "code",
   "execution_count": 21,
   "id": "3d2f972a-4d9b-4c41-a835-a513992888ea",
   "metadata": {},
   "outputs": [
    {
     "data": {
      "text/plain": [
       "1.5"
      ]
     },
     "execution_count": 21,
     "metadata": {},
     "output_type": "execute_result"
    }
   ],
   "source": [
    "3 / 2 # real number result "
   ]
  },
  {
   "cell_type": "code",
   "execution_count": 22,
   "id": "a16d95c0-4d3f-43bf-bd83-b4d3f59715d3",
   "metadata": {},
   "outputs": [
    {
     "data": {
      "text/plain": [
       "3"
      ]
     },
     "execution_count": 22,
     "metadata": {},
     "output_type": "execute_result"
    }
   ],
   "source": [
    "15 % 4 # mod function "
   ]
  },
  {
   "cell_type": "code",
   "execution_count": 23,
   "id": "83f32339-fdf4-4312-8cec-05c4a96decf7",
   "metadata": {},
   "outputs": [
    {
     "data": {
      "text/plain": [
       "2.4000000000000004"
      ]
     },
     "execution_count": 23,
     "metadata": {},
     "output_type": "execute_result"
    }
   ],
   "source": [
    "7.4 % 5 # real number mod "
   ]
  },
  {
   "cell_type": "code",
   "execution_count": 24,
   "id": "c4498b62-ec2e-47a5-bc03-2b223c7dc0e3",
   "metadata": {},
   "outputs": [
    {
     "data": {
      "text/plain": [
       "0.0"
      ]
     },
     "execution_count": 24,
     "metadata": {},
     "output_type": "execute_result"
    }
   ],
   "source": [
    "2.4 % 1.2 # = zero"
   ]
  },
  {
   "cell_type": "code",
   "execution_count": 25,
   "id": "6a20938a-a6f0-491c-a999-b3b8e10483a3",
   "metadata": {},
   "outputs": [
    {
     "data": {
      "text/plain": [
       "float"
      ]
     },
     "execution_count": 25,
     "metadata": {},
     "output_type": "execute_result"
    }
   ],
   "source": [
    "type(0.0)"
   ]
  },
  {
   "cell_type": "code",
   "execution_count": 26,
   "id": "1007fc38-347a-4e7f-a451-42fd7842dcd6",
   "metadata": {},
   "outputs": [
    {
     "data": {
      "text/plain": [
       "float"
      ]
     },
     "execution_count": 26,
     "metadata": {},
     "output_type": "execute_result"
    }
   ],
   "source": [
    "type(2.4%1.2)"
   ]
  },
  {
   "cell_type": "code",
   "execution_count": 27,
   "id": "2e4d9f50-6d49-422f-912f-e139a2f40956",
   "metadata": {},
   "outputs": [
    {
     "data": {
      "text/plain": [
       "9"
      ]
     },
     "execution_count": 27,
     "metadata": {},
     "output_type": "execute_result"
    }
   ],
   "source": [
    "3 ** 2 # power"
   ]
  },
  {
   "cell_type": "code",
   "execution_count": 28,
   "id": "049f61ea-04cd-4871-a433-57b04ddaaa50",
   "metadata": {},
   "outputs": [],
   "source": [
    "# casting real to int"
   ]
  },
  {
   "cell_type": "code",
   "execution_count": 29,
   "id": "7cebdd30-7659-4cb4-92d1-764e2339722f",
   "metadata": {},
   "outputs": [],
   "source": [
    "x = int(5.5)"
   ]
  },
  {
   "cell_type": "code",
   "execution_count": 30,
   "id": "ac0dad43-61bd-4e97-a561-20004ccb038a",
   "metadata": {},
   "outputs": [
    {
     "name": "stdout",
     "output_type": "stream",
     "text": [
      "5\n"
     ]
    }
   ],
   "source": [
    "print(x)"
   ]
  },
  {
   "cell_type": "code",
   "execution_count": 31,
   "id": "c81938ae-9e0d-4eb1-a2b7-80947bf6a274",
   "metadata": {},
   "outputs": [],
   "source": [
    "import math"
   ]
  },
  {
   "cell_type": "code",
   "execution_count": 32,
   "id": "77e0269a-d1fb-4e2f-9dc4-b8abf0266723",
   "metadata": {},
   "outputs": [
    {
     "name": "stdout",
     "output_type": "stream",
     "text": [
      "8.0\n"
     ]
    }
   ],
   "source": [
    "print(math.pow(2,3))"
   ]
  },
  {
   "cell_type": "code",
   "execution_count": 34,
   "id": "e52cc27a-360f-4d35-a31f-8639701899f6",
   "metadata": {},
   "outputs": [
    {
     "name": "stdout",
     "output_type": "stream",
     "text": [
      "1.4142135623730951\n"
     ]
    }
   ],
   "source": [
    "print(math.pow(2,0.5))"
   ]
  },
  {
   "cell_type": "code",
   "execution_count": 35,
   "id": "d1633746-d316-40b2-808b-9f6b0107ecda",
   "metadata": {},
   "outputs": [
    {
     "ename": "ValueError",
     "evalue": "math domain error",
     "output_type": "error",
     "traceback": [
      "\u001b[1;31m---------------------------------------------------------------------------\u001b[0m",
      "\u001b[1;31mValueError\u001b[0m                                Traceback (most recent call last)",
      "\u001b[1;32m~\\AppData\\Local\\Temp/ipykernel_13992/2348382489.py\u001b[0m in \u001b[0;36m<module>\u001b[1;34m\u001b[0m\n\u001b[1;32m----> 1\u001b[1;33m \u001b[0mprint\u001b[0m\u001b[1;33m(\u001b[0m\u001b[0mmath\u001b[0m\u001b[1;33m.\u001b[0m\u001b[0mpow\u001b[0m\u001b[1;33m(\u001b[0m\u001b[1;33m-\u001b[0m\u001b[1;36m1\u001b[0m\u001b[1;33m,\u001b[0m\u001b[1;36m0.5\u001b[0m\u001b[1;33m)\u001b[0m\u001b[1;33m)\u001b[0m \u001b[1;31m#sqrt negative 1\u001b[0m\u001b[1;33m\u001b[0m\u001b[1;33m\u001b[0m\u001b[0m\n\u001b[0m",
      "\u001b[1;31mValueError\u001b[0m: math domain error"
     ]
    }
   ],
   "source": [
    "print(math.pow(-1,0.5)) #sqrt negative 1 "
   ]
  },
  {
   "cell_type": "code",
   "execution_count": 38,
   "id": "36134711-2c2e-4cc3-9983-b65126264e98",
   "metadata": {},
   "outputs": [],
   "source": [
    "# multi line string \n",
    "multi_line = \"\"\"line 1,\n",
    "line 2, and \n",
    "line 3\n",
    "\"\"\"\n"
   ]
  },
  {
   "cell_type": "code",
   "execution_count": 39,
   "id": "f8908734-c41b-4d0b-b53a-089b01d01f85",
   "metadata": {},
   "outputs": [
    {
     "data": {
      "text/plain": [
       "'line 1,\\nline 2, and \\nline 3\\n'"
      ]
     },
     "execution_count": 39,
     "metadata": {},
     "output_type": "execute_result"
    }
   ],
   "source": [
    "multi_line"
   ]
  },
  {
   "cell_type": "code",
   "execution_count": 40,
   "id": "332fad28-a799-42c3-a6fd-2402a9b8bbcc",
   "metadata": {},
   "outputs": [],
   "source": [
    "tabbed_str = 'before tab\\tafter tab'\n"
   ]
  },
  {
   "cell_type": "code",
   "execution_count": 41,
   "id": "d0d562e0-c50c-4e6f-869e-31bc7e759bf2",
   "metadata": {},
   "outputs": [
    {
     "data": {
      "text/plain": [
       "'before tab\\tafter tab'"
      ]
     },
     "execution_count": 41,
     "metadata": {},
     "output_type": "execute_result"
    }
   ],
   "source": [
    "tabbed_str"
   ]
  },
  {
   "cell_type": "code",
   "execution_count": 42,
   "id": "2a94b230-f6bd-4e37-ad2c-ffa971a72fa3",
   "metadata": {},
   "outputs": [
    {
     "name": "stdout",
     "output_type": "stream",
     "text": [
      "before tab\tafter tab\n"
     ]
    }
   ],
   "source": [
    "print(tabbed_str)"
   ]
  },
  {
   "cell_type": "code",
   "execution_count": 43,
   "id": "b8aba389-f51c-40e9-9a5f-f6529032641d",
   "metadata": {},
   "outputs": [
    {
     "ename": "TypeError",
     "evalue": "can only concatenate str (not \"int\") to str",
     "output_type": "error",
     "traceback": [
      "\u001b[1;31m---------------------------------------------------------------------------\u001b[0m",
      "\u001b[1;31mTypeError\u001b[0m                                 Traceback (most recent call last)",
      "\u001b[1;32m~\\AppData\\Local\\Temp/ipykernel_13992/1931083933.py\u001b[0m in \u001b[0;36m<module>\u001b[1;34m\u001b[0m\n\u001b[1;32m----> 1\u001b[1;33m \u001b[0mprint\u001b[0m\u001b[1;33m(\u001b[0m\u001b[1;34m\"cs\"\u001b[0m \u001b[1;33m+\u001b[0m \u001b[1;36m210\u001b[0m\u001b[1;33m)\u001b[0m\u001b[1;33m\u001b[0m\u001b[1;33m\u001b[0m\u001b[0m\n\u001b[0m",
      "\u001b[1;31mTypeError\u001b[0m: can only concatenate str (not \"int\") to str"
     ]
    }
   ],
   "source": [
    "print(\"cs\" + 210)"
   ]
  },
  {
   "cell_type": "code",
   "execution_count": 44,
   "id": "ae9e86ef-96eb-422e-ad7d-44cba6de9aef",
   "metadata": {},
   "outputs": [
    {
     "data": {
      "text/plain": [
       "str"
      ]
     },
     "execution_count": 44,
     "metadata": {},
     "output_type": "execute_result"
    }
   ],
   "source": [
    "type('str')"
   ]
  },
  {
   "cell_type": "code",
   "execution_count": 45,
   "id": "a2e9e464-eee9-49c4-aac5-bc02eb25eced",
   "metadata": {},
   "outputs": [
    {
     "data": {
      "text/plain": [
       "type"
      ]
     },
     "execution_count": 45,
     "metadata": {},
     "output_type": "execute_result"
    }
   ],
   "source": [
    "type(str)\n"
   ]
  },
  {
   "cell_type": "code",
   "execution_count": 46,
   "id": "f61f0443-f7b3-42fc-9982-07f672a64406",
   "metadata": {},
   "outputs": [],
   "source": [
    "s = \"cs + 210\""
   ]
  },
  {
   "cell_type": "code",
   "execution_count": 47,
   "id": "8caf9230-08d6-45ce-be66-e642ad6689a5",
   "metadata": {},
   "outputs": [
    {
     "data": {
      "text/plain": [
       "'cs + 210'"
      ]
     },
     "execution_count": 47,
     "metadata": {},
     "output_type": "execute_result"
    }
   ],
   "source": [
    "s"
   ]
  },
  {
   "cell_type": "code",
   "execution_count": 49,
   "id": "af74812b-5ff7-4278-a23c-b974e46a5e0e",
   "metadata": {},
   "outputs": [
    {
     "name": "stdout",
     "output_type": "stream",
     "text": [
      "cs210\n"
     ]
    }
   ],
   "source": [
    "print(\"cs\" + (str)(210))"
   ]
  },
  {
   "cell_type": "raw",
   "id": "82de91f8-7225-4d05-8254-44dc772b6ec5",
   "metadata": {},
   "source": [
    "#replicate a string"
   ]
  },
  {
   "cell_type": "code",
   "execution_count": 50,
   "id": "3c15ea50-0b92-4217-941b-120532b61f3f",
   "metadata": {},
   "outputs": [
    {
     "data": {
      "text/plain": [
       "'abcabc'"
      ]
     },
     "execution_count": 50,
     "metadata": {},
     "output_type": "execute_result"
    }
   ],
   "source": [
    "'abc' * 2"
   ]
  },
  {
   "cell_type": "code",
   "execution_count": 54,
   "id": "829d637a-ee25-4d66-a4ee-5f871e212db7",
   "metadata": {},
   "outputs": [],
   "source": [
    "#formatted outputc\n",
    "#1 using the format function"
   ]
  },
  {
   "cell_type": "code",
   "execution_count": 52,
   "id": "b60a5108-0ae2-4817-aa85-d3a9c10b5373",
   "metadata": {},
   "outputs": [
    {
     "name": "stdout",
     "output_type": "stream",
     "text": [
      "15/10 = 1.5\n"
     ]
    }
   ],
   "source": [
    "m = 15\n",
    "n = 10 \n",
    "print('{0}/{1} = {2}'.format(m,n,m/n))"
   ]
  },
  {
   "cell_type": "code",
   "execution_count": 55,
   "id": "cf601703-016b-48cc-bcc2-e61f23531645",
   "metadata": {},
   "outputs": [],
   "source": [
    "#formatted output\n",
    "#1 using the f string"
   ]
  },
  {
   "cell_type": "code",
   "execution_count": 56,
   "id": "ff6098c7-10d3-467d-99e2-95daf56c9b0d",
   "metadata": {},
   "outputs": [
    {
     "name": "stdout",
     "output_type": "stream",
     "text": [
      "15/10 = 1.5\n"
     ]
    }
   ],
   "source": [
    "print(f'{m}/{n} = {m/n}')"
   ]
  },
  {
   "cell_type": "markdown",
   "id": "e81d20bf-4fc6-47eb-b459-57b97af54cb2",
   "metadata": {},
   "source": [
    "**parse numeric values from string, querying the type of value**"
   ]
  },
  {
   "cell_type": "code",
   "execution_count": 58,
   "id": "5c76b11b-792d-47ec-9f76-78902d52c5b4",
   "metadata": {},
   "outputs": [],
   "source": [
    "x = int('5')"
   ]
  },
  {
   "cell_type": "code",
   "execution_count": 59,
   "id": "95240be6-4628-4a6d-9944-8ada2279c552",
   "metadata": {},
   "outputs": [
    {
     "name": "stdout",
     "output_type": "stream",
     "text": [
      "5\n"
     ]
    }
   ],
   "source": [
    "print(x)"
   ]
  },
  {
   "cell_type": "code",
   "execution_count": 60,
   "id": "b15decdd-41e2-4516-a57b-b7ba09587d2d",
   "metadata": {},
   "outputs": [
    {
     "data": {
      "text/plain": [
       "int"
      ]
     },
     "execution_count": 60,
     "metadata": {},
     "output_type": "execute_result"
    }
   ],
   "source": [
    "type(x)"
   ]
  },
  {
   "cell_type": "code",
   "execution_count": 61,
   "id": "5cf41bed-a914-4b12-9b11-6c8d41664772",
   "metadata": {},
   "outputs": [],
   "source": [
    "y = 5"
   ]
  },
  {
   "cell_type": "code",
   "execution_count": 62,
   "id": "6acb2101-28f4-46e6-a26d-2202817aecf6",
   "metadata": {},
   "outputs": [
    {
     "data": {
      "text/plain": [
       "int"
      ]
     },
     "execution_count": 62,
     "metadata": {},
     "output_type": "execute_result"
    }
   ],
   "source": [
    "type(y)"
   ]
  },
  {
   "cell_type": "code",
   "execution_count": 63,
   "id": "f3a5eb01-1505-4ed3-aca1-c34437a2e346",
   "metadata": {},
   "outputs": [],
   "source": [
    "y = float('-5.5')"
   ]
  },
  {
   "cell_type": "code",
   "execution_count": 64,
   "id": "0d0896a3-cfbe-4abe-83fe-fd9a53aaba86",
   "metadata": {},
   "outputs": [
    {
     "name": "stdout",
     "output_type": "stream",
     "text": [
      "-5.5\n"
     ]
    }
   ],
   "source": [
    "print(y)"
   ]
  },
  {
   "cell_type": "code",
   "execution_count": 65,
   "id": "58399a80-1716-4de6-8819-93f202aa6955",
   "metadata": {},
   "outputs": [
    {
     "name": "stdout",
     "output_type": "stream",
     "text": [
      "-5.5\n"
     ]
    }
   ],
   "source": [
    "print(y)"
   ]
  },
  {
   "cell_type": "code",
   "execution_count": 66,
   "id": "3577e0be-e14e-4bb1-b659-bc2e7beaf1dd",
   "metadata": {},
   "outputs": [
    {
     "name": "stdout",
     "output_type": "stream",
     "text": [
      "-5.5\n"
     ]
    },
    {
     "data": {
      "text/plain": [
       "float"
      ]
     },
     "execution_count": 66,
     "metadata": {},
     "output_type": "execute_result"
    }
   ],
   "source": [
    "print(y)\n",
    "type(y)"
   ]
  },
  {
   "cell_type": "code",
   "execution_count": 67,
   "id": "b46086f4-323a-47e7-bd9e-767c68d008a5",
   "metadata": {},
   "outputs": [
    {
     "ename": "NameError",
     "evalue": "name 'double' is not defined",
     "output_type": "error",
     "traceback": [
      "\u001b[1;31m---------------------------------------------------------------------------\u001b[0m",
      "\u001b[1;31mNameError\u001b[0m                                 Traceback (most recent call last)",
      "\u001b[1;32m~\\AppData\\Local\\Temp/ipykernel_13992/2003612292.py\u001b[0m in \u001b[0;36m<module>\u001b[1;34m\u001b[0m\n\u001b[1;32m----> 1\u001b[1;33m \u001b[0mz\u001b[0m \u001b[1;33m=\u001b[0m \u001b[0mdouble\u001b[0m\u001b[1;33m(\u001b[0m\u001b[1;34m'-3.1231231'\u001b[0m\u001b[1;33m)\u001b[0m\u001b[1;33m\u001b[0m\u001b[1;33m\u001b[0m\u001b[0m\n\u001b[0m",
      "\u001b[1;31mNameError\u001b[0m: name 'double' is not defined"
     ]
    }
   ],
   "source": [
    "z = double('-3.1231231')"
   ]
  },
  {
   "cell_type": "markdown",
   "id": "8bfd8b0a-ff98-40e4-94e7-36622febf5b8",
   "metadata": {},
   "source": [
    "**Booleans"
   ]
  },
  {
   "cell_type": "code",
   "execution_count": 68,
   "id": "c49f9dc9-388a-4854-a27e-318f2afa156e",
   "metadata": {},
   "outputs": [
    {
     "ename": "NameError",
     "evalue": "name 'true' is not defined",
     "output_type": "error",
     "traceback": [
      "\u001b[1;31m---------------------------------------------------------------------------\u001b[0m",
      "\u001b[1;31mNameError\u001b[0m                                 Traceback (most recent call last)",
      "\u001b[1;32m~\\AppData\\Local\\Temp/ipykernel_13992/3597177517.py\u001b[0m in \u001b[0;36m<module>\u001b[1;34m\u001b[0m\n\u001b[1;32m----> 1\u001b[1;33m \u001b[0mtr\u001b[0m \u001b[1;33m=\u001b[0m \u001b[0mtrue\u001b[0m\u001b[1;33m\u001b[0m\u001b[1;33m\u001b[0m\u001b[0m\n\u001b[0m",
      "\u001b[1;31mNameError\u001b[0m: name 'true' is not defined"
     ]
    }
   ],
   "source": [
    "tr = true"
   ]
  },
  {
   "cell_type": "code",
   "execution_count": 69,
   "id": "e1c029e8-8cb7-4a66-9f0d-ddd679794bb1",
   "metadata": {},
   "outputs": [],
   "source": [
    "ty = True"
   ]
  },
  {
   "cell_type": "code",
   "execution_count": 70,
   "id": "fc8e626f-ddb7-44d2-ac8c-88358b9b1074",
   "metadata": {},
   "outputs": [],
   "source": [
    "fr = False"
   ]
  },
  {
   "cell_type": "code",
   "execution_count": 71,
   "id": "f893c343-ef54-4be8-8e53-228eb5ccb368",
   "metadata": {},
   "outputs": [],
   "source": [
    "##functions"
   ]
  },
  {
   "cell_type": "code",
   "execution_count": 72,
   "id": "bc4200c2-7230-4b4d-836c-b45c39966a93",
   "metadata": {},
   "outputs": [],
   "source": [
    "#function definition"
   ]
  },
  {
   "cell_type": "code",
   "execution_count": 73,
   "id": "72ae615f-390b-443a-9b48-2c168322f0cd",
   "metadata": {},
   "outputs": [],
   "source": [
    "def double(x):\n",
    "    return x * 2"
   ]
  },
  {
   "cell_type": "code",
   "execution_count": 74,
   "id": "40d490f5-3f28-490a-8665-1cfda5ec88e1",
   "metadata": {},
   "outputs": [
    {
     "data": {
      "text/plain": [
       "10"
      ]
     },
     "execution_count": 74,
     "metadata": {},
     "output_type": "execute_result"
    }
   ],
   "source": [
    "double(5)"
   ]
  },
  {
   "cell_type": "code",
   "execution_count": 75,
   "id": "def4bd4a-97b6-4e75-b632-cd6462b707a0",
   "metadata": {},
   "outputs": [],
   "source": [
    "x = double(10)"
   ]
  },
  {
   "cell_type": "code",
   "execution_count": 76,
   "id": "db02c86b-5328-4107-8396-41d7157d3f0f",
   "metadata": {},
   "outputs": [
    {
     "name": "stdout",
     "output_type": "stream",
     "text": [
      "20\n"
     ]
    }
   ],
   "source": [
    "print(x)"
   ]
  },
  {
   "cell_type": "code",
   "execution_count": 77,
   "id": "e4bf5aa9-e229-44e3-bf7e-e8ca2b9c8e0b",
   "metadata": {},
   "outputs": [],
   "source": [
    "#string methods"
   ]
  },
  {
   "cell_type": "code",
   "execution_count": 78,
   "id": "b98f22b4-22d9-4223-84a3-94dbd42854a0",
   "metadata": {},
   "outputs": [
    {
     "data": {
      "text/plain": [
       "True"
      ]
     },
     "execution_count": 78,
     "metadata": {},
     "output_type": "execute_result"
    }
   ],
   "source": [
    "\"Untitled.ipynb\".startswith(\"Un\")\n"
   ]
  },
  {
   "cell_type": "code",
   "execution_count": 80,
   "id": "c7c88f6d-6c94-4477-89dd-481facda79be",
   "metadata": {},
   "outputs": [
    {
     "data": {
      "text/plain": [
       "13"
      ]
     },
     "execution_count": 80,
     "metadata": {},
     "output_type": "execute_result"
    }
   ],
   "source": [
    "str = \"this is a sentence.\" \n",
    "str.find(\"ten\")"
   ]
  },
  {
   "cell_type": "code",
   "execution_count": 81,
   "id": "dff477eb-2762-49ee-a2b7-70d004927996",
   "metadata": {},
   "outputs": [
    {
     "data": {
      "text/plain": [
       "-1"
      ]
     },
     "execution_count": 81,
     "metadata": {},
     "output_type": "execute_result"
    }
   ],
   "source": [
    "str = \"this is a sentence.\" \n",
    "str.find(\"tense\")"
   ]
  },
  {
   "cell_type": "code",
   "execution_count": 87,
   "id": "6f158966-80d9-47b7-ba87-2630cc43e587",
   "metadata": {},
   "outputs": [
    {
     "data": {
      "text/plain": [
       "False"
      ]
     },
     "execution_count": 87,
     "metadata": {},
     "output_type": "execute_result"
    }
   ],
   "source": [
    "str.isalpha()\n"
   ]
  },
  {
   "cell_type": "code",
   "execution_count": 88,
   "id": "610dc765-dc17-4662-b496-3932fdfb1640",
   "metadata": {},
   "outputs": [
    {
     "data": {
      "text/plain": [
       "True"
      ]
     },
     "execution_count": 88,
     "metadata": {},
     "output_type": "execute_result"
    }
   ],
   "source": [
    "\"syx\".isalpha()"
   ]
  },
  {
   "cell_type": "code",
   "execution_count": 89,
   "id": "b7168986-ed2c-4e04-962b-824b6bb5bf9a",
   "metadata": {},
   "outputs": [
    {
     "ename": "SyntaxError",
     "evalue": "invalid syntax (Temp/ipykernel_13992/3154522154.py, line 1)",
     "output_type": "error",
     "traceback": [
      "\u001b[1;36m  File \u001b[1;32m\"C:\\Users\\thomas\\AppData\\Local\\Temp/ipykernel_13992/3154522154.py\"\u001b[1;36m, line \u001b[1;32m1\u001b[0m\n\u001b[1;33m    123.isdigit()\u001b[0m\n\u001b[1;37m        ^\u001b[0m\n\u001b[1;31mSyntaxError\u001b[0m\u001b[1;31m:\u001b[0m invalid syntax\n"
     ]
    }
   ],
   "source": [
    "123.isdigit()"
   ]
  },
  {
   "cell_type": "code",
   "execution_count": 90,
   "id": "1feb714b-2021-4faa-9e2a-eecb6ef0df5f",
   "metadata": {},
   "outputs": [
    {
     "data": {
      "text/plain": [
       "True"
      ]
     },
     "execution_count": 90,
     "metadata": {},
     "output_type": "execute_result"
    }
   ],
   "source": [
    "\"123\".isdigit()"
   ]
  },
  {
   "cell_type": "code",
   "execution_count": 91,
   "id": "0858b6e0-421b-4045-bb8e-bea03ef5b8da",
   "metadata": {},
   "outputs": [],
   "source": [
    "#replace function\""
   ]
  },
  {
   "cell_type": "code",
   "execution_count": 93,
   "id": "558d6f6b-efec-41eb-a5db-92736affbbb3",
   "metadata": {},
   "outputs": [
    {
     "data": {
      "text/plain": [
       "'06-05-2000'"
      ]
     },
     "execution_count": 93,
     "metadata": {},
     "output_type": "execute_result"
    }
   ],
   "source": [
    "\"06/05/2000\".replace(\"/\",\"-\")"
   ]
  },
  {
   "cell_type": "code",
   "execution_count": 94,
   "id": "47f4c32d-79d3-4c50-90ab-0a718fce4e2a",
   "metadata": {},
   "outputs": [
    {
     "data": {
      "text/plain": [
       "'06-05-2000'"
      ]
     },
     "execution_count": 94,
     "metadata": {},
     "output_type": "execute_result"
    }
   ],
   "source": [
    "\"06/05/2000\".replace('/','-')"
   ]
  },
  {
   "cell_type": "code",
   "execution_count": 95,
   "id": "ed3eec49-ba92-4aa8-ac8e-96bfe7071cb5",
   "metadata": {},
   "outputs": [],
   "source": [
    "res = \"This&that&the other\".replace(\"&\", \"and\" , 1) #only replace first occurence "
   ]
  },
  {
   "cell_type": "code",
   "execution_count": 96,
   "id": "8b84a071-a319-4701-92b3-60576ec6112c",
   "metadata": {},
   "outputs": [
    {
     "name": "stdout",
     "output_type": "stream",
     "text": [
      "Thisandthat&the other\n"
     ]
    }
   ],
   "source": [
    "print(res)"
   ]
  },
  {
   "cell_type": "code",
   "execution_count": 97,
   "id": "5cc50e27-49e4-456c-ab78-dd136e1513a4",
   "metadata": {},
   "outputs": [],
   "source": [
    "str = \"strip out ;,!\"\n",
    "newstr = str.strip(\";,!\")"
   ]
  },
  {
   "cell_type": "code",
   "execution_count": 98,
   "id": "f250b149-65e4-46fa-bc14-fb6e31bef5b1",
   "metadata": {},
   "outputs": [
    {
     "name": "stdout",
     "output_type": "stream",
     "text": [
      "strip out \n"
     ]
    }
   ],
   "source": [
    "print(newstr)"
   ]
  },
  {
   "cell_type": "code",
   "execution_count": null,
   "id": "461e3266-8fd2-4b16-a50d-925aa53795ca",
   "metadata": {},
   "outputs": [],
   "source": []
  },
  {
   "cell_type": "code",
   "execution_count": 100,
   "id": "373541de-d68b-4268-991f-7dc357a96910",
   "metadata": {},
   "outputs": [],
   "source": [
    "str = \"strip out ;,!\"\n",
    "newstr = str.strip(\"!,;\")"
   ]
  },
  {
   "cell_type": "code",
   "execution_count": 101,
   "id": "9e66e4fb-11de-45b3-95bb-d6695894d4c0",
   "metadata": {},
   "outputs": [
    {
     "name": "stdout",
     "output_type": "stream",
     "text": [
      "strip out \n"
     ]
    }
   ],
   "source": [
    "print(newstr)"
   ]
  },
  {
   "cell_type": "code",
   "execution_count": null,
   "id": "3e7848e6-245a-4272-a43f-bef76e47bbab",
   "metadata": {},
   "outputs": [],
   "source": []
  }
 ],
 "metadata": {
  "kernelspec": {
   "display_name": "Python 3 (ipykernel)",
   "language": "python",
   "name": "python3"
  },
  "language_info": {
   "codemirror_mode": {
    "name": "ipython",
    "version": 3
   },
   "file_extension": ".py",
   "mimetype": "text/x-python",
   "name": "python",
   "nbconvert_exporter": "python",
   "pygments_lexer": "ipython3",
   "version": "3.9.7"
  }
 },
 "nbformat": 4,
 "nbformat_minor": 5
}
