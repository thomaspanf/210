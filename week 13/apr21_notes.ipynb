{
 "cells": [
  {
   "cell_type": "markdown",
   "metadata": {},
   "source": [
    "### <font color=\"brown\">Relational Databases Continued</font>"
   ]
  },
  {
   "cell_type": "markdown",
   "metadata": {},
   "source": [
    "---"
   ]
  },
  {
   "cell_type": "markdown",
   "metadata": {},
   "source": [
    "#### <font color=\"brown\">Queries on the nobels database</font>"
   ]
  },
  {
   "cell_type": "markdown",
   "metadata": {},
   "source": [
    "##### **The table schemas**\n",
    "\n",
    "<pre>\n",
    "mysql> desc yearcat;\n",
    "+----------+----------+------+-----+---------+----------------+\n",
    "| Field    | Type     | Null | Key | Default | Extra          |\n",
    "+----------+----------+------+-----+---------+----------------+\n",
    "| id       | smallint | NO   | PRI | NULL    | auto_increment |\n",
    "| year     | year     | NO   |     | NULL    |                |\n",
    "| category | char(10) | NO   |     | NULL    |                |\n",
    "+----------+----------+------+-----+---------+----------------+\n",
    "3 rows in set (0.00 sec)\n",
    "\n",
    "mysql> desc contribution;\n",
    "+------------+--------------+------+-----+---------+----------------+\n",
    "| Field      | Type         | Null | Key | Default | Extra          |\n",
    "+------------+--------------+------+-----+---------+----------------+\n",
    "| id         | smallint     | NO   | PRI | NULL    | auto_increment |\n",
    "| motivation | varchar(500) | NO   |     | NULL    |                |\n",
    "+------------+--------------+------+-----+---------+----------------+\n",
    "2 rows in set (0.00 sec)\n",
    "\n",
    "mysql> desc laureate;\n",
    "+-------------+-------------+------+-----+---------+-------+\n",
    "| Field       | Type        | Null | Key | Default | Extra |\n",
    "+-------------+-------------+------+-----+---------+-------+\n",
    "| fname       | varchar(80) | NO   |     | NULL    |       |\n",
    "| lname       | varchar(40) | YES  |     | NULL    |       |\n",
    "| share       | tinyint     | NO   |     | NULL    |       |\n",
    "| year_cat_id | smallint    | NO   | MUL | NULL    |       |\n",
    "| motiv_id    | smallint    | NO   | MUL | NULL    |       |\n",
    "+-------------+-------------+------+-----+---------+-------+\n",
    "5 rows in set (0.00 sec)\n",
    "</pre>"
   ]
  },
  {
   "cell_type": "markdown",
   "metadata": {},
   "source": [
    "---"
   ]
  },
  {
   "cell_type": "markdown",
   "metadata": {},
   "source": [
    "##### <font color=\"brown\">5. In the year 2000 how many people shared the prize in each category except Peace?  (as, group by)</font>\n",
    "\n",
    "<pre>\n",
    "mysql> select Y.category, count(*) as 'number of laureates'\n",
    "       from yearcat Y, laureate L\n",
    "       where Y.year=2000\n",
    "             and Y.category != 'Peace' \n",
    "             and Y.id=L.year_cat_id \n",
    "       group by category;\n",
    "\n",
    "+------------+---------------------+\n",
    "| category   | number of laureates |\n",
    "+------------+---------------------+\n",
    "| Chemistry  |                   3 |\n",
    "| Economics  |                   2 |\n",
    "| Literature |                   1 |\n",
    "| Physics    |                   3 |\n",
    "| Medicine   |                   3 |\n",
    "+------------+---------------------+\n",
    "</pre>\n",
    "\n",
    "- The *as* feature is used to name a result column, otherwise here it will be named 'count(\\*)' which is not descriptive\n",
    "- The *group by* clause is mcuh like the Pandas DataFrame <tt>groupby</tt> method."
   ]
  },
  {
   "cell_type": "markdown",
   "metadata": {},
   "source": [
    "---"
   ]
  },
  {
   "cell_type": "markdown",
   "metadata": {},
   "source": [
    "##### <font color=\"brown\">6a. In the years 2016-2020 how many people shared the prize in each category except Peace? (group by on 2 levels)</font>\n",
    "\n",
    "<pre>\n",
    "mysql> select Y.year, Y.category, count(category) as 'number of laureates'\n",
    "       from yearcat Y, laureate L\n",
    "       where Y.year between 2016 and 2020 \n",
    "             and Y.category != 'Peace' \n",
    "             and Y.id=L.year_cat_id \n",
    "       group by Y.year, Y.category;\n",
    "\n",
    "+------+------------+---------------------+\n",
    "| year | category   | number of laureates |\n",
    "+------+------------+---------------------+\n",
    "| 2020 | Chemistry  |                   2 |\n",
    "| 2020 | Economics  |                   2 |\n",
    "| 2020 | Literature |                   1 |\n",
    "| 2020 | Physics    |                   3 |\n",
    "| 2020 | Medicine   |                   3 |\n",
    "| 2019 | Chemistry  |                   3 |\n",
    "| 2019 | Economics  |                   3 |\n",
    "| 2019 | Literature |                   1 |\n",
    "| 2019 | Physics    |                   3 |\n",
    "| 2019 | Medicine   |                   3 |\n",
    "| 2018 | Chemistry  |                   3 |\n",
    "| 2018 | Economics  |                   2 |\n",
    "| 2018 | Literature |                   1 |\n",
    "| 2018 | Physics    |                   3 |\n",
    "| 2018 | Medicine   |                   2 |\n",
    "| 2017 | Chemistry  |                   3 |\n",
    "| 2017 | Economics  |                   1 |\n",
    "| 2017 | Literature |                   1 |\n",
    "| 2017 | Physics    |                   3 |\n",
    "| 2017 | Medicine   |                   3 |\n",
    "| 2016 | Chemistry  |                   3 |\n",
    "| 2016 | Economics  |                   2 |\n",
    "| 2016 | Literature |                   1 |\n",
    "| 2016 | Physics    |                   3 |\n",
    "| 2016 | Medicine   |                   1 |\n",
    "+------+------------+---------------------+\n",
    "</pre>\n",
    "First group by year, then within each year group by category."
   ]
  },
  {
   "cell_type": "markdown",
   "metadata": {},
   "source": [
    "---"
   ]
  },
  {
   "cell_type": "markdown",
   "metadata": {},
   "source": [
    "<font color=\"brown\">6b. In the years 2016-2020 (list chronologically) how many people shared the prize in each category except Peace? \n",
    "(order by)</font>\n",
    "\n",
    "<pre>\n",
    "mysql> select Y.year, Y.category, count(category) as 'number of laureates'\n",
    "       from yearcat Y, laureate L\n",
    "       where Y.year between 2016 and 2020 \n",
    "             and Y.category != 'Peace' \n",
    "             and Y.id=L.year_cat_id \n",
    "       group by Y.year, Y.category\n",
    "       order by Y.year;\n",
    "       \n",
    "+------+------------+---------------------+\n",
    "| year | category   | number of laureates |\n",
    "+------+------------+---------------------+\n",
    "| 2016 | Chemistry  |                   3 |\n",
    "| 2016 | Economics  |                   2 |\n",
    "| 2016 | Literature |                   1 |\n",
    "| 2016 | Medicine   |                   1 |\n",
    "| 2016 | Physics    |                   3 |\n",
    "| 2017 | Chemistry  |                   3 |\n",
    "| 2017 | Economics  |                   1 |\n",
    "| 2017 | Literature |                   1 |\n",
    "| 2017 | Medicine   |                   3 |\n",
    "| 2017 | Physics    |                   3 |\n",
    "| 2018 | Chemistry  |                   3 |\n",
    "| 2018 | Economics  |                   2 |\n",
    "| 2018 | Literature |                   1 |\n",
    "| 2018 | Medicine   |                   2 |\n",
    "| 2018 | Physics    |                   3 |\n",
    "| 2019 | Chemistry  |                   3 |\n",
    "| 2019 | Economics  |                   3 |\n",
    "| 2019 | Literature |                   1 |\n",
    "| 2019 | Medicine   |                   3 |\n",
    "| 2019 | Physics    |                   3 |\n",
    "| 2020 | Chemistry  |                   2 |\n",
    "| 2020 | Economics  |                   2 |\n",
    "| 2020 | Literature |                   1 |\n",
    "| 2020 | Medicine   |                   3 |\n",
    "| 2020 | Physics    |                   3 |\n",
    "+------+------------+---------------------+       \n",
    "</pre>"
   ]
  },
  {
   "cell_type": "markdown",
   "metadata": {},
   "source": [
    "---"
   ]
  },
  {
   "cell_type": "markdown",
   "metadata": {},
   "source": [
    "<font color=\"brown\">7. List the years and number of laureates when the Chemistry prize was shared by more than 2 winners.\n",
    "(having)</font>\n",
    "\n",
    "<pre>\n",
    "mysql> select Y.year, count(*) as laureates\n",
    "       from yearcat Y, laureate L\n",
    "       where Y.category = 'Chemistry'\n",
    "             and Y.id = L.year_cat_id\n",
    "       group by Y.year\n",
    "       having count(*) > 2\n",
    "       \n",
    "+------+-----------+\n",
    "| year | laureates |\n",
    "+------+-----------+\n",
    "| 2019 |         3 |\n",
    "| 2018 |         3 |\n",
    "| 2017 |         3 |\n",
    "| 2016 |         3 |\n",
    "| 2015 |         3 |\n",
    "| 2014 |         3 |\n",
    "| 2013 |         3 |\n",
    "| 2010 |         3 |\n",
    "| 2009 |         3 |\n",
    "| 2008 |         3 |\n",
    "| 2005 |         3 |\n",
    "| 2004 |         3 |\n",
    "| 2002 |         3 |\n",
    "| 2001 |         3 |\n",
    "| 2000 |         3 |\n",
    "| 1997 |         3 |\n",
    "| 1996 |         3 |\n",
    "| 1995 |         3 |\n",
    "| 1988 |         3 |\n",
    "| 1987 |         3 |\n",
    "| 1986 |         3 |\n",
    "| 1980 |         3 |\n",
    "| 1972 |         3 |\n",
    "| 1967 |         3 |\n",
    "| 1946 |         3 |\n",
    "+------+-----------+   \n",
    "</pre>\n",
    "- The *having* condition applies to each group\n"
   ]
  },
  {
   "cell_type": "markdown",
   "metadata": {},
   "source": [
    "---"
   ]
  },
  {
   "cell_type": "markdown",
   "metadata": {},
   "source": [
    "---"
   ]
  },
  {
   "cell_type": "markdown",
   "metadata": {},
   "source": [
    "### <font color=\"brown\">College database</font>"
   ]
  },
  {
   "cell_type": "markdown",
   "metadata": {},
   "source": [
    "#### <font color=\"brown\">Create a college database and give access to local user</font>"
   ]
  },
  {
   "cell_type": "markdown",
   "metadata": {},
   "source": [
    "<pre>\n",
    "sesh> mysql -u root -p mysql\n",
    "mysql> create database college;\n",
    "mysql> grant all on college.* to 'sesh'@'localhost';\n",
    "mysql> exit\n",
    "</pre>"
   ]
  },
  {
   "cell_type": "markdown",
   "metadata": {},
   "source": [
    "---"
   ]
  },
  {
   "cell_type": "markdown",
   "metadata": {},
   "source": [
    "#### <font color=\"brown\">Set up the following schema for the college database</font>"
   ]
  },
  {
   "cell_type": "markdown",
   "metadata": {},
   "source": [
    "<pre>\n",
    "sesh> mysql -u sesh -p college\n",
    "</pre>"
   ]
  },
  {
   "cell_type": "markdown",
   "metadata": {},
   "source": [
    "##### 1. Student(Id, Name, Major, Year, Age)\n",
    "<pre>\n",
    "   create table Student(\n",
    "       Id int primary key, \n",
    "       Name varchar(20) not null, \n",
    "       Major varchar(20) not null,\n",
    "       Year enum('FR','SO','JR','SR','GR') not null default 'FR',\n",
    "       Age tinyint not null);\n",
    "</pre>"
   ]
  },
  {
   "cell_type": "markdown",
   "metadata": {},
   "source": [
    "##### 2. Class(CName, Time, Room)\n",
    "<pre>\n",
    "   create table Class(\n",
    "       CName varchar(10) primary key,\n",
    "       Time char(4) not null,\n",
    "       Room varchar(20) not null);\n",
    "</pre>"
   ]
  },
  {
   "cell_type": "markdown",
   "metadata": {},
   "source": [
    "##### 3. Enrollment(SId, CName, Pos)\n",
    "<pre>\n",
    "   create table Enrollment(\n",
    "       SId int not null,\n",
    "       CName varchar(10) not null,\n",
    "       Pos smallint not null,\n",
    "       foreign key (SId) references Student(Id),\n",
    "       foreign key (CName) references Class(CName));\n",
    "</pre>"
   ]
  },
  {
   "cell_type": "markdown",
   "metadata": {},
   "source": [
    "##### 4. HonorStudent(SId)\n",
    "<pre>\n",
    "   create table HonorStudent (\n",
    "       SId int not null, \n",
    "       foreign key (SId) references Student(Id));\n",
    "</pre>"
   ]
  },
  {
   "cell_type": "markdown",
   "metadata": {},
   "source": [
    "---"
   ]
  },
  {
   "cell_type": "markdown",
   "metadata": {},
   "source": [
    "#### <font color=\"brown\">Populate the database</font>"
   ]
  },
  {
   "cell_type": "code",
   "execution_count": 4,
   "metadata": {},
   "outputs": [],
   "source": [
    "# import connector module\n",
    "import mysql.connector"
   ]
  },
  {
   "cell_type": "code",
   "execution_count": 5,
   "metadata": {},
   "outputs": [],
   "source": [
    "# connect to college database\n",
    "mydb = mysql.connector.connect(\n",
    "  host=\"localhost\",\n",
    "  user=\"sesh\",\n",
    "  passwd=\"sesh\",  # replace with your password\n",
    "  database=\"college\"\n",
    ")"
   ]
  },
  {
   "cell_type": "code",
   "execution_count": 6,
   "metadata": {},
   "outputs": [],
   "source": [
    "# set up for access\n",
    "cursor = mydb.cursor()"
   ]
  },
  {
   "cell_type": "markdown",
   "metadata": {},
   "source": [
    "#### Student table"
   ]
  },
  {
   "cell_type": "code",
   "execution_count": 7,
   "metadata": {},
   "outputs": [],
   "source": [
    "# Dataset for Student table\n",
    "students = [\n",
    "    (100, 'Perez', 'Math', 'JR', 21),\n",
    "    (150, 'Patel', 'CS', 'SO', 19),\n",
    "    (200, 'Eastwood', 'Physics', 'GR', 26),\n",
    "    (250, 'Chen', 'English', 'SR', 22),\n",
    "    (300, 'Madsen', 'History', 'FR', 18),\n",
    "    (350, 'Harris', 'Chemistry', 'SR', 21),\n",
    "    (400, 'Bakalova', 'Economics', 'GR', 24)\n",
    "]\n",
    "add_student = \"insert into Student values (%s, %s, %s, %s, %s)\"\n",
    "for student in students:\n",
    "    cursor.execute(add_student, student)\n",
    "    mydb.commit()  "
   ]
  },
  {
   "cell_type": "code",
   "execution_count": 8,
   "metadata": {},
   "outputs": [],
   "source": [
    "def doquery(query):\n",
    "    cursor.execute(query)\n",
    "    res = cursor.fetchall()\n",
    "    for row in res:\n",
    "        print(row)"
   ]
  },
  {
   "cell_type": "code",
   "execution_count": 9,
   "metadata": {},
   "outputs": [
    {
     "name": "stdout",
     "output_type": "stream",
     "text": [
      "(100, 'Perez', 'Math', 'JR', 21)\n",
      "(150, 'Patel', 'CS', 'SO', 19)\n",
      "(200, 'Eastwood', 'Physics', 'GR', 26)\n",
      "(250, 'Chen', 'English', 'SR', 22)\n",
      "(300, 'Madsen', 'History', 'FR', 18)\n",
      "(350, 'Harris', 'Chemistry', 'SR', 21)\n",
      "(400, 'Bakalova', 'Economics', 'GR', 24)\n"
     ]
    }
   ],
   "source": [
    "doquery(\"select * from Student\")"
   ]
  },
  {
   "cell_type": "markdown",
   "metadata": {},
   "source": [
    "#### Class table"
   ]
  },
  {
   "cell_type": "code",
   "execution_count": 10,
   "metadata": {},
   "outputs": [],
   "source": [
    "# Dataset for Class table\n",
    "classes = [\n",
    "    ('Math 311', 'MW5', 'Liv'),\n",
    "    ('CS 210', 'MW4', 'Remote'),\n",
    "    ('CS 213', 'Any', 'Remote'),\n",
    "    ('CS 323', 'TTh8', 'Busch'),\n",
    "    ('Phy 421', 'TTh4', 'Busch'),\n",
    "    ('Phy 605', 'TTh6', 'Busch'),\n",
    "    ('Econ 607', 'MTh4', 'CAC'),\n",
    "    ('Eng 256', 'TTh5', 'CAC'),\n",
    "    ('Eng 316', 'MTH3', 'CAC'),\n",
    "    ('Hist 401', 'Any', 'CAC'),\n",
    "    ('Chem 422', 'MW2', 'Busch'),\n",
    "    ('Hist 102', 'Any', 'CAC'),\n",
    "    ('Econ 586', 'TTh6', 'CAC' )\n",
    "]\n",
    "add_class = \"insert into Class values (%s, %s, %s)\"\n",
    "for aclass in classes:\n",
    "    cursor.execute(add_class, aclass)\n",
    "    mydb.commit()  "
   ]
  },
  {
   "cell_type": "code",
   "execution_count": 11,
   "metadata": {},
   "outputs": [
    {
     "name": "stdout",
     "output_type": "stream",
     "text": [
      "('Chem 422', 'MW2', 'Busch')\n",
      "('CS 210', 'MW4', 'Remote')\n",
      "('CS 213', 'Any', 'Remote')\n",
      "('CS 323', 'TTh8', 'Busch')\n",
      "('Econ 586', 'TTh6', 'CAC')\n",
      "('Econ 607', 'MTh4', 'CAC')\n",
      "('Eng 256', 'TTh5', 'CAC')\n",
      "('Eng 316', 'MTH3', 'CAC')\n",
      "('Hist 102', 'Any', 'CAC')\n",
      "('Hist 401', 'Any', 'CAC')\n",
      "('Math 311', 'MW5', 'Liv')\n",
      "('Phy 421', 'TTh4', 'Busch')\n",
      "('Phy 605', 'TTh6', 'Busch')\n"
     ]
    }
   ],
   "source": [
    "doquery(\"select * from Class\")"
   ]
  },
  {
   "cell_type": "markdown",
   "metadata": {},
   "source": [
    "#### Enrollment table"
   ]
  },
  {
   "cell_type": "code",
   "execution_count": 12,
   "metadata": {},
   "outputs": [],
   "source": [
    "enrolls = [\n",
    "    (100, 'Math 311', 1),\n",
    "    (100, 'CS 210', 3),\n",
    "    (150, 'CS 210', 2),\n",
    "    (150, 'CS 213', 5),\n",
    "    (150, 'CS 323', 1),\n",
    "    (150, 'Math 311', 10),\n",
    "    (200, 'Phy 605', 3),\n",
    "    (200, 'CS 323', 2),\n",
    "    (250, 'Eng 256', 8),\n",
    "    (250, 'Eng 316', 7),\n",
    "    (250, 'CS 213', 26),\n",
    "    (300, 'Hist 102', 24),\n",
    "    (300, 'CS 210', 6),\n",
    "    (350, 'Chem 422', 14),\n",
    "    (350, 'Hist 401', 2),\n",
    "    (400, 'Econ 586', 1),\n",
    "    (400, 'Econ 607',4)\n",
    "]\n",
    "add_enrollment = \"insert into Enrollment values (%s, %s, %s)\"\n",
    "for enroll in enrolls:\n",
    "    cursor.execute(add_enrollment, enroll)\n",
    "    mydb.commit() "
   ]
  },
  {
   "cell_type": "code",
   "execution_count": 13,
   "metadata": {},
   "outputs": [
    {
     "name": "stdout",
     "output_type": "stream",
     "text": [
      "(100, 'Math 311', 1)\n",
      "(100, 'CS 210', 3)\n",
      "(150, 'CS 210', 2)\n",
      "(150, 'CS 213', 5)\n",
      "(150, 'CS 323', 1)\n",
      "(150, 'Math 311', 10)\n",
      "(200, 'Phy 605', 3)\n",
      "(200, 'CS 323', 2)\n",
      "(250, 'Eng 256', 8)\n",
      "(250, 'Eng 316', 7)\n",
      "(250, 'CS 213', 26)\n",
      "(300, 'Hist 102', 24)\n",
      "(300, 'CS 210', 6)\n",
      "(350, 'Chem 422', 14)\n",
      "(350, 'Hist 401', 2)\n",
      "(400, 'Econ 586', 1)\n",
      "(400, 'Econ 607', 4)\n"
     ]
    }
   ],
   "source": [
    "doquery(\"select * from Enrollment\")"
   ]
  },
  {
   "cell_type": "markdown",
   "metadata": {},
   "source": [
    "#### HonorStudent table"
   ]
  },
  {
   "cell_type": "code",
   "execution_count": 14,
   "metadata": {},
   "outputs": [],
   "source": [
    "add_honorstudent = \"insert into HonorStudent values (%s)\"\n",
    "for id in [(100,),(150,),(250,)]:\n",
    "    cursor.execute(add_honorstudent, id)\n",
    "    mydb.commit();"
   ]
  },
  {
   "cell_type": "code",
   "execution_count": 15,
   "metadata": {},
   "outputs": [
    {
     "name": "stdout",
     "output_type": "stream",
     "text": [
      "(100,)\n",
      "(150,)\n",
      "(250,)\n"
     ]
    }
   ],
   "source": [
    "doquery(\"select * from HonorStudent\")"
   ]
  },
  {
   "cell_type": "markdown",
   "metadata": {},
   "source": [
    "---"
   ]
  },
  {
   "cell_type": "markdown",
   "metadata": {},
   "source": [
    "#### <font color=\"brown\">Do Queries on the database</font>"
   ]
  },
  {
   "cell_type": "markdown",
   "metadata": {},
   "source": [
    "---"
   ]
  },
  {
   "cell_type": "markdown",
   "metadata": {},
   "source": [
    "#### <font color=\"brown\">String Wildcarding</font>"
   ]
  },
  {
   "cell_type": "markdown",
   "metadata": {},
   "source": [
    "##### **1. Find all CS classes**\n",
    "<pre>\n",
    "  select * from Class where CName like 'CS%';\n",
    "</pre>\n",
    "(All classes that start with 'CS', % matches 0 or more characters)"
   ]
  },
  {
   "cell_type": "code",
   "execution_count": 17,
   "metadata": {},
   "outputs": [
    {
     "name": "stdout",
     "output_type": "stream",
     "text": [
      "('CS 210', 'MW4', 'Remote')\n",
      "('CS 213', 'Any', 'Remote')\n",
      "('CS 323', 'TTh8', 'Busch')\n"
     ]
    }
   ],
   "source": [
    "query = 'select * from Class where CName like \\'CS%\\''\n",
    "doquery(query)"
   ]
  },
  {
   "cell_type": "markdown",
   "metadata": {},
   "source": [
    "Strings in MySQL are <b>case-insensitive</b>, so using 'cs' instead of 'CS' will work the same way:\n",
    "<pre>\n",
    "  select * from Class where CName like 'cs%';\n",
    "</pre>"
   ]
  },
  {
   "cell_type": "code",
   "execution_count": 18,
   "metadata": {},
   "outputs": [
    {
     "name": "stdout",
     "output_type": "stream",
     "text": [
      "('CS 210', 'MW4', 'Remote')\n",
      "('CS 213', 'Any', 'Remote')\n",
      "('CS 323', 'TTh8', 'Busch')\n"
     ]
    }
   ],
   "source": [
    "query = 'select * from Class where CName like \\'cs%\\''\n",
    "doquery(query)"
   ]
  },
  {
   "cell_type": "markdown",
   "metadata": {},
   "source": [
    "##### **2. Find all classes that meet on Thursday**\n",
    "<pre>\n",
    "  select CName, Time from Class where Time like '%Th%'\n",
    "</pre>\n",
    "(All classes that start with 'CS', % matches anything that follows)"
   ]
  },
  {
   "cell_type": "code",
   "execution_count": 19,
   "metadata": {},
   "outputs": [
    {
     "name": "stdout",
     "output_type": "stream",
     "text": [
      "('CS 323', 'TTh8')\n",
      "('Econ 586', 'TTh6')\n",
      "('Econ 607', 'MTh4')\n",
      "('Eng 256', 'TTh5')\n",
      "('Eng 316', 'MTH3')\n",
      "('Phy 421', 'TTh4')\n",
      "('Phy 605', 'TTh6')\n"
     ]
    }
   ],
   "source": [
    "query = \"select CName, Time from Class where Time like '%Th%'\"\n",
    "doquery(query)"
   ]
  },
  {
   "cell_type": "markdown",
   "metadata": {},
   "source": [
    "##### **3. Find all 300-level classes**\n",
    "<pre>\n",
    "  select * from Class where CName like '%3__'\n",
    "</pre>\n",
    "(The pattern is written with 2 underscores, one for each character following 3: 3 \\_ \\_. Underscore matches a single character.)"
   ]
  },
  {
   "cell_type": "code",
   "execution_count": 20,
   "metadata": {},
   "outputs": [
    {
     "name": "stdout",
     "output_type": "stream",
     "text": [
      "('CS 323', 'TTh8', 'Busch')\n",
      "('Eng 316', 'MTH3', 'CAC')\n",
      "('Math 311', 'MW5', 'Liv')\n"
     ]
    }
   ],
   "source": [
    "query = \"select * from Class where CName like '%3__'\"\n",
    "doquery(query)"
   ]
  },
  {
   "cell_type": "markdown",
   "metadata": {},
   "source": [
    "---"
   ]
  },
  {
   "cell_type": "markdown",
   "metadata": {},
   "source": [
    "#### <font color=\"brown\">Nested Select</font>"
   ]
  },
  {
   "cell_type": "markdown",
   "metadata": {},
   "source": [
    "##### **1. Find all students who are older than Chen**\n",
    "<pre>\n",
    "  select Name from Student \n",
    "  where Age > \n",
    "  (select Age from Student where Name = 'Chen')\n",
    "</pre>"
   ]
  },
  {
   "cell_type": "code",
   "execution_count": 16,
   "metadata": {},
   "outputs": [
    {
     "name": "stdout",
     "output_type": "stream",
     "text": [
      "('Eastwood',)\n",
      "('Bakalova',)\n"
     ]
    }
   ],
   "source": [
    "query = \"\"\"select Name from Student \n",
    "           where Age > \n",
    "           (select Age from Student where Name='Chen')\"\"\" \n",
    "doquery(query)"
   ]
  },
  {
   "cell_type": "markdown",
   "metadata": {},
   "source": [
    "---"
   ]
  },
  {
   "cell_type": "markdown",
   "metadata": {},
   "source": [
    "#### <font color=\"brown\">Set Operations</font>"
   ]
  },
  {
   "cell_type": "markdown",
   "metadata": {},
   "source": [
    "##### **1. Find names of students who are either sophomores or honor students**\n",
    "<pre>\n",
    "   (select Name from Student where Year='SO') \n",
    "      union\n",
    "   (select Name from Student S, HonorStudent H where H.sid=S.id)\n",
    "</pre>\n",
    "- Parentheses around each of the select statements are optional\n",
    "- Names of tables and columns are case-insensitive, so you can do everything in lower case, if you would like:\n",
    "\n",
    "<pre>\n",
    "select name from student where year='so' union \n",
    "select name from student S, honorstudent H where H.sid=S.id\n",
    "</pre>"
   ]
  },
  {
   "cell_type": "code",
   "execution_count": 21,
   "metadata": {},
   "outputs": [
    {
     "name": "stdout",
     "output_type": "stream",
     "text": [
      "('Patel',)\n",
      "('Perez',)\n",
      "('Chen',)\n"
     ]
    }
   ],
   "source": [
    "query = \"\"\"(select Name from Student where Year='SO') \n",
    "          union\n",
    "           (select Name from Student S, HonorStudent H where H.sid=S.id)\"\"\"\n",
    "doquery(query)"
   ]
  },
  {
   "cell_type": "markdown",
   "metadata": {},
   "source": [
    "---"
   ]
  },
  {
   "cell_type": "markdown",
   "metadata": {},
   "source": [
    "##### **2. Find names of senior honor students**\n",
    "\n",
    "The following won't work, because there is no set intersect feature:\n",
    "<pre>\n",
    "   (select Name from Student where Year='SR') \n",
    "      intersect\n",
    "   (select Name from Student S, HonorStudent H where H.sid=S.id)\n",
    "</pre>\n",
    "But we can do it a couple of other ways:\n",
    "- **Using join**\n",
    "\n",
    "<pre>\n",
    "   select Name from Student S, HonorStudent H where Year='SR' and S.id=H.sid\n",
    "</pre>\n",
    "\n",
    "- **Using set membership**\n",
    "\n",
    "<pre>\n",
    "   select Name from Student where Year='SR' and Id in (select SId from HonorStudent);  \n",
    "</pre>\n",
    "-  Parentheses around the second select are required.   "
   ]
  },
  {
   "cell_type": "code",
   "execution_count": 22,
   "metadata": {},
   "outputs": [
    {
     "name": "stdout",
     "output_type": "stream",
     "text": [
      "('Chen',)\n"
     ]
    }
   ],
   "source": [
    "query = \"select Name from Student where Year='SR' and Id in (select SId from HonorStudent)\"\n",
    "doquery(query)"
   ]
  },
  {
   "cell_type": "markdown",
   "metadata": {},
   "source": [
    "---"
   ]
  },
  {
   "cell_type": "markdown",
   "metadata": {},
   "source": [
    "##### **3. Find names of seniors who are not honor students**\n",
    "\n",
    "The following won't work, because there is no set difference feature:\n",
    "<pre>\n",
    "   (select Name from Student where Year='SR') \n",
    "      difference\n",
    "   (select Name from Student S, HonorStudent H where H.sid=S.id)\n",
    "</pre>\n",
    "But we can do it using set membership:\n",
    "<pre>\n",
    "   select Name from Student S \n",
    "   where Year='SR' \n",
    "   and Name not in \n",
    "     (select Name from Student S, HonorStudent H where S.id=H.sid)\n",
    "</pre>"
   ]
  },
  {
   "cell_type": "code",
   "execution_count": 23,
   "metadata": {},
   "outputs": [
    {
     "name": "stdout",
     "output_type": "stream",
     "text": [
      "('Harris',)\n"
     ]
    }
   ],
   "source": [
    "query=\"\"\"select Name from Student S \n",
    "         where Year='SR' \n",
    "         and Name not in \n",
    "             (select Name from Student S, HonorStudent H where S.id=H.sid)\"\"\"\n",
    "doquery(query)"
   ]
  },
  {
   "cell_type": "markdown",
   "metadata": {},
   "source": [
    "---"
   ]
  },
  {
   "cell_type": "markdown",
   "metadata": {},
   "source": [
    "##### **4. Find ids of all students who are taking all CS classes**\n",
    "\n",
    "The strategy is to find all CS classes, then subtract from it all CS classes taken by a student. If there is anything left after subtraction, it means the student is at least one CS class short. In the result, only include students for which the subtraction is an empty set: \"exists\" tests if a set is non-empty\n",
    "\n",
    "<pre>\n",
    "   select distinct E.sid from Enrollment E \n",
    "   where not exists \n",
    "     (select CName from Class where CName like 'CS%' \n",
    "      and CName not in \n",
    "        (select F.CName from Enrollment F where F.sid=E.sid))\n",
    "</pre>"
   ]
  },
  {
   "cell_type": "code",
   "execution_count": 24,
   "metadata": {},
   "outputs": [
    {
     "name": "stdout",
     "output_type": "stream",
     "text": [
      "(150,)\n"
     ]
    }
   ],
   "source": [
    "query=\"\"\"select distinct E.sid from Enrollment E \n",
    "   where not exists \n",
    "     (select CName from Class where CName like 'CS%' \n",
    "      and CName not in \n",
    "        (select F.CName from Enrollment F where F.sid=E.sid))\"\"\"\n",
    "doquery(query)"
   ]
  },
  {
   "cell_type": "markdown",
   "metadata": {},
   "source": [
    "##### **5. Redo above to get names of students, instead of ids**"
   ]
  },
  {
   "cell_type": "markdown",
   "metadata": {},
   "source": [
    "<pre>\n",
    "   select distinct S.Name from Student S, Enrollment E \n",
    "   where S.id = E.sid and not exists \n",
    "     (select CName from Class where CName like 'CS%' \n",
    "      and CName not in \n",
    "        (select F.CName from Enrollment F where F.sid=E.sid))\n",
    "</pre>"
   ]
  },
  {
   "cell_type": "code",
   "execution_count": 27,
   "metadata": {},
   "outputs": [
    {
     "name": "stdout",
     "output_type": "stream",
     "text": [
      "('Patel',)\n"
     ]
    }
   ],
   "source": [
    "query=\"\"\"select distinct Name from Student S, Enrollment E \n",
    "   where S.id=E.sid and not exists \n",
    "     (select CName from Class where CName like 'CS%' \n",
    "      and CName not in \n",
    "        (select F.CName from Enrollment F where F.sid=E.sid))\"\"\"\n",
    "doquery(query)"
   ]
  },
  {
   "cell_type": "markdown",
   "metadata": {},
   "source": [
    "---"
   ]
  },
  {
   "cell_type": "markdown",
   "metadata": {},
   "source": [
    "#### <font color=\"brown\">Order By</font>"
   ]
  },
  {
   "cell_type": "markdown",
   "metadata": {},
   "source": [
    "##### **1. List students by age**\n",
    "<pre>\n",
    "   select Name,Age from Student order by Age\n",
    "</pre>\n",
    "You can say 'order by Age asc' but the ascending order is the default, so can be omitted"
   ]
  },
  {
   "cell_type": "code",
   "execution_count": 28,
   "metadata": {},
   "outputs": [
    {
     "name": "stdout",
     "output_type": "stream",
     "text": [
      "('Madsen', 18)\n",
      "('Patel', 19)\n",
      "('Perez', 21)\n",
      "('Harris', 21)\n",
      "('Chen', 22)\n",
      "('Bakalova', 24)\n",
      "('Eastwood', 26)\n"
     ]
    }
   ],
   "source": [
    "query='select Name,Age from Student order by Age'\n",
    "doquery(query)"
   ]
  },
  {
   "cell_type": "markdown",
   "metadata": {},
   "source": [
    "##### **2. List CS class enrollments in alphabetical order of class names, and descending order of student positions within each class** "
   ]
  },
  {
   "cell_type": "markdown",
   "metadata": {},
   "source": [
    "<pre>\n",
    "select * from Enrollment \n",
    "where CName like 'CS%'\n",
    "order by CName, Pos desc\n",
    "</pre>"
   ]
  },
  {
   "cell_type": "code",
   "execution_count": 30,
   "metadata": {},
   "outputs": [
    {
     "name": "stdout",
     "output_type": "stream",
     "text": [
      "(300, 'CS 210', 6)\n",
      "(100, 'CS 210', 3)\n",
      "(150, 'CS 210', 2)\n",
      "(250, 'CS 213', 26)\n",
      "(150, 'CS 213', 5)\n",
      "(200, 'CS 323', 2)\n",
      "(150, 'CS 323', 1)\n"
     ]
    }
   ],
   "source": [
    "query=\"\"\"select * from Enrollment\n",
    "         where CName like 'CS%' \n",
    "         order by CName, Pos desc\"\"\"\n",
    "doquery(query)"
   ]
  },
  {
   "cell_type": "markdown",
   "metadata": {},
   "source": [
    "---"
   ]
  },
  {
   "cell_type": "markdown",
   "metadata": {},
   "source": [
    "#### <font color=\"brown\">Aggregation/Reduction</font>"
   ]
  },
  {
   "cell_type": "markdown",
   "metadata": {},
   "source": [
    "##### **1. Find the average student age by year**\n",
    "<pre>\n",
    "  select Year, avg(age) \n",
    "  from Student \n",
    "  group by Year\n",
    "</pre>"
   ]
  },
  {
   "cell_type": "code",
   "execution_count": 31,
   "metadata": {},
   "outputs": [
    {
     "name": "stdout",
     "output_type": "stream",
     "text": [
      "JR  21.0\n",
      "SO  19.0\n",
      "GR  25.0\n",
      "SR  21.5\n",
      "FR  18.0\n"
     ]
    }
   ],
   "source": [
    "query='select Year, avg(age) from Student group by Year'\n",
    "cursor.execute(query)\n",
    "res = cursor.fetchall()\n",
    "for row in res:\n",
    "    print(f'{row[0]}  {row[1]:.1f}')"
   ]
  },
  {
   "cell_type": "markdown",
   "metadata": {},
   "source": [
    "##### **2. Get the enrollment counts for classes**\n",
    "<pre>\n",
    "  select CName, count(*) \n",
    "  from Enrollment \n",
    "  group by CName\n",
    "</pre>"
   ]
  },
  {
   "cell_type": "code",
   "execution_count": 32,
   "metadata": {},
   "outputs": [
    {
     "name": "stdout",
     "output_type": "stream",
     "text": [
      "('Chem 422', 1)\n",
      "('CS 210', 3)\n",
      "('CS 213', 2)\n",
      "('CS 323', 2)\n",
      "('Econ 586', 1)\n",
      "('Econ 607', 1)\n",
      "('Eng 256', 1)\n",
      "('Eng 316', 1)\n",
      "('Hist 102', 1)\n",
      "('Hist 401', 1)\n",
      "('Math 311', 2)\n",
      "('Phy 605', 1)\n"
     ]
    }
   ],
   "source": [
    "query='select CName, count(*) from Enrollment group by CName'\n",
    "doquery(query)"
   ]
  },
  {
   "cell_type": "markdown",
   "metadata": {},
   "source": [
    "##### **3. Get the enrollment counts for classes that have at least 2 students**\n",
    "<pre>\n",
    "  select CName, count(*) \n",
    "  from Enrollment \n",
    "  group by CName \n",
    "  having count(*) > 1\n",
    "</pre>"
   ]
  },
  {
   "cell_type": "code",
   "execution_count": 24,
   "metadata": {},
   "outputs": [
    {
     "name": "stdout",
     "output_type": "stream",
     "text": [
      "('CS 210', 3)\n",
      "('CS 213', 2)\n",
      "('CS 323', 2)\n",
      "('Math 311', 2)\n"
     ]
    }
   ],
   "source": [
    "query='select CName, count(*) from Enrollment group by CName having count(*) > 1'\n",
    "doquery(query)"
   ]
  },
  {
   "cell_type": "markdown",
   "metadata": {},
   "source": [
    "##### **4. Find the name and id of the youngest student**\n",
    "<pre>\n",
    "  select Name,Id from Student \n",
    "  where Age in \n",
    "  (select min(Age) from Student)\n",
    "</pre>"
   ]
  },
  {
   "cell_type": "code",
   "execution_count": 33,
   "metadata": {},
   "outputs": [
    {
     "name": "stdout",
     "output_type": "stream",
     "text": [
      "('Madsen', 300)\n"
     ]
    }
   ],
   "source": [
    "query=\"\"\"select Name,Id from Student \n",
    "  where Age in \n",
    "  (select min(Age) from Student)\"\"\"\n",
    "doquery(query)"
   ]
  },
  {
   "cell_type": "markdown",
   "metadata": {},
   "source": [
    "Alternatively, you can do this:\n",
    "<pre>\n",
    "  select Name,Id from Student \n",
    "  where Age &lt;= all\n",
    "  (select Age from Student)\n",
    "</pre>"
   ]
  },
  {
   "cell_type": "markdown",
   "metadata": {},
   "source": [
    "**<font color=\"red\">Beware, using &lt; instead of &lt;= will not work!</font>**\n",
    "<pre>\n",
    "mysql> select Name,Id from Student \n",
    "       where Age &lt; all\n",
    "      (select Age from Student)\n",
    "      \n",
    "Empty set (0.00 sec      \n",
    "</pre>"
   ]
  },
  {
   "cell_type": "markdown",
   "metadata": {},
   "source": [
    "##### **5. Find the CS class with the least enrollment**\n",
    "<pre>\n",
    "  select CName from Enrollment \n",
    "  where CName like 'CS%' \n",
    "  group by CName\n",
    "  having count(*) &lt;= all\n",
    "    (select count(*) from Enrollment\n",
    "     where CName like 'CS%'\n",
    "     group by CName)\n",
    "</pre>"
   ]
  },
  {
   "cell_type": "code",
   "execution_count": 34,
   "metadata": {},
   "outputs": [
    {
     "name": "stdout",
     "output_type": "stream",
     "text": [
      "('CS 213',)\n",
      "('CS 323',)\n"
     ]
    }
   ],
   "source": [
    "query=\"\"\"select CName from Enrollment \n",
    "  where CName like 'CS%' \n",
    "  group by CName\n",
    "  having count(*) <= all\n",
    "    (select count(*) from Enrollment\n",
    "     where CName like 'CS%'\n",
    "     group by CName)\"\"\"\n",
    "doquery(query)"
   ]
  },
  {
   "cell_type": "code",
   "execution_count": 27,
   "metadata": {},
   "outputs": [],
   "source": [
    "cursor.close()\n",
    "mydb.close()"
   ]
  }
 ],
 "metadata": {
  "kernelspec": {
   "display_name": "Python 3 (ipykernel)",
   "language": "python",
   "name": "python3"
  },
  "language_info": {
   "codemirror_mode": {
    "name": "ipython",
    "version": 3
   },
   "file_extension": ".py",
   "mimetype": "text/x-python",
   "name": "python",
   "nbconvert_exporter": "python",
   "pygments_lexer": "ipython3",
   "version": "3.9.7"
  }
 },
 "nbformat": 4,
 "nbformat_minor": 4
}
