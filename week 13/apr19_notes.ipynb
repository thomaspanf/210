{
 "cells": [
  {
   "cell_type": "markdown",
   "metadata": {},
   "source": [
    "### <font color=\"brown\">Relational Databases Continued</font>"
   ]
  },
  {
   "cell_type": "markdown",
   "metadata": {},
   "source": [
    "---"
   ]
  },
  {
   "cell_type": "markdown",
   "metadata": {},
   "source": [
    "#### Nobel Prize Winners Database Version 2"
   ]
  },
  {
   "cell_type": "markdown",
   "metadata": {},
   "source": [
    "Just to make sure we start from where we left off last time, let's revert to the state of the database as of the end of previous lecture (load from nobelsv3.sql):**\n",
    "<pre>\n",
    "sesh> mysql -u sesh -p nobels < nobelsv3.sql\n",
    "    OR\n",
    "sesh> cat nobelsv3.sql | mysql -u sesh -p nobels\n",
    "</pre>\n"
   ]
  },
  {
   "cell_type": "markdown",
   "metadata": {},
   "source": [
    "---"
   ]
  },
  {
   "cell_type": "code",
   "execution_count": 1,
   "metadata": {},
   "outputs": [],
   "source": [
    "# import connector module\n",
    "import mysql.connector"
   ]
  },
  {
   "cell_type": "code",
   "execution_count": 12,
   "metadata": {},
   "outputs": [],
   "source": [
    "# connect to nobels database\n",
    "mydb = mysql.connector.connect(\n",
    "  host=\"localhost\",\n",
    "  user=\"sesh\",\n",
    "  passwd=\"sesh\",  # replace with your password\n",
    "  database=\"nobels\"\n",
    ")"
   ]
  },
  {
   "cell_type": "code",
   "execution_count": 3,
   "metadata": {},
   "outputs": [],
   "source": [
    "# set up for access\n",
    "cursor = mydb.cursor()"
   ]
  },
  {
   "cell_type": "markdown",
   "metadata": {},
   "source": [
    "---"
   ]
  },
  {
   "cell_type": "markdown",
   "metadata": {},
   "source": [
    "#### <font color=\"brown\">Populating the database with all the data from the nobel prize winners dataset</font>"
   ]
  },
  {
   "cell_type": "code",
   "execution_count": 4,
   "metadata": {},
   "outputs": [
    {
     "data": {
      "text/plain": [
       "[{'year': '2016',\n",
       "  'category': 'peace',\n",
       "  'laureates': [{'id': '934',\n",
       "    'firstname': 'Juan Manuel',\n",
       "    'surname': 'Santos',\n",
       "    'motivation': '\"for his resolute efforts to bring the country\\'s more than 50-year-long civil war to an end\"',\n",
       "    'share': '1'}]}]"
      ]
     },
     "execution_count": 4,
     "metadata": {},
     "output_type": "execute_result"
    }
   ],
   "source": [
    "import json, requests\n",
    "\n",
    "nobel_url = 'http://api.nobelprize.org/v1/prize.json'\n",
    "resp = requests.get(nobel_url)\n",
    "nobels = json.loads(resp.text)\n",
    "\n",
    "[prize for prize in nobels['prizes'] if prize['year'] == '2016' and prize['category'] == 'peace']"
   ]
  },
  {
   "cell_type": "markdown",
   "metadata": {},
   "source": [
    "##### We'll start with the original JSON load and insert as we go"
   ]
  },
  {
   "cell_type": "code",
   "execution_count": 5,
   "metadata": {},
   "outputs": [
    {
     "data": {
      "text/plain": [
       "[(2021, 'Chemistry'),\n",
       " (2021, 'Economics'),\n",
       " (2021, 'Literature'),\n",
       " (2021, 'Physics')]"
      ]
     },
     "execution_count": 5,
     "metadata": {},
     "output_type": "execute_result"
    }
   ],
   "source": [
    "# the year/categories we already have in the db that we want to skip over\n",
    "query = 'select year, category from yearcat' \n",
    "cursor.execute(query)\n",
    "res = cursor.fetchall()\n",
    "ycat_old = []\n",
    "for row in res:\n",
    "    ycat_old.append(row)\n",
    "ycat_old"
   ]
  },
  {
   "cell_type": "markdown",
   "metadata": {},
   "source": [
    "##### Cycle through the laureates list: \n",
    "- When we get to a new year/category, we insert it into the yearcat table. \n",
    "- At the same time, we also insert the corresponding motivation in the contribution table. \n",
    "- Using the lastrowid for both, we insert the associated laureate. \n",
    "- Then, as long as both year/category and motivation are the same, we keep adding laureates with the same yearcat id and the same motivation id. \n",
    "- If the motivation changes, but year/category is the same, we insert a new contribution, get lastrowid for that table, and keep adding laureates"
   ]
  },
  {
   "cell_type": "code",
   "execution_count": 6,
   "metadata": {},
   "outputs": [],
   "source": [
    "# query templates for adding to the tables\n",
    "add_yearcat = \"insert into yearcat (year,category) values (%s,%s)\"\n",
    "add_contribution = \"insert into contribution (motivation) values (%s)\"\n",
    "add_laureate = \"insert into laureate values (%s, %s, %s, %s, %s)\""
   ]
  },
  {
   "cell_type": "code",
   "execution_count": 7,
   "metadata": {},
   "outputs": [],
   "source": [
    "prev_year = 0\n",
    "prev_cat = ''\n",
    "prev_motiv = ''\n",
    "for prize in nobels['prizes']:\n",
    "    if not 'laureates' in prize:\n",
    "        continue\n",
    "    year = int(prize['year'])\n",
    "    cat = prize['category'].capitalize()\n",
    "    yc_val = (year, cat)\n",
    "    if yc_val in ycat_old:\n",
    "        continue\n",
    "    if year != prev_year or cat != prev_cat:  # switch\n",
    "        cursor.execute(add_yearcat, yc_val)\n",
    "        yc_id = cursor.lastrowid\n",
    "        prev_year = year\n",
    "        prev_cat = cat\n",
    "    for winner in prize['laureates']:\n",
    "        motiv = winner.get('motivation').strip('\"')\n",
    "        if motiv != prev_motiv:\n",
    "            cursor.execute(add_contribution, (motiv,))\n",
    "            contrib_id = cursor.lastrowid\n",
    "            prev_motiv = motiv\n",
    "        fname = winner.get('firstname')\n",
    "        share = winner.get('share')\n",
    "        try:\n",
    "            lname = winner.get('surname')\n",
    "        except KeyError:\n",
    "            lname=None\n",
    "        \n",
    "        cursor.execute(add_laureate,(fname,lname,share,yc_id,contrib_id))\n",
    "        mydb.commit()     "
   ]
  },
  {
   "cell_type": "markdown",
   "metadata": {},
   "source": [
    "---"
   ]
  },
  {
   "cell_type": "markdown",
   "metadata": {},
   "source": [
    "#### <font color=\"brown\">Transaction, Atomicity, and Rollback<font>"
   ]
  },
  {
   "cell_type": "markdown",
   "metadata": {},
   "source": [
    "**What if there is a problem in adding to contribution table after adding to yearcat, or in adding to laureate after adding to contribution (and possibly to yearcat)?**\n",
    "\n",
    "- We need to take into account these possible issues and not add the data if there is a problem. \n",
    "\n",
    "- In order to do this, we will need to do what's called a **rollback** which basically cancels any other changes you may have made in the same breath (adding to any of the other tables). \n",
    "\n",
    "- The reason is if there is an update to more than one table for any laureate entry, either all updates happen, or none happen - this group of adds is called a **transaction** which is *atomic* (all or nothing). A transaction could also be multiple updates to a single table.\n",
    "\n",
    "- There is a property called autocommit that can be set to True (if you want to automatically commit after a statement instead of having to explicity call commit()) or False (otherwise). The Python MySQL connector sets it to False by default\n",
    "https://dev.mysql.com/doc/connector-python/en/connector-python-api-mysqlconnection-autocommit.html\n",
    "\n",
    "- This is useful for transactions, because you only want to commit after *all* component updates have been executed without error: the autocommit property is false, and an explicit commit is issued at the end of the transaction.  "
   ]
  },
  {
   "cell_type": "markdown",
   "metadata": {},
   "source": [
    "**Here's the code rewritten with error checking and rollback.**\n",
    "\n",
    "**<font color=\"red\">STOP! First revert to the state of the database as of the end of previous lecture (load from nobelsv3.sql), then execute the code block in the next cell:<font>**\n",
    "<pre>\n",
    "sesh> mysql -u sesh -p nobels < nobelsv3.sql\n",
    "    OR\n",
    "sesh> cat nobelsv3.sql | mysql -u sesh -p nobels\n",
    "</pre>\n"
   ]
  },
  {
   "cell_type": "code",
   "execution_count": 9,
   "metadata": {},
   "outputs": [],
   "source": [
    "# code includes rollback\n",
    "import sys\n",
    "prev_year = 0\n",
    "prev_cat = ''\n",
    "prev_motiv = ''\n",
    "for prize in nobels['prizes']:\n",
    "    if not 'laureates' in prize:\n",
    "        continue\n",
    "    year = int(prize['year'])\n",
    "    cat = prize['category'].capitalize()\n",
    "    yc_val = (year, cat)\n",
    "    if yc_val in ycat_old:\n",
    "        continue\n",
    "    if year != prev_year or cat != prev_cat:  # switch\n",
    "        try:\n",
    "            cursor.execute(add_yearcat, yc_val)\n",
    "            yc_id = cursor.lastrowid\n",
    "            prev_year = year\n",
    "            prev_cat = cat\n",
    "        except:  # don't need to rollback here since nothing has been added\n",
    "            print(sys.exc_info()[0])\n",
    "            print(f'Could not add {year}/{cat}')\n",
    "            continue\n",
    "    \n",
    "    for winner in prize['laureates']:\n",
    "        # motivation\n",
    "        try:\n",
    "            motiv = winner.get('motivation').strip('\"')\n",
    "            if motiv != prev_motiv:\n",
    "                cursor.execute(add_contribution, (motiv,))\n",
    "                contrib_id = cursor.lastrowid\n",
    "                prev_motiv = motiv\n",
    "        except:\n",
    "            # contribution failed, rollback in case year/cat was added\n",
    "            mydb.rollback()   # no effect, or undo year/cat add since last commit\n",
    "            print(f'Could not add motivation: \"{motiv} in {year}/{cat}\"')\n",
    "            break\n",
    "            \n",
    "        # laureate\n",
    "        try:\n",
    "            fname = winner.get('firstname')\n",
    "            share = winner.get('share')\n",
    "            try:\n",
    "                lname = winner.get('surname')\n",
    "            except KeyError:\n",
    "                lname=None\n",
    "            cursor.execute(add_laureate,(fname,lname,share,yc_id,contrib_id))\n",
    "            mydb.commit()    \n",
    "        except:\n",
    "            # laureate failed\n",
    "            mydb.rollback()   # no effect, or undo contribution, or undo contrib and year/cat\n",
    "            print(f'Could not add laureate {fname} {lname} in {year}/{cat}')\n",
    "            break  \n",
    "          "
   ]
  },
  {
   "cell_type": "code",
   "execution_count": 10,
   "metadata": {},
   "outputs": [
    {
     "name": "stdout",
     "output_type": "stream",
     "text": [
      "(975,)\n"
     ]
    }
   ],
   "source": [
    "# check the count in laureate\n",
    "cursor.execute('select count(*) from laureate')\n",
    "res = cursor.fetchall()\n",
    "for row in res:\n",
    "    print(row)"
   ]
  },
  {
   "cell_type": "markdown",
   "metadata": {},
   "source": [
    "#### You can do transaction with commit and rollback in the MySQL client terminal:\n",
    "https://dev.mysql.com/doc/refman/8.0/en/innodb-autocommit-commit-rollback.html\n",
    "\n",
    "Unlike the Python connector, a connection through the client interface will start with autocommit set to 1 (True) by default. So if you want to process a transaction, you will need to set autocommit to 0 (false) first.\n",
    "\n",
    "See also: https://dev.mysql.com/doc/refman/8.0/en/commit.html"
   ]
  },
  {
   "cell_type": "markdown",
   "metadata": {},
   "source": [
    "---"
   ]
  },
  {
   "cell_type": "markdown",
   "metadata": {},
   "source": [
    "#### <font color=\"brown\">Queries on the nobels database</font>"
   ]
  },
  {
   "cell_type": "markdown",
   "metadata": {},
   "source": [
    "##### **The table schemas**\n",
    "\n",
    "<pre>\n",
    "mysql> desc yearcat;\n",
    "+----------+----------+------+-----+---------+----------------+\n",
    "| Field    | Type     | Null | Key | Default | Extra          |\n",
    "+----------+----------+------+-----+---------+----------------+\n",
    "| id       | smallint | NO   | PRI | NULL    | auto_increment |\n",
    "| year     | year     | NO   |     | NULL    |                |\n",
    "| category | char(10) | NO   |     | NULL    |                |\n",
    "+----------+----------+------+-----+---------+----------------+\n",
    "3 rows in set (0.00 sec)\n",
    "\n",
    "mysql> desc contribution;\n",
    "+------------+--------------+------+-----+---------+----------------+\n",
    "| Field      | Type         | Null | Key | Default | Extra          |\n",
    "+------------+--------------+------+-----+---------+----------------+\n",
    "| id         | smallint     | NO   | PRI | NULL    | auto_increment |\n",
    "| motivation | varchar(500) | NO   |     | NULL    |                |\n",
    "+------------+--------------+------+-----+---------+----------------+\n",
    "2 rows in set (0.00 sec)\n",
    "\n",
    "mysql> desc laureate;\n",
    "+-------------+-------------+------+-----+---------+-------+\n",
    "| Field       | Type        | Null | Key | Default | Extra |\n",
    "+-------------+-------------+------+-----+---------+-------+\n",
    "| fname       | varchar(80) | NO   |     | NULL    |       |\n",
    "| lname       | varchar(40) | YES  |     | NULL    |       |\n",
    "| share       | tinyint     | NO   |     | NULL    |       |\n",
    "| year_cat_id | smallint    | NO   | MUL | NULL    |       |\n",
    "| motiv_id    | smallint    | NO   | MUL | NULL    |       |\n",
    "+-------------+-------------+------+-----+---------+-------+\n",
    "5 rows in set (0.00 sec)\n",
    "</pre>"
   ]
  },
  {
   "cell_type": "markdown",
   "metadata": {},
   "source": [
    "---"
   ]
  },
  {
   "cell_type": "markdown",
   "metadata": {},
   "source": [
    "##### <font color=\"brown\">1. Who were the laureates in 2010, and for what category? (Inner Join)</font>\n",
    "\n",
    "<pre>\n",
    "mysql> select fname, lname, category\n",
    "       from laureate, yearcat\n",
    "       where yearcat.year=2010 and laureate.year_cat_id = yearcat.id;\n",
    "       \n",
    "+----------------+--------------+------------+\n",
    "| fname          | lname        | category   |\n",
    "+----------------+--------------+------------+\n",
    "| Richard F.     | Heck         | Chemistry  |\n",
    "| Ei-ichi        | Negishi      | Chemistry  |\n",
    "| Akira          | Suzuki       | Chemistry  |\n",
    "| Peter A.       | Diamond      | Economics  |\n",
    "| Dale T.        | Mortensen    | Economics  |\n",
    "| Christopher A. | Pissarides   | Economics  |\n",
    "| Mario          | Vargas Llosa | Literature |\n",
    "| Xiaobo         | Liu          | Peace      |\n",
    "| Andre          | Geim         | Physics    |\n",
    "| Konstantin     | Novoselov    | Physics    |\n",
    "| Robert G.      | Edwards      | Medicine   |\n",
    "+----------------+--------------+------------+       \n",
    "</pre>\n",
    "\n",
    "- We are executing what's called an **inner join** on the tables laureate and yearcat, because we are matching the year_cat_id value in the laureate table with the id value in the yearcat table - only the respective rows from these two tables for which these ids match will be selected for the result.\n",
    "\n",
    "- Since year_cat_id, year, and id are unique column names in the pairs of table, you can omit the qualifers and write a simplified version like this:\n",
    "\n",
    "<pre>\n",
    "mysql> select fname, lname, category\n",
    "       from laureate, yearcat\n",
    "       where year=2010 and year_cat_id = id;\n",
    "</pre>\n",
    "\n",
    "- Another alternative is to explicity spell out the inner join using the JOIN and ON keywords:\n",
    "\n",
    "<pre>\n",
    "mysql> select fname, lname, category\n",
    "       from laureate\n",
    "       join yearcat\n",
    "       on year_cat_id = id\n",
    "       where year=2010;\n",
    "</pre>\n",
    "\n",
    "- The order of tables is irrelevant, you can do the following (yearcat join laureate) with the same result:\n",
    "\n",
    "<pre>\n",
    "mysql> select fname, lname, category\n",
    "       from yearcat\n",
    "       join laureate\n",
    "       on year_cat_id = id\n",
    "       where year=2010;\n",
    "</pre>"
   ]
  },
  {
   "cell_type": "markdown",
   "metadata": {},
   "source": [
    "---"
   ]
  },
  {
   "cell_type": "markdown",
   "metadata": {},
   "source": [
    "##### <font color=\"brown\">2. Find the year and category for laureates that did not have a last name (null values)</font>\n",
    "\n",
    "<pre>\n",
    "  mysql> select year,category \n",
    "       from yearcat, laureate \n",
    "       where lname is null \n",
    "       and year_cat_id = id;\n",
    "\n",
    "+------+----------+\n",
    "| year | category |\n",
    "+------+----------+\n",
    "| 2020 | Peace    |\n",
    "| 2017 | Peace    |\n",
    "| 2015 | Peace    |\n",
    "| 2013 | Peace    |\n",
    "\n",
    "      ...\n",
    "\n",
    "| 1938 | Peace    |\n",
    "| 1917 | Peace    |\n",
    "| 1910 | Peace    |\n",
    "| 1904 | Peace    |\n",
    "+------+----------+   \n",
    "</pre>\n",
    "\n",
    "Looks like these are all in the Peace category, but we can verify:\n",
    "<pre>\n",
    "mysql> select distinct(category) \n",
    "       from yearcat, laureate \n",
    "       where lname is null \n",
    "       and year_cat_id = id;\n",
    "\n",
    "+----------+\n",
    "| category |\n",
    "+----------+\n",
    "| Peace    |\n",
    "+----------+\n",
    "</pre>\n"
   ]
  },
  {
   "cell_type": "markdown",
   "metadata": {},
   "source": [
    "---"
   ]
  },
  {
   "cell_type": "markdown",
   "metadata": {},
   "source": [
    "##### <font color=\"brown\">3. For what contribution(s) was the Peace prize awarded in 2021? (Join on more than 2 tables)</font>\n",
    "\n",
    "**Version 1**\n",
    "<pre>\n",
    "mysql> select motivation \n",
    "       from contribution, yearcat, laureate\n",
    "       where year=2021 and category='Peace' \n",
    "             and yearcat.id = year_cat_id \n",
    "             and contribution.id = motiv_id;\n",
    "             \n",
    "+-----------------------------------------------------------------------------------\n",
    "| motivation                                                                         \n",
    "+----------------------------------------------------------------------------------- \n",
    "| for their efforts to safeguard freedom of expression, which  is a precondition ... \n",
    "| for their efforts to safeguard freedom of expression, which  is a precondition ...\n",
    "+-----------------------------------------------------------------------------------             \n",
    "</pre>\n",
    "\n",
    "- This is an inner join of all three tables\n",
    "- Since both the contribution and yearcat tables have a column named id, we need to qualify its usage with table names\n",
    "\n",
    "**Version 2**\n",
    "\n",
    "The above result is not quite what we want, since it is duplicated. (Two people shared the Peace prize in 2021, for the same contribution.) So we need to change the query to get distinct motivation:\n",
    "<pre>\n",
    "mysql> select distinct(motivation)\n",
    "       from contribution, yearcat, laureate\n",
    "       where year=2021 and category='Peace' \n",
    "             and yearcat.id = year_cat_id \n",
    "             and contribution.id = motiv_id;\n",
    "             \n",
    "+-----------------------------------------------------------------------------------\n",
    "| motivation                                                                         \n",
    "+----------------------------------------------------------------------------------- \n",
    "| for their efforts to safeguard freedom of expression, which  is a precondition ... \n",
    "+-----------------------------------------------------------------------------------                 \n",
    "</pre>\n",
    "\n",
    "**Version 3**\n",
    "\n",
    "In this version, the contribution and yearcat tables are given alternative short labels for ease of writing out the join conditions:\n",
    "\n",
    "<pre>\n",
    "mysql> select distinct(motivation)\n",
    "       from contribution C, yearcat Y, laureate\n",
    "       where year=2021 and category='Peace' \n",
    "             and Y.id = year_cat_id \n",
    "             and C.id = motiv_id;               \n",
    "</pre>\n",
    "\n",
    "**Version 4**\n",
    "\n",
    "Often, *all* tables in a join are labeled with single letters and *all* column names are qualified, regardless of whether or not the names are unique in the set of tables:\n",
    "\n",
    "<pre>\n",
    "mysql> select distinct(C.motivation)\n",
    "       from contribution C, yearcat Y, laureate L\n",
    "       where Y.year=2021 and Y.category='Peace' \n",
    "             and Y.id = L.year_cat_id \n",
    "             and C.id = L.motiv_id; \n",
    "</pre>\n",
    "I'll mostly follow this practice going forward."
   ]
  },
  {
   "cell_type": "markdown",
   "metadata": {},
   "source": [
    "---"
   ]
  },
  {
   "cell_type": "markdown",
   "metadata": {},
   "source": [
    "##### <font color=\"brown\">4. How many people shared the Economics prize 2018?</font>\n",
    "\n",
    "<pre>\n",
    "mysql> select count(*) from yearcat Y, laureate L\n",
    "       where Y.year=2018 and Y.category='Economics'\n",
    "       and Y.id = L.year_cat_id;\n",
    "\n",
    "+----------+\n",
    "| count(*) |\n",
    "+----------+\n",
    "|        2 |\n",
    "+----------+\n",
    "</pre>"
   ]
  }
 ],
 "metadata": {
  "kernelspec": {
   "display_name": "Python 3 (ipykernel)",
   "language": "python",
   "name": "python3"
  },
  "language_info": {
   "codemirror_mode": {
    "name": "ipython",
    "version": 3
   },
   "file_extension": ".py",
   "mimetype": "text/x-python",
   "name": "python",
   "nbconvert_exporter": "python",
   "pygments_lexer": "ipython3",
   "version": "3.9.7"
  }
 },
 "nbformat": 4,
 "nbformat_minor": 4
}
